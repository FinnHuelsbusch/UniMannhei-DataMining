{
 "cells": [
  {
   "cell_type": "code",
   "execution_count": 1,
   "metadata": {
    "collapsed": false,
    "pycharm": {
     "name": "#%%\n"
    }
   },
   "outputs": [],
   "source": [
    "generate_profiling_reports = False\n",
    "print_pair_plots = True"
   ]
  },
  {
   "cell_type": "code",
   "execution_count": 2,
   "metadata": {
    "collapsed": true,
    "pycharm": {
     "name": "#%%\n"
    }
   },
   "outputs": [
    {
     "name": "stderr",
     "output_type": "stream",
     "text": [
      "C:\\Users\\fhuel\\miniconda3\\envs\\tf\\lib\\site-packages\\xgboost\\compat.py:36: FutureWarning: pandas.Int64Index is deprecated and will be removed from pandas in a future version. Use pandas.Index with the appropriate dtype instead.\n",
      "  from pandas import MultiIndex, Int64Index\n",
      "C:\\Users\\fhuel\\miniconda3\\envs\\tf\\lib\\site-packages\\pkg_resources\\__init__.py:123: PkgResourcesDeprecationWarning: dev is an invalid version and will not be supported in a future release\n",
      "  warnings.warn(\n"
     ]
    }
   ],
   "source": [
    "import pandas as pd\n",
    "import seaborn as sns\n",
    "import matplotlib.pyplot as plt\n",
    "import numpy as np\n",
    "import re\n",
    "from io import StringIO\n",
    "from xgboost import XGBClassifier\n",
    "from sklearn.model_selection import train_test_split\n",
    "from sklearn.metrics import roc_auc_score\n",
    "from sklearn.preprocessing import StandardScaler, MaxAbsScaler\n",
    "# set pandas to show all columns of the df when using the display function\n",
    "pd.set_option('display.max_columns', None)"
   ]
  },
  {
   "cell_type": "markdown",
   "source": [
    "# Load the data"
   ],
   "metadata": {
    "collapsed": false,
    "pycharm": {
     "name": "#%% md\n"
    }
   }
  },
  {
   "cell_type": "code",
   "execution_count": 3,
   "outputs": [],
   "source": [
    "# list the datasets that should be used in the current run\n",
    "datasets = [\"hungarian\", \"cleveland\", \"switzerland\", \"long-beach-va\"]"
   ],
   "metadata": {
    "collapsed": false,
    "pycharm": {
     "name": "#%%\n"
    }
   }
  },
  {
   "cell_type": "code",
   "execution_count": 4,
   "outputs": [],
   "source": [
    "# custom function to read the dataset into a csv formated string\n",
    "# the name is used as a delimiter here because it is the last feature and common among all entrys\n",
    "def readRawData(filePath:str):\n",
    "    with open(filePath) as file:\n",
    "        dataString = file.read()\n",
    "        dataString = dataString.replace(\"\\n\",\" \")\n",
    "        dataString = re.sub(\"[a-zA-Z]+ \",\"name\\n\", dataString)\n",
    "        dataString = dataString.replace(\" \",\",\")\n",
    "        return dataString"
   ],
   "metadata": {
    "collapsed": false,
    "pycharm": {
     "name": "#%%\n"
    }
   }
  },
  {
   "cell_type": "code",
   "execution_count": 5,
   "outputs": [],
   "source": [
    "# read the data from the specified datasets into the df\n",
    "df = pd.DataFrame()\n",
    "for dataset in datasets:\n",
    "    dataset_df = pd.read_csv(StringIO(readRawData(\"./Data/\"+ dataset +\".data\")), header=None, sep=\",\")\n",
    "    dataset_df['dataset'] = dataset\n",
    "    df = pd.concat([df,dataset_df ], ignore_index=True)"
   ],
   "metadata": {
    "collapsed": false,
    "pycharm": {
     "name": "#%%\n"
    }
   }
  },
  {
   "cell_type": "code",
   "execution_count": 6,
   "outputs": [],
   "source": [
    "df.columns=[\"id\", \"ccf\", \"age\", \"sex\", \"painloc\", \"painexer\" , \"relrest\" , \"pncaden\" , \"cp\", \"trestbps\", \"htn\", \"chol\", \"smoke\", \"cigs\", \"years\", \"fbs\", \"dm\", \"famhist\", \"restecg\", \"ekgmo\", \"ekgday\", \"ekgyr\", \"dig\", \"prop\", \"nitr\", \"pro\", \"diuretic\", \"proto\", \"thaldur\", \"thaltime\", \"met\", \"thalach\", \"thalrest\", \"tpeakbps\", \"tpeakbpd\", \"dummy\", \"trestbpd\", \"exang\", \"xhypo\", \"oldpeak\", \"slope\", \"rldv5\", \"rldv5e\", \"ca\", \"restckm\", \"exerckm\", \"restef\", \"restwm\", \"exeref\", \"exerwm\", \"thal\", \"thalsev\", \"thalpul\", \"earlobe\", \"cmo\", \"cday\", \"cyr\", \"num\", \"lmt\", \"ladprox\", \"laddist\", \"diag\", \"cxmain\", \"ramus\", \"om1\", \"om2\", \"rcaprox\", \"rcadist\", \"lvx1\", \"lvx2\", \"lvx3\", \"lvx4\", \"lvf\", \"cathef\", \"junk\", \"name\", \"dataset\"]"
   ],
   "metadata": {
    "collapsed": false,
    "pycharm": {
     "name": "#%%\n"
    }
   }
  },
  {
   "cell_type": "code",
   "execution_count": 7,
   "outputs": [],
   "source": [
    "# the uci encodes missing values as -9 we use np.float('nan') for better profiling reports\n",
    "df = df.replace(-9, float('nan'))"
   ],
   "metadata": {
    "collapsed": false,
    "pycharm": {
     "name": "#%%\n"
    }
   }
  },
  {
   "cell_type": "markdown",
   "source": [
    "# Analysis on all features including dropped once"
   ],
   "metadata": {
    "collapsed": false,
    "pycharm": {
     "name": "#%% md\n"
    }
   }
  },
  {
   "cell_type": "code",
   "execution_count": 8,
   "outputs": [],
   "source": [
    "if generate_profiling_reports:\n",
    "    import pandas_profiling\n",
    "    profile = pandas_profiling.ProfileReport(df, title='Pandas Profiling Report for the complete UCI dataset', explorative=True)\n",
    "    profile.to_file(\"Pandas Profiling Report for all features.html\")"
   ],
   "metadata": {
    "collapsed": false,
    "pycharm": {
     "name": "#%%\n"
    }
   }
  },
  {
   "cell_type": "markdown",
   "source": [
    "## describe features for better overview"
   ],
   "metadata": {
    "collapsed": false,
    "pycharm": {
     "name": "#%% md\n"
    }
   }
  },
  {
   "cell_type": "code",
   "execution_count": 9,
   "outputs": [
    {
     "data": {
      "text/plain": "         count        mean          std    min      25%     50%     75%  \\\nid       899.0  957.235818  1204.015482   1.00  116.000  266.00  1207.5   \nccf      899.0    0.000000     0.000000   0.00    0.000    0.00     0.0   \nage      899.0   53.480534     9.435894  28.00   47.000   54.00    60.0   \nsex      899.0    0.790879     0.406908   0.00    1.000    1.00     1.0   \npainloc  617.0    0.920583     0.270607   0.00    1.000    1.00     1.0   \n...        ...         ...          ...    ...      ...     ...     ...   \nlvx3     880.0    1.132955     0.703837   1.00    1.000    1.00     1.0   \nlvx4     880.0    1.611364     1.722199   1.00    1.000    1.00     1.0   \nlvf      883.0    1.178935     0.512572   0.00    1.000    1.00     1.0   \ncathef   311.0   27.623119    31.675295   0.22    0.685    0.82    63.0   \njunk     119.0    5.869748     1.650914   3.30    4.800    5.60     6.9   \n\n            max  \nid       5002.0  \nccf         0.0  \nage        77.0  \nsex         1.0  \npainloc     1.0  \n...         ...  \nlvx3        8.0  \nlvx4        8.0  \nlvf         5.0  \ncathef     86.0  \njunk       11.3  \n\n[75 rows x 8 columns]",
      "text/html": "<div>\n<style scoped>\n    .dataframe tbody tr th:only-of-type {\n        vertical-align: middle;\n    }\n\n    .dataframe tbody tr th {\n        vertical-align: top;\n    }\n\n    .dataframe thead th {\n        text-align: right;\n    }\n</style>\n<table border=\"1\" class=\"dataframe\">\n  <thead>\n    <tr style=\"text-align: right;\">\n      <th></th>\n      <th>count</th>\n      <th>mean</th>\n      <th>std</th>\n      <th>min</th>\n      <th>25%</th>\n      <th>50%</th>\n      <th>75%</th>\n      <th>max</th>\n    </tr>\n  </thead>\n  <tbody>\n    <tr>\n      <th>id</th>\n      <td>899.0</td>\n      <td>957.235818</td>\n      <td>1204.015482</td>\n      <td>1.00</td>\n      <td>116.000</td>\n      <td>266.00</td>\n      <td>1207.5</td>\n      <td>5002.0</td>\n    </tr>\n    <tr>\n      <th>ccf</th>\n      <td>899.0</td>\n      <td>0.000000</td>\n      <td>0.000000</td>\n      <td>0.00</td>\n      <td>0.000</td>\n      <td>0.00</td>\n      <td>0.0</td>\n      <td>0.0</td>\n    </tr>\n    <tr>\n      <th>age</th>\n      <td>899.0</td>\n      <td>53.480534</td>\n      <td>9.435894</td>\n      <td>28.00</td>\n      <td>47.000</td>\n      <td>54.00</td>\n      <td>60.0</td>\n      <td>77.0</td>\n    </tr>\n    <tr>\n      <th>sex</th>\n      <td>899.0</td>\n      <td>0.790879</td>\n      <td>0.406908</td>\n      <td>0.00</td>\n      <td>1.000</td>\n      <td>1.00</td>\n      <td>1.0</td>\n      <td>1.0</td>\n    </tr>\n    <tr>\n      <th>painloc</th>\n      <td>617.0</td>\n      <td>0.920583</td>\n      <td>0.270607</td>\n      <td>0.00</td>\n      <td>1.000</td>\n      <td>1.00</td>\n      <td>1.0</td>\n      <td>1.0</td>\n    </tr>\n    <tr>\n      <th>...</th>\n      <td>...</td>\n      <td>...</td>\n      <td>...</td>\n      <td>...</td>\n      <td>...</td>\n      <td>...</td>\n      <td>...</td>\n      <td>...</td>\n    </tr>\n    <tr>\n      <th>lvx3</th>\n      <td>880.0</td>\n      <td>1.132955</td>\n      <td>0.703837</td>\n      <td>1.00</td>\n      <td>1.000</td>\n      <td>1.00</td>\n      <td>1.0</td>\n      <td>8.0</td>\n    </tr>\n    <tr>\n      <th>lvx4</th>\n      <td>880.0</td>\n      <td>1.611364</td>\n      <td>1.722199</td>\n      <td>1.00</td>\n      <td>1.000</td>\n      <td>1.00</td>\n      <td>1.0</td>\n      <td>8.0</td>\n    </tr>\n    <tr>\n      <th>lvf</th>\n      <td>883.0</td>\n      <td>1.178935</td>\n      <td>0.512572</td>\n      <td>0.00</td>\n      <td>1.000</td>\n      <td>1.00</td>\n      <td>1.0</td>\n      <td>5.0</td>\n    </tr>\n    <tr>\n      <th>cathef</th>\n      <td>311.0</td>\n      <td>27.623119</td>\n      <td>31.675295</td>\n      <td>0.22</td>\n      <td>0.685</td>\n      <td>0.82</td>\n      <td>63.0</td>\n      <td>86.0</td>\n    </tr>\n    <tr>\n      <th>junk</th>\n      <td>119.0</td>\n      <td>5.869748</td>\n      <td>1.650914</td>\n      <td>3.30</td>\n      <td>4.800</td>\n      <td>5.60</td>\n      <td>6.9</td>\n      <td>11.3</td>\n    </tr>\n  </tbody>\n</table>\n<p>75 rows × 8 columns</p>\n</div>"
     },
     "execution_count": 9,
     "metadata": {},
     "output_type": "execute_result"
    }
   ],
   "source": [
    "df.describe().transpose()"
   ],
   "metadata": {
    "collapsed": false,
    "pycharm": {
     "name": "#%%\n"
    }
   }
  },
  {
   "cell_type": "code",
   "execution_count": 10,
   "outputs": [
    {
     "data": {
      "text/plain": "dataset      cleveland    hungarian  long-beach-va  switzerland\nid   count  282.000000   294.000000     200.000000   123.000000\n     mean   151.517730  1195.853741     101.310000  3625.886179\n     std     87.131234   397.340367      58.717824   499.271374\n     min      1.000000  1001.000000       1.000000  3001.000000\n     25%     75.250000  1080.250000      50.750000  3031.500000\n...                ...          ...            ...          ...\njunk min           NaN          NaN       3.300000          NaN\n     25%           NaN          NaN       4.800000          NaN\n     50%           NaN          NaN       5.600000          NaN\n     75%           NaN          NaN       6.900000          NaN\n     max           NaN          NaN      11.300000          NaN\n\n[600 rows x 4 columns]",
      "text/html": "<div>\n<style scoped>\n    .dataframe tbody tr th:only-of-type {\n        vertical-align: middle;\n    }\n\n    .dataframe tbody tr th {\n        vertical-align: top;\n    }\n\n    .dataframe thead th {\n        text-align: right;\n    }\n</style>\n<table border=\"1\" class=\"dataframe\">\n  <thead>\n    <tr style=\"text-align: right;\">\n      <th></th>\n      <th>dataset</th>\n      <th>cleveland</th>\n      <th>hungarian</th>\n      <th>long-beach-va</th>\n      <th>switzerland</th>\n    </tr>\n  </thead>\n  <tbody>\n    <tr>\n      <th rowspan=\"5\" valign=\"top\">id</th>\n      <th>count</th>\n      <td>282.000000</td>\n      <td>294.000000</td>\n      <td>200.000000</td>\n      <td>123.000000</td>\n    </tr>\n    <tr>\n      <th>mean</th>\n      <td>151.517730</td>\n      <td>1195.853741</td>\n      <td>101.310000</td>\n      <td>3625.886179</td>\n    </tr>\n    <tr>\n      <th>std</th>\n      <td>87.131234</td>\n      <td>397.340367</td>\n      <td>58.717824</td>\n      <td>499.271374</td>\n    </tr>\n    <tr>\n      <th>min</th>\n      <td>1.000000</td>\n      <td>1001.000000</td>\n      <td>1.000000</td>\n      <td>3001.000000</td>\n    </tr>\n    <tr>\n      <th>25%</th>\n      <td>75.250000</td>\n      <td>1080.250000</td>\n      <td>50.750000</td>\n      <td>3031.500000</td>\n    </tr>\n    <tr>\n      <th>...</th>\n      <th>...</th>\n      <td>...</td>\n      <td>...</td>\n      <td>...</td>\n      <td>...</td>\n    </tr>\n    <tr>\n      <th rowspan=\"5\" valign=\"top\">junk</th>\n      <th>min</th>\n      <td>NaN</td>\n      <td>NaN</td>\n      <td>3.300000</td>\n      <td>NaN</td>\n    </tr>\n    <tr>\n      <th>25%</th>\n      <td>NaN</td>\n      <td>NaN</td>\n      <td>4.800000</td>\n      <td>NaN</td>\n    </tr>\n    <tr>\n      <th>50%</th>\n      <td>NaN</td>\n      <td>NaN</td>\n      <td>5.600000</td>\n      <td>NaN</td>\n    </tr>\n    <tr>\n      <th>75%</th>\n      <td>NaN</td>\n      <td>NaN</td>\n      <td>6.900000</td>\n      <td>NaN</td>\n    </tr>\n    <tr>\n      <th>max</th>\n      <td>NaN</td>\n      <td>NaN</td>\n      <td>11.300000</td>\n      <td>NaN</td>\n    </tr>\n  </tbody>\n</table>\n<p>600 rows × 4 columns</p>\n</div>"
     },
     "execution_count": 10,
     "metadata": {},
     "output_type": "execute_result"
    }
   ],
   "source": [
    "df.groupby('dataset').describe().transpose()"
   ],
   "metadata": {
    "collapsed": false,
    "pycharm": {
     "name": "#%%\n"
    }
   }
  },
  {
   "cell_type": "markdown",
   "source": [
    "## Through the high correlation in the pd-report check if dummy is equal to trestbps"
   ],
   "metadata": {
    "collapsed": false,
    "pycharm": {
     "name": "#%% md\n"
    }
   }
  },
  {
   "cell_type": "code",
   "execution_count": 11,
   "outputs": [
    {
     "name": "stdout",
     "output_type": "stream",
     "text": [
      "dummy and trestpbs are equal for 840 measurements\n",
      "dummy and trestpbs are not equal for 59 measurements\n"
     ]
    }
   ],
   "source": [
    "print(f\"dummy and trestpbs are equal for {df[df['dummy'] == df['trestbps']].shape[0]} measurements\")\n",
    "print(f\"dummy and trestpbs are not equal for {df[df['dummy'] != df['trestbps']].shape[0]} measurements\")"
   ],
   "metadata": {
    "collapsed": false,
    "pycharm": {
     "name": "#%%\n"
    }
   }
  },
  {
   "cell_type": "markdown",
   "source": [
    "It is assumed that these two variables are representing the same value. Dummy is therefor removed and because it is not explained by the UCI."
   ],
   "metadata": {
    "collapsed": false,
    "pycharm": {
     "name": "#%% md\n"
    }
   }
  },
  {
   "cell_type": "markdown",
   "source": [
    "# Drop columns\n",
    "## irrelevant_columns"
   ],
   "metadata": {
    "collapsed": false,
    "pycharm": {
     "name": "#%% md\n"
    }
   }
  },
  {
   "cell_type": "code",
   "execution_count": 12,
   "outputs": [],
   "source": [
    "irrelevant_columns = [\n",
    "    \"id\", # A id is not relevant for a model\n",
    "    \"ccf\", # the social security number does not influence if you have a heart disease or not\n",
    "    \"pncaden\", # sum of painlox painexer relrest -> the features are already in the dataset -> drop because it is a duplicate\n",
    "    \"ekgmo\", # The date of the medical examination is irrelevant for the occurrence of a disease.\n",
    "    \"ekgday\", # The date of the medical examination is irrelevant for the occurrence of a disease.\n",
    "    \"ekgyr\", # The date of the medical examination is irrelevant for the occurrence of a disease.\n",
    "    \"cmo\", # The date of the medical examination is irrelevant for the occurrence of a disease.\n",
    "    \"cday\", # The date of the medical examination is irrelevant for the occurrence of a disease.\n",
    "    \"cyr\", # The date of the medical examination is irrelevant for the occurrence of a disease.\n",
    "    \"name\" # Constant\n",
    "]\n",
    "df.drop(irrelevant_columns, inplace=True, axis=1)"
   ],
   "metadata": {
    "collapsed": false,
    "pycharm": {
     "name": "#%%\n"
    }
   }
  },
  {
   "cell_type": "markdown",
   "source": [
    "## unexplained_columns"
   ],
   "metadata": {
    "collapsed": false,
    "pycharm": {
     "name": "#%% md\n"
    }
   }
  },
  {
   "cell_type": "code",
   "execution_count": 13,
   "outputs": [],
   "source": [
    "unexplained_columns = [\n",
    "    \"restckm\", # irrelevant according to the uci\n",
    "    \"exerckm\", # irrelevant according to the uci\n",
    "    \"thalsev\", # irrelevant according to the uci\n",
    "    \"thalpul\", # irrelevant according to the uci\n",
    "    \"earlobe\", # Constant\n",
    "    \"lvx1\", # it is not possible to gain information about what this feature measures -> could not be supplied to trained models -> drop https://archive.ics.uci.edu/ml/datasets/Heart+Disease\n",
    "    \"lvx2\", # it is not possible to gain information about what this feature measures -> could not be supplied to trained models -> drop https://archive.ics.uci.edu/ml/datasets/Heart+Disease\n",
    "    \"lvx3\", # it is not possible to gain information about what this feature measures -> could not be supplied to trained models -> drop https://archive.ics.uci.edu/ml/datasets/Heart+Disease\n",
    "    \"lvx4\", # it is not possible to gain information about what this feature measures -> could not be supplied to trained models -> drop https://archive.ics.uci.edu/ml/datasets/Heart+Disease\n",
    "    \"lvf\", # it is not possible to gain information about what this feature measures -> could not be supplied to trained models -> drop https://archive.ics.uci.edu/ml/datasets/Heart+Disease\n",
    "    'junk', # it is not possible to gain information about what this feature measures -> could not be supplied to trained models -> drop https://archive.ics.uci.edu/ml/datasets/Heart+Disease\n",
    "    \"dummy\" # same as trestbps\n",
    "]\n",
    "df.drop(unexplained_columns, inplace=True, axis=1)"
   ],
   "metadata": {
    "collapsed": false,
    "pycharm": {
     "name": "#%%\n"
    }
   }
  },
  {
   "cell_type": "markdown",
   "source": [
    "## false predictors"
   ],
   "metadata": {
    "collapsed": false,
    "pycharm": {
     "name": "#%% md\n"
    }
   }
  },
  {
   "cell_type": "code",
   "execution_count": 14,
   "outputs": [],
   "source": [
    "# generate data for visualizing false predictors\n",
    "X = df.loc[ : , (df.columns != 'num')&(df.columns != 'dataset')]\n",
    "y = df.loc[: , (df.columns== 'num')].values.ravel().copy()\n",
    "y[y> 1] = 1\n",
    "X_train, X_test, y_train, y_test = train_test_split(X, y, test_size=0.33, random_state=42)\n",
    "eval_set = [(X_train, y_train), (X_test, y_test)]"
   ],
   "metadata": {
    "collapsed": false,
    "pycharm": {
     "name": "#%%\n"
    }
   }
  },
  {
   "cell_type": "code",
   "execution_count": 15,
   "outputs": [
    {
     "name": "stdout",
     "output_type": "stream",
     "text": [
      "[0]\tvalidation_0-auc:0.99088\tvalidation_1-auc:0.99096\n",
      "[1]\tvalidation_0-auc:0.99848\tvalidation_1-auc:0.99692\n",
      "[2]\tvalidation_0-auc:0.99848\tvalidation_1-auc:0.99692\n",
      "[3]\tvalidation_0-auc:0.99848\tvalidation_1-auc:0.99692\n",
      "[4]\tvalidation_0-auc:0.99996\tvalidation_1-auc:0.99952\n",
      "[5]\tvalidation_0-auc:0.99996\tvalidation_1-auc:0.99943\n",
      "[6]\tvalidation_0-auc:0.99996\tvalidation_1-auc:0.99929\n",
      "[7]\tvalidation_0-auc:0.99998\tvalidation_1-auc:0.99901\n",
      "[8]\tvalidation_0-auc:0.99998\tvalidation_1-auc:0.99915\n",
      "[9]\tvalidation_0-auc:1.00000\tvalidation_1-auc:0.99920\n",
      "[10]\tvalidation_0-auc:1.00000\tvalidation_1-auc:0.99915\n",
      "[11]\tvalidation_0-auc:1.00000\tvalidation_1-auc:0.99903\n",
      "[12]\tvalidation_0-auc:1.00000\tvalidation_1-auc:0.99903\n",
      "[13]\tvalidation_0-auc:1.00000\tvalidation_1-auc:0.99913\n",
      "[14]\tvalidation_0-auc:1.00000\tvalidation_1-auc:0.99913\n",
      "[15]\tvalidation_0-auc:1.00000\tvalidation_1-auc:0.99913\n",
      "[16]\tvalidation_0-auc:1.00000\tvalidation_1-auc:0.99908\n",
      "[17]\tvalidation_0-auc:1.00000\tvalidation_1-auc:0.99903\n",
      "[18]\tvalidation_0-auc:1.00000\tvalidation_1-auc:0.99908\n",
      "[19]\tvalidation_0-auc:1.00000\tvalidation_1-auc:0.99899\n",
      "[20]\tvalidation_0-auc:1.00000\tvalidation_1-auc:0.99899\n",
      "[21]\tvalidation_0-auc:1.00000\tvalidation_1-auc:0.99899\n",
      "[22]\tvalidation_0-auc:1.00000\tvalidation_1-auc:0.99890\n",
      "[23]\tvalidation_0-auc:1.00000\tvalidation_1-auc:0.99890\n",
      "[24]\tvalidation_0-auc:1.00000\tvalidation_1-auc:0.99894\n",
      "[25]\tvalidation_0-auc:1.00000\tvalidation_1-auc:0.99885\n",
      "[26]\tvalidation_0-auc:1.00000\tvalidation_1-auc:0.99894\n",
      "[27]\tvalidation_0-auc:1.00000\tvalidation_1-auc:0.99894\n",
      "[28]\tvalidation_0-auc:1.00000\tvalidation_1-auc:0.99903\n",
      "[29]\tvalidation_0-auc:1.00000\tvalidation_1-auc:0.99903\n",
      "[30]\tvalidation_0-auc:1.00000\tvalidation_1-auc:0.99899\n",
      "[31]\tvalidation_0-auc:1.00000\tvalidation_1-auc:0.99894\n",
      "[32]\tvalidation_0-auc:1.00000\tvalidation_1-auc:0.99890\n",
      "[33]\tvalidation_0-auc:1.00000\tvalidation_1-auc:0.99890\n",
      "[34]\tvalidation_0-auc:1.00000\tvalidation_1-auc:0.99899\n",
      "[35]\tvalidation_0-auc:1.00000\tvalidation_1-auc:0.99899\n",
      "[36]\tvalidation_0-auc:1.00000\tvalidation_1-auc:0.99899\n",
      "[37]\tvalidation_0-auc:1.00000\tvalidation_1-auc:0.99899\n",
      "[38]\tvalidation_0-auc:1.00000\tvalidation_1-auc:0.99899\n",
      "[39]\tvalidation_0-auc:1.00000\tvalidation_1-auc:0.99903\n",
      "[40]\tvalidation_0-auc:1.00000\tvalidation_1-auc:0.99908\n",
      "[41]\tvalidation_0-auc:1.00000\tvalidation_1-auc:0.99903\n",
      "[42]\tvalidation_0-auc:1.00000\tvalidation_1-auc:0.99903\n",
      "[43]\tvalidation_0-auc:1.00000\tvalidation_1-auc:0.99899\n",
      "[44]\tvalidation_0-auc:1.00000\tvalidation_1-auc:0.99899\n",
      "[45]\tvalidation_0-auc:1.00000\tvalidation_1-auc:0.99890\n",
      "[46]\tvalidation_0-auc:1.00000\tvalidation_1-auc:0.99899\n",
      "[47]\tvalidation_0-auc:1.00000\tvalidation_1-auc:0.99894\n",
      "[48]\tvalidation_0-auc:1.00000\tvalidation_1-auc:0.99894\n",
      "[49]\tvalidation_0-auc:1.00000\tvalidation_1-auc:0.99890\n",
      "[50]\tvalidation_0-auc:1.00000\tvalidation_1-auc:0.99885\n",
      "[51]\tvalidation_0-auc:1.00000\tvalidation_1-auc:0.99890\n",
      "[52]\tvalidation_0-auc:1.00000\tvalidation_1-auc:0.99885\n",
      "[53]\tvalidation_0-auc:1.00000\tvalidation_1-auc:0.99885\n",
      "[54]\tvalidation_0-auc:1.00000\tvalidation_1-auc:0.99885\n",
      "[55]\tvalidation_0-auc:1.00000\tvalidation_1-auc:0.99880\n",
      "[56]\tvalidation_0-auc:1.00000\tvalidation_1-auc:0.99871\n",
      "[57]\tvalidation_0-auc:1.00000\tvalidation_1-auc:0.99871\n",
      "[58]\tvalidation_0-auc:1.00000\tvalidation_1-auc:0.99876\n",
      "[59]\tvalidation_0-auc:1.00000\tvalidation_1-auc:0.99871\n",
      "[60]\tvalidation_0-auc:1.00000\tvalidation_1-auc:0.99876\n",
      "[61]\tvalidation_0-auc:1.00000\tvalidation_1-auc:0.99876\n",
      "[62]\tvalidation_0-auc:1.00000\tvalidation_1-auc:0.99876\n",
      "[63]\tvalidation_0-auc:1.00000\tvalidation_1-auc:0.99871\n",
      "[64]\tvalidation_0-auc:1.00000\tvalidation_1-auc:0.99862\n",
      "[65]\tvalidation_0-auc:1.00000\tvalidation_1-auc:0.99862\n",
      "[66]\tvalidation_0-auc:1.00000\tvalidation_1-auc:0.99867\n",
      "[67]\tvalidation_0-auc:1.00000\tvalidation_1-auc:0.99857\n",
      "[68]\tvalidation_0-auc:1.00000\tvalidation_1-auc:0.99862\n",
      "[69]\tvalidation_0-auc:1.00000\tvalidation_1-auc:0.99853\n",
      "[70]\tvalidation_0-auc:1.00000\tvalidation_1-auc:0.99848\n",
      "[71]\tvalidation_0-auc:1.00000\tvalidation_1-auc:0.99848\n",
      "[72]\tvalidation_0-auc:1.00000\tvalidation_1-auc:0.99857\n",
      "[73]\tvalidation_0-auc:1.00000\tvalidation_1-auc:0.99853\n",
      "[74]\tvalidation_0-auc:1.00000\tvalidation_1-auc:0.99848\n",
      "[75]\tvalidation_0-auc:1.00000\tvalidation_1-auc:0.99844\n",
      "[76]\tvalidation_0-auc:1.00000\tvalidation_1-auc:0.99848\n",
      "[77]\tvalidation_0-auc:1.00000\tvalidation_1-auc:0.99853\n",
      "[78]\tvalidation_0-auc:1.00000\tvalidation_1-auc:0.99848\n",
      "[79]\tvalidation_0-auc:1.00000\tvalidation_1-auc:0.99848\n",
      "[80]\tvalidation_0-auc:1.00000\tvalidation_1-auc:0.99844\n",
      "[81]\tvalidation_0-auc:1.00000\tvalidation_1-auc:0.99844\n"
     ]
    },
    {
     "name": "stderr",
     "output_type": "stream",
     "text": [
      "C:\\Users\\fhuel\\miniconda3\\envs\\tf\\lib\\site-packages\\xgboost\\sklearn.py:1224: UserWarning: The use of label encoder in XGBClassifier is deprecated and will be removed in a future release. To remove this warning, do the following: 1) Pass option use_label_encoder=False when constructing XGBClassifier object; and 2) Encode your labels (y) as integers starting with 0, i.e. 0, 1, 2, ..., [num_class - 1].\n",
      "  warnings.warn(label_encoder_deprecation_msg, UserWarning)\n",
      "C:\\Users\\fhuel\\miniconda3\\envs\\tf\\lib\\site-packages\\xgboost\\data.py:250: FutureWarning: pandas.Int64Index is deprecated and will be removed from pandas in a future version. Use pandas.Index with the appropriate dtype instead.\n",
      "  elif isinstance(data.columns, (pd.Int64Index, pd.RangeIndex)):\n"
     ]
    },
    {
     "name": "stdout",
     "output_type": "stream",
     "text": [
      "[82]\tvalidation_0-auc:1.00000\tvalidation_1-auc:0.99835\n",
      "[83]\tvalidation_0-auc:1.00000\tvalidation_1-auc:0.99839\n",
      "[84]\tvalidation_0-auc:1.00000\tvalidation_1-auc:0.99839\n",
      "[85]\tvalidation_0-auc:1.00000\tvalidation_1-auc:0.99835\n",
      "[86]\tvalidation_0-auc:1.00000\tvalidation_1-auc:0.99839\n",
      "[87]\tvalidation_0-auc:1.00000\tvalidation_1-auc:0.99844\n",
      "[88]\tvalidation_0-auc:1.00000\tvalidation_1-auc:0.99839\n",
      "[89]\tvalidation_0-auc:1.00000\tvalidation_1-auc:0.99839\n",
      "[90]\tvalidation_0-auc:1.00000\tvalidation_1-auc:0.99844\n",
      "[91]\tvalidation_0-auc:1.00000\tvalidation_1-auc:0.99839\n",
      "[92]\tvalidation_0-auc:1.00000\tvalidation_1-auc:0.99839\n",
      "[93]\tvalidation_0-auc:1.00000\tvalidation_1-auc:0.99839\n",
      "[94]\tvalidation_0-auc:1.00000\tvalidation_1-auc:0.99839\n",
      "[95]\tvalidation_0-auc:1.00000\tvalidation_1-auc:0.99835\n",
      "[96]\tvalidation_0-auc:1.00000\tvalidation_1-auc:0.99835\n",
      "[97]\tvalidation_0-auc:1.00000\tvalidation_1-auc:0.99825\n",
      "[98]\tvalidation_0-auc:1.00000\tvalidation_1-auc:0.99835\n",
      "[99]\tvalidation_0-auc:1.00000\tvalidation_1-auc:0.99835\n"
     ]
    }
   ],
   "source": [
    "# create and fit model\n",
    "xgb = XGBClassifier(eval_metric= \"auc\")\n",
    "xgb.fit(X_train, y_train, eval_set=eval_set)\n",
    "results = xgb.evals_result()"
   ],
   "metadata": {
    "collapsed": false,
    "pycharm": {
     "name": "#%%\n"
    }
   }
  },
  {
   "cell_type": "code",
   "execution_count": 16,
   "outputs": [
    {
     "data": {
      "text/plain": "<Figure size 640x480 with 1 Axes>",
      "image/png": "[encoded data removed]"
     },
     "metadata": {},
     "output_type": "display_data"
    }
   ],
   "source": [
    "# create AUC plot\n",
    "x_axis = np.arange(0, 1.001,0.01)\n",
    "fig, ax = plt.subplots()\n",
    "ax.plot(x_axis, [0]+results['validation_0']['auc'], label='Train')\n",
    "ax.plot(x_axis, [0]+results['validation_1']['auc'], label='Test')\n",
    "ax.legend()\n",
    "plt.ylabel('AUC')\n",
    "plt.title('XGBoost AUC')\n",
    "plt.ylim(-0.1, 1.1)\n",
    "plt.savefig('XGBoost AUC.png', bbox_inches='tight')\n",
    "plt.show()"
   ],
   "metadata": {
    "collapsed": false,
    "pycharm": {
     "name": "#%%\n"
    }
   }
  },
  {
   "cell_type": "code",
   "execution_count": 17,
   "outputs": [
    {
     "data": {
      "text/plain": "<Figure size 640x480 with 1 Axes>",
      "image/png": "[encoded data removed]"
     },
     "metadata": {},
     "output_type": "display_data"
    }
   ],
   "source": [
    "# create feature importance plot\n",
    "sorted_idx = xgb.feature_importances_.argsort()\n",
    "plt.barh(X.columns[sorted_idx][-9:], xgb.feature_importances_[sorted_idx][-9:])\n",
    "plt.xlabel(\"Xgboost Feature Importance\")\n",
    "plt.title('Most important features for XGBoost')\n",
    "plt.savefig('Xgboost Feature Importance.png', bbox_inches='tight')\n",
    "plt.show()"
   ],
   "metadata": {
    "collapsed": false,
    "pycharm": {
     "name": "#%%\n"
    }
   }
  },
  {
   "cell_type": "code",
   "execution_count": 18,
   "outputs": [
    {
     "data": {
      "text/plain": "0.9795134737422974"
     },
     "execution_count": 18,
     "metadata": {},
     "output_type": "execute_result"
    }
   ],
   "source": [
    "# calculate auc score for comparison\n",
    "roc_auc_score(y_test, xgb.predict(X_test))"
   ],
   "metadata": {
    "collapsed": false,
    "pycharm": {
     "name": "#%%\n"
    }
   }
  },
  {
   "cell_type": "code",
   "execution_count": 19,
   "outputs": [],
   "source": [
    "false_predictors = [\n",
    "    'lmt',      # Left main truck\n",
    "    'ladprox',  # Proximal left anterior descending artery\n",
    "    'laddist',  # Distal left anterior descending artery\n",
    "    'diag',     # Diagonal branches\n",
    "    'cxmain',   # Circumflex\n",
    "    'ramus',    # Ramus intermedius\n",
    "    'om1',      # First obtuse marginal branch\n",
    "    'om2',      # Second obtuse marginal branch\n",
    "    'rcaprox',  # Proximal right coronary artery\n",
    "    'rcadist',  # Distal right coronary artery\n",
    "]\n",
    "df.drop(false_predictors, inplace=True, axis=1)"
   ],
   "metadata": {
    "collapsed": false,
    "pycharm": {
     "name": "#%%\n"
    }
   }
  },
  {
   "cell_type": "markdown",
   "source": [
    "### Show impact of false predictors"
   ],
   "metadata": {
    "collapsed": false,
    "pycharm": {
     "name": "#%% md\n"
    }
   }
  },
  {
   "cell_type": "code",
   "execution_count": 20,
   "outputs": [],
   "source": [
    "# generate data for visualizing false predictors\n",
    "X = df.loc[ : , (df.columns != 'num')&(df.columns != 'dataset')]\n",
    "y = df.loc[: , (df.columns== 'num')].values.ravel().copy()\n",
    "y[y> 1] = 1\n",
    "X_train, X_test, y_train, y_test = train_test_split(X, y, test_size=0.33, random_state=42)\n",
    "eval_set = [(X_train, y_train), (X_test, y_test)]"
   ],
   "metadata": {
    "collapsed": false,
    "pycharm": {
     "name": "#%%\n"
    }
   }
  },
  {
   "cell_type": "code",
   "execution_count": 21,
   "outputs": [
    {
     "name": "stdout",
     "output_type": "stream",
     "text": [
      "[0]\tvalidation_0-auc:0.94574\tvalidation_1-auc:0.84052\n",
      "[1]\tvalidation_0-auc:0.96057\tvalidation_1-auc:0.84225\n",
      "[2]\tvalidation_0-auc:0.97298\tvalidation_1-auc:0.86103\n",
      "[3]\tvalidation_0-auc:0.98250\tvalidation_1-auc:0.86864\n",
      "[4]\tvalidation_0-auc:0.98619\tvalidation_1-auc:0.87812\n",
      "[5]\tvalidation_0-auc:0.99157\tvalidation_1-auc:0.87508\n",
      "[6]\tvalidation_0-auc:0.99299\tvalidation_1-auc:0.87496\n",
      "[7]\tvalidation_0-auc:0.99565\tvalidation_1-auc:0.87375\n",
      "[8]\tvalidation_0-auc:0.99658\tvalidation_1-auc:0.87108\n",
      "[9]\tvalidation_0-auc:0.99740\tvalidation_1-auc:0.86901\n",
      "[10]\tvalidation_0-auc:0.99849\tvalidation_1-auc:0.86814\n",
      "[11]\tvalidation_0-auc:0.99896\tvalidation_1-auc:0.86837\n",
      "[12]\tvalidation_0-auc:0.99930\tvalidation_1-auc:0.87340\n",
      "[13]\tvalidation_0-auc:0.99939\tvalidation_1-auc:0.87437\n",
      "[14]\tvalidation_0-auc:0.99962\tvalidation_1-auc:0.87464\n",
      "[15]\tvalidation_0-auc:0.99980\tvalidation_1-auc:0.87451\n",
      "[16]\tvalidation_0-auc:0.99992\tvalidation_1-auc:0.87405\n",
      "[17]\tvalidation_0-auc:0.99996\tvalidation_1-auc:0.87391\n",
      "[18]\tvalidation_0-auc:0.99996\tvalidation_1-auc:0.87188\n",
      "[19]\tvalidation_0-auc:1.00000\tvalidation_1-auc:0.87363\n",
      "[20]\tvalidation_0-auc:1.00000\tvalidation_1-auc:0.87368\n",
      "[21]\tvalidation_0-auc:1.00000\tvalidation_1-auc:0.87519\n",
      "[22]\tvalidation_0-auc:1.00000\tvalidation_1-auc:0.87690\n",
      "[23]\tvalidation_0-auc:1.00000\tvalidation_1-auc:0.87639\n",
      "[24]\tvalidation_0-auc:1.00000\tvalidation_1-auc:0.87515\n",
      "[25]\tvalidation_0-auc:1.00000\tvalidation_1-auc:0.87565\n",
      "[26]\tvalidation_0-auc:1.00000\tvalidation_1-auc:0.87690\n",
      "[27]\tvalidation_0-auc:1.00000\tvalidation_1-auc:0.87635\n",
      "[28]\tvalidation_0-auc:1.00000\tvalidation_1-auc:0.87639\n",
      "[29]\tvalidation_0-auc:1.00000\tvalidation_1-auc:0.87496\n",
      "[30]\tvalidation_0-auc:1.00000\tvalidation_1-auc:0.87464\n",
      "[31]\tvalidation_0-auc:1.00000\tvalidation_1-auc:0.87506\n",
      "[32]\tvalidation_0-auc:1.00000\tvalidation_1-auc:0.87565\n",
      "[33]\tvalidation_0-auc:1.00000\tvalidation_1-auc:0.87519\n",
      "[34]\tvalidation_0-auc:1.00000\tvalidation_1-auc:0.87474\n",
      "[35]\tvalidation_0-auc:1.00000\tvalidation_1-auc:0.87400\n",
      "[36]\tvalidation_0-auc:1.00000\tvalidation_1-auc:0.87561\n",
      "[37]\tvalidation_0-auc:1.00000\tvalidation_1-auc:0.87460\n",
      "[38]\tvalidation_0-auc:1.00000\tvalidation_1-auc:0.87519\n",
      "[39]\tvalidation_0-auc:1.00000\tvalidation_1-auc:0.87432\n",
      "[40]\tvalidation_0-auc:1.00000\tvalidation_1-auc:0.87386\n",
      "[41]\tvalidation_0-auc:1.00000\tvalidation_1-auc:0.87501\n",
      "[42]\tvalidation_0-auc:1.00000\tvalidation_1-auc:0.87487\n",
      "[43]\tvalidation_0-auc:1.00000\tvalidation_1-auc:0.87556\n",
      "[44]\tvalidation_0-auc:1.00000\tvalidation_1-auc:0.87607\n",
      "[45]\tvalidation_0-auc:1.00000\tvalidation_1-auc:0.87483\n",
      "[46]\tvalidation_0-auc:1.00000\tvalidation_1-auc:0.87515\n",
      "[47]\tvalidation_0-auc:1.00000\tvalidation_1-auc:0.87533\n",
      "[48]\tvalidation_0-auc:1.00000\tvalidation_1-auc:0.87589\n",
      "[49]\tvalidation_0-auc:1.00000\tvalidation_1-auc:0.87713\n",
      "[50]\tvalidation_0-auc:1.00000\tvalidation_1-auc:0.87680\n",
      "[51]\tvalidation_0-auc:1.00000\tvalidation_1-auc:0.87625\n",
      "[52]\tvalidation_0-auc:1.00000\tvalidation_1-auc:0.87680\n",
      "[53]\tvalidation_0-auc:1.00000\tvalidation_1-auc:0.87639\n",
      "[54]\tvalidation_0-auc:1.00000\tvalidation_1-auc:0.87598\n",
      "[55]\tvalidation_0-auc:1.00000\tvalidation_1-auc:0.87584\n",
      "[56]\tvalidation_0-auc:1.00000\tvalidation_1-auc:0.87556\n",
      "[57]\tvalidation_0-auc:1.00000\tvalidation_1-auc:0.87570\n",
      "[58]\tvalidation_0-auc:1.00000\tvalidation_1-auc:0.87506\n",
      "[59]\tvalidation_0-auc:1.00000\tvalidation_1-auc:0.87579\n",
      "[60]\tvalidation_0-auc:1.00000\tvalidation_1-auc:0.87529\n",
      "[61]\tvalidation_0-auc:1.00000\tvalidation_1-auc:0.87616\n",
      "[62]\tvalidation_0-auc:1.00000\tvalidation_1-auc:0.87639\n",
      "[63]\tvalidation_0-auc:1.00000\tvalidation_1-auc:0.87579\n",
      "[64]\tvalidation_0-auc:1.00000\tvalidation_1-auc:0.87565\n",
      "[65]\tvalidation_0-auc:1.00000\tvalidation_1-auc:0.87598\n",
      "[66]\tvalidation_0-auc:1.00000\tvalidation_1-auc:0.87561\n",
      "[67]\tvalidation_0-auc:1.00000\tvalidation_1-auc:0.87547\n",
      "[68]\tvalidation_0-auc:1.00000\tvalidation_1-auc:0.87579\n",
      "[69]\tvalidation_0-auc:1.00000\tvalidation_1-auc:0.87556\n",
      "[70]\tvalidation_0-auc:1.00000\tvalidation_1-auc:0.87529\n",
      "[71]\tvalidation_0-auc:1.00000\tvalidation_1-auc:0.87519\n",
      "[72]\tvalidation_0-auc:1.00000\tvalidation_1-auc:0.87506\n",
      "[73]\tvalidation_0-auc:1.00000\tvalidation_1-auc:0.87455\n",
      "[74]\tvalidation_0-auc:1.00000\tvalidation_1-auc:0.87487\n",
      "[75]\tvalidation_0-auc:1.00000\tvalidation_1-auc:0.87474\n",
      "[76]\tvalidation_0-auc:1.00000\tvalidation_1-auc:0.87455\n",
      "[77]\tvalidation_0-auc:1.00000\tvalidation_1-auc:0.87464\n",
      "[78]\tvalidation_0-auc:1.00000\tvalidation_1-auc:0.87423\n",
      "[79]\tvalidation_0-auc:1.00000\tvalidation_1-auc:0.87395\n",
      "[80]\tvalidation_0-auc:1.00000\tvalidation_1-auc:0.87386\n",
      "[81]\tvalidation_0-auc:1.00000\tvalidation_1-auc:0.87418\n",
      "[82]\tvalidation_0-auc:1.00000\tvalidation_1-auc:0.87395\n",
      "[83]\tvalidation_0-auc:1.00000\tvalidation_1-auc:0.87386\n",
      "[84]\tvalidation_0-auc:1.00000\tvalidation_1-auc:0.87377\n",
      "[85]\tvalidation_0-auc:1.00000\tvalidation_1-auc:0.87363\n"
     ]
    },
    {
     "name": "stderr",
     "output_type": "stream",
     "text": [
      "C:\\Users\\fhuel\\miniconda3\\envs\\tf\\lib\\site-packages\\xgboost\\sklearn.py:1224: UserWarning: The use of label encoder in XGBClassifier is deprecated and will be removed in a future release. To remove this warning, do the following: 1) Pass option use_label_encoder=False when constructing XGBClassifier object; and 2) Encode your labels (y) as integers starting with 0, i.e. 0, 1, 2, ..., [num_class - 1].\n",
      "  warnings.warn(label_encoder_deprecation_msg, UserWarning)\n",
      "C:\\Users\\fhuel\\miniconda3\\envs\\tf\\lib\\site-packages\\xgboost\\data.py:250: FutureWarning: pandas.Int64Index is deprecated and will be removed from pandas in a future version. Use pandas.Index with the appropriate dtype instead.\n",
      "  elif isinstance(data.columns, (pd.Int64Index, pd.RangeIndex)):\n"
     ]
    },
    {
     "name": "stdout",
     "output_type": "stream",
     "text": [
      "[86]\tvalidation_0-auc:1.00000\tvalidation_1-auc:0.87400\n",
      "[87]\tvalidation_0-auc:1.00000\tvalidation_1-auc:0.87368\n",
      "[88]\tvalidation_0-auc:1.00000\tvalidation_1-auc:0.87405\n",
      "[89]\tvalidation_0-auc:1.00000\tvalidation_1-auc:0.87428\n",
      "[90]\tvalidation_0-auc:1.00000\tvalidation_1-auc:0.87409\n",
      "[91]\tvalidation_0-auc:1.00000\tvalidation_1-auc:0.87418\n",
      "[92]\tvalidation_0-auc:1.00000\tvalidation_1-auc:0.87451\n",
      "[93]\tvalidation_0-auc:1.00000\tvalidation_1-auc:0.87455\n",
      "[94]\tvalidation_0-auc:1.00000\tvalidation_1-auc:0.87414\n",
      "[95]\tvalidation_0-auc:1.00000\tvalidation_1-auc:0.87423\n",
      "[96]\tvalidation_0-auc:1.00000\tvalidation_1-auc:0.87368\n",
      "[97]\tvalidation_0-auc:1.00000\tvalidation_1-auc:0.87363\n",
      "[98]\tvalidation_0-auc:1.00000\tvalidation_1-auc:0.87386\n",
      "[99]\tvalidation_0-auc:1.00000\tvalidation_1-auc:0.87400\n"
     ]
    }
   ],
   "source": [
    "# create and fit model\n",
    "xgb = XGBClassifier(eval_metric= \"auc\")\n",
    "xgb.fit(X_train, y_train, eval_set=eval_set)\n",
    "results = xgb.evals_result()"
   ],
   "metadata": {
    "collapsed": false,
    "pycharm": {
     "name": "#%%\n"
    }
   }
  },
  {
   "cell_type": "code",
   "execution_count": 22,
   "outputs": [
    {
     "data": {
      "text/plain": "<Figure size 640x480 with 1 Axes>",
      "image/png": "[encoded data removed]"
     },
     "metadata": {},
     "output_type": "display_data"
    }
   ],
   "source": [
    "# create AUC plot\n",
    "x_axis = np.arange(0, 1.001,0.01)\n",
    "fig, ax = plt.subplots()\n",
    "ax.plot(x_axis, [0]+results['validation_0']['auc'], label='Train')\n",
    "ax.plot(x_axis, [0]+results['validation_1']['auc'], label='Test')\n",
    "ax.legend()\n",
    "plt.ylabel('AUC')\n",
    "plt.title('XGBoost AUC')\n",
    "plt.ylim(-0.1, 1.1)\n",
    "plt.show()"
   ],
   "metadata": {
    "collapsed": false,
    "pycharm": {
     "name": "#%%\n"
    }
   }
  },
  {
   "cell_type": "code",
   "execution_count": 23,
   "outputs": [
    {
     "data": {
      "text/plain": "<Figure size 640x480 with 1 Axes>",
      "image/png": "[encoded data removed]"
     },
     "metadata": {},
     "output_type": "display_data"
    }
   ],
   "source": [
    "# generate feature importance plot\n",
    "sorted_idx = xgb.feature_importances_.argsort()\n",
    "plt.barh(X.columns[sorted_idx][-9:], xgb.feature_importances_[sorted_idx][-9:])\n",
    "plt.xlabel(\"Xgboost Feature Importance\")\n",
    "plt.title('Most important features for XGBoost')\n",
    "plt.show()"
   ],
   "metadata": {
    "collapsed": false,
    "pycharm": {
     "name": "#%%\n"
    }
   }
  },
  {
   "cell_type": "code",
   "execution_count": 24,
   "outputs": [
    {
     "data": {
      "text/plain": "0.8218522946748827"
     },
     "execution_count": 24,
     "metadata": {},
     "output_type": "execute_result"
    }
   ],
   "source": [
    "# calculate auc score for comparison\n",
    "roc_auc_score(y_test, xgb.predict(X_test))"
   ],
   "metadata": {
    "collapsed": false,
    "pycharm": {
     "name": "#%%\n"
    }
   }
  },
  {
   "cell_type": "code",
   "execution_count": 25,
   "outputs": [],
   "source": [
    "if generate_profiling_reports:\n",
    "    profile = pandas_profiling.ProfileReport(df, title='Pandas Profiling Report for the used features from the UCI dataset', explorative=True)\n",
    "    profile.to_file(\"Pandas Profiling Report for all used features.html\")"
   ],
   "metadata": {
    "collapsed": false,
    "pycharm": {
     "name": "#%%\n"
    }
   }
  },
  {
   "cell_type": "markdown",
   "source": [
    "# Start of analysis\n",
    "## PairPlots"
   ],
   "metadata": {
    "collapsed": false,
    "pycharm": {
     "name": "#%% md\n"
    }
   },
   "outputs": []
  },
  {
   "cell_type": "code",
   "execution_count": null,
   "outputs": [
    {
     "ename": "KeyboardInterrupt",
     "evalue": "",
     "output_type": "error",
     "traceback": [
      "\u001B[1;31m---------------------------------------------------------------------------\u001B[0m",
      "\u001B[1;31mKeyboardInterrupt\u001B[0m                         Traceback (most recent call last)",
      "Cell \u001B[1;32mIn [26], line 3\u001B[0m\n\u001B[0;32m      1\u001B[0m \u001B[38;5;66;03m# pairplots are only printed on used features\u001B[39;00m\n\u001B[0;32m      2\u001B[0m \u001B[38;5;28;01mif\u001B[39;00m print_pair_plots:\n\u001B[1;32m----> 3\u001B[0m     \u001B[43msns\u001B[49m\u001B[38;5;241;43m.\u001B[39;49m\u001B[43mpairplot\u001B[49m\u001B[43m(\u001B[49m\u001B[43mdf\u001B[49m\u001B[43m,\u001B[49m\u001B[43m \u001B[49m\u001B[43mhue\u001B[49m\u001B[38;5;241;43m=\u001B[39;49m\u001B[38;5;124;43m\"\u001B[39;49m\u001B[38;5;124;43mnum\u001B[39;49m\u001B[38;5;124;43m\"\u001B[39;49m\u001B[43m,\u001B[49m\u001B[43m \u001B[49m\u001B[43mpalette\u001B[49m\u001B[38;5;241;43m=\u001B[39;49m\u001B[38;5;124;43m\"\u001B[39;49m\u001B[38;5;124;43mtab10\u001B[39;49m\u001B[38;5;124;43m\"\u001B[39;49m\u001B[43m)\u001B[49m\n\u001B[0;32m      4\u001B[0m     plt\u001B[38;5;241m.\u001B[39msavefig(\u001B[38;5;124m'\u001B[39m\u001B[38;5;124mpairplot with hue = num.png\u001B[39m\u001B[38;5;124m'\u001B[39m)\n\u001B[0;32m      5\u001B[0m     sns\u001B[38;5;241m.\u001B[39mpairplot(df, hue\u001B[38;5;241m=\u001B[39m\u001B[38;5;124m\"\u001B[39m\u001B[38;5;124mdataset\u001B[39m\u001B[38;5;124m\"\u001B[39m, palette\u001B[38;5;241m=\u001B[39m\u001B[38;5;124m\"\u001B[39m\u001B[38;5;124mtab10\u001B[39m\u001B[38;5;124m\"\u001B[39m)\n",
      "File \u001B[1;32m~\\miniconda3\\envs\\tf\\lib\\site-packages\\seaborn\\axisgrid.py:2158\u001B[0m, in \u001B[0;36mpairplot\u001B[1;34m(data, hue, hue_order, palette, vars, x_vars, y_vars, kind, diag_kind, markers, height, aspect, corner, dropna, plot_kws, diag_kws, grid_kws, size)\u001B[0m\n\u001B[0;32m   2156\u001B[0m \u001B[38;5;28;01mif\u001B[39;00m kind \u001B[38;5;241m==\u001B[39m \u001B[38;5;124m\"\u001B[39m\u001B[38;5;124mscatter\u001B[39m\u001B[38;5;124m\"\u001B[39m:\n\u001B[0;32m   2157\u001B[0m     \u001B[38;5;28;01mfrom\u001B[39;00m \u001B[38;5;21;01m.\u001B[39;00m\u001B[38;5;21;01mrelational\u001B[39;00m \u001B[38;5;28;01mimport\u001B[39;00m scatterplot  \u001B[38;5;66;03m# Avoid circular import\u001B[39;00m\n\u001B[1;32m-> 2158\u001B[0m     plotter(scatterplot, \u001B[38;5;241m*\u001B[39m\u001B[38;5;241m*\u001B[39mplot_kws)\n\u001B[0;32m   2159\u001B[0m \u001B[38;5;28;01melif\u001B[39;00m kind \u001B[38;5;241m==\u001B[39m \u001B[38;5;124m\"\u001B[39m\u001B[38;5;124mreg\u001B[39m\u001B[38;5;124m\"\u001B[39m:\n\u001B[0;32m   2160\u001B[0m     \u001B[38;5;28;01mfrom\u001B[39;00m \u001B[38;5;21;01m.\u001B[39;00m\u001B[38;5;21;01mregression\u001B[39;00m \u001B[38;5;28;01mimport\u001B[39;00m regplot  \u001B[38;5;66;03m# Avoid circular import\u001B[39;00m\n",
      "File \u001B[1;32m~\\miniconda3\\envs\\tf\\lib\\site-packages\\seaborn\\axisgrid.py:1421\u001B[0m, in \u001B[0;36mPairGrid.map_offdiag\u001B[1;34m(self, func, **kwargs)\u001B[0m\n\u001B[0;32m   1419\u001B[0m     \u001B[38;5;28mself\u001B[39m\u001B[38;5;241m.\u001B[39mmap_lower(func, \u001B[38;5;241m*\u001B[39m\u001B[38;5;241m*\u001B[39mkwargs)\n\u001B[0;32m   1420\u001B[0m     \u001B[38;5;28;01mif\u001B[39;00m \u001B[38;5;129;01mnot\u001B[39;00m \u001B[38;5;28mself\u001B[39m\u001B[38;5;241m.\u001B[39m_corner:\n\u001B[1;32m-> 1421\u001B[0m         \u001B[38;5;28mself\u001B[39m\u001B[38;5;241m.\u001B[39mmap_upper(func, \u001B[38;5;241m*\u001B[39m\u001B[38;5;241m*\u001B[39mkwargs)\n\u001B[0;32m   1422\u001B[0m \u001B[38;5;28;01melse\u001B[39;00m:\n\u001B[0;32m   1423\u001B[0m     indices \u001B[38;5;241m=\u001B[39m []\n",
      "File \u001B[1;32m~\\miniconda3\\envs\\tf\\lib\\site-packages\\seaborn\\axisgrid.py:1404\u001B[0m, in \u001B[0;36mPairGrid.map_upper\u001B[1;34m(self, func, **kwargs)\u001B[0m\n\u001B[0;32m   1393\u001B[0m \u001B[38;5;124;03m\"\"\"Plot with a bivariate function on the upper diagonal subplots.\u001B[39;00m\n\u001B[0;32m   1394\u001B[0m \n\u001B[0;32m   1395\u001B[0m \u001B[38;5;124;03mParameters\u001B[39;00m\n\u001B[1;32m   (...)\u001B[0m\n\u001B[0;32m   1401\u001B[0m \n\u001B[0;32m   1402\u001B[0m \u001B[38;5;124;03m\"\"\"\u001B[39;00m\n\u001B[0;32m   1403\u001B[0m indices \u001B[38;5;241m=\u001B[39m \u001B[38;5;28mzip\u001B[39m(\u001B[38;5;241m*\u001B[39mnp\u001B[38;5;241m.\u001B[39mtriu_indices_from(\u001B[38;5;28mself\u001B[39m\u001B[38;5;241m.\u001B[39maxes, \u001B[38;5;241m1\u001B[39m))\n\u001B[1;32m-> 1404\u001B[0m \u001B[38;5;28mself\u001B[39m\u001B[38;5;241m.\u001B[39m_map_bivariate(func, indices, \u001B[38;5;241m*\u001B[39m\u001B[38;5;241m*\u001B[39mkwargs)\n\u001B[0;32m   1405\u001B[0m \u001B[38;5;28;01mreturn\u001B[39;00m \u001B[38;5;28mself\u001B[39m\n",
      "File \u001B[1;32m~\\miniconda3\\envs\\tf\\lib\\site-packages\\seaborn\\axisgrid.py:1568\u001B[0m, in \u001B[0;36mPairGrid._map_bivariate\u001B[1;34m(self, func, indices, **kwargs)\u001B[0m\n\u001B[0;32m   1566\u001B[0m     \u001B[38;5;28;01mif\u001B[39;00m ax \u001B[38;5;129;01mis\u001B[39;00m \u001B[38;5;28;01mNone\u001B[39;00m:  \u001B[38;5;66;03m# i.e. we are in corner mode\u001B[39;00m\n\u001B[0;32m   1567\u001B[0m         \u001B[38;5;28;01mcontinue\u001B[39;00m\n\u001B[1;32m-> 1568\u001B[0m     \u001B[38;5;28mself\u001B[39m\u001B[38;5;241m.\u001B[39m_plot_bivariate(x_var, y_var, ax, func, \u001B[38;5;241m*\u001B[39m\u001B[38;5;241m*\u001B[39mkws)\n\u001B[0;32m   1569\u001B[0m \u001B[38;5;28mself\u001B[39m\u001B[38;5;241m.\u001B[39m_add_axis_labels()\n\u001B[0;32m   1571\u001B[0m \u001B[38;5;28;01mif\u001B[39;00m \u001B[38;5;124m\"\u001B[39m\u001B[38;5;124mhue\u001B[39m\u001B[38;5;124m\"\u001B[39m \u001B[38;5;129;01min\u001B[39;00m signature(func)\u001B[38;5;241m.\u001B[39mparameters:\n",
      "File \u001B[1;32m~\\miniconda3\\envs\\tf\\lib\\site-packages\\seaborn\\axisgrid.py:1609\u001B[0m, in \u001B[0;36mPairGrid._plot_bivariate\u001B[1;34m(self, x_var, y_var, ax, func, **kwargs)\u001B[0m\n\u001B[0;32m   1605\u001B[0m \u001B[38;5;28;01mif\u001B[39;00m \u001B[38;5;124m\"\u001B[39m\u001B[38;5;124mhue\u001B[39m\u001B[38;5;124m\"\u001B[39m \u001B[38;5;129;01mnot\u001B[39;00m \u001B[38;5;129;01min\u001B[39;00m kwargs:\n\u001B[0;32m   1606\u001B[0m     kwargs\u001B[38;5;241m.\u001B[39mupdate({\n\u001B[0;32m   1607\u001B[0m         \u001B[38;5;124m\"\u001B[39m\u001B[38;5;124mhue\u001B[39m\u001B[38;5;124m\"\u001B[39m: hue, \u001B[38;5;124m\"\u001B[39m\u001B[38;5;124mhue_order\u001B[39m\u001B[38;5;124m\"\u001B[39m: \u001B[38;5;28mself\u001B[39m\u001B[38;5;241m.\u001B[39m_hue_order, \u001B[38;5;124m\"\u001B[39m\u001B[38;5;124mpalette\u001B[39m\u001B[38;5;124m\"\u001B[39m: \u001B[38;5;28mself\u001B[39m\u001B[38;5;241m.\u001B[39m_orig_palette,\n\u001B[0;32m   1608\u001B[0m     })\n\u001B[1;32m-> 1609\u001B[0m func(x\u001B[38;5;241m=\u001B[39mx, y\u001B[38;5;241m=\u001B[39my, \u001B[38;5;241m*\u001B[39m\u001B[38;5;241m*\u001B[39mkwargs)\n\u001B[0;32m   1611\u001B[0m \u001B[38;5;28mself\u001B[39m\u001B[38;5;241m.\u001B[39m_update_legend_data(ax)\n",
      "File \u001B[1;32m~\\miniconda3\\envs\\tf\\lib\\site-packages\\seaborn\\relational.py:761\u001B[0m, in \u001B[0;36mscatterplot\u001B[1;34m(data, x, y, hue, size, style, palette, hue_order, hue_norm, sizes, size_order, size_norm, markers, style_order, legend, ax, **kwargs)\u001B[0m\n\u001B[0;32m    758\u001B[0m color \u001B[38;5;241m=\u001B[39m kwargs\u001B[38;5;241m.\u001B[39mpop(\u001B[38;5;124m\"\u001B[39m\u001B[38;5;124mcolor\u001B[39m\u001B[38;5;124m\"\u001B[39m, \u001B[38;5;28;01mNone\u001B[39;00m)\n\u001B[0;32m    759\u001B[0m kwargs[\u001B[38;5;124m\"\u001B[39m\u001B[38;5;124mcolor\u001B[39m\u001B[38;5;124m\"\u001B[39m] \u001B[38;5;241m=\u001B[39m _default_color(ax\u001B[38;5;241m.\u001B[39mscatter, hue, color, kwargs)\n\u001B[1;32m--> 761\u001B[0m \u001B[43mp\u001B[49m\u001B[38;5;241;43m.\u001B[39;49m\u001B[43mplot\u001B[49m\u001B[43m(\u001B[49m\u001B[43max\u001B[49m\u001B[43m,\u001B[49m\u001B[43m \u001B[49m\u001B[43mkwargs\u001B[49m\u001B[43m)\u001B[49m\n\u001B[0;32m    763\u001B[0m \u001B[38;5;28;01mreturn\u001B[39;00m ax\n",
      "File \u001B[1;32m~\\miniconda3\\envs\\tf\\lib\\site-packages\\seaborn\\relational.py:596\u001B[0m, in \u001B[0;36m_ScatterPlotter.plot\u001B[1;34m(self, ax, kws)\u001B[0m\n\u001B[0;32m    594\u001B[0m \u001B[38;5;28mself\u001B[39m\u001B[38;5;241m.\u001B[39m_add_axis_labels(ax)\n\u001B[0;32m    595\u001B[0m \u001B[38;5;28;01mif\u001B[39;00m \u001B[38;5;28mself\u001B[39m\u001B[38;5;241m.\u001B[39mlegend:\n\u001B[1;32m--> 596\u001B[0m     \u001B[38;5;28;43mself\u001B[39;49m\u001B[38;5;241;43m.\u001B[39;49m\u001B[43madd_legend_data\u001B[49m\u001B[43m(\u001B[49m\u001B[43max\u001B[49m\u001B[43m)\u001B[49m\n\u001B[0;32m    597\u001B[0m     handles, _ \u001B[38;5;241m=\u001B[39m ax\u001B[38;5;241m.\u001B[39mget_legend_handles_labels()\n\u001B[0;32m    598\u001B[0m     \u001B[38;5;28;01mif\u001B[39;00m handles:\n",
      "File \u001B[1;32m~\\miniconda3\\envs\\tf\\lib\\site-packages\\seaborn\\relational.py:335\u001B[0m, in \u001B[0;36m_RelationalPlotter.add_legend_data\u001B[1;34m(self, ax)\u001B[0m\n\u001B[0;32m    333\u001B[0m     \u001B[38;5;28;01mif\u001B[39;00m attr \u001B[38;5;129;01min\u001B[39;00m kws:\n\u001B[0;32m    334\u001B[0m         use_kws[attr] \u001B[38;5;241m=\u001B[39m kws[attr]\n\u001B[1;32m--> 335\u001B[0m artist \u001B[38;5;241m=\u001B[39m func([], [], label\u001B[38;5;241m=\u001B[39mlabel, \u001B[38;5;241m*\u001B[39m\u001B[38;5;241m*\u001B[39muse_kws)\n\u001B[0;32m    336\u001B[0m \u001B[38;5;28;01mif\u001B[39;00m \u001B[38;5;28mself\u001B[39m\u001B[38;5;241m.\u001B[39m_legend_func \u001B[38;5;241m==\u001B[39m \u001B[38;5;124m\"\u001B[39m\u001B[38;5;124mplot\u001B[39m\u001B[38;5;124m\"\u001B[39m:\n\u001B[0;32m    337\u001B[0m     artist \u001B[38;5;241m=\u001B[39m artist[\u001B[38;5;241m0\u001B[39m]\n",
      "File \u001B[1;32m~\\miniconda3\\envs\\tf\\lib\\site-packages\\matplotlib\\__init__.py:1414\u001B[0m, in \u001B[0;36m_preprocess_data.<locals>.inner\u001B[1;34m(ax, data, *args, **kwargs)\u001B[0m\n\u001B[0;32m   1411\u001B[0m \u001B[38;5;129m@functools\u001B[39m\u001B[38;5;241m.\u001B[39mwraps(func)\n\u001B[0;32m   1412\u001B[0m \u001B[38;5;28;01mdef\u001B[39;00m \u001B[38;5;21minner\u001B[39m(ax, \u001B[38;5;241m*\u001B[39margs, data\u001B[38;5;241m=\u001B[39m\u001B[38;5;28;01mNone\u001B[39;00m, \u001B[38;5;241m*\u001B[39m\u001B[38;5;241m*\u001B[39mkwargs):\n\u001B[0;32m   1413\u001B[0m     \u001B[38;5;28;01mif\u001B[39;00m data \u001B[38;5;129;01mis\u001B[39;00m \u001B[38;5;28;01mNone\u001B[39;00m:\n\u001B[1;32m-> 1414\u001B[0m         \u001B[38;5;28;01mreturn\u001B[39;00m func(ax, \u001B[38;5;241m*\u001B[39m\u001B[38;5;28mmap\u001B[39m(sanitize_sequence, args), \u001B[38;5;241m*\u001B[39m\u001B[38;5;241m*\u001B[39mkwargs)\n\u001B[0;32m   1416\u001B[0m     bound \u001B[38;5;241m=\u001B[39m new_sig\u001B[38;5;241m.\u001B[39mbind(ax, \u001B[38;5;241m*\u001B[39margs, \u001B[38;5;241m*\u001B[39m\u001B[38;5;241m*\u001B[39mkwargs)\n\u001B[0;32m   1417\u001B[0m     auto_label \u001B[38;5;241m=\u001B[39m (bound\u001B[38;5;241m.\u001B[39marguments\u001B[38;5;241m.\u001B[39mget(label_namer)\n\u001B[0;32m   1418\u001B[0m                   \u001B[38;5;129;01mor\u001B[39;00m bound\u001B[38;5;241m.\u001B[39mkwargs\u001B[38;5;241m.\u001B[39mget(label_namer))\n",
      "File \u001B[1;32m~\\miniconda3\\envs\\tf\\lib\\site-packages\\matplotlib\\axes\\_axes.py:4486\u001B[0m, in \u001B[0;36mAxes.scatter\u001B[1;34m(self, x, y, s, c, marker, cmap, norm, vmin, vmax, alpha, linewidths, edgecolors, plotnonfinite, **kwargs)\u001B[0m\n\u001B[0;32m   4483\u001B[0m     \u001B[38;5;28;01mif\u001B[39;00m \u001B[38;5;28mself\u001B[39m\u001B[38;5;241m.\u001B[39m_ymargin \u001B[38;5;241m<\u001B[39m \u001B[38;5;241m0.05\u001B[39m \u001B[38;5;129;01mand\u001B[39;00m x\u001B[38;5;241m.\u001B[39msize \u001B[38;5;241m>\u001B[39m \u001B[38;5;241m0\u001B[39m:\n\u001B[0;32m   4484\u001B[0m         \u001B[38;5;28mself\u001B[39m\u001B[38;5;241m.\u001B[39mset_ymargin(\u001B[38;5;241m0.05\u001B[39m)\n\u001B[1;32m-> 4486\u001B[0m \u001B[38;5;28;43mself\u001B[39;49m\u001B[38;5;241;43m.\u001B[39;49m\u001B[43madd_collection\u001B[49m\u001B[43m(\u001B[49m\u001B[43mcollection\u001B[49m\u001B[43m)\u001B[49m\n\u001B[0;32m   4487\u001B[0m \u001B[38;5;28mself\u001B[39m\u001B[38;5;241m.\u001B[39m_request_autoscale_view()\n\u001B[0;32m   4489\u001B[0m \u001B[38;5;28;01mreturn\u001B[39;00m collection\n",
      "File \u001B[1;32m~\\miniconda3\\envs\\tf\\lib\\site-packages\\matplotlib\\axes\\_base.py:2247\u001B[0m, in \u001B[0;36m_AxesBase.add_collection\u001B[1;34m(self, collection, autolim)\u001B[0m\n\u001B[0;32m   2242\u001B[0m     collection\u001B[38;5;241m.\u001B[39mset_clip_path(\u001B[38;5;28mself\u001B[39m\u001B[38;5;241m.\u001B[39mpatch)\n\u001B[0;32m   2244\u001B[0m \u001B[38;5;28;01mif\u001B[39;00m autolim:\n\u001B[0;32m   2245\u001B[0m     \u001B[38;5;66;03m# Make sure viewLim is not stale (mostly to match\u001B[39;00m\n\u001B[0;32m   2246\u001B[0m     \u001B[38;5;66;03m# pre-lazy-autoscale behavior, which is not really better).\u001B[39;00m\n\u001B[1;32m-> 2247\u001B[0m     \u001B[38;5;28;43mself\u001B[39;49m\u001B[38;5;241;43m.\u001B[39;49m\u001B[43m_unstale_viewLim\u001B[49m\u001B[43m(\u001B[49m\u001B[43m)\u001B[49m\n\u001B[0;32m   2248\u001B[0m     datalim \u001B[38;5;241m=\u001B[39m collection\u001B[38;5;241m.\u001B[39mget_datalim(\u001B[38;5;28mself\u001B[39m\u001B[38;5;241m.\u001B[39mtransData)\n\u001B[0;32m   2249\u001B[0m     points \u001B[38;5;241m=\u001B[39m datalim\u001B[38;5;241m.\u001B[39mget_points()\n",
      "File \u001B[1;32m~\\miniconda3\\envs\\tf\\lib\\site-packages\\matplotlib\\axes\\_base.py:777\u001B[0m, in \u001B[0;36m_AxesBase._unstale_viewLim\u001B[1;34m(self)\u001B[0m\n\u001B[0;32m    775\u001B[0m     \u001B[38;5;28;01mfor\u001B[39;00m ax \u001B[38;5;129;01min\u001B[39;00m \u001B[38;5;28mself\u001B[39m\u001B[38;5;241m.\u001B[39m_shared_axes[name]\u001B[38;5;241m.\u001B[39mget_siblings(\u001B[38;5;28mself\u001B[39m):\n\u001B[0;32m    776\u001B[0m         ax\u001B[38;5;241m.\u001B[39m_stale_viewlims[name] \u001B[38;5;241m=\u001B[39m \u001B[38;5;28;01mFalse\u001B[39;00m\n\u001B[1;32m--> 777\u001B[0m \u001B[38;5;28mself\u001B[39m\u001B[38;5;241m.\u001B[39mautoscale_view(\u001B[38;5;241m*\u001B[39m\u001B[38;5;241m*\u001B[39m{\u001B[38;5;124mf\u001B[39m\u001B[38;5;124m\"\u001B[39m\u001B[38;5;124mscale\u001B[39m\u001B[38;5;132;01m{\u001B[39;00mname\u001B[38;5;132;01m}\u001B[39;00m\u001B[38;5;124m\"\u001B[39m: scale\n\u001B[0;32m    778\u001B[0m                        \u001B[38;5;28;01mfor\u001B[39;00m name, scale \u001B[38;5;129;01min\u001B[39;00m need_scale\u001B[38;5;241m.\u001B[39mitems()})\n",
      "File \u001B[1;32m~\\miniconda3\\envs\\tf\\lib\\site-packages\\matplotlib\\axes\\_base.py:2937\u001B[0m, in \u001B[0;36m_AxesBase.autoscale_view\u001B[1;34m(self, tight, scalex, scaley)\u001B[0m\n\u001B[0;32m   2934\u001B[0m     set_bound(x0, x1)\n\u001B[0;32m   2935\u001B[0m     \u001B[38;5;66;03m# End of definition of internal function 'handle_single_axis'.\u001B[39;00m\n\u001B[1;32m-> 2937\u001B[0m \u001B[43mhandle_single_axis\u001B[49m\u001B[43m(\u001B[49m\n\u001B[0;32m   2938\u001B[0m \u001B[43m    \u001B[49m\u001B[43mscalex\u001B[49m\u001B[43m,\u001B[49m\u001B[43m \u001B[49m\u001B[38;5;28;43mself\u001B[39;49m\u001B[38;5;241;43m.\u001B[39;49m\u001B[43m_autoscaleXon\u001B[49m\u001B[43m,\u001B[49m\u001B[43m \u001B[49m\u001B[38;5;28;43mself\u001B[39;49m\u001B[38;5;241;43m.\u001B[39;49m\u001B[43m_shared_axes\u001B[49m\u001B[43m[\u001B[49m\u001B[38;5;124;43m\"\u001B[39;49m\u001B[38;5;124;43mx\u001B[39;49m\u001B[38;5;124;43m\"\u001B[39;49m\u001B[43m]\u001B[49m\u001B[43m,\u001B[49m\u001B[43m \u001B[49m\u001B[38;5;124;43m'\u001B[39;49m\u001B[38;5;124;43mx\u001B[39;49m\u001B[38;5;124;43m'\u001B[39;49m\u001B[43m,\u001B[49m\n\u001B[0;32m   2939\u001B[0m \u001B[43m    \u001B[49m\u001B[38;5;28;43mself\u001B[39;49m\u001B[38;5;241;43m.\u001B[39;49m\u001B[43mxaxis\u001B[49m\u001B[43m,\u001B[49m\u001B[43m \u001B[49m\u001B[38;5;28;43mself\u001B[39;49m\u001B[38;5;241;43m.\u001B[39;49m\u001B[43m_xmargin\u001B[49m\u001B[43m,\u001B[49m\u001B[43m \u001B[49m\u001B[43mx_stickies\u001B[49m\u001B[43m,\u001B[49m\u001B[43m \u001B[49m\u001B[38;5;28;43mself\u001B[39;49m\u001B[38;5;241;43m.\u001B[39;49m\u001B[43mset_xbound\u001B[49m\u001B[43m)\u001B[49m\n\u001B[0;32m   2940\u001B[0m handle_single_axis(\n\u001B[0;32m   2941\u001B[0m     scaley, \u001B[38;5;28mself\u001B[39m\u001B[38;5;241m.\u001B[39m_autoscaleYon, \u001B[38;5;28mself\u001B[39m\u001B[38;5;241m.\u001B[39m_shared_axes[\u001B[38;5;124m\"\u001B[39m\u001B[38;5;124my\u001B[39m\u001B[38;5;124m\"\u001B[39m], \u001B[38;5;124m'\u001B[39m\u001B[38;5;124my\u001B[39m\u001B[38;5;124m'\u001B[39m,\n\u001B[0;32m   2942\u001B[0m     \u001B[38;5;28mself\u001B[39m\u001B[38;5;241m.\u001B[39myaxis, \u001B[38;5;28mself\u001B[39m\u001B[38;5;241m.\u001B[39m_ymargin, y_stickies, \u001B[38;5;28mself\u001B[39m\u001B[38;5;241m.\u001B[39mset_ybound)\n",
      "File \u001B[1;32m~\\miniconda3\\envs\\tf\\lib\\site-packages\\matplotlib\\axes\\_base.py:2934\u001B[0m, in \u001B[0;36m_AxesBase.autoscale_view.<locals>.handle_single_axis\u001B[1;34m(scale, autoscaleon, shared_axes, name, axis, margin, stickies, set_bound)\u001B[0m\n\u001B[0;32m   2932\u001B[0m \u001B[38;5;28;01mif\u001B[39;00m \u001B[38;5;129;01mnot\u001B[39;00m \u001B[38;5;28mself\u001B[39m\u001B[38;5;241m.\u001B[39m_tight:\n\u001B[0;32m   2933\u001B[0m     x0, x1 \u001B[38;5;241m=\u001B[39m locator\u001B[38;5;241m.\u001B[39mview_limits(x0, x1)\n\u001B[1;32m-> 2934\u001B[0m \u001B[43mset_bound\u001B[49m\u001B[43m(\u001B[49m\u001B[43mx0\u001B[49m\u001B[43m,\u001B[49m\u001B[43m \u001B[49m\u001B[43mx1\u001B[49m\u001B[43m)\u001B[49m\n",
      "File \u001B[1;32m~\\miniconda3\\envs\\tf\\lib\\site-packages\\matplotlib\\axes\\_base.py:3573\u001B[0m, in \u001B[0;36m_AxesBase.set_xbound\u001B[1;34m(self, lower, upper)\u001B[0m\n\u001B[0;32m   3570\u001B[0m \u001B[38;5;28;01mif\u001B[39;00m upper \u001B[38;5;129;01mis\u001B[39;00m \u001B[38;5;28;01mNone\u001B[39;00m:\n\u001B[0;32m   3571\u001B[0m     upper \u001B[38;5;241m=\u001B[39m old_upper\n\u001B[1;32m-> 3573\u001B[0m \u001B[38;5;28;43mself\u001B[39;49m\u001B[38;5;241;43m.\u001B[39;49m\u001B[43mset_xlim\u001B[49m\u001B[43m(\u001B[49m\u001B[38;5;28;43msorted\u001B[39;49m\u001B[43m(\u001B[49m\u001B[43m(\u001B[49m\u001B[43mlower\u001B[49m\u001B[43m,\u001B[49m\u001B[43m \u001B[49m\u001B[43mupper\u001B[49m\u001B[43m)\u001B[49m\u001B[43m,\u001B[49m\n\u001B[0;32m   3574\u001B[0m \u001B[43m                     \u001B[49m\u001B[43mreverse\u001B[49m\u001B[38;5;241;43m=\u001B[39;49m\u001B[38;5;28;43mbool\u001B[39;49m\u001B[43m(\u001B[49m\u001B[38;5;28;43mself\u001B[39;49m\u001B[38;5;241;43m.\u001B[39;49m\u001B[43mxaxis_inverted\u001B[49m\u001B[43m(\u001B[49m\u001B[43m)\u001B[49m\u001B[43m)\u001B[49m\u001B[43m)\u001B[49m\u001B[43m,\u001B[49m\n\u001B[0;32m   3575\u001B[0m \u001B[43m              \u001B[49m\u001B[43mauto\u001B[49m\u001B[38;5;241;43m=\u001B[39;49m\u001B[38;5;28;43;01mNone\u001B[39;49;00m\u001B[43m)\u001B[49m\n",
      "File \u001B[1;32m~\\miniconda3\\envs\\tf\\lib\\site-packages\\matplotlib\\axes\\_base.py:3747\u001B[0m, in \u001B[0;36m_AxesBase.set_xlim\u001B[1;34m(self, left, right, emit, auto, xmin, xmax)\u001B[0m\n\u001B[0;32m   3745\u001B[0m \u001B[38;5;28;01mfor\u001B[39;00m other \u001B[38;5;129;01min\u001B[39;00m \u001B[38;5;28mself\u001B[39m\u001B[38;5;241m.\u001B[39m_shared_axes[\u001B[38;5;124m\"\u001B[39m\u001B[38;5;124mx\u001B[39m\u001B[38;5;124m\"\u001B[39m]\u001B[38;5;241m.\u001B[39mget_siblings(\u001B[38;5;28mself\u001B[39m):\n\u001B[0;32m   3746\u001B[0m     \u001B[38;5;28;01mif\u001B[39;00m other \u001B[38;5;129;01mis\u001B[39;00m \u001B[38;5;129;01mnot\u001B[39;00m \u001B[38;5;28mself\u001B[39m:\n\u001B[1;32m-> 3747\u001B[0m         \u001B[43mother\u001B[49m\u001B[38;5;241;43m.\u001B[39;49m\u001B[43mset_xlim\u001B[49m\u001B[43m(\u001B[49m\u001B[38;5;28;43mself\u001B[39;49m\u001B[38;5;241;43m.\u001B[39;49m\u001B[43mviewLim\u001B[49m\u001B[38;5;241;43m.\u001B[39;49m\u001B[43mintervalx\u001B[49m\u001B[43m,\u001B[49m\n\u001B[0;32m   3748\u001B[0m \u001B[43m                       \u001B[49m\u001B[43memit\u001B[49m\u001B[38;5;241;43m=\u001B[39;49m\u001B[38;5;28;43;01mFalse\u001B[39;49;00m\u001B[43m,\u001B[49m\u001B[43m \u001B[49m\u001B[43mauto\u001B[49m\u001B[38;5;241;43m=\u001B[39;49m\u001B[43mauto\u001B[49m\u001B[43m)\u001B[49m\n\u001B[0;32m   3749\u001B[0m         \u001B[38;5;28;01mif\u001B[39;00m other\u001B[38;5;241m.\u001B[39mfigure \u001B[38;5;241m!=\u001B[39m \u001B[38;5;28mself\u001B[39m\u001B[38;5;241m.\u001B[39mfigure:\n\u001B[0;32m   3750\u001B[0m             other\u001B[38;5;241m.\u001B[39mfigure\u001B[38;5;241m.\u001B[39mcanvas\u001B[38;5;241m.\u001B[39mdraw_idle()\n",
      "File \u001B[1;32m~\\miniconda3\\envs\\tf\\lib\\site-packages\\matplotlib\\axes\\_base.py:3737\u001B[0m, in \u001B[0;36m_AxesBase.set_xlim\u001B[1;34m(self, left, right, emit, auto, xmin, xmax)\u001B[0m\n\u001B[0;32m   3735\u001B[0m \u001B[38;5;28mself\u001B[39m\u001B[38;5;241m.\u001B[39m_viewLim\u001B[38;5;241m.\u001B[39mintervalx \u001B[38;5;241m=\u001B[39m (left, right)\n\u001B[0;32m   3736\u001B[0m \u001B[38;5;66;03m# Mark viewlims as no longer stale without triggering an autoscale.\u001B[39;00m\n\u001B[1;32m-> 3737\u001B[0m \u001B[38;5;28;01mfor\u001B[39;00m ax \u001B[38;5;129;01min\u001B[39;00m \u001B[38;5;28;43mself\u001B[39;49m\u001B[38;5;241;43m.\u001B[39;49m\u001B[43m_shared_axes\u001B[49m\u001B[43m[\u001B[49m\u001B[38;5;124;43m\"\u001B[39;49m\u001B[38;5;124;43mx\u001B[39;49m\u001B[38;5;124;43m\"\u001B[39;49m\u001B[43m]\u001B[49m\u001B[38;5;241;43m.\u001B[39;49m\u001B[43mget_siblings\u001B[49m\u001B[43m(\u001B[49m\u001B[38;5;28;43mself\u001B[39;49m\u001B[43m)\u001B[49m:\n\u001B[0;32m   3738\u001B[0m     ax\u001B[38;5;241m.\u001B[39m_stale_viewlims[\u001B[38;5;124m\"\u001B[39m\u001B[38;5;124mx\u001B[39m\u001B[38;5;124m\"\u001B[39m] \u001B[38;5;241m=\u001B[39m \u001B[38;5;28;01mFalse\u001B[39;00m\n\u001B[0;32m   3739\u001B[0m \u001B[38;5;28;01mif\u001B[39;00m auto \u001B[38;5;129;01mis\u001B[39;00m \u001B[38;5;129;01mnot\u001B[39;00m \u001B[38;5;28;01mNone\u001B[39;00m:\n",
      "File \u001B[1;32m~\\miniconda3\\envs\\tf\\lib\\site-packages\\matplotlib\\cbook\\__init__.py:874\u001B[0m, in \u001B[0;36mGrouper.get_siblings\u001B[1;34m(self, a)\u001B[0m\n\u001B[0;32m    872\u001B[0m \u001B[38;5;28;01mdef\u001B[39;00m \u001B[38;5;21mget_siblings\u001B[39m(\u001B[38;5;28mself\u001B[39m, a):\n\u001B[0;32m    873\u001B[0m     \u001B[38;5;124;03m\"\"\"Return all of the items joined with *a*, including itself.\"\"\"\u001B[39;00m\n\u001B[1;32m--> 874\u001B[0m     \u001B[38;5;28;43mself\u001B[39;49m\u001B[38;5;241;43m.\u001B[39;49m\u001B[43mclean\u001B[49m\u001B[43m(\u001B[49m\u001B[43m)\u001B[49m\n\u001B[0;32m    875\u001B[0m     siblings \u001B[38;5;241m=\u001B[39m \u001B[38;5;28mself\u001B[39m\u001B[38;5;241m.\u001B[39m_mapping\u001B[38;5;241m.\u001B[39mget(weakref\u001B[38;5;241m.\u001B[39mref(a), [weakref\u001B[38;5;241m.\u001B[39mref(a)])\n\u001B[0;32m    876\u001B[0m     \u001B[38;5;28;01mreturn\u001B[39;00m [x() \u001B[38;5;28;01mfor\u001B[39;00m x \u001B[38;5;129;01min\u001B[39;00m siblings]\n",
      "File \u001B[1;32m~\\miniconda3\\envs\\tf\\lib\\site-packages\\matplotlib\\cbook\\__init__.py:826\u001B[0m, in \u001B[0;36mGrouper.clean\u001B[1;34m(self)\u001B[0m\n\u001B[0;32m    824\u001B[0m \u001B[38;5;124;03m\"\"\"Clean dead weak references from the dictionary.\"\"\"\u001B[39;00m\n\u001B[0;32m    825\u001B[0m mapping \u001B[38;5;241m=\u001B[39m \u001B[38;5;28mself\u001B[39m\u001B[38;5;241m.\u001B[39m_mapping\n\u001B[1;32m--> 826\u001B[0m to_drop \u001B[38;5;241m=\u001B[39m [key \u001B[38;5;28;01mfor\u001B[39;00m key \u001B[38;5;129;01min\u001B[39;00m mapping \u001B[38;5;28;01mif\u001B[39;00m key() \u001B[38;5;129;01mis\u001B[39;00m \u001B[38;5;28;01mNone\u001B[39;00m]\n\u001B[0;32m    827\u001B[0m \u001B[38;5;28;01mfor\u001B[39;00m key \u001B[38;5;129;01min\u001B[39;00m to_drop:\n\u001B[0;32m    828\u001B[0m     val \u001B[38;5;241m=\u001B[39m mapping\u001B[38;5;241m.\u001B[39mpop(key)\n",
      "File \u001B[1;32m~\\miniconda3\\envs\\tf\\lib\\site-packages\\matplotlib\\cbook\\__init__.py:826\u001B[0m, in \u001B[0;36m<listcomp>\u001B[1;34m(.0)\u001B[0m\n\u001B[0;32m    824\u001B[0m \u001B[38;5;124;03m\"\"\"Clean dead weak references from the dictionary.\"\"\"\u001B[39;00m\n\u001B[0;32m    825\u001B[0m mapping \u001B[38;5;241m=\u001B[39m \u001B[38;5;28mself\u001B[39m\u001B[38;5;241m.\u001B[39m_mapping\n\u001B[1;32m--> 826\u001B[0m to_drop \u001B[38;5;241m=\u001B[39m [key \u001B[38;5;28;01mfor\u001B[39;00m key \u001B[38;5;129;01min\u001B[39;00m mapping \u001B[38;5;28;01mif\u001B[39;00m \u001B[43mkey\u001B[49m\u001B[43m(\u001B[49m\u001B[43m)\u001B[49m\u001B[43m \u001B[49m\u001B[38;5;129;43;01mis\u001B[39;49;00m\u001B[43m \u001B[49m\u001B[38;5;28;43;01mNone\u001B[39;49;00m]\n\u001B[0;32m    827\u001B[0m \u001B[38;5;28;01mfor\u001B[39;00m key \u001B[38;5;129;01min\u001B[39;00m to_drop:\n\u001B[0;32m    828\u001B[0m     val \u001B[38;5;241m=\u001B[39m mapping\u001B[38;5;241m.\u001B[39mpop(key)\n",
      "\u001B[1;31mKeyboardInterrupt\u001B[0m: "
     ]
    }
   ],
   "source": [
    "# pairplots are only printed on used features\n",
    "if print_pair_plots:\n",
    "    sns.pairplot(df, hue=\"num\", palette=\"tab10\")\n",
    "    plt.savefig('pairplot with hue = num.png')\n",
    "    sns.pairplot(df, hue=\"dataset\", palette=\"tab10\")\n",
    "    plt.savefig('pairplot with dataset = num.png')"
   ],
   "metadata": {
    "collapsed": false,
    "pycharm": {
     "name": "#%%\n",
     "is_executing": true
    }
   }
  },
  {
   "cell_type": "markdown",
   "source": [
    "## Static Analysis"
   ],
   "metadata": {
    "collapsed": false,
    "pycharm": {
     "name": "#%% md\n"
    }
   }
  },
  {
   "cell_type": "code",
   "execution_count": null,
   "outputs": [],
   "source": [
    "# Get the number of entries where the ST Depression was measured at a timepoint that is after than the exercise electrocardiogram\n",
    "print(f\"In {df[df['thaltime'] > df['thaldur']].shape[0]} cases the ST Depression was measured at a timepoint that is after than the exercise electrocardiogram\")"
   ],
   "metadata": {
    "collapsed": false,
    "pycharm": {
     "name": "#%%\n",
     "is_executing": true
    }
   }
  },
  {
   "cell_type": "code",
   "execution_count": null,
   "outputs": [],
   "source": [
    "# Check heart rate for inconsistency\n",
    "print(f\"In {df.loc[df['thalach'] < df['thalrest'],['thalach','thalrest']].shape[0]} cases the maximum heartrate is lower than the resting heartrate\")"
   ],
   "metadata": {
    "collapsed": false,
    "pycharm": {
     "name": "#%%\n",
     "is_executing": true
    }
   }
  },
  {
   "cell_type": "markdown",
   "source": [
    "The resting heart rate (thalrest) can not be lower than the maximum archived heart rate (thalach) because the thalach seems unrealisitc it is set to NaN later on."
   ],
   "metadata": {
    "collapsed": false,
    "pycharm": {
     "name": "#%% md\n"
    }
   }
  },
  {
   "cell_type": "markdown",
   "source": [
    "## Explore how many NaNs and zeros are within one column for each attribute."
   ],
   "metadata": {
    "collapsed": false,
    "pycharm": {
     "name": "#%% md\n"
    }
   }
  },
  {
   "cell_type": "code",
   "execution_count": null,
   "outputs": [],
   "source": [
    "# How many values are 0\n",
    "(df.loc[:, df.columns != 'dataset'].eq(0)).join(df['dataset']).groupby(\"dataset\").sum()"
   ],
   "metadata": {
    "collapsed": false,
    "pycharm": {
     "name": "#%%\n",
     "is_executing": true
    }
   }
  },
  {
   "cell_type": "markdown",
   "source": [
    "The bloodpreasure (trestbps) of 0 needs to be handled.\n",
    "The bloodpreasure (trestbpd) of 0 needs to be handled.\n",
    "The cholesterin (chol) of 0 needs to be handled.\n",
    "The slope 0 is not specified by UCI only 1-3 are valid"
   ],
   "metadata": {
    "collapsed": false,
    "pycharm": {
     "name": "#%% md\n"
    }
   }
  },
  {
   "cell_type": "code",
   "execution_count": null,
   "outputs": [],
   "source": [
    "# How many values are NaN\n",
    "(df.loc[:, df.columns != 'dataset'].isna()).join(df['dataset']).groupby(\"dataset\").sum()"
   ],
   "metadata": {
    "collapsed": false,
    "pycharm": {
     "name": "#%%\n",
     "is_executing": true
    }
   }
  },
  {
   "cell_type": "markdown",
   "source": [
    "## outliers"
   ],
   "metadata": {
    "collapsed": false,
    "pycharm": {
     "name": "#%% md\n"
    }
   }
  },
  {
   "cell_type": "code",
   "execution_count": null,
   "outputs": [],
   "source": [
    "# get a subset of continuous variables\n",
    "df_continous = df[[\"age\",\"trestbps\",\"thaldur\",\"thalach\",\"thalrest\",\"tpeakbps\",\"tpeakbpd\",\"trestbpd\",\"oldpeak\"]]\n",
    "# print unnormalised outlier plot\n",
    "sns.boxplot(x=\"variable\", y=\"value\", data=pd.melt(df_continous))\n",
    "plt.title(\"original values\")\n",
    "sns.set(rc={\"figure.figsize\":(12, 3)})\n",
    "plt.show()\n",
    "# Scale continuous variables to a mean of 0 and standarad deviation of 1\n",
    "sc = StandardScaler()\n",
    "df_continous = sc.fit_transform(df_continous)\n",
    "df_continous = pd.DataFrame(df_continous, columns = [\"age\",\"trestbps\",\"thaldur\",\"thalach\",\"thalrest\",\"tpeakbps\",\"tpeakbpd\",\"trestbpd\",\"oldpeak\"])\n",
    "# print box plot for identifying outliers\n",
    "ax = sns.boxplot(x=\"variable\", y=\"value\", data=pd.melt(df_continous))\n",
    "ax.set(xlabel='', ylabel='normalized value')\n",
    "plt.title(\"data distribution of numerical features\")\n",
    "plt.show()"
   ],
   "metadata": {
    "collapsed": false,
    "pycharm": {
     "name": "#%%\n",
     "is_executing": true
    }
   }
  },
  {
   "cell_type": "markdown",
   "source": [
    "## Correlation\n",
    "### Pearson Correlation for the complete dataset"
   ],
   "metadata": {
    "collapsed": false,
    "pycharm": {
     "name": "#%% md\n"
    }
   }
  },
  {
   "cell_type": "code",
   "execution_count": null,
   "outputs": [],
   "source": [
    "plt.figure(figsize=(15,15))\n",
    "# Compute the correlation matrix\n",
    "corr = df.corr()\n",
    "corr = corr.round(2)\n",
    "# Draw the heatmap with the mask and correct aspect ratio\n",
    "sns.heatmap(corr, cmap=\"coolwarm\", center=0, square=True, linewidths=.5, vmin=-1, vmax=1)\n",
    "plt.show()"
   ],
   "metadata": {
    "collapsed": false,
    "pycharm": {
     "name": "#%%\n",
     "is_executing": true
    }
   }
  },
  {
   "cell_type": "markdown",
   "source": [
    "### Pearson Correlation for evry origin within the dataset"
   ],
   "metadata": {
    "collapsed": false,
    "pycharm": {
     "name": "#%% md\n"
    }
   }
  },
  {
   "cell_type": "code",
   "execution_count": null,
   "outputs": [],
   "source": [
    "for dataset in datasets:\n",
    "    plt.figure(figsize=(15, 15))\n",
    "    # Compute the correlation matrix\n",
    "    corr = df[df['dataset'] == dataset].corr()\n",
    "    corr = corr.round(2)\n",
    "    # Draw the heatmap with the mask and correct aspect ratio\n",
    "    sns.heatmap(corr, cmap=\"coolwarm\", center=0, square=True, linewidths=.5, vmin=-1, vmax=1)\n",
    "    plt.show()\n"
   ],
   "metadata": {
    "collapsed": false,
    "pycharm": {
     "name": "#%%\n",
     "is_executing": true
    }
   }
  },
  {
   "cell_type": "code",
   "execution_count": null,
   "outputs": [],
   "source": [
    "percentage_missing = ((df.isna().sum()/len(df)*100).round(2)).to_dict()\n",
    "test = {}\n",
    "for percentage in np.arange(0,100,1):\n",
    "    missing_vlaues = {key: val for key, val in percentage_missing.items() if val > percentage}\n",
    "    test[percentage] = df.drop([*missing_vlaues.keys()], axis=1).shape + (df.drop([*missing_vlaues.keys()], axis=1).isna().sum().sum(), )"
   ],
   "metadata": {
    "collapsed": false,
    "pycharm": {
     "name": "#%%\n",
     "is_executing": true
    }
   }
  },
  {
   "cell_type": "markdown",
   "source": [
    "### Analyse relevance of correlation\n",
    "A Correlation is assumed to be irrelevant if more than 75% of a column is == NaN"
   ],
   "metadata": {
    "collapsed": false,
    "pycharm": {
     "name": "#%% md\n"
    }
   }
  },
  {
   "cell_type": "code",
   "execution_count": null,
   "outputs": [],
   "source": [
    "df_correlation_relevance = df.copy()\n",
    "# one hot encode features for realistic correlation use dummies for ease of use\n",
    "for feature in ['cp','restecg', 'slope','ca', 'restwm']:\n",
    "    df_correlation_relevance = pd.concat([df_correlation_relevance,pd.get_dummies(df_correlation_relevance[feature], prefix=feature)],axis=1)\n",
    "    df_correlation_relevance.drop([feature],axis=1, inplace=True)\n",
    "# calculate the percentage of missing cells per column\n",
    "percentage_missing = ((df_correlation_relevance.isna().sum()/len(df_correlation_relevance)*100).round(2)).to_dict()"
   ],
   "metadata": {
    "collapsed": false,
    "pycharm": {
     "name": "#%%\n",
     "is_executing": true
    }
   }
  },
  {
   "cell_type": "code",
   "execution_count": null,
   "outputs": [],
   "source": [
    "# extract tuples from df\n",
    "df_correlation_relevance_unstacked = df_correlation_relevance.corr().unstack()\n",
    "df_correlation_relevance_unstacked = df_correlation_relevance_unstacked.reset_index()\n",
    "df_correlation_relevance_unstacked.columns = [\"feature1\",\"feature2\",\"correlation\"]\n",
    "#remove duplicates and correlation between the same feature\n",
    "df_correlation_relevance_unstacked = df_correlation_relevance_unstacked[df_correlation_relevance_unstacked['feature1'] < df_correlation_relevance_unstacked['feature2']]\n",
    "# Add the percentage missing to the correlation df_correlation_relevance_unstacked\n",
    "df_correlation_relevance_unstacked['percentage_missing_feature1'] = [percentage_missing[x] for x in df_correlation_relevance_unstacked['feature1']]\n",
    "df_correlation_relevance_unstacked['percentage_missing_feature2'] = [percentage_missing[x] for x in df_correlation_relevance_unstacked['feature2']]\n",
    "# generate absolute correlation for sorting\n",
    "df_correlation_relevance_unstacked['abs_corr'] = abs(df_correlation_relevance_unstacked['correlation'])\n",
    "# drop rows where at least one feature has more than 75% missing values or the correlation is smaller than 0.5 (irrelevant)\n",
    "df_correlation_relevance_unstacked = df_correlation_relevance_unstacked[(df_correlation_relevance_unstacked[\"abs_corr\"] > 0.5) & (df_correlation_relevance_unstacked['percentage_missing_feature1'] < 75) & (df_correlation_relevance_unstacked['percentage_missing_feature2'] < 75)]\n",
    "# sort according to the absolute correlation and display\n",
    "df_correlation_relevance_unstacked =df_correlation_relevance_unstacked.sort_values(by=\"abs_corr\", ascending=False)\n",
    "display(df_correlation_relevance_unstacked)"
   ],
   "metadata": {
    "collapsed": false,
    "pycharm": {
     "name": "#%%\n",
     "is_executing": true
    }
   }
  },
  {
   "cell_type": "markdown",
   "source": [
    "## Effect of enriching the smoke feature"
   ],
   "metadata": {
    "collapsed": false,
    "pycharm": {
     "name": "#%% md\n"
    }
   }
  },
  {
   "cell_type": "code",
   "execution_count": null,
   "outputs": [],
   "source": [
    "def enrich_smoke(input_df):\n",
    "    # we do not enrich smoke if cigs and years are conflicting\n",
    "\n",
    "    # set all values of smoke that are NaN to 0 if the value of years is 0 and smoke does not indicate that the person smokes\n",
    "    input_df.loc[(input_df['smoke'].isna()) & (input_df['years'] == 0) & ~(input_df['cigs'] > 0),'smoke'] = 0\n",
    "    # set all values of smoke that are NaN to 1 if the value of years is larger than 0 and smoke does not indicate that the person does not smoke\n",
    "    input_df.loc[(input_df['smoke'].isna()) & (input_df['years'] > 0) & (input_df['cigs'] != 0),'smoke'] = 1\n",
    "\n",
    "    # set all values of smoke that are NaN to 0 if the value of smoke is 0 and years does not indicate that the person smokes\n",
    "    input_df.loc[(input_df['smoke'].isna()) & (input_df['cigs'] == 0) & ~(input_df['years'] > 0),'smoke'] = 0\n",
    "    # set all values of smoke that are NaN to 1 if the value of cigs is larger than 0 and years does not indicate that the person does not smoke\n",
    "    input_df.loc[(input_df['smoke'].isna()) & (input_df['cigs'] > 0) & (input_df['years'] != 0),'smoke'] = 1\n",
    "    return input_df\n",
    "# calculate the percentage of missing values for smoke before enriching it\n",
    "percentage_missing_pre = ((df[\"smoke\"].isna().sum() / len(df) * 100).round(2))\n",
    "df_enriched_smoke = enrich_smoke(df)\n",
    "# calculate the percentage of missing values for smoke after enriching it\n",
    "percentage_missing_post = ((df_enriched_smoke[\"smoke\"].isna().sum() / len(df) * 100).round(2))\n",
    "print(f\"{percentage_missing_pre}% missing before enrichment\")\n",
    "print(f\"{percentage_missing_post}% missing after enrichment:\")"
   ],
   "metadata": {
    "collapsed": false,
    "pycharm": {
     "name": "#%%\n",
     "is_executing": true
    }
   }
  },
  {
   "cell_type": "markdown",
   "source": [
    "The columns used for the enrichment are kept in the df because they provide a more detailed description of the smoking behaviour."
   ],
   "metadata": {
    "collapsed": false,
    "pycharm": {
     "name": "#%% md\n"
    }
   }
  },
  {
   "cell_type": "markdown",
   "source": [
    "## Minimum percentage to be dropped\n",
    "Minimum percentage to be dropped defines a threashold at wich a column is dopped when it has more than minimumPercentageToBeDropped missing features"
   ],
   "metadata": {
    "collapsed": false,
    "pycharm": {
     "name": "#%% md\n"
    }
   }
  },
  {
   "cell_type": "code",
   "execution_count": null,
   "outputs": [],
   "source": [
    "df.shape"
   ],
   "metadata": {
    "collapsed": false,
    "pycharm": {
     "name": "#%%\n",
     "is_executing": true
    }
   }
  },
  {
   "cell_type": "code",
   "execution_count": null,
   "outputs": [],
   "source": [
    "percentage_missing = ((df.isna().sum()/len(df)*100).round(2)).to_dict()\n",
    "# create a datafram containing the number of rows, number of columns and number of imputed cells for different minimum percentage to be dropped\n",
    "df_minimum_percentage_to_be_dropped = {}\n",
    "# iterate over different percentages\n",
    "for percentage in np.arange(0,100,1):\n",
    "    missing_vlaues = {key: val for key, val in percentage_missing.items() if val > percentage}\n",
    "    # get the number of rows and columns by extracting the shape after dropping. Append the number of imputed cells.\n",
    "    df_minimum_percentage_to_be_dropped[percentage] = [*df.drop([*missing_vlaues.keys()], axis=1).shape, (df.drop([*missing_vlaues.keys()], axis=1).isna().sum().sum())]\n",
    "# create df\n",
    "df_minimum_percentage_to_be_dropped = pd.DataFrame.from_dict(df_minimum_percentage_to_be_dropped).transpose()\n",
    "df_minimum_percentage_to_be_dropped.columns = [\"number of rows\", \"number of columns\", \"number of imputed cells\"]"
   ],
   "metadata": {
    "collapsed": false,
    "pycharm": {
     "name": "#%%\n",
     "is_executing": true
    }
   }
  },
  {
   "cell_type": "code",
   "execution_count": null,
   "outputs": [],
   "source": [
    "# generate plot showing the development of the number of imputed cells and number of remaining features over different minimumPercentageToBeDropped\n",
    "# generate figure\n",
    "fig, ax = plt.subplots(1)\n",
    "ax2 = ax.twinx()\n",
    "# generate line plots\n",
    "lns1 = ax.plot(df_minimum_percentage_to_be_dropped.index, df_minimum_percentage_to_be_dropped[\"number of imputed cells\"], '-o', label = 'number of imputed cells', color = 'orange')\n",
    "lns2 = ax2.plot(df_minimum_percentage_to_be_dropped.index, df_minimum_percentage_to_be_dropped[\"number of columns\"], '-o', label = 'number of features')\n",
    "# label axis\n",
    "ax.set_xlabel('minimumPercentageMissingToBeDropped')\n",
    "ax.set_ylabel('number of imputed cells')\n",
    "ax2.set_ylabel('number of features')\n",
    "plt.grid()\n",
    "# add legend\n",
    "lns = lns1 + lns2\n",
    "labs = [l.get_label() for l in lns]\n",
    "legend = ax.legend(lns, labs, loc=2, bbox_to_anchor=(0,1))\n",
    "plt.show()"
   ],
   "metadata": {
    "collapsed": false,
    "pycharm": {
     "name": "#%%\n",
     "is_executing": true
    }
   }
  },
  {
   "cell_type": "code",
   "execution_count": null,
   "outputs": [],
   "source": [
    "# generate plot showing the development of the number of imputed cells and number of remaining features over different minimumPercentageToBeDropped. Mark the used thresholds by vertical lines.\n",
    "# generate figure\n",
    "fig, ax = plt.subplots(1)\n",
    "ax2 = ax.twinx()\n",
    "# generate line plots\n",
    "lns1 = ax.plot(df_minimum_percentage_to_be_dropped.index, df_minimum_percentage_to_be_dropped[\"number of imputed cells\"], '-o', label = 'number of imputed cells', color = 'orange')\n",
    "lns2 = ax2.plot(df_minimum_percentage_to_be_dropped.index, df_minimum_percentage_to_be_dropped[\"number of columns\"], '-o', label = 'number of features')\n",
    "#add decided thresholds\n",
    "thresholds = [0,4,8,20,35,60,75,100]\n",
    "for threshold in thresholds:\n",
    "    ax.vlines(threshold,0,9300,color=\"#ef9494\")\n",
    "# label axis\n",
    "ax.set_xlabel('minimumPercentageMissingToBeDropped')\n",
    "ax.set_ylabel('number of imputed cells')\n",
    "ax2.set_ylabel('number of features')\n",
    "plt.grid()\n",
    "# add legend\n",
    "lns = lns1 + lns2\n",
    "labs = [l.get_label() for l in lns]\n",
    "handles, labels = ax.get_legend_handles_labels()\n",
    "lns.append(Line2D([0],[0],markersize=10,color='#ef9494',label='thresholds'))\n",
    "labs.append(\"used thresholds\")\n",
    "legend = ax.legend(lns, labs, loc=2, bbox_to_anchor=(0,1))\n",
    "plt.show()"
   ],
   "metadata": {
    "collapsed": false,
    "pycharm": {
     "name": "#%%\n",
     "is_executing": true
    }
   }
  },
  {
   "cell_type": "markdown",
   "source": [
    "# Model visualisation"
   ],
   "metadata": {
    "collapsed": false,
    "pycharm": {
     "name": "#%% md\n"
    }
   }
  },
  {
   "cell_type": "code",
   "execution_count": null,
   "outputs": [],
   "source": [
    "class DataframeSmokeTransformer:\n",
    "    def transform(self, input_df, **transform_params):\n",
    "        # we do not enrich smoke if cigs and years are conflicting\n",
    "\n",
    "        # set all values of smoke that are NaN to 0 if the value of years is 0 and smoke does not indicate that the person smokes\n",
    "        input_df.loc[(input_df['smoke'].isna()) & (input_df['years'] == 0) & ~(input_df['cigs'] > 0),'smoke'] = 0\n",
    "        # set all values of smoke that are NaN to 1 if the value of years is larger than 0 and smoke does not indicate that the person does not smoke\n",
    "        input_df.loc[(input_df['smoke'].isna()) & (input_df['years'] > 0) & (input_df['cigs'] != 0),'smoke'] = 1\n",
    "\n",
    "        # set all values of smoke that are NaN to 0 if the value of smoke is 0 and years does not indicate that the person smokes\n",
    "        input_df.loc[(input_df['smoke'].isna()) & (input_df['cigs'] == 0) & ~(input_df['years'] > 0),'smoke'] = 0\n",
    "        # set all values of smoke that are NaN to 1 if the value of cigs is larger than 0 and years does not indicate that the person does not smoke\n",
    "        input_df.loc[(input_df['smoke'].isna()) & (input_df['cigs'] > 0) & (input_df['years'] != 0),'smoke'] = 1\n",
    "        return input_df\n",
    "    def fit(self, X, y=None, **fit_params):\n",
    "        # there is nothing to be fitted here because this handling is not split specific\n",
    "        return self"
   ],
   "metadata": {
    "collapsed": false,
    "pycharm": {
     "name": "#%%\n",
     "is_executing": true
    }
   }
  },
  {
   "cell_type": "code",
   "execution_count": null,
   "outputs": [],
   "source": [
    "class EnrichHeartData:\n",
    "    def transform(self, input_df, **transform_params):\n",
    "        input_df[\"heart_rate_diff\"] = input_df['thalach'] - input_df['thalrest']\n",
    "        input_df[\"rldv5_diff\"] = input_df['rldv5'] - input_df['rldv5e']\n",
    "        return input_df\n",
    "\n",
    "    def fit(self, X, y=None, **fit_params):\n",
    "        return self"
   ],
   "metadata": {
    "collapsed": false,
    "pycharm": {
     "name": "#%%\n",
     "is_executing": true
    }
   }
  },
  {
   "cell_type": "code",
   "execution_count": null,
   "outputs": [],
   "source": [
    "from sklearn.exceptions import NotFittedError\n",
    "\n",
    "\n",
    "class DropColumnsBasedOnMinimumPercentageToBeDropped:\n",
    "    def __init__(self):\n",
    "        self.minimum_percentage_to_be_dropped = 100\n",
    "        self.fitted = False\n",
    "        self.valuesToKeep = []\n",
    "\n",
    "    def set_params(self, **params):\n",
    "        self.minimum_percentage_to_be_dropped = params.get('minimum_percentage_to_be_dropped')\n",
    "\n",
    "    def transform(self, input_df, **transform_params):\n",
    "        if self.fitted:\n",
    "            return input_df[input_df.columns.intersection(self.valuesToKeep)]\n",
    "        else:\n",
    "            raise NotFittedError()\n",
    "\n",
    "    def fit(self, X, y=None, **fit_params):\n",
    "        # calculate percentage of missing values for each column and store in a dictionary\n",
    "        percentage_missing = (X.isna().sum()/len(df)*100).to_dict()\n",
    "        # generate list of columns to keep\n",
    "        self.valuesToKeep = [key for key, val in percentage_missing.items() if val <= self.minimum_percentage_to_be_dropped]\n",
    "        self.fitted = True\n",
    "        return self"
   ],
   "metadata": {
    "collapsed": false,
    "pycharm": {
     "name": "#%%\n",
     "is_executing": true
    }
   }
  },
  {
   "cell_type": "code",
   "execution_count": null,
   "outputs": [],
   "source": [
    "class FixCommonEncodingErrors:\n",
    "    def transform(self, input_df, **transform_params):\n",
    "        input_df = input_df.copy(deep=True)\n",
    "        # if cholesterin is 0 it was not measured\n",
    "        input_df.loc[input_df['chol'] == 0,'chol'] =  np.float64(\"NaN\")\n",
    "        # leave the dead ones behind\n",
    "        # drop entries with a blood pressure of 0\n",
    "        input_df.loc[input_df['trestbps'] == 0,'trestbps'] =  np.float64(\"NaN\")\n",
    "        # is a binary variable (wrong measurement was detected in Pandas Profiling Report)\n",
    "        input_df.loc[df['prop'].isin([0,1]) == False,'prop' ] = np.float64(\"NaN\")\n",
    "        # is a variable that has the values 0-3 by definition  (wrong measurement was detected in Pandas Profiling Report)\n",
    "        input_df.loc[input_df['ca'] >3 ,'ca'] =  np.float64(\"NaN\")\n",
    "        # transform proto according to possible values from data/ask-detrano\n",
    "        input_df.loc[input_df['proto'] == 200,'proto'] =  9\n",
    "        input_df.loc[input_df['proto'] == 175,'proto'] =  8\n",
    "        input_df.loc[input_df['proto'] == 150,'proto'] =  7\n",
    "        input_df.loc[input_df['proto'] == 130,'proto'] =  6\n",
    "        input_df.loc[input_df['proto'] == 125,'proto'] =  5\n",
    "        input_df.loc[input_df['proto'] == 100,'proto'] = 4\n",
    "        input_df.loc[input_df['proto'] == 75,'proto'] = 3\n",
    "        input_df.loc[input_df['proto'] == 50,'proto'] = 2\n",
    "        input_df.loc[input_df['proto'] == 25,'proto'] = 1\n",
    "        #set all other values to NaN\n",
    "        input_df.loc[input_df['proto'].isin([*range(1,13)]) == False, 'proto'] = np.float64(\"NaN\")\n",
    "        # the timepoint when the measurement was taken can not be larger than the time that the exercise took.\n",
    "        input_df.loc[df['thaltime'] > df['thaldur'], 'thaltime'] = np.float64('NaN')\n",
    "        # maximum archived heart rate can not  be lower than the heart rate at rest\n",
    "        input_df.loc[input_df['thalach'] < input_df['thalrest'],'thalach'] = np.float64('NaN')\n",
    "\n",
    "        return input_df\n",
    "    def fit(self, X, y=None, **fit_params):\n",
    "        return self"
   ],
   "metadata": {
    "collapsed": false,
    "pycharm": {
     "name": "#%%\n",
     "is_executing": true
    }
   }
  },
  {
   "cell_type": "code",
   "execution_count": null,
   "outputs": [],
   "source": [
    "df.loc[df[\"num\"]>1,'num'] = 1"
   ],
   "metadata": {
    "collapsed": false,
    "pycharm": {
     "name": "#%%\n",
     "is_executing": true
    }
   }
  },
  {
   "cell_type": "code",
   "execution_count": null,
   "outputs": [],
   "source": [
    "from sklearn.preprocessing import KBinsDiscretizer, OneHotEncoder\n",
    "from sklearn.compose import ColumnTransformer\n",
    "from sklearn.tree import DecisionTreeClassifier\n",
    "from imblearn.under_sampling import RandomUnderSampler\n",
    "from sklearn.impute import SimpleImputer\n",
    "from imblearn.pipeline import Pipeline\n",
    "one_hot_encoded_features = ['cp','restecg', 'slope','ca', 'restwm']\n",
    "X = df.loc[:,(df.columns!= 'num') & (df.columns != 'dataset') ].copy(deep=True)\n",
    "y = df.loc[: , (df.columns== 'num')].values.ravel().copy()\n",
    "oneHotEncoder = ColumnTransformer(\n",
    "    transformers=[\n",
    "        ('discretize', KBinsDiscretizer(strategy='ordinal'), ['age']),\n",
    "        ('oneHotEncoder', OneHotEncoder(handle_unknown='ignore'), lambda X : [value for value in one_hot_encoded_features if value in X.columns]),\n",
    "    ], remainder='passthrough')\n",
    "pipeline = Pipeline(steps=[\n",
    "    ('fix_encoding_errors', FixCommonEncodingErrors()),\n",
    "    ('transform_smoke', DataframeSmokeTransformer()),\n",
    "    ('enrich_heart_rate', EnrichHeartData()),\n",
    "    ('drop_columns', DropColumnsBasedOnMinimumPercentageToBeDropped()),\n",
    "    ('oneHotEncoder', oneHotEncoder),\n",
    "    ('impute', SimpleImputer()),\n",
    "    ('scaler', 'passthrough'),\n",
    "    ('sampler', 'passthrough'),\n",
    "    ('estimator', DecisionTreeClassifier())\n",
    "])\n",
    "parameters = {\n",
    "    'drop_columns__minimum_percentage_to_be_dropped' : 0,\n",
    "    'estimator__criterion': \"gini\",\n",
    "    'estimator__max_depth': None,\n",
    "    'estimator__min_samples_split': 2,\n",
    "    'impute__strategy':'mean',\n",
    "    'oneHotEncoder__discretize': KBinsDiscretizer(2,encode='ordinal', strategy='uniform')\n",
    "}\n",
    "pipeline.set_params(**parameters)\n",
    "pipeline.fit(X,y)"
   ],
   "metadata": {
    "collapsed": false,
    "pycharm": {
     "name": "#%%\n",
     "is_executing": true
    }
   }
  },
  {
   "cell_type": "code",
   "execution_count": null,
   "outputs": [],
   "source": [
    "decision_tree = pipeline['estimator']"
   ],
   "metadata": {
    "collapsed": false,
    "pycharm": {
     "name": "#%%\n",
     "is_executing": true
    }
   }
  },
  {
   "cell_type": "code",
   "execution_count": null,
   "outputs": [],
   "source": [
    "from sklearn import tree\n",
    "\n",
    "fig = plt.figure(figsize=(25,20))\n",
    "_ = tree.plot_tree(decision_tree)\n"
   ],
   "metadata": {
    "collapsed": false,
    "pycharm": {
     "name": "#%%\n",
     "is_executing": true
    }
   }
  },
  {
   "cell_type": "code",
   "execution_count": null,
   "outputs": [],
   "source": [
    "X = df.loc[:,(df.columns!= 'num') & (df.columns != 'dataset') ].copy(deep=True)\n",
    "y = df.loc[: , (df.columns== 'num')].values.ravel().copy()\n",
    "X_transformed = X.copy(deep=True)\n",
    "X_transformed = FixCommonEncodingErrors().transform(X_transformed)\n",
    "X_transformed = DataframeSmokeTransformer().transform(X_transformed)\n",
    "X_transformed = EnrichHeartData().transform(X_transformed)\n",
    "columnDropper = DropColumnsBasedOnMinimumPercentageToBeDropped()\n",
    "columnDropper.set_params(**{'minimum_percentage_to_be_dropped':0})\n",
    "columnDropper.fit(X)\n",
    "X_transformed = columnDropper.transform(X_transformed)\n",
    "# discretizer =  KBinsDiscretizer(2,encode='ordinal', strategy='uniform')\n",
    "# X_transformed['age'] = discretizer.fit_transform(X_transformed['age'].to_numpy().reshape(-1, 1))\n",
    "# oneHotEncoder = OneHotEncoder(handle_unknown='ignore')\n",
    "# one_hot_encoded_features = [value for value in one_hot_encoded_features if value in X_transformed.columns]\n",
    "# encoded = pd.DataFrame(oneHotEncoder.fit_transform(X_transformed[one_hot_encoded_features]).toarray(), columns=oneHotEncoder.get_feature_names(one_hot_encoded_features))\n",
    "# X_transformed = X_transformed.drop(columns=one_hot_encoded_features)\n",
    "# X_transformed = X_transformed.join(encoded)\n",
    "# imputer = SimpleImputer(strategy='mean')\n",
    "# X_transformed = pd.DataFrame(imputer.fit_transform(X_transformed), columns=imputer.get_feature_names_out())\n",
    "# scaler = MaxAbsScaler()\n",
    "# X_transformed = pd.DataFrame(scaler.fit_transform(X_transformed), columns=scaler.get_feature_names_out())\n",
    "# sampler = RandomUnderSampler(random_state=42)\n",
    "# X_transformed, y = sampler.fit_resample(X_transformed,y)\n",
    "decisionTreeClassifier = DecisionTreeClassifier(criterion='entropy', max_depth=3, min_samples_split=2)\n",
    "decisionTreeClassifier = decisionTreeClassifier.fit(X_transformed,y)"
   ],
   "metadata": {
    "collapsed": false,
    "pycharm": {
     "name": "#%%\n",
     "is_executing": true
    }
   }
  },
  {
   "cell_type": "code",
   "execution_count": null,
   "outputs": [],
   "source": [
    "from dtreeviz.trees import dtreeviz # remember to load the package\n",
    "\n",
    "viz = dtreeviz(decisionTreeClassifier, X_transformed, y,\n",
    "               target_name=\"heart disease\",\n",
    "               feature_names=X_transformed.columns,\n",
    "               class_names=['No','Yes']\n",
    "               )\n",
    "viz"
   ],
   "metadata": {
    "collapsed": false,
    "pycharm": {
     "name": "#%%\n",
     "is_executing": true
    }
   }
  },
  {
   "cell_type": "code",
   "execution_count": null,
   "outputs": [],
   "source": [
    "from dtreeviz.trees import dtreeviz # remember to load the package\n",
    "\n",
    "viz = dtreeviz(decisionTreeClassifier, X_transformed, y,\n",
    "               target_name=\"heart disease\",\n",
    "               feature_names=X_transformed.columns,\n",
    "               class_names=['No','Yes']\n",
    "               )\n",
    "\n",
    "viz\n"
   ],
   "metadata": {
    "collapsed": false,
    "pycharm": {
     "name": "#%%\n",
     "is_executing": true
    }
   }
  },
  {
   "cell_type": "code",
   "execution_count": null,
   "outputs": [],
   "source": [
    "from sklearn.neighbors import KNeighborsClassifier\n",
    "X = df.loc[:,(df.columns!= 'num') & (df.columns != 'dataset') ].copy(deep=True)\n",
    "y = df.loc[: , (df.columns== 'num')].values.ravel().copy()\n",
    "X_transformed = X.copy(deep=True)\n",
    "X_transformed = FixCommonEncodingErrors().transform(X_transformed)\n",
    "X_transformed = DataframeSmokeTransformer().transform(X_transformed)\n",
    "X_transformed = EnrichHeartData().transform(X_transformed)\n",
    "columnDropper = DropColumnsBasedOnMinimumPercentageToBeDropped()\n",
    "columnDropper.set_params(**{'minimum_percentage_to_be_dropped':0})\n",
    "columnDropper.fit(X)\n",
    "X_transformed = columnDropper.transform(X_transformed)\n",
    "discretizer =  KBinsDiscretizer(2,encode='ordinal', strategy='uniform')\n",
    "X_transformed['age'] = discretizer.fit_transform(X_transformed['age'].to_numpy().reshape(-1, 1))\n",
    "# oneHotEncoder = OneHotEncoder(handle_unknown='ignore')\n",
    "# one_hot_encoded_features = [value for value in one_hot_encoded_features if value in X_transformed.columns]\n",
    "# encoded = pd.DataFrame(oneHotEncoder.fit_transform(X_transformed[one_hot_encoded_features]).toarray(), columns=oneHotEncoder.get_feature_names(one_hot_encoded_features))\n",
    "# X_transformed = X_transformed.drop(columns=one_hot_encoded_features)\n",
    "# X_transformed = X_transformed.join(encoded)\n",
    "imputer = SimpleImputer(strategy='mean')\n",
    "X_transformed = pd.DataFrame(imputer.fit_transform(X_transformed), columns=imputer.get_feature_names_out())\n",
    "# scaler = MaxAbsScaler()\n",
    "# X_transformed = pd.DataFrame(scaler.fit_transform(X_transformed), columns=scaler.get_feature_names_out())\n",
    "# sampler = RandomUnderSampler(random_state=42)\n",
    "# X_transformed, y = sampler.fit_resample(X_transformed,y)\n",
    "kNeighborsClassifier = KNeighborsClassifier(n_neighbors=82,p=1, weights='distance')\n",
    "kNeighborsClassifier = kNeighborsClassifier.fit(X_transformed,y)"
   ],
   "metadata": {
    "collapsed": false,
    "pycharm": {
     "name": "#%%\n",
     "is_executing": true
    }
   }
  },
  {
   "cell_type": "code",
   "execution_count": null,
   "outputs": [],
   "source": [
    "import re, seaborn as sns\n",
    "import numpy as np\n",
    "\n",
    "from matplotlib import pyplot as plt\n",
    "from mpl_toolkits.mplot3d import Axes3D\n",
    "from matplotlib.colors import ListedColormap\n",
    "target = df.loc[: , (df.columns== 'num')].values.ravel().copy()\n",
    "# generate data\n",
    "n = 200\n",
    "x = X_transformed['age']\n",
    "y = X_transformed['cp']\n",
    "z = X_transformed['sex']\n",
    "\n",
    "# axes instance\n",
    "fig = plt.figure(figsize=(6,6))\n",
    "ax = Axes3D(fig, auto_add_to_figure=False)\n",
    "fig.add_axes(ax)\n",
    "\n",
    "# get colormap from seaborn\n",
    "cmap = ListedColormap(sns.color_palette('rainbow').as_hex())\n",
    "\n",
    "# plot\n",
    "sc = ax.scatter(x, y, z, s=40, c=target, marker='o', cmap=cmap, alpha=0.3)\n",
    "ax.set_xlabel('age')\n",
    "ax.set_ylabel('cp')\n",
    "ax.set_zlabel('sex')\n",
    "\n",
    "# legend\n",
    "plt.legend(*sc.legend_elements(), bbox_to_anchor=(1.05, 1), loc=2)\n",
    "\n",
    "\n",
    "#give the labels to each point\n",
    "for x_label, y_label, z_label in zip(x, y, z):\n",
    "    label = X_transformed[X_transformed['age'] == x & X_transformed['cp'] == y & X_transformed['sex'] == z]\n",
    "    ax3d.text(x, y, z, label)\n",
    "# save\n",
    "plt.savefig(\"scatter_hue\", bbox_inches='tight')"
   ],
   "metadata": {
    "collapsed": false,
    "pycharm": {
     "name": "#%%\n",
     "is_executing": true
    }
   }
  },
  {
   "cell_type": "code",
   "execution_count": null,
   "outputs": [],
   "source": [
    "import re, seaborn as sns\n",
    "import numpy as np\n",
    "\n",
    "from matplotlib import pyplot as plt\n",
    "from mpl_toolkits.mplot3d import Axes3D\n",
    "from matplotlib.colors import ListedColormap\n",
    "target = df.loc[: , (df.columns== 'num')].values.ravel().copy()\n",
    "# generate data\n",
    "x = X_transformed['age']\n",
    "y = X_transformed['cp']\n",
    "z = X_transformed['sex']\n",
    "\n",
    "# axes instance\n",
    "ax3d = plt.figure(figsize=(6,6)).gca(projection='3d')\n",
    "\n",
    "# get colormap from seaborn\n",
    "cmap = ListedColormap(sns.color_palette('rainbow').as_hex())\n",
    "\n",
    "# legend\n",
    "plt.legend(*sc.legend_elements(), bbox_to_anchor=(1.05, 1), loc=2)\n",
    "\n",
    "# plot\n",
    "ax3d.scatter(x, y, z, s=40, c=target, marker='o', cmap=cmap, alpha=0.3)\n",
    "ax3d.set_xlabel('age')\n",
    "ax3d.set_ylabel('cp')\n",
    "ax3d.set_zlabel('sex')\n",
    "\n",
    "\n",
    "X_transformed['num'] = target\n",
    "\n",
    "for index, row in X_transformed.groupby(['sex', 'cp','age']).count().reset_index().iterrows():\n",
    "    ax3d.text(row['age'], row['cp'], row['sex'], int(row['num']))\n",
    "\n",
    "plt.show()"
   ],
   "metadata": {
    "collapsed": false,
    "pycharm": {
     "name": "#%%\n",
     "is_executing": true
    }
   }
  },
  {
   "cell_type": "code",
   "execution_count": null,
   "outputs": [],
   "source": [
    "X['age'].describe()"
   ],
   "metadata": {
    "collapsed": false,
    "pycharm": {
     "name": "#%%\n",
     "is_executing": true
    }
   }
  },
  {
   "cell_type": "code",
   "execution_count": null,
   "outputs": [],
   "source": [
    "for current_x, current_y, current_z in zip(x, y, z):\n",
    "    print(current_x, current_y, current_z)"
   ],
   "metadata": {
    "collapsed": false,
    "pycharm": {
     "name": "#%%\n",
     "is_executing": true
    }
   }
  },
  {
   "cell_type": "code",
   "execution_count": null,
   "outputs": [],
   "source": [],
   "metadata": {
    "collapsed": false,
    "pycharm": {
     "name": "#%%\n",
     "is_executing": true
    }
   }
  },
  {
   "cell_type": "code",
   "execution_count": null,
   "metadata": {
    "collapsed": false,
    "pycharm": {
     "name": "#%%\n",
     "is_executing": true
    }
   },
   "outputs": [],
   "source": [
    "unstacked_corr = df_corr.corr().unstack()\n",
    "#remove duplicate pairs\n",
    "#index = pd.MultiIndex.from_tuples(tuples)\n",
    "unstacked_corr = unstacked_corr.reset_index()\n",
    "unstacked_corr.columns = [\"feature1\",\"feature2\",\"correlation\"]\n",
    "#remove duplicates and correlation between the same feature\n",
    "unstacked_corr = unstacked_corr[unstacked_corr['feature1'] < unstacked_corr['feature2']]\n",
    "unstacked_corr['NaN_Values_feature1'] = [percentage_missing[x] for x in unstacked_corr['feature1']]\n",
    "unstacked_corr['NaN_Values_feature2'] = [percentage_missing[x] for x in unstacked_corr['feature2']]\n",
    "unstacked_corr['abs_corr'] = abs(unstacked_corr['correlation'])\n",
    "unstacked_corr = unstacked_corr[(abs(unstacked_corr[\"correlation\"]) > 0.5) & (unstacked_corr['NaN_Values_feature1'] < 75) & (unstacked_corr['NaN_Values_feature2'] < 75)].sort_values(by=\"abs_corr\", ascending=False)\n",
    "unstacked_corr.drop([\"abs_corr\"], inplace=True, axis=1)\n",
    "print(unstacked_corr)"
   ]
  },
  {
   "cell_type": "code",
   "execution_count": null,
   "metadata": {
    "collapsed": false,
    "pycharm": {
     "name": "#%%\n",
     "is_executing": true
    }
   },
   "outputs": [],
   "source": [
    "cp_4VSpainexer = pd.crosstab(df_corr['cp_4'], df_corr['painexer'], rownames=['cp_4'], colnames=['painexer'])\n",
    "cpVSpainexer = pd.crosstab(df['cp'], df['painexer'], rownames=['cp_4'], colnames=['painexer'])\n",
    "print(cp_4VSpainexer)\n",
    "print(\"------------------------------------\")\n",
    "print(cpVSpainexer)"
   ]
  },
  {
   "cell_type": "markdown",
   "metadata": {
    "collapsed": false,
    "pycharm": {
     "name": "#%% md\n"
    }
   },
   "source": [
    "## PairPlots"
   ]
  },
  {
   "cell_type": "markdown",
   "metadata": {
    "collapsed": false,
    "pycharm": {
     "name": "#%% md\n"
    }
   },
   "source": [
    "# minimumPercentageToBeDropped"
   ]
  },
  {
   "cell_type": "code",
   "execution_count": null,
   "metadata": {
    "collapsed": false,
    "pycharm": {
     "name": "#%%\n",
     "is_executing": true
    }
   },
   "outputs": [],
   "source": [
    "print_pair_plots = False #was missing\n",
    "if print_pair_plots:\n",
    "    sns.pairplot(df, hue=\"num\", palette=\"tab10\")\n",
    "if print_pair_plots:\n",
    "    sns.pairplot(df, hue=\"dataset\", palette=\"tab10\")"
   ]
  },
  {
   "cell_type": "code",
   "execution_count": null,
   "metadata": {
    "collapsed": false,
    "pycharm": {
     "name": "#%%\n",
     "is_executing": true
    }
   },
   "outputs": [],
   "source": [
    "test = pd.DataFrame.from_dict(test).transpose()\n",
    "test.columns = [\"rows\", \"columns\", \"number of imputed cells\"]"
   ]
  },
  {
   "cell_type": "code",
   "execution_count": null,
   "metadata": {
    "pycharm": {
     "name": "#%%\n",
     "is_executing": true
    }
   },
   "outputs": [],
   "source": [
    "from matplotlib.lines import Line2D\n",
    "fig, ax = plt.subplots(1)\n",
    "ax.grid()\n",
    "#add decided thresholds\n",
    "thresholds = [0,4,8,20,35,60,75,100]\n",
    "for threshold in thresholds:\n",
    "    ax.vlines(threshold,0,80000,color=\"#ef9494\")\n",
    "\n",
    "lns1 = ax.plot(test.index, test[\"number of imputed cells\"], '-o', label = 'number of imputed cells', color = 'orange')\n",
    "ax2 = ax.twinx()\n",
    "lns2 = ax2.plot(test.index, test[\"columns\"], '-o', label = 'n features')\n",
    "\n",
    "ax.set_xlabel('minimumPercentageMissingToBeDropped')\n",
    "ax.set_ylabel('number of imputed cells')\n",
    "ax2.set_ylabel('n features')\n",
    "\n",
    "\n",
    "# added these three lines\n",
    "lns = lns1 + lns2\n",
    "labs = [l.get_label() for l in lns]\n",
    "\n",
    "handles, labels = ax.get_legend_handles_labels()\n",
    "lns.append(Line2D([0],[0],markersize=10,color='#ef9494',label='thresholds'))\n",
    "labs.append(\"Color Patch\")\n",
    "\n",
    "legend = ax.legend(lns, labs, loc=2, bbox_to_anchor=(0,1))\n",
    "\n",
    "plt.show()"
   ]
  },
  {
   "cell_type": "code",
   "execution_count": null,
   "metadata": {
    "collapsed": false,
    "pycharm": {
     "name": "#%%\n",
     "is_executing": true
    }
   },
   "outputs": [],
   "source": [
    "from matplotlib.lines import Line2D\n",
    "fig, ax = plt.subplots(1)\n",
    "ax.grid()\n",
    "lns1 = ax.plot(test.index, test[\"number of imputed cells\"], '-o', label = 'number of imputed cells', color = 'orange')\n",
    "ax2 = ax.twinx()\n",
    "lns2 = ax2.plot(test.index, test[\"columns\"], '-o', label = 'n features')\n",
    "\n",
    "ax.set_xlabel('minimumPercentageMissingToBeDropped')\n",
    "ax.set_ylabel('number of imputed cells')\n",
    "ax2.set_ylabel('n features')\n",
    "\n",
    "\n",
    "# added these three lines\n",
    "lns = lns1 + lns2\n",
    "labs = [l.get_label() for l in lns]\n",
    "legend = ax.legend(lns, labs, loc=2, bbox_to_anchor=(0,1))\n",
    "\n",
    "plt.show()"
   ]
  },
  {
   "cell_type": "code",
   "execution_count": null,
   "metadata": {
    "collapsed": false,
    "pycharm": {
     "name": "#%%\n",
     "is_executing": true
    }
   },
   "outputs": [],
   "source": [
    "percentage_missing = ((df.isna().sum() / len(df) * 100).round(2)).to_dict()\n",
    "test = {}\n",
    "for percentage in np.arange(0, 100, 10):\n",
    "    missing_vlaues = {key: val for key, val in percentage_missing.items() if val > percentage}\n",
    "    test[percentage] = df.drop([*missing_vlaues.keys()], axis=1).dropna(axis=0, how='any').shape\n",
    "test = pd.DataFrame.from_dict(test).transpose()\n",
    "test.columns = [\"rows\", \"columns\"]"
   ]
  },
  {
   "cell_type": "code",
   "execution_count": null,
   "metadata": {
    "collapsed": false,
    "pycharm": {
     "name": "#%%\n",
     "is_executing": true
    }
   },
   "outputs": [],
   "source": [
    "fig, ax1 = plt.subplots()\n",
    "ax2 = ax1.twinx()\n",
    "ax1 = sns.lineplot(data=test, y=\"columns\", x=test.index, ax=ax1, color=\"orange\", marker='o')\n",
    "ax2 = sns.lineplot(data=test, y=\"rows\", x=test.index, ax=ax2, color=\"blue\", marker='o')\n",
    "ax1.set_ylabel('n features')\n",
    "ax1.set_xlabel('minimumPercentageMissingToBeDropped')\n",
    "ax2.set_ylabel('n datapoints')\n",
    "ax1.figure.legend(['features','datapoints'], bbox_to_anchor=(1.,1),loc=1, bbox_transform=ax1.transAxes)\n",
    "plt.show()"
   ]
  },
  {
   "cell_type": "markdown",
   "metadata": {
    "collapsed": false,
    "pycharm": {
     "name": "#%% md\n"
    }
   },
   "source": [
    "# Model visualisation"
   ]
  },
  {
   "cell_type": "code",
   "execution_count": null,
   "metadata": {
    "collapsed": false,
    "pycharm": {
     "name": "#%%\n",
     "is_executing": true
    }
   },
   "outputs": [],
   "source": [
    "class DataframeSmokeTransformer:\n",
    "    def transform(self, input_df, **transform_params):\n",
    "        # we do not enrich smoke if cigs and years are conflicting\n",
    "\n",
    "        # set all values of smoke that are NaN to 0 if the value of years is 0 and smoke does not indicate that the person smokes\n",
    "        input_df.loc[(input_df['smoke'].isna()) & (input_df['years'] == 0) & ~(input_df['cigs'] > 0),'smoke'] = 0\n",
    "        # set all values of smoke that are NaN to 1 if the value of years is larger than 0 and smoke does not indicate that the person does not smoke\n",
    "        input_df.loc[(input_df['smoke'].isna()) & (input_df['years'] > 0) & (input_df['cigs'] != 0),'smoke'] = 1\n",
    "\n",
    "        # set all values of smoke that are NaN to 0 if the value of smoke is 0 and years does not indicate that the person smokes\n",
    "        input_df.loc[(input_df['smoke'].isna()) & (input_df['cigs'] == 0) & ~(input_df['years'] > 0),'smoke'] = 0\n",
    "        # set all values of smoke that are NaN to 1 if the value of cigs is larger than 0 and years does not indicate that the person does not smoke\n",
    "        input_df.loc[(input_df['smoke'].isna()) & (input_df['cigs'] > 0) & (input_df['years'] != 0),'smoke'] = 1\n",
    "        return input_df\n",
    "    def fit(self, X, y=None, **fit_params):\n",
    "        # there is nothing to be fitted here because this handling is not split specific\n",
    "        return self"
   ]
  },
  {
   "cell_type": "code",
   "execution_count": null,
   "metadata": {
    "collapsed": false,
    "pycharm": {
     "name": "#%%\n",
     "is_executing": true
    }
   },
   "outputs": [],
   "source": [
    "class EnrichHeartData:\n",
    "    def transform(self, input_df, **transform_params):\n",
    "        input_df[\"heart_rate_diff\"] = input_df['thalach'] - input_df['thalrest']\n",
    "        input_df[\"rldv5_diff\"] = input_df['rldv5'] - input_df['rldv5e']\n",
    "        return input_df\n",
    "\n",
    "    def fit(self, X, y=None, **fit_params):\n",
    "        return self"
   ]
  },
  {
   "cell_type": "code",
   "execution_count": null,
   "metadata": {
    "collapsed": false,
    "pycharm": {
     "name": "#%%\n",
     "is_executing": true
    }
   },
   "outputs": [],
   "source": [
    "from sklearn.exceptions import NotFittedError\n",
    "\n",
    "\n",
    "class DropColumnsBasedOnMinimumPercentageToBeDropped:\n",
    "    def __init__(self):\n",
    "        self.minimum_percentage_to_be_dropped = 100\n",
    "        self.fitted = False\n",
    "        self.valuesToKeep = []\n",
    "\n",
    "    def set_params(self, **params):\n",
    "        self.minimum_percentage_to_be_dropped = params.get('minimum_percentage_to_be_dropped')\n",
    "\n",
    "    def transform(self, input_df, **transform_params):\n",
    "        if self.fitted:\n",
    "            return input_df[input_df.columns.intersection(self.valuesToKeep)]\n",
    "        else:\n",
    "            raise NotFittedError()\n",
    "\n",
    "    def fit(self, X, y=None, **fit_params):\n",
    "        # calculate percentage of missing values for each column and store in a dictionary\n",
    "        percentage_missing = (X.isna().sum()/len(df)*100).to_dict()\n",
    "        # generate list of columns to keep\n",
    "        self.valuesToKeep = [key for key, val in percentage_missing.items() if val <= self.minimum_percentage_to_be_dropped]\n",
    "        self.fitted = True\n",
    "        return self"
   ]
  },
  {
   "cell_type": "code",
   "execution_count": null,
   "metadata": {
    "collapsed": false,
    "pycharm": {
     "name": "#%%\n",
     "is_executing": true
    }
   },
   "outputs": [],
   "source": [
    "class FixCommonEncodingErrors:\n",
    "    def transform(self, input_df, **transform_params):\n",
    "        input_df = input_df.copy(deep=True)\n",
    "        # if cholesterin is 0 it was not measured\n",
    "        input_df.loc[input_df['chol'] == 0,'chol'] =  np.float64(\"NaN\")\n",
    "        # leave the dead ones behind\n",
    "        # drop entries with a blood pressure of 0\n",
    "        input_df.loc[input_df['trestbps'] == 0,'trestbps'] =  np.float64(\"NaN\")\n",
    "        # is a binary variable (wrong measurement was detected in Pandas Profiling Report)\n",
    "        input_df.loc[df['prop'].isin([0,1]) == False,'prop' ] = np.float64(\"NaN\")\n",
    "        # is a variable that has the values 0-3 by definition  (wrong measurement was detected in Pandas Profiling Report)\n",
    "        input_df.loc[input_df['ca'] >3 ,'ca'] =  np.float64(\"NaN\")\n",
    "        # transform proto according to possible values from data/ask-detrano\n",
    "        input_df.loc[input_df['proto'] == 200,'proto'] =  9\n",
    "        input_df.loc[input_df['proto'] == 175,'proto'] =  8\n",
    "        input_df.loc[input_df['proto'] == 150,'proto'] =  7\n",
    "        input_df.loc[input_df['proto'] == 130,'proto'] =  6\n",
    "        input_df.loc[input_df['proto'] == 125,'proto'] =  5\n",
    "        input_df.loc[input_df['proto'] == 100,'proto'] = 4\n",
    "        input_df.loc[input_df['proto'] == 75,'proto'] = 3\n",
    "        input_df.loc[input_df['proto'] == 50,'proto'] = 2\n",
    "        input_df.loc[input_df['proto'] == 25,'proto'] = 1\n",
    "        #set all other values to NaN\n",
    "        input_df.loc[input_df['proto'].isin([*range(1,13)]) == False, 'proto'] = np.float64(\"NaN\")\n",
    "        # the timepoint when the measurement was taken can not be larger than the time that the exercise took.\n",
    "        input_df.loc[df['thaltime'] > df['thaldur'], 'thaltime'] = np.float64('NaN')\n",
    "        # maximum archived heart rate can not  be lower than the heart rate at rest\n",
    "        input_df.loc[input_df['thalach'] < input_df['thalrest'],'thalach'] = np.float64('NaN')\n",
    "\n",
    "        return input_df\n",
    "    def fit(self, X, y=None, **fit_params):\n",
    "        return self"
   ]
  },
  {
   "cell_type": "code",
   "execution_count": null,
   "metadata": {
    "collapsed": false,
    "pycharm": {
     "name": "#%%\n",
     "is_executing": true
    }
   },
   "outputs": [],
   "source": [
    "df.loc[df[\"num\"]>1,'num'] = 1"
   ]
  },
  {
   "cell_type": "code",
   "execution_count": null,
   "metadata": {
    "collapsed": false,
    "pycharm": {
     "name": "#%%\n",
     "is_executing": true
    }
   },
   "outputs": [],
   "source": [
    "from sklearn.preprocessing import KBinsDiscretizer, OneHotEncoder\n",
    "from sklearn.compose import ColumnTransformer\n",
    "from sklearn.tree import DecisionTreeClassifier\n",
    "from imblearn.under_sampling import RandomUnderSampler\n",
    "from sklearn.impute import SimpleImputer\n",
    "from imblearn.pipeline import Pipeline\n",
    "one_hot_encoded_features = ['cp','restecg', 'slope','ca', 'restwm']\n",
    "X = df.loc[:,(df.columns!= 'num') & (df.columns != 'dataset') ].copy(deep=True)\n",
    "y = df.loc[: , (df.columns== 'num')].values.ravel().copy()\n",
    "oneHotEncoder = ColumnTransformer(\n",
    "    transformers=[\n",
    "        ('discretize', KBinsDiscretizer(strategy='ordinal'), ['age']),\n",
    "        ('oneHotEncoder', OneHotEncoder(handle_unknown='ignore'), lambda X : [value for value in one_hot_encoded_features if value in X.columns]),\n",
    "    ], remainder='passthrough')\n",
    "pipeline = Pipeline(steps=[\n",
    "    ('fix_encoding_errors', FixCommonEncodingErrors()),\n",
    "    ('transform_smoke', DataframeSmokeTransformer()),\n",
    "    ('enrich_heart_rate', EnrichHeartData()),\n",
    "    ('drop_columns', DropColumnsBasedOnMinimumPercentageToBeDropped()),\n",
    "    ('oneHotEncoder', oneHotEncoder),\n",
    "    ('impute', SimpleImputer()),\n",
    "    ('scaler', 'passthrough'),\n",
    "    ('sampler', 'passthrough'),\n",
    "    ('estimator', DecisionTreeClassifier())\n",
    "])\n",
    "parameters = {\n",
    "    'drop_columns__minimum_percentage_to_be_dropped' : 0,\n",
    "    'estimator__criterion': \"gini\",\n",
    "    'estimator__max_depth': None,\n",
    "    'estimator__min_samples_split': 2,\n",
    "    'impute__strategy':'mean',\n",
    "    'oneHotEncoder__discretize': KBinsDiscretizer(2,encode='ordinal', strategy='uniform')\n",
    "}\n",
    "pipeline.set_params(**parameters)\n",
    "pipeline.fit(X,y)"
   ]
  },
  {
   "cell_type": "code",
   "execution_count": null,
   "metadata": {
    "collapsed": false,
    "pycharm": {
     "name": "#%%\n",
     "is_executing": true
    }
   },
   "outputs": [],
   "source": [
    "decision_tree = pipeline['estimator']"
   ]
  },
  {
   "cell_type": "code",
   "execution_count": null,
   "metadata": {
    "collapsed": false,
    "pycharm": {
     "name": "#%%\n",
     "is_executing": true
    }
   },
   "outputs": [],
   "source": [
    "from sklearn import tree\n",
    "\n",
    "fig = plt.figure(figsize=(25,20))\n",
    "_ = tree.plot_tree(decision_tree)\n"
   ]
  },
  {
   "cell_type": "code",
   "execution_count": null,
   "metadata": {
    "collapsed": false,
    "pycharm": {
     "name": "#%%\n",
     "is_executing": true
    }
   },
   "outputs": [],
   "source": [
    "X = df.loc[:,(df.columns!= 'num') & (df.columns != 'dataset') ].copy(deep=True)\n",
    "y = df.loc[: , (df.columns== 'num')].values.ravel().copy()\n",
    "X_transformed = X.copy(deep=True)\n",
    "X_transformed = FixCommonEncodingErrors().transform(X_transformed)\n",
    "X_transformed = DataframeSmokeTransformer().transform(X_transformed)\n",
    "X_transformed = EnrichHeartData().transform(X_transformed)\n",
    "columnDropper = DropColumnsBasedOnMinimumPercentageToBeDropped()\n",
    "columnDropper.set_params(**{'minimum_percentage_to_be_dropped':0})\n",
    "columnDropper.fit(X)\n",
    "X_transformed = columnDropper.transform(X_transformed)\n",
    "# discretizer =  KBinsDiscretizer(2,encode='ordinal', strategy='uniform')\n",
    "# X_transformed['age'] = discretizer.fit_transform(X_transformed['age'].to_numpy().reshape(-1, 1))\n",
    "# oneHotEncoder = OneHotEncoder(handle_unknown='ignore')\n",
    "# one_hot_encoded_features = [value for value in one_hot_encoded_features if value in X_transformed.columns]\n",
    "# encoded = pd.DataFrame(oneHotEncoder.fit_transform(X_transformed[one_hot_encoded_features]).toarray(), columns=oneHotEncoder.get_feature_names(one_hot_encoded_features))\n",
    "# X_transformed = X_transformed.drop(columns=one_hot_encoded_features)\n",
    "# X_transformed = X_transformed.join(encoded)\n",
    "# imputer = SimpleImputer(strategy='mean')\n",
    "# X_transformed = pd.DataFrame(imputer.fit_transform(X_transformed), columns=imputer.get_feature_names_out())\n",
    "# scaler = MaxAbsScaler()\n",
    "# X_transformed = pd.DataFrame(scaler.fit_transform(X_transformed), columns=scaler.get_feature_names_out())\n",
    "# sampler = RandomUnderSampler(random_state=42)\n",
    "# X_transformed, y = sampler.fit_resample(X_transformed,y)\n",
    "decisionTreeClassifier = DecisionTreeClassifier(criterion='entropy', max_depth=3, min_samples_split=2)\n",
    "decisionTreeClassifier = decisionTreeClassifier.fit(X_transformed,y)"
   ]
  },
  {
   "cell_type": "code",
   "execution_count": null,
   "outputs": [],
   "source": [],
   "metadata": {
    "collapsed": false,
    "pycharm": {
     "name": "#%%\n",
     "is_executing": true
    }
   }
  },
  {
   "cell_type": "code",
   "execution_count": null,
   "metadata": {
    "pycharm": {
     "name": "#%%\n",
     "is_executing": true
    }
   },
   "outputs": [],
   "source": [
    "from dtreeviz.trees import dtreeviz # remember to load the package\n",
    "\n",
    "viz = dtreeviz(decisionTreeClassifier, X_transformed, y,\n",
    "               target_name=\"heart disease\",\n",
    "               feature_names=X_transformed.columns,\n",
    "               class_names=['No','Yes']\n",
    "               )\n",
    "viz"
   ]
  },
  {
   "cell_type": "code",
   "execution_count": null,
   "metadata": {
    "collapsed": false,
    "pycharm": {
     "name": "#%%\n",
     "is_executing": true
    }
   },
   "outputs": [],
   "source": [
    "from dtreeviz.trees import dtreeviz # remember to load the package\n",
    "\n",
    "viz = dtreeviz(decisionTreeClassifier, X_transformed, y,\n",
    "               target_name=\"heart disease\",\n",
    "               feature_names=X_transformed.columns,\n",
    "               class_names=['No','Yes']\n",
    "               )\n",
    "\n",
    "viz\n"
   ]
  },
  {
   "cell_type": "code",
   "execution_count": null,
   "outputs": [],
   "source": [
    "from sklearn.neighbors import KNeighborsClassifier\n",
    "X = df.loc[:,(df.columns!= 'num') & (df.columns != 'dataset') ].copy(deep=True)\n",
    "y = df.loc[: , (df.columns== 'num')].values.ravel().copy()\n",
    "X_transformed = X.copy(deep=True)\n",
    "X_transformed = FixCommonEncodingErrors().transform(X_transformed)\n",
    "X_transformed = DataframeSmokeTransformer().transform(X_transformed)\n",
    "X_transformed = EnrichHeartData().transform(X_transformed)\n",
    "columnDropper = DropColumnsBasedOnMinimumPercentageToBeDropped()\n",
    "columnDropper.set_params(**{'minimum_percentage_to_be_dropped':0})\n",
    "columnDropper.fit(X)\n",
    "X_transformed = columnDropper.transform(X_transformed)\n",
    "discretizer =  KBinsDiscretizer(2,encode='ordinal', strategy='uniform')\n",
    "X_transformed['age'] = discretizer.fit_transform(X_transformed['age'].to_numpy().reshape(-1, 1))\n",
    "# oneHotEncoder = OneHotEncoder(handle_unknown='ignore')\n",
    "# one_hot_encoded_features = [value for value in one_hot_encoded_features if value in X_transformed.columns]\n",
    "# encoded = pd.DataFrame(oneHotEncoder.fit_transform(X_transformed[one_hot_encoded_features]).toarray(), columns=oneHotEncoder.get_feature_names(one_hot_encoded_features))\n",
    "# X_transformed = X_transformed.drop(columns=one_hot_encoded_features)\n",
    "# X_transformed = X_transformed.join(encoded)\n",
    "imputer = SimpleImputer(strategy='mean')\n",
    "X_transformed = pd.DataFrame(imputer.fit_transform(X_transformed), columns=imputer.get_feature_names_out())\n",
    "# scaler = MaxAbsScaler()\n",
    "# X_transformed = pd.DataFrame(scaler.fit_transform(X_transformed), columns=scaler.get_feature_names_out())\n",
    "# sampler = RandomUnderSampler(random_state=42)\n",
    "# X_transformed, y = sampler.fit_resample(X_transformed,y)\n",
    "kNeighborsClassifier = KNeighborsClassifier(n_neighbors=82,p=1, weights='distance')\n",
    "kNeighborsClassifier = kNeighborsClassifier.fit(X_transformed,y)"
   ],
   "metadata": {
    "collapsed": false,
    "pycharm": {
     "name": "#%%\n",
     "is_executing": true
    }
   }
  },
  {
   "cell_type": "code",
   "execution_count": null,
   "metadata": {
    "collapsed": false,
    "pycharm": {
     "name": "#%%\n",
     "is_executing": true
    }
   },
   "outputs": [],
   "source": [
    "import re, seaborn as sns\n",
    "import numpy as np\n",
    "\n",
    "from matplotlib import pyplot as plt\n",
    "from mpl_toolkits.mplot3d import Axes3D\n",
    "from matplotlib.colors import ListedColormap\n",
    "target = df.loc[: , (df.columns== 'num')].values.ravel().copy()\n",
    "# generate data\n",
    "n = 200\n",
    "x = X_transformed['age']\n",
    "y = X_transformed['cp']\n",
    "z = X_transformed['sex']\n",
    "\n",
    "# axes instance\n",
    "fig = plt.figure(figsize=(6,6))\n",
    "ax = Axes3D(fig, auto_add_to_figure=False)\n",
    "fig.add_axes(ax)\n",
    "\n",
    "# get colormap from seaborn\n",
    "cmap = ListedColormap(sns.color_palette('rainbow').as_hex())\n",
    "\n",
    "# plot\n",
    "sc = ax.scatter(x, y, z, s=40, c=target, marker='o', cmap=cmap, alpha=0.3)\n",
    "ax.set_xlabel('age')\n",
    "ax.set_ylabel('cp')\n",
    "ax.set_zlabel('sex')\n",
    "\n",
    "# legend\n",
    "plt.legend(*sc.legend_elements(), bbox_to_anchor=(1.05, 1), loc=2)\n",
    "\n",
    "\n",
    "#give the labels to each point\n",
    "for x_label, y_label, z_label in zip(x, y, z):\n",
    "    label = X_transformed[X_transformed['age'] == x & X_transformed['cp'] == y & X_transformed['sex'] == z]\n",
    "    ax3d.text(x, y, z, label)\n",
    "# save\n",
    "plt.savefig(\"scatter_hue\", bbox_inches='tight')"
   ]
  },
  {
   "cell_type": "code",
   "execution_count": null,
   "outputs": [],
   "source": [
    "import re, seaborn as sns\n",
    "import numpy as np\n",
    "\n",
    "from matplotlib import pyplot as plt\n",
    "from mpl_toolkits.mplot3d import Axes3D\n",
    "from matplotlib.colors import ListedColormap\n",
    "target = df.loc[: , (df.columns== 'num')].values.ravel().copy()\n",
    "# generate data\n",
    "x = X_transformed['age']\n",
    "y = X_transformed['cp']\n",
    "z = X_transformed['sex']\n",
    "\n",
    "# axes instance\n",
    "ax3d = plt.figure(figsize=(6,6)).gca(projection='3d')\n",
    "\n",
    "# get colormap from seaborn\n",
    "cmap = ListedColormap(sns.color_palette('rainbow').as_hex())\n",
    "\n",
    "# legend\n",
    "plt.legend(*sc.legend_elements(), bbox_to_anchor=(1.05, 1), loc=2)\n",
    "\n",
    "# plot\n",
    "ax3d.scatter(x, y, z, s=40, c=target, marker='o', cmap=cmap, alpha=0.3)\n",
    "ax3d.set_xlabel('age')\n",
    "ax3d.set_ylabel('cp')\n",
    "ax3d.set_zlabel('sex')\n",
    "\n",
    "\n",
    "X_transformed['num'] = target\n",
    "\n",
    "for index, row in X_transformed.groupby(['sex', 'cp','age']).count().reset_index().iterrows():\n",
    "    ax3d.text(row['age'], row['cp'], row['sex'], int(row['num']))\n",
    "\n",
    "plt.show()"
   ],
   "metadata": {
    "collapsed": false,
    "pycharm": {
     "name": "#%%\n",
     "is_executing": true
    }
   }
  },
  {
   "cell_type": "code",
   "execution_count": null,
   "outputs": [],
   "source": [
    "X['age'].describe()"
   ],
   "metadata": {
    "collapsed": false,
    "pycharm": {
     "name": "#%%\n",
     "is_executing": true
    }
   }
  },
  {
   "cell_type": "code",
   "execution_count": null,
   "outputs": [],
   "source": [
    "for current_x, current_y, current_z in zip(x, y, z):\n",
    "    print(current_x, current_y, current_z)"
   ],
   "metadata": {
    "collapsed": false,
    "pycharm": {
     "name": "#%%\n",
     "is_executing": true
    }
   }
  },
  {
   "cell_type": "code",
   "execution_count": null,
   "outputs": [],
   "source": [],
   "metadata": {
    "collapsed": false,
    "pycharm": {
     "name": "#%%\n",
     "is_executing": true
    }
   }
  },
  {
   "cell_type": "code",
   "execution_count": null,
   "outputs": [],
   "source": [],
   "metadata": {
    "collapsed": false,
    "pycharm": {
     "name": "#%%\n",
     "is_executing": true
    }
   }
  },
  {
   "cell_type": "code",
   "execution_count": null,
   "outputs": [],
   "source": [
    "\n",
    "X_transformed = FixCommonEncodingErrors().transform(X_transformed)\n",
    "X_transformed = DataframeSmokeTransformer().transform(X_transformed)\n",
    "X_transformed = EnrichHeartData().transform(X_transformed)\n",
    "columnDropper = DropColumnsBasedOnMinimumPercentageToBeDropped()\n",
    "columnDropper.set_params(**{'minimum_percentage_to_be_dropped':0})\n",
    "columnDropper.fit(X)\n",
    "X_transformed = columnDropper.transform(X_transformed)\n",
    "# discretizer =  KBinsDiscretizer(2,encode='ordinal', strategy='uniform')\n",
    "# X_transformed['age'] = discretizer.fit_transform(X_transformed['age'].to_numpy().reshape(-1, 1))\n",
    "# oneHotEncoder = OneHotEncoder(handle_unknown='ignore')\n",
    "# one_hot_encoded_features = [value for value in one_hot_encoded_features if value in X_transformed.columns]\n",
    "# encoded = pd.DataFrame(oneHotEncoder.fit_transform(X_transformed[one_hot_encoded_features]).toarray(), columns=oneHotEncoder.get_feature_names(one_hot_encoded_features))\n",
    "# X_transformed = X_transformed.drop(columns=one_hot_encoded_features)\n",
    "# X_transformed = X_transformed.join(encoded)\n",
    "# imputer = SimpleImputer(strategy='mean')\n",
    "# X_transformed = pd.DataFrame(imputer.fit_transform(X_transformed), columns=imputer.get_feature_names_out())\n",
    "# scaler = MaxAbsScaler()\n",
    "# X_transformed = pd.DataFrame(scaler.fit_transform(X_transformed), columns=scaler.get_feature_names_out())\n",
    "# sampler = RandomUnderSampler(random_state=42)\n",
    "# X_transformed, y = sampler.fit_resample(X_transformed,y)\n",
    "decisionTreeClassifier = DecisionTreeClassifier(criterion='entropy', max_depth=3, min_samples_split=2)\n",
    "decisionTreeClassifier = decisionTreeClassifier.fit(X_transformed,y)"
   ],
   "metadata": {
    "collapsed": false,
    "pycharm": {
     "name": "#%%\n",
     "is_executing": true
    }
   }
  },
  {
   "cell_type": "code",
   "execution_count": null,
   "outputs": [],
   "source": [],
   "metadata": {
    "collapsed": false,
    "pycharm": {
     "name": "#%%\n",
     "is_executing": true
    }
   }
  },
  {
   "cell_type": "code",
   "execution_count": null,
   "outputs": [],
   "source": [
    "from sklearn.preprocessing import KBinsDiscretizer, OneHotEncoder\n",
    "from sklearn.compose import ColumnTransformer\n",
    "from sklearn.tree import DecisionTreeClassifier\n",
    "from imblearn.under_sampling import RandomUnderSampler\n",
    "from sklearn.impute import SimpleImputer\n",
    "from imblearn.pipeline import Pipeline\n",
    "from sklearn.model_selection import cross_val_score\n",
    "\n",
    "one_hot_encoded_features = ['cp','restecg', 'slope','ca', 'restwm']\n",
    "X = df.loc[df.dataset == 'cleveland',(df.columns!= 'num') & (df.columns != 'dataset') ].copy(deep=True)\n",
    "y = df.loc[df.dataset == 'cleveland' , (df.columns== 'num')].values.ravel().copy()\n",
    "X_transformed = X.copy(deep=True)\n",
    "oneHotEncoder = ColumnTransformer(\n",
    "    transformers=[\n",
    "        ('discretize', KBinsDiscretizer(strategy='uniform'), ['age']),\n",
    "        ('oneHotEncoder', OneHotEncoder(handle_unknown='ignore'), lambda X : [value for value in one_hot_encoded_features if value in X.columns]),\n",
    "    ], remainder='passthrough')\n",
    "pipeline = Pipeline(steps=[\n",
    "    ('fix_encoding_errors', FixCommonEncodingErrors()),\n",
    "    ('transform_smoke', DataframeSmokeTransformer()),\n",
    "    ('enrich_heart_rate', EnrichHeartData()),\n",
    "    ('drop_columns', DropColumnsBasedOnMinimumPercentageToBeDropped()),\n",
    "    ('oneHotEncoder', oneHotEncoder),\n",
    "    ('impute', SimpleImputer()),\n",
    "    ('scaler', 'passthrough'),\n",
    "    ('sampler', 'passthrough'),\n",
    "    ('estimator', DecisionTreeClassifier())\n",
    "])\n",
    "parameters = {\n",
    "    'drop_columns__minimum_percentage_to_be_dropped' : 0,\n",
    "    'estimator__criterion': \"gini\",\n",
    "    'estimator__max_depth': None,\n",
    "    'estimator__min_samples_split': 2,\n",
    "    'impute__strategy':'mean',\n",
    "    'oneHotEncoder__discretize': KBinsDiscretizer(2,encode='ordinal', strategy='uniform')\n",
    "}\n",
    "cross_val_score(pipeline, X_transformed, y, cv=10, error_score='raise', n_jobs=1)"
   ],
   "metadata": {
    "collapsed": false,
    "pycharm": {
     "name": "#%%\n",
     "is_executing": true
    }
   }
  },
  {
   "cell_type": "code",
   "execution_count": null,
   "outputs": [],
   "source": [
    "from sklearn.model_selection import GridSearchCV\n",
    "one_hot_encoded_features = ['cp','restecg', 'slope','ca', 'restwm']\n",
    "X = df.loc[df.dataset == 'cleveland',(df.columns!= 'num') & (df.columns != 'dataset') ].copy(deep=True)\n",
    "y = df.loc[df.dataset == 'cleveland' , (df.columns== 'num')].values.ravel().copy()\n",
    "X_transformed = X.copy(deep=True)\n",
    "oneHotEncoder = ColumnTransformer(\n",
    "    transformers=[\n",
    "        ('discretize', KBinsDiscretizer(strategy='uniform'), ['age']),\n",
    "        ('oneHotEncoder', OneHotEncoder(handle_unknown='ignore'), lambda X : [value for value in one_hot_encoded_features if value in X.columns]),\n",
    "    ], remainder='passthrough')\n",
    "pipeline = Pipeline(steps=[\n",
    "    ('fix_encoding_errors', FixCommonEncodingErrors()),\n",
    "    ('transform_smoke', DataframeSmokeTransformer()),\n",
    "    ('enrich_heart_rate', EnrichHeartData()),\n",
    "    ('drop_columns', DropColumnsBasedOnMinimumPercentageToBeDropped()),\n",
    "    ('oneHotEncoder', oneHotEncoder),\n",
    "    ('impute', SimpleImputer()),\n",
    "    ('scaler', 'passthrough'),\n",
    "    ('sampler', 'passthrough'),\n",
    "    ('estimator', DecisionTreeClassifier())\n",
    "])\n",
    "parameters = {\n",
    "    'drop_columns__minimum_percentage_to_be_dropped' : [0],\n",
    "    'impute__strategy':['mean'],\n",
    "    'oneHotEncoder__discretize': [KBinsDiscretizer(2,encode='ordinal', strategy='uniform')]\n",
    "}\n",
    "grid_search_estimator = GridSearchCV(pipeline, parameters, cv=10, error_score='raise', n_jobs=-1, verbose= 0)\n",
    "\n",
    "grid_search_estimator.fit(X_train, y_train)\n",
    "print(\"Best parameter (CV score={:3f}:\".format(grid_search_estimator.best_score_))\n",
    "print(grid_search_estimator.best_params_)"
   ],
   "metadata": {
    "collapsed": false,
    "pycharm": {
     "name": "#%%\n",
     "is_executing": true
    }
   }
  },
  {
   "cell_type": "code",
   "execution_count": null,
   "outputs": [],
   "source": [],
   "metadata": {
    "collapsed": false,
    "pycharm": {
     "name": "#%%\n",
     "is_executing": true
    }
   }
  }
 ],
 "metadata": {
  "kernelspec": {
   "display_name": "Python 3.10.8 ('dataMining')",
   "language": "python",
   "name": "python3"
  },
  "language_info": {
   "codemirror_mode": {
    "name": "ipython",
    "version": 3
   },
   "file_extension": ".py",
   "mimetype": "text/x-python",
   "name": "python",
   "nbconvert_exporter": "python",
   "pygments_lexer": "ipython3",
   "version": "3.10.8"
  },
  "vscode": {
   "interpreter": {
    "hash": "43abaa89d8f041132bf32a2cf1bbc1cf029c16308625f0c61dcc8cc992b44073"
   }
  }
 },
 "nbformat": 4,
 "nbformat_minor": 0
}