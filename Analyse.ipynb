{
 "cells": [
  {
   "cell_type": "markdown",
   "metadata": {
    "collapsed": false
   },
   "source": [
    "# TODO\n",
    "1. PairPlots\n",
    "2. Profiling reports\n",
    "3. Compare results to preprocessed of UCI"
   ]
  },
  {
   "cell_type": "code",
   "execution_count": 41,
   "metadata": {
    "collapsed": false
   },
   "outputs": [],
   "source": [
    "generate_profiling_reports = False"
   ]
  },
  {
   "cell_type": "code",
   "execution_count": 42,
   "metadata": {
    "collapsed": true
   },
   "outputs": [],
   "source": [
    "import pandas as pd\n",
    "import seaborn as sns\n",
    "import matplotlib.pyplot as plt\n",
    "import numpy as np\n",
    "import re\n",
    "# set pandas to show all columns of the df when using the display function\n",
    "pd.set_option('display.max_columns', None)"
   ]
  },
  {
   "cell_type": "markdown",
   "source": [
    "# Load the data"
   ],
   "metadata": {
    "collapsed": false
   }
  },
  {
   "cell_type": "code",
   "execution_count": 43,
   "metadata": {
    "collapsed": false
   },
   "outputs": [],
   "source": [
    "# list the datasets that should be used in the current run\n",
    "datasets = [\"hungarian\", \"cleveland\", \"switzerland\", \"long-beach-va\"]"
   ]
  },
  {
   "cell_type": "code",
   "execution_count": 44,
   "metadata": {
    "collapsed": false
   },
   "outputs": [],
   "source": [
    "# custom function to read the dataset into a csv formated string\n",
    "# the name is used as a delimiter here because it is the last feature and common among all entrys\n",
    "def readRawData(filePath:str):\n",
    "    with open(filePath) as file:\n",
    "        dataString = file.read()\n",
    "        dataString = dataString.replace(\"\\n\",\" \")\n",
    "        dataString = re.sub(\"[a-zA-Z]+ \",\"name\\n\", dataString)\n",
    "        dataString = dataString.replace(\" \",\",\")\n",
    "        return dataString"
   ]
  },
  {
   "cell_type": "code",
   "execution_count": 45,
   "metadata": {
    "collapsed": false
   },
   "outputs": [],
   "source": [
    "# read the data from the specified datasets into the df\n",
    "from io import StringIO\n",
    "df = pd.DataFrame()\n",
    "for dataset in datasets:\n",
    "    dataset_df = pd.read_csv(StringIO(readRawData(\"./Data/\"+ dataset +\".data\")), header=None, sep=\",\")\n",
    "    dataset_df['dataset'] = dataset\n",
    "    df = pd.concat([df,dataset_df ], ignore_index=True)"
   ]
  },
  {
   "cell_type": "code",
   "execution_count": 46,
   "metadata": {
    "collapsed": false
   },
   "outputs": [],
   "source": [
    "df.columns=[\"id\", \"ccf\", \"age\", \"sex\", \"painloc\", \"painexer\" , \"relrest\" , \"pncaden\" , \"cp\", \"trestbps\", \"htn\", \"chol\", \"smoke\", \"cigs\", \"years\", \"fbs\", \"dm\", \"famhist\", \"restecg\", \"ekgmo\", \"ekgday\", \"ekgyr\", \"dig\", \"prop\", \"nitr\", \"pro\", \"diuretic\", \"proto\", \"thaldur\", \"thaltime\", \"met\", \"thalach\", \"thalrest\", \"tpeakbps\", \"tpeakbpd\", \"dummy\", \"trestbpd\", \"exang\", \"xhypo\", \"oldpeak\", \"slope\", \"rldv5\", \"rldv5e\", \"ca\", \"restckm\", \"exerckm\", \"restef\", \"restwm\", \"exeref\", \"exerwm\", \"thal\", \"thalsev\", \"thalpul\", \"earlobe\", \"cmo\", \"cday\", \"cyr\", \"num\", \"lmt\", \"ladprox\", \"laddist\", \"diag\", \"cxmain\", \"ramus\", \"om1\", \"om2\", \"rcaprox\", \"rcadist\", \"lvx1\", \"lvx2\", \"lvx3\", \"lvx4\", \"lvf\", \"cathef\", \"junk\", \"name\", \"dataset\"]"
   ]
  },
  {
   "cell_type": "code",
   "execution_count": 47,
   "metadata": {
    "collapsed": false
   },
   "outputs": [],
   "source": [
    "# read the data from the specified datasets into the df\n",
    "from io import StringIO\n",
    "dfNew = pd.DataFrame()\n",
    "for dataset in datasets:\n",
    "    dataset_df = pd.read_csv(StringIO(readRawData(\"./Data/\"+ 'new' +\".data\")), header=None, sep=\",\")\n",
    "    dataset_df['dataset'] = dataset\n",
    "    dfNew = pd.concat([dfNew,dataset_df ], ignore_index=True)"
   ]
  },
  {
   "cell_type": "code",
   "execution_count": 48,
   "metadata": {
    "collapsed": false
   },
   "outputs": [],
   "source": [
    "df = df.replace(-9, float('nan'))"
   ]
  },
  {
   "cell_type": "markdown",
   "metadata": {},
   "source": [
    "# Analysis on all features including dropped once"
   ]
  },
  {
   "cell_type": "code",
   "execution_count": 49,
   "outputs": [],
   "source": [
    "if generate_profiling_reports:\n",
    "    import pandas_profiling\n",
    "    profile = pandas_profiling.ProfileReport(df, title='Pandas Profiling Report for the complete UCI dataset', explorative=True)\n",
    "    profile.to_file(\"Pandas Profiling Report for all features.html\")"
   ],
   "metadata": {
    "collapsed": false
   }
  },
  {
   "cell_type": "code",
   "execution_count": 50,
   "metadata": {},
   "outputs": [
    {
     "data": {
      "text/plain": "                  id                                                    \\\n               count         mean         std     min      25%     50%   \ndataset                                                                  \ncleveland      282.0   151.517730   87.131234     1.0    75.25   151.5   \nhungarian      294.0  1195.853741  397.340367  1001.0  1080.25  1158.5   \nlong-beach-va  200.0   101.310000   58.717824     1.0    50.75   100.5   \nswitzerland    123.0  3625.886179  499.271374  3001.0  3031.50  4012.0   \n\n                                  ccf                                     \\\n                   75%     max  count mean  std  min  25%  50%  75%  max   \ndataset                                                                    \ncleveland       227.75   298.0  282.0  0.0  0.0  0.0  0.0  0.0  0.0  0.0   \nhungarian      1235.75  5002.0  294.0  0.0  0.0  0.0  0.0  0.0  0.0  0.0   \nlong-beach-va   152.25   202.0  200.0  0.0  0.0  0.0  0.0  0.0  0.0  0.0   \nswitzerland    4042.50  4074.0  123.0  0.0  0.0  0.0  0.0  0.0  0.0  0.0   \n\n                 age                                                     \\\n               count       mean       std   min   25%   50%   75%   max   \ndataset                                                                   \ncleveland      282.0  54.411348  9.053083  29.0  48.0  55.0  61.0  77.0   \nhungarian      294.0  47.826531  7.811812  28.0  42.0  49.0  54.0  66.0   \nlong-beach-va  200.0  59.350000  7.811697  35.0  55.0  60.0  64.0  77.0   \nswitzerland    123.0  55.317073  9.032108  32.0  51.0  56.0  61.5  74.0   \n\n                 sex                                              painloc  \\\n               count      mean       std  min  25%  50%  75%  max   count   \ndataset                                                                     \ncleveland      282.0  0.677305  0.468338  0.0  0.0  1.0  1.0  1.0     0.0   \nhungarian      294.0  0.724490  0.447533  0.0  0.0  1.0  1.0  1.0   294.0   \nlong-beach-va  200.0  0.970000  0.171015  0.0  1.0  1.0  1.0  1.0   200.0   \nswitzerland    123.0  0.918699  0.274414  0.0  1.0  1.0  1.0  1.0   123.0   \n\n                                                           painexer            \\\n                   mean       std  min  25%  50%  75%  max    count      mean   \ndataset                                                                         \ncleveland           NaN       NaN  NaN  NaN  NaN  NaN  NaN      0.0       NaN   \nhungarian      0.921769  0.268993  0.0  1.0  1.0  1.0  1.0    294.0  0.442177   \nlong-beach-va  0.925000  0.264052  0.0  1.0  1.0  1.0  1.0    200.0  0.675000   \nswitzerland    0.910569  0.286532  0.0  1.0  1.0  1.0  1.0    123.0  0.821138   \n\n                                                 relrest                      \\\n                    std  min  25%  50%  75%  max   count      mean       std   \ndataset                                                                        \ncleveland           NaN  NaN  NaN  NaN  NaN  NaN     0.0       NaN       NaN   \nhungarian      0.497492  0.0  0.0  0.0  1.0  1.0   294.0  0.520408  0.500435   \nlong-beach-va  0.469550  0.0  0.0  1.0  1.0  1.0   196.0  0.831633  0.375150   \nswitzerland    0.384804  0.0  1.0  1.0  1.0  1.0   123.0  0.780488  0.415609   \n\n                                       pncaden                               \\\n               min  25%  50%  75%  max   count mean std min 25% 50% 75% max   \ndataset                                                                       \ncleveland      NaN  NaN  NaN  NaN  NaN     0.0  NaN NaN NaN NaN NaN NaN NaN   \nhungarian      0.0  0.0  1.0  1.0  1.0     0.0  NaN NaN NaN NaN NaN NaN NaN   \nlong-beach-va  0.0  1.0  1.0  1.0  1.0     0.0  NaN NaN NaN NaN NaN NaN NaN   \nswitzerland    0.0  1.0  1.0  1.0  1.0     0.0  NaN NaN NaN NaN NaN NaN NaN   \n\n                  cp                                              trestbps  \\\n               count      mean       std  min  25%  50%  75%  max    count   \ndataset                                                                      \ncleveland      282.0  3.163121  0.955405  1.0  3.0  3.0  4.0  4.0    282.0   \nhungarian      294.0  2.982993  0.965117  1.0  2.0  3.0  4.0  4.0    293.0   \nlong-beach-va  200.0  3.505000  0.795701  1.0  3.0  4.0  4.0  4.0    144.0   \nswitzerland    123.0  3.699187  0.688726  1.0  4.0  4.0  4.0  4.0    121.0   \n\n                                                                          htn  \\\n                     mean        std   min    25%    50%    75%    max  count   \ndataset                                                                         \ncleveland      131.563830  17.757496  94.0  120.0  130.0  140.0  200.0  282.0   \nhungarian      132.583618  17.626568  92.0  120.0  130.0  140.0  200.0  293.0   \nlong-beach-va  133.763889  21.537733   0.0  120.0  130.0  147.0  190.0  197.0   \nswitzerland    130.206612  22.559151  80.0  115.0  125.0  145.0  200.0   93.0   \n\n                                                             chol              \\\n                   mean       std  min  25%  50%  75%  max  count        mean   \ndataset                                                                         \ncleveland      0.617021  0.486977  0.0  0.0  1.0  1.0  1.0  282.0  249.092199   \nhungarian      0.334471  0.472612  0.0  0.0  0.0  1.0  1.0  271.0  250.848708   \nlong-beach-va  0.543147  0.499404  0.0  0.0  1.0  1.0  1.0  193.0  178.746114   \nswitzerland    0.354839  0.481058  0.0  0.0  0.0  1.0  1.0  123.0    0.000000   \n\n                                                              smoke            \\\n                      std    min    25%    50%    75%    max  count      mean   \ndataset                                                                         \ncleveland       51.217546  126.0  213.0  244.0  277.0  564.0    0.0       NaN   \nhungarian       67.657711   85.0  209.0  243.0  282.5  603.0   12.0  0.166667   \nlong-beach-va  114.035232    0.0    0.0  216.0  258.0  458.0  195.0  0.507692   \nswitzerland      0.000000    0.0    0.0    0.0    0.0    0.0   23.0  0.782609   \n\n                                                   cigs                        \\\n                    std  min  25%  50%  75%  max  count       mean        std   \ndataset                                                                         \ncleveland           NaN  NaN  NaN  NaN  NaN  NaN  277.0  16.920578  19.451934   \nhungarian      0.389249  0.0  0.0  0.0  0.0  1.0    1.0  60.000000        NaN   \nlong-beach-va  0.501228  0.0  0.0  1.0  1.0  1.0  190.0  21.742105  16.256600   \nswitzerland    0.421741  0.0  1.0  1.0  1.0  1.0   11.0  25.454545   9.341987   \n\n                                             years                        \\\n                min   25%   50%   75%   max  count       mean        std   \ndataset                                                                    \ncleveland       0.0   0.0  10.0  30.0  99.0  277.0  15.259928  15.367867   \nhungarian      60.0  60.0  60.0  60.0  60.0    0.0        NaN        NaN   \nlong-beach-va   0.0  10.0  20.0  30.0  80.0  188.0  23.728723  16.362727   \nswitzerland    20.0  20.0  20.0  30.0  40.0    2.0  45.000000   7.071068   \n\n                                                fbs                           \\\n                min    25%   50%   75%   max  count      mean       std  min   \ndataset                                                                        \ncleveland       0.0   0.00  15.0  30.0  54.0  282.0  0.148936  0.356658  0.0   \nhungarian       NaN    NaN   NaN   NaN   NaN  286.0  0.069930  0.255476  0.0   \nlong-beach-va   0.0   7.75  25.0  40.0  60.0  193.0  0.352332  0.478939  0.0   \nswitzerland    40.0  42.50  45.0  47.5  50.0   48.0  0.104167  0.308709  0.0   \n\n                                     dm                                     \\\n               25%  50%  75%  max count      mean       std  min  25%  50%   \ndataset                                                                      \ncleveland      0.0  0.0  0.0  1.0  23.0  1.000000  0.000000  1.0  1.0  1.0   \nhungarian      0.0  0.0  0.0  1.0  21.0  1.000000  0.000000  1.0  1.0  1.0   \nlong-beach-va  0.0  0.0  1.0  1.0  43.0  0.906977  0.293903  0.0  1.0  1.0   \nswitzerland    0.0  0.0  0.0  1.0   8.0  1.000000  0.000000  1.0  1.0  1.0   \n\n                        famhist                                               \\\n               75%  max   count      mean       std  min  25%  50%  75%  max   \ndataset                                                                        \ncleveland      1.0  1.0   282.0  0.620567  0.486108  0.0  0.0  1.0  1.0  1.0   \nhungarian      1.0  1.0     1.0  0.000000       NaN  0.0  0.0  0.0  0.0  0.0   \nlong-beach-va  1.0  1.0   192.0  0.479167  0.500872  0.0  0.0  0.0  1.0  1.0   \nswitzerland    1.0  1.0     2.0  1.000000  0.000000  1.0  1.0  1.0  1.0  1.0   \n\n              restecg                                               ekgmo  \\\n                count      mean       std  min  25%  50%  75%  max  count   \ndataset                                                                     \ncleveland       282.0  1.014184  0.998118  0.0  0.0  2.0  2.0  2.0  282.0   \nhungarian       293.0  0.218430  0.460868  0.0  0.0  0.0  0.0  2.0  294.0   \nlong-beach-va   200.0  0.735000  0.683455  0.0  0.0  1.0  1.0  2.0  148.0   \nswitzerland     122.0  0.360656  0.590077  0.0  0.0  0.0  1.0  2.0  122.0   \n\n                                                             ekgday  \\\n                   mean       std  min  25%  50%   75%   max  count   \ndataset                                                               \ncleveland      6.404255  3.790752  1.0  3.0  7.0  10.0  12.0  282.0   \nhungarian      6.061224  3.203506  1.0  3.0  5.0   9.0  12.0  294.0   \nlong-beach-va  6.195946  3.367833  1.0  4.0  6.0   9.0  12.0  147.0   \nswitzerland    4.500000  3.191544  1.0  2.0  3.5   7.0  12.0  122.0   \n\n                                                                 ekgyr  \\\n                    mean       std  min   25%   50%   75%   max  count   \ndataset                                                                  \ncleveland      15.223404  8.686089  1.0  8.00  15.0  22.0  31.0  282.0   \nhungarian      15.761905  8.717667  1.0  9.00  16.0  23.0  31.0  294.0   \nlong-beach-va  15.285714  8.848032  1.0  7.00  16.0  23.0  31.0  148.0   \nswitzerland    15.721311  9.019045  1.0  6.25  17.0  24.0  30.0  122.0   \n\n                                                                    dig  \\\n                    mean       std   min   25%   50%   75%   max  count   \ndataset                                                                   \ncleveland      82.301418  0.960759  81.0  82.0  82.0  83.0  84.0  280.0   \nhungarian      85.200680  1.122467  83.0  84.0  85.0  86.0  87.0  293.0   \nlong-beach-va  84.655405  1.353820  81.0  83.0  85.0  86.0  87.0  140.0   \nswitzerland    84.631148  0.484484  84.0  84.0  85.0  85.0  85.0  118.0   \n\n                                                             prop            \\\n                   mean       std  min  25%  50%  75%  max  count      mean   \ndataset                                                                       \ncleveland      0.032143  0.176695  0.0  0.0  0.0  0.0  1.0  280.0  0.335714   \nhungarian      0.000000  0.000000  0.0  0.0  0.0  0.0  0.0  292.0  0.061644   \nlong-beach-va  0.128571  0.335927  0.0  0.0  0.0  0.0  1.0  140.0  0.521429   \nswitzerland    0.016949  0.129631  0.0  0.0  0.0  0.0  1.0  121.0  0.421488   \n\n                                                    nitr                      \\\n                    std  min  25%  50%  75%   max  count      mean       std   \ndataset                                                                        \ncleveland      0.473085  0.0  0.0  0.0  1.0   1.0  280.0  0.246429  0.431703   \nhungarian      0.240920  0.0  0.0  0.0  0.0   1.0  293.0  0.095563  0.294494   \nlong-beach-va  1.890787  0.0  0.0  0.0  1.0  22.0  141.0  0.567376  0.497206   \nswitzerland    0.495851  0.0  0.0  0.0  1.0   1.0  120.0  0.375000  0.486153   \n\n                                          pro                                \\\n               min  25%  50%  75%  max  count      mean       std  min  25%   \ndataset                                                                       \ncleveland      0.0  0.0  0.0  0.0  1.0  280.0  0.100000  0.300537  0.0  0.0   \nhungarian      0.0  0.0  0.0  0.0  1.0  293.0  0.081911  0.274699  0.0  0.0   \nlong-beach-va  0.0  0.0  1.0  1.0  1.0  141.0  0.255319  0.437595  0.0  0.0   \nswitzerland    0.0  0.0  0.0  1.0  1.0  122.0  0.459016  0.500372  0.0  0.0   \n\n                             diuretic                                          \\\n               50%  75%  max    count      mean       std  min  25%  50%  75%   \ndataset                                                                         \ncleveland      0.0  0.0  1.0    280.0  0.114286  0.318728  0.0  0.0  0.0  0.0   \nhungarian      0.0  0.0  1.0    293.0  0.010239  0.100840  0.0  0.0  0.0  0.0   \nlong-beach-va  0.0  1.0  1.0    127.0  0.259843  0.440285  0.0  0.0  0.0  1.0   \nswitzerland    0.0  1.0  1.0    117.0  0.205128  0.405532  0.0  0.0  0.0  0.0   \n\n                    proto                                                  \\\n               max  count       mean        std   min   25%    50%    75%   \ndataset                                                                     \ncleveland      1.0  282.0   1.000000   0.000000   1.0   1.0    1.0    1.0   \nhungarian      1.0  285.0  96.333333  37.538400  25.0  75.0  100.0  125.0   \nlong-beach-va  1.0  147.0   3.877551   1.839066   1.0   1.0    5.0    5.0   \nswitzerland    1.0   73.0  12.000000   0.000000  12.0  12.0   12.0   12.0   \n\n                     thaldur                                               \\\n                 max   count       mean       std  min  25%   50%     75%   \ndataset                                                                     \ncleveland        1.0   282.0   8.418440  2.590569  1.8  6.5   8.5  10.075   \nhungarian      200.0   292.0  10.626712  4.643220  1.0  7.0  10.0  13.000   \nlong-beach-va    6.0   147.0   6.216327  2.394937  1.5  4.5   6.0   8.000   \nswitzerland     12.0   122.0   7.427049  2.250952  3.0  6.0   7.0   9.000   \n\n                    thaltime                                                \\\n                max    count      mean       std  min    25%   50%     75%   \ndataset                                                                      \ncleveland      15.0    213.0  4.882629  3.465331  0.0  3.000  5.50   7.000   \nhungarian      24.0    104.0  7.576923  4.144694  0.5  4.375  7.25  10.000   \nlong-beach-va  12.0     40.0  5.047500  2.423601  0.0  3.600  5.00   6.625   \nswitzerland    12.0     89.0  5.707865  4.804241  0.0  0.000  6.00  10.000   \n\n                       met                                                    \\\n                max  count        mean        std   min    25%    50%    75%   \ndataset                                                                        \ncleveland      15.0  282.0    9.753546   2.961870   3.0    7.0    9.0   12.0   \nhungarian      20.0  292.0    5.700342   1.864453   2.0    5.0    6.0    7.0   \nlong-beach-va  11.3  147.0    6.106122   2.296669   2.0    5.0    6.0    8.0   \nswitzerland    17.8   73.0  106.506849  35.849656  50.0  100.0  100.0  150.0   \n\n                     thalach                                              \\\n                 max   count        mean        std   min     25%    50%   \ndataset                                                                    \ncleveland       18.0   282.0  149.765957  22.923869  71.0  133.25  153.5   \nhungarian       11.0   293.0  139.129693  23.589749  82.0  122.00  140.0   \nlong-beach-va   13.0   147.0  122.795918  21.990328  69.0  109.00  120.0   \nswitzerland    200.0   122.0  121.557377  25.977438  60.0  104.25  121.0   \n\n                             thalrest                                          \\\n                  75%    max    count       mean        std   min   25%   50%   \ndataset                                                                         \ncleveland      165.75  202.0    282.0  75.117021  13.795809  40.0  65.0  74.0   \nhungarian      155.00  190.0    293.0  81.034130  15.534943  46.0  70.0  80.0   \nlong-beach-va  140.00  180.0    146.0  69.726027  11.952504  37.0  62.0  68.0   \nswitzerland    140.00  182.0    122.0  69.918033  12.949738  39.0  60.0  70.0   \n\n                            tpeakbps                                       \\\n                 75%    max    count        mean        std    min    25%   \ndataset                                                                     \ncleveland      84.00  119.0    282.0  168.056738  23.575961   84.0  154.0   \nhungarian      92.00  134.0    293.0  181.279863  25.615776  120.0  160.0   \nlong-beach-va  76.00  139.0    141.0  163.510638  24.787848  100.0  148.0   \nswitzerland    79.75  110.0    120.0  166.083333  25.156513  110.0  150.0   \n\n                                   tpeakbpd                                    \\\n                 50%    75%    max    count       mean        std   min   25%   \ndataset                                                                         \ncleveland      168.0  184.0  232.0    282.0  78.744681  13.331206  26.0  70.0   \nhungarian      180.0  200.0  240.0    293.0  95.713311  12.369859  60.0  90.0   \nlong-beach-va  160.0  180.0  220.0    141.0  88.170213  14.393926  11.0  80.0   \nswitzerland    162.5  180.0  230.0    120.0  85.791667  11.559052  55.0  80.0   \n\n                                   dummy                                      \\\n                50%    75%    max  count        mean        std   min    25%   \ndataset                                                                        \ncleveland      80.0   85.0  120.0  282.0  131.563830  17.757496  94.0  120.0   \nhungarian      95.0  100.0  134.0  293.0  132.583618  17.626568  92.0  120.0   \nlong-beach-va  90.0  100.0  120.0  144.0  133.763889  21.537733   0.0  120.0   \nswitzerland    85.0   95.0  115.0  121.0  130.206612  22.559151  80.0  115.0   \n\n                                   trestbpd                                    \\\n                 50%    75%    max    count       mean        std   min   25%   \ndataset                                                                         \ncleveland      130.0  140.0  200.0    282.0  84.946809   9.477864  50.0  80.0   \nhungarian      130.0  140.0  200.0    293.0  84.395904   9.267722  50.0  80.0   \nlong-beach-va  130.0  147.0  190.0    144.0  80.291667  11.737141   0.0  73.5   \nswitzerland    125.0  145.0  200.0    121.0  81.942149  11.390272  60.0  75.0   \n\n                                  exang                                     \\\n                50%   75%    max  count      mean       std  min  25%  50%   \ndataset                                                                      \ncleveland      85.0  90.0  110.0  282.0  0.326241  0.469670  0.0  0.0  0.0   \nhungarian      80.0  90.0  110.0  293.0  0.303754  0.460665  0.0  0.0  0.0   \nlong-beach-va  80.0  90.0  100.0  147.0  0.646259  0.479765  0.0  0.0  1.0   \nswitzerland    80.0  90.0  120.0  122.0  0.442623  0.498745  0.0  0.0  0.0   \n\n                         xhypo                                               \\\n               75%  max  count      mean       std  min  25%  50%  75%  max   \ndataset                                                                       \ncleveland      1.0  1.0  282.0  0.021277  0.144561  0.0  0.0  0.0  0.0  1.0   \nhungarian      1.0  1.0  292.0  0.003425  0.058521  0.0  0.0  0.0  0.0  1.0   \nlong-beach-va  1.0  1.0  147.0  0.054422  0.227624  0.0  0.0  0.0  0.0  1.0   \nswitzerland    1.0  1.0  120.0  0.058333  0.235355  0.0  0.0  0.0  0.0  1.0   \n\n              oldpeak                                               slope  \\\n                count      mean       std  min  25%  50%  75%  max  count   \ndataset                                                                     \ncleveland       282.0  1.026950  1.138825  0.0  0.0  0.8  1.6  6.2  282.0   \nhungarian       294.0  0.586054  0.908648  0.0  0.0  0.0  1.0  5.0  104.0   \nlong-beach-va   144.0  1.320833  1.106236 -0.5  0.0  1.5  2.0  4.0   99.0   \nswitzerland     117.0  0.653846  1.056061 -2.6  0.0  0.3  1.5  3.7  106.0   \n\n                                                            rldv5             \\\n                   mean       std  min  25%  50%  75%  max  count       mean   \ndataset                                                                        \ncleveland      1.585106  0.609700  1.0  1.0  2.0  2.0  3.0    0.0        NaN   \nhungarian      1.894231  0.338995  1.0  2.0  2.0  2.0  3.0  293.0  13.682594   \nlong-beach-va  2.111111  0.698232  0.0  2.0  2.0  3.0  3.0  135.0  16.007407   \nswitzerland    1.801887  0.623658  1.0  1.0  2.0  2.0  3.0   46.0  14.239130   \n\n                                                     rldv5e              \\\n                    std  min   25%   50%   75%   max  count        mean   \ndataset                                                                   \ncleveland           NaN  NaN   NaN   NaN   NaN   NaN  282.0  123.585106   \nhungarian      5.581734  3.0  10.0  13.0  17.0  31.0  294.0   13.295918   \nlong-beach-va  5.827747  2.0  11.5  16.0  20.0  36.0  135.0   15.792593   \nswitzerland    5.237407  7.0  11.0  13.0  18.0  26.0   46.0   14.739130   \n\n                                                                ca            \\\n                     std   min    25%    50%     75%    max  count      mean   \ndataset                                                                        \ncleveland      46.783839  24.0  92.00  118.0  152.75  270.0  280.0  0.664286   \nhungarian       5.345808   2.0   9.00   13.0   17.00   30.0    4.0  2.250000   \nlong-beach-va   6.125669   4.0  11.00   16.0   20.00   36.0    2.0  0.000000   \nswitzerland     5.555517   6.0  10.25   15.0   18.75   27.0    5.0  1.600000   \n\n                                                  restckm                   \\\n                    std  min  25%  50%   75%  max   count mean std min 25%   \ndataset                                                                      \ncleveland      0.936023  0.0  0.0  0.0  1.00  3.0     0.0  NaN NaN NaN NaN   \nhungarian      4.500000  0.0  0.0  0.0  2.25  9.0     0.0  NaN NaN NaN NaN   \nlong-beach-va  0.000000  0.0  0.0  0.0  0.00  0.0     0.0  NaN NaN NaN NaN   \nswitzerland    0.547723  1.0  1.0  2.0  2.00  2.0     0.0  NaN NaN NaN NaN   \n\n                          exerckm                                   restef  \\\n              50% 75% max   count mean std  min  25%  50%  75%  max  count   \ndataset                                                                      \ncleveland     NaN NaN NaN     0.0  NaN NaN  NaN  NaN  NaN  NaN  NaN    0.0   \nhungarian     NaN NaN NaN     0.0  NaN NaN  NaN  NaN  NaN  NaN  NaN    0.0   \nlong-beach-va NaN NaN NaN     1.0  0.0 NaN  0.0  0.0  0.0  0.0  0.0   28.0   \nswitzerland   NaN NaN NaN     0.0  NaN NaN  NaN  NaN  NaN  NaN  NaN    0.0   \n\n                                                                  restwm  \\\n                   mean       std   min     25%   50%    75%  max  count   \ndataset                                                                    \ncleveland           NaN       NaN   NaN     NaN   NaN    NaN  NaN    0.0   \nhungarian           NaN       NaN   NaN     NaN   NaN    NaN  NaN    3.0   \nlong-beach-va  0.531071  0.146195  0.22  0.4075  0.57  0.625  0.8   27.0   \nswitzerland         NaN       NaN   NaN     NaN   NaN    NaN  NaN    0.0   \n\n                                                          exeref        \\\n                   mean      std  min  25%  50%  75%  max  count  mean   \ndataset                                                                  \ncleveland           NaN      NaN  NaN  NaN  NaN  NaN  NaN    0.0   NaN   \nhungarian      0.000000  0.00000  0.0  0.0  0.0  0.0  0.0    0.0   NaN   \nlong-beach-va  1.148148  1.06351  0.0  0.0  1.0  2.0  3.0    2.0  0.55   \nswitzerland         NaN      NaN  NaN  NaN  NaN  NaN  NaN    0.0   NaN   \n\n                                                      exerwm            \\\n                    std  min    25%   50%    75%  max  count      mean   \ndataset                                                                  \ncleveland           NaN  NaN    NaN   NaN    NaN  NaN    0.0       NaN   \nhungarian           NaN  NaN    NaN   NaN    NaN  NaN    2.0  0.000000   \nlong-beach-va  0.070711  0.5  0.525  0.55  0.575  0.6    3.0  0.333333   \nswitzerland         NaN  NaN    NaN   NaN    NaN  NaN    0.0       NaN   \n\n                                                  thal                      \\\n                   std  min  25%  50%  75%  max  count      mean       std   \ndataset                                                                      \ncleveland          NaN  NaN  NaN  NaN  NaN  NaN  280.0  4.678571  1.939101   \nhungarian      0.00000  0.0  0.0  0.0  0.0  0.0   28.0  5.642857  1.615074   \nlong-beach-va  0.57735  0.0  0.0  0.0  0.5  1.0   41.0  5.707317  1.926706   \nswitzerland        NaN  NaN  NaN  NaN  NaN  NaN   73.0  5.698630  1.808045   \n\n                                        thalsev                                \\\n               min   25%  50%  75%  max   count      mean       std  min  25%   \ndataset                                                                         \ncleveland      3.0  3.00  3.0  7.0  7.0     0.0       NaN       NaN  NaN  NaN   \nhungarian      3.0  5.25  6.0  7.0  7.0    27.0  1.333333  0.877058  0.0  1.0   \nlong-beach-va  1.0  5.00  7.0  7.0  7.0    31.0  1.354839  1.018115  0.0  0.0   \nswitzerland    1.0  3.00  7.0  7.0  7.0    72.0  1.236111  0.971322  0.0  0.0   \n\n                             thalpul                                          \\\n               50%  75%  max   count      mean       std  min  25%  50%  75%   \ndataset                                                                        \ncleveland      NaN  NaN  NaN     0.0       NaN       NaN  NaN  NaN  NaN  NaN   \nhungarian      2.0  2.0  3.0    17.0  0.588235  0.507300  0.0  0.0  1.0  1.0   \nlong-beach-va  2.0  2.0  3.0     1.0  0.000000       NaN  0.0  0.0  0.0  0.0   \nswitzerland    1.0  2.0  3.0    26.0  0.115385  0.325813  0.0  0.0  0.0  0.0   \n\n                   earlobe                                      cmo            \\\n               max   count mean std  min  25%  50%  75%  max  count      mean   \ndataset                                                                         \ncleveland      NaN     0.0  NaN NaN  NaN  NaN  NaN  NaN  NaN  282.0  6.400709   \nhungarian      1.0     0.0  NaN NaN  NaN  NaN  NaN  NaN  NaN  294.0  6.241497   \nlong-beach-va  0.0     1.0  0.0 NaN  0.0  0.0  0.0  0.0  0.0  198.0  6.318182   \nswitzerland    1.0     0.0  NaN NaN  NaN  NaN  NaN  NaN  NaN  114.0  4.789474   \n\n                                                     cday             \\\n                    std  min  25%  50%   75%   max  count       mean   \ndataset                                                                \ncleveland      3.744376  1.0  3.0  7.0  10.0  12.0  282.0  15.347518   \nhungarian      3.212525  1.0  3.0  6.0   9.0  12.0  294.0  17.244898   \nlong-beach-va  3.414626  1.0  4.0  6.0   9.0  12.0  200.0  15.045000   \nswitzerland    3.270879  1.0  2.0  4.0   7.0  12.0  114.0  15.991228   \n\n                                                         cyr             \\\n                    std  min   25%   50%    75%   max  count       mean   \ndataset                                                                   \ncleveland      8.830541  1.0   8.0  15.0  22.00  31.0  282.0  82.304965   \nhungarian      8.667614  1.0  10.0  17.0  25.00  31.0  294.0  85.204082   \nlong-beach-va  8.849551  1.0   7.0  15.0  22.00  31.0  200.0  83.565000   \nswitzerland    9.184920  1.0   7.0  17.5  24.75  31.0  114.0  84.596491   \n\n                                                         num            \\\n                    std   min   25%   50%   75%   max  count      mean   \ndataset                                                                  \ncleveland      0.957780  81.0  82.0  82.0  83.0  84.0  282.0  0.907801   \nhungarian      1.117278  83.0  84.0  85.0  86.0  87.0  294.0  0.792517   \nlong-beach-va  8.772718   1.0  83.0  85.0  86.0  87.0  200.0  1.520000   \nswitzerland    0.590774  82.0  84.0  85.0  85.0  87.0  123.0  1.804878   \n\n                                                    lmt                       \\\n                    std  min  25%  50%  75%  max  count      mean        std   \ndataset                                                                        \ncleveland      1.224894  0.0  0.0  0.0  2.0  4.0  282.0  1.042553   0.202206   \nhungarian      1.237006  0.0  0.0  0.0  1.0  4.0   19.0  1.789474   0.418854   \nlong-beach-va  1.219441  0.0  0.0  1.0  3.0  4.0  200.0  1.850000  11.383560   \nswitzerland    1.013503  0.0  1.0  2.0  3.0  4.0  123.0  1.040650   0.198287   \n\n                                         ladprox                           \\\n               min  25%  50%  75%    max   count      mean       std  min   \ndataset                                                                     \ncleveland      1.0  1.0  1.0  1.0    2.0   282.0  1.141844  0.349510  1.0   \nhungarian      1.0  2.0  2.0  2.0    2.0    58.0  1.827586  0.381039  1.0   \nlong-beach-va  0.0  1.0  1.0  1.0  162.0   200.0  1.335000  0.473175  1.0   \nswitzerland    1.0  1.0  1.0  1.0    2.0   123.0  1.504065  0.502028  1.0   \n\n                                  laddist                                     \\\n               25%  50%  75%  max   count      mean       std  min  25%  50%   \ndataset                                                                        \ncleveland      1.0  1.0  1.0  2.0   282.0  1.205674  0.404912  1.0  1.0  1.0   \nhungarian      2.0  2.0  2.0  2.0    48.0  1.666667  0.476393  1.0  1.0  2.0   \nlong-beach-va  1.0  1.0  2.0  2.0   200.0  1.155000  0.362813  1.0  1.0  1.0   \nswitzerland    1.0  2.0  2.0  2.0   123.0  1.333333  0.473333  1.0  1.0  1.0   \n\n                          diag                                                \\\n               75%  max  count      mean       std  min   25%  50%  75%  max   \ndataset                                                                        \ncleveland      1.0  2.0    0.0       NaN       NaN  NaN   NaN  NaN  NaN  NaN   \nhungarian      2.0  2.0   18.0  1.722222  0.460889  1.0  1.25  2.0  2.0  2.0   \nlong-beach-va  1.0  2.0  200.0  1.145000  0.352984  1.0  1.00  1.0  1.0  2.0   \nswitzerland    2.0  2.0  123.0  1.219512  0.415609  1.0  1.00  1.0  1.0  2.0   \n\n              cxmain                                               ramus  \\\n               count      mean       std  min  25%  50%  75%  max  count   \ndataset                                                                    \ncleveland      282.0  1.156028  0.363527  1.0  1.0  1.0  1.0  2.0    0.0   \nhungarian       59.0  1.830508  0.378406  1.0  2.0  2.0  2.0  2.0    9.0   \nlong-beach-va  200.0  1.350000  0.478167  1.0  1.0  1.0  2.0  2.0  200.0   \nswitzerland    123.0  1.276423  0.449058  1.0  1.0  1.0  2.0  2.0  123.0   \n\n                                                              om1            \\\n                   mean       std  min  25%  50%  75%  max  count      mean   \ndataset                                                                       \ncleveland           NaN       NaN  NaN  NaN  NaN  NaN  NaN  282.0  1.163121   \nhungarian      1.777778  0.440959  1.0  2.0  2.0  2.0  2.0   23.0  1.826087   \nlong-beach-va  1.030000  0.171015  1.0  1.0  1.0  1.0  2.0  200.0  1.175000   \nswitzerland    1.203252  0.404064  1.0  1.0  1.0  1.0  2.0  123.0  1.089431   \n\n                                                    om2                      \\\n                    std  min  25%  50%  75%  max  count      mean       std   \ndataset                                                                       \ncleveland      0.370132  1.0  1.0  1.0  1.0  2.0    0.0       NaN       NaN   \nhungarian      0.387553  1.0  2.0  2.0  2.0  2.0    5.0  2.000000  0.000000   \nlong-beach-va  0.380921  1.0  1.0  1.0  1.0  2.0  199.0  1.050251  0.219014   \nswitzerland    0.286532  1.0  1.0  1.0  1.0  2.0  123.0  1.056911  0.232619   \n\n                                       rcaprox                                \\\n               min  25%  50%  75%  max   count      mean       std  min  25%   \ndataset                                                                        \ncleveland      NaN  NaN  NaN  NaN  NaN   282.0  1.173759  0.379576  1.0  1.0   \nhungarian      2.0  2.0  2.0  2.0  2.0    50.0  1.800000  0.404061  1.0  2.0   \nlong-beach-va  1.0  1.0  1.0  1.0  2.0   199.0  1.417085  0.494321  1.0  1.0   \nswitzerland    1.0  1.0  1.0  1.0  2.0   123.0  1.422764  0.496019  1.0  1.0   \n\n                             rcadist                                          \\\n               50%  75%  max   count      mean       std  min  25%  50%  75%   \ndataset                                                                        \ncleveland      1.0  1.0  2.0   282.0  1.127660  0.334304  1.0  1.0  1.0  1.0   \nhungarian      2.0  2.0  2.0    25.0  1.880000  0.331662  1.0  2.0  2.0  2.0   \nlong-beach-va  1.0  2.0  2.0   199.0  1.105528  0.308007  1.0  1.0  1.0  1.0   \nswitzerland    1.0  2.0  2.0   123.0  1.235772  0.426217  1.0  1.0  1.0  1.0   \n\n                     lvx1                                                lvx2  \\\n               max  count      mean       std  min  25%  50%  75%  max  count   \ndataset                                                                         \ncleveland      2.0  282.0  1.000000  0.000000  1.0  1.0  1.0  1.0  1.0  282.0   \nhungarian      2.0  294.0  1.000000  0.000000  1.0  1.0  1.0  1.0  1.0  294.0   \nlong-beach-va  2.0  198.0  1.000000  0.000000  1.0  1.0  1.0  1.0  1.0  198.0   \nswitzerland    2.0  106.0  1.169811  0.786453  1.0  1.0  1.0  1.0  7.0  106.0   \n\n                                                              lvx3            \\\n                   mean       std  min  25%  50%  75%   max  count      mean   \ndataset                                                                        \ncleveland      1.000000  0.000000  1.0  1.0  1.0  1.0   1.0  282.0  1.134752   \nhungarian      1.006803  0.116642  1.0  1.0  1.0  1.0   3.0  294.0  1.068027   \nlong-beach-va  1.070707  0.664587  1.0  1.0  1.0  1.0  10.0  198.0  1.166667   \nswitzerland    1.122642  0.752176  1.0  1.0  1.0  1.0   7.0  106.0  1.245283   \n\n                                                   lvx4                      \\\n                    std  min  25%  50%  75%  max  count      mean       std   \ndataset                                                                       \ncleveland      0.766002  1.0  1.0  1.0  1.0  8.0  282.0  1.411348  1.439508   \nhungarian      0.454929  1.0  1.0  1.0  1.0  5.0  294.0  1.479592  1.549389   \nlong-beach-va  0.696255  1.0  1.0  1.0  1.0  5.0  198.0  2.141414  2.250821   \nswitzerland    1.031054  1.0  1.0  1.0  1.0  7.0  106.0  1.518868  1.544459   \n\n                                          lvf                                \\\n               min  25%  50%  75%  max  count      mean       std  min  25%   \ndataset                                                                       \ncleveland      1.0  1.0  1.0  1.0  8.0  282.0  1.145390  0.442570  1.0  1.0   \nhungarian      1.0  1.0  1.0  1.0  8.0  294.0  1.102041  0.364550  1.0  1.0   \nlong-beach-va  1.0  1.0  1.0  1.0  7.0  197.0  1.167513  0.586724  0.0  1.0   \nswitzerland    1.0  1.0  1.0  1.0  8.0  110.0  1.490909  0.726250  0.0  1.0   \n\n                             cathef                                            \\\n               50%  75%  max  count       mean        std    min    25%   50%   \ndataset                                                                         \ncleveland      1.0  1.0  4.0    0.0        NaN        NaN    NaN    NaN   NaN   \nhungarian      1.0  1.0  4.0   28.0  60.571429  11.786460  18.00  58.75  63.5   \nlong-beach-va  1.0  1.0  5.0  177.0   0.671130   0.135323   0.22   0.58   0.7   \nswitzerland    1.0  2.0  4.0  106.0  63.924528   9.060325  36.00  58.00  65.0   \n\n                              junk                                          \\\n                 75%    max  count      mean       std  min  25%  50%  75%   \ndataset                                                                      \ncleveland        NaN    NaN    0.0       NaN       NaN  NaN  NaN  NaN  NaN   \nhungarian      67.25  75.00    0.0       NaN       NaN  NaN  NaN  NaN  NaN   \nlong-beach-va   0.77   0.89  119.0  5.869748  1.650914  3.3  4.8  5.6  6.9   \nswitzerland    70.00  86.00    0.0       NaN       NaN  NaN  NaN  NaN  NaN   \n\n                     \n                max  \ndataset              \ncleveland       NaN  \nhungarian       NaN  \nlong-beach-va  11.3  \nswitzerland     NaN  ",
      "text/html": "<div>\n<style scoped>\n    .dataframe tbody tr th:only-of-type {\n        vertical-align: middle;\n    }\n\n    .dataframe tbody tr th {\n        vertical-align: top;\n    }\n\n    .dataframe thead tr th {\n        text-align: left;\n    }\n\n    .dataframe thead tr:last-of-type th {\n        text-align: right;\n    }\n</style>\n<table border=\"1\" class=\"dataframe\">\n  <thead>\n    <tr>\n      <th></th>\n      <th colspan=\"8\" halign=\"left\">id</th>\n      <th colspan=\"8\" halign=\"left\">ccf</th>\n      <th colspan=\"8\" halign=\"left\">age</th>\n      <th colspan=\"8\" halign=\"left\">sex</th>\n      <th colspan=\"8\" halign=\"left\">painloc</th>\n      <th colspan=\"8\" halign=\"left\">painexer</th>\n      <th colspan=\"8\" halign=\"left\">relrest</th>\n      <th colspan=\"8\" halign=\"left\">pncaden</th>\n      <th colspan=\"8\" halign=\"left\">cp</th>\n      <th colspan=\"8\" halign=\"left\">trestbps</th>\n      <th colspan=\"8\" halign=\"left\">htn</th>\n      <th colspan=\"8\" halign=\"left\">chol</th>\n      <th colspan=\"8\" halign=\"left\">smoke</th>\n      <th colspan=\"8\" halign=\"left\">cigs</th>\n      <th colspan=\"8\" halign=\"left\">years</th>\n      <th colspan=\"8\" halign=\"left\">fbs</th>\n      <th colspan=\"8\" halign=\"left\">dm</th>\n      <th colspan=\"8\" halign=\"left\">famhist</th>\n      <th colspan=\"8\" halign=\"left\">restecg</th>\n      <th colspan=\"8\" halign=\"left\">ekgmo</th>\n      <th colspan=\"8\" halign=\"left\">ekgday</th>\n      <th colspan=\"8\" halign=\"left\">ekgyr</th>\n      <th colspan=\"8\" halign=\"left\">dig</th>\n      <th colspan=\"8\" halign=\"left\">prop</th>\n      <th colspan=\"8\" halign=\"left\">nitr</th>\n      <th colspan=\"8\" halign=\"left\">pro</th>\n      <th colspan=\"8\" halign=\"left\">diuretic</th>\n      <th colspan=\"8\" halign=\"left\">proto</th>\n      <th colspan=\"8\" halign=\"left\">thaldur</th>\n      <th colspan=\"8\" halign=\"left\">thaltime</th>\n      <th colspan=\"8\" halign=\"left\">met</th>\n      <th colspan=\"8\" halign=\"left\">thalach</th>\n      <th colspan=\"8\" halign=\"left\">thalrest</th>\n      <th colspan=\"8\" halign=\"left\">tpeakbps</th>\n      <th colspan=\"8\" halign=\"left\">tpeakbpd</th>\n      <th colspan=\"8\" halign=\"left\">dummy</th>\n      <th colspan=\"8\" halign=\"left\">trestbpd</th>\n      <th colspan=\"8\" halign=\"left\">exang</th>\n      <th colspan=\"8\" halign=\"left\">xhypo</th>\n      <th colspan=\"8\" halign=\"left\">oldpeak</th>\n      <th colspan=\"8\" halign=\"left\">slope</th>\n      <th colspan=\"8\" halign=\"left\">rldv5</th>\n      <th colspan=\"8\" halign=\"left\">rldv5e</th>\n      <th colspan=\"8\" halign=\"left\">ca</th>\n      <th colspan=\"8\" halign=\"left\">restckm</th>\n      <th colspan=\"8\" halign=\"left\">exerckm</th>\n      <th colspan=\"8\" halign=\"left\">restef</th>\n      <th colspan=\"8\" halign=\"left\">restwm</th>\n      <th colspan=\"8\" halign=\"left\">exeref</th>\n      <th colspan=\"8\" halign=\"left\">exerwm</th>\n      <th colspan=\"8\" halign=\"left\">thal</th>\n      <th colspan=\"8\" halign=\"left\">thalsev</th>\n      <th colspan=\"8\" halign=\"left\">thalpul</th>\n      <th colspan=\"8\" halign=\"left\">earlobe</th>\n      <th colspan=\"8\" halign=\"left\">cmo</th>\n      <th colspan=\"8\" halign=\"left\">cday</th>\n      <th colspan=\"8\" halign=\"left\">cyr</th>\n      <th colspan=\"8\" halign=\"left\">num</th>\n      <th colspan=\"8\" halign=\"left\">lmt</th>\n      <th colspan=\"8\" halign=\"left\">ladprox</th>\n      <th colspan=\"8\" halign=\"left\">laddist</th>\n      <th colspan=\"8\" halign=\"left\">diag</th>\n      <th colspan=\"8\" halign=\"left\">cxmain</th>\n      <th colspan=\"8\" halign=\"left\">ramus</th>\n      <th colspan=\"8\" halign=\"left\">om1</th>\n      <th colspan=\"8\" halign=\"left\">om2</th>\n      <th colspan=\"8\" halign=\"left\">rcaprox</th>\n      <th colspan=\"8\" halign=\"left\">rcadist</th>\n      <th colspan=\"8\" halign=\"left\">lvx1</th>\n      <th colspan=\"8\" halign=\"left\">lvx2</th>\n      <th colspan=\"8\" halign=\"left\">lvx3</th>\n      <th colspan=\"8\" halign=\"left\">lvx4</th>\n      <th colspan=\"8\" halign=\"left\">lvf</th>\n      <th colspan=\"8\" halign=\"left\">cathef</th>\n      <th colspan=\"8\" halign=\"left\">junk</th>\n    </tr>\n    <tr>\n      <th></th>\n      <th>count</th>\n      <th>mean</th>\n      <th>std</th>\n      <th>min</th>\n      <th>25%</th>\n      <th>50%</th>\n      <th>75%</th>\n      <th>max</th>\n      <th>count</th>\n      <th>mean</th>\n      <th>std</th>\n      <th>min</th>\n      <th>25%</th>\n      <th>50%</th>\n      <th>75%</th>\n      <th>max</th>\n      <th>count</th>\n      <th>mean</th>\n      <th>std</th>\n      <th>min</th>\n      <th>25%</th>\n      <th>50%</th>\n      <th>75%</th>\n      <th>max</th>\n      <th>count</th>\n      <th>mean</th>\n      <th>std</th>\n      <th>min</th>\n      <th>25%</th>\n      <th>50%</th>\n      <th>75%</th>\n      <th>max</th>\n      <th>count</th>\n      <th>mean</th>\n      <th>std</th>\n      <th>min</th>\n      <th>25%</th>\n      <th>50%</th>\n      <th>75%</th>\n      <th>max</th>\n      <th>count</th>\n      <th>mean</th>\n      <th>std</th>\n      <th>min</th>\n      <th>25%</th>\n      <th>50%</th>\n      <th>75%</th>\n      <th>max</th>\n      <th>count</th>\n      <th>mean</th>\n      <th>std</th>\n      <th>min</th>\n      <th>25%</th>\n      <th>50%</th>\n      <th>75%</th>\n      <th>max</th>\n      <th>count</th>\n      <th>mean</th>\n      <th>std</th>\n      <th>min</th>\n      <th>25%</th>\n      <th>50%</th>\n      <th>75%</th>\n      <th>max</th>\n      <th>count</th>\n      <th>mean</th>\n      <th>std</th>\n      <th>min</th>\n      <th>25%</th>\n      <th>50%</th>\n      <th>75%</th>\n      <th>max</th>\n      <th>count</th>\n      <th>mean</th>\n      <th>std</th>\n      <th>min</th>\n      <th>25%</th>\n      <th>50%</th>\n      <th>75%</th>\n      <th>max</th>\n      <th>count</th>\n      <th>mean</th>\n      <th>std</th>\n      <th>min</th>\n      <th>25%</th>\n      <th>50%</th>\n      <th>75%</th>\n      <th>max</th>\n      <th>count</th>\n      <th>mean</th>\n      <th>std</th>\n      <th>min</th>\n      <th>25%</th>\n      <th>50%</th>\n      <th>75%</th>\n      <th>max</th>\n      <th>count</th>\n      <th>mean</th>\n      <th>std</th>\n      <th>min</th>\n      <th>25%</th>\n      <th>50%</th>\n      <th>75%</th>\n      <th>max</th>\n      <th>count</th>\n      <th>mean</th>\n      <th>std</th>\n      <th>min</th>\n      <th>25%</th>\n      <th>50%</th>\n      <th>75%</th>\n      <th>max</th>\n      <th>count</th>\n      <th>mean</th>\n      <th>std</th>\n      <th>min</th>\n      <th>25%</th>\n      <th>50%</th>\n      <th>75%</th>\n      <th>max</th>\n      <th>count</th>\n      <th>mean</th>\n      <th>std</th>\n      <th>min</th>\n      <th>25%</th>\n      <th>50%</th>\n      <th>75%</th>\n      <th>max</th>\n      <th>count</th>\n      <th>mean</th>\n      <th>std</th>\n      <th>min</th>\n      <th>25%</th>\n      <th>50%</th>\n      <th>75%</th>\n      <th>max</th>\n      <th>count</th>\n      <th>mean</th>\n      <th>std</th>\n      <th>min</th>\n      <th>25%</th>\n      <th>50%</th>\n      <th>75%</th>\n      <th>max</th>\n      <th>count</th>\n      <th>mean</th>\n      <th>std</th>\n      <th>min</th>\n      <th>25%</th>\n      <th>50%</th>\n      <th>75%</th>\n      <th>max</th>\n      <th>count</th>\n      <th>mean</th>\n      <th>std</th>\n      <th>min</th>\n      <th>25%</th>\n      <th>50%</th>\n      <th>75%</th>\n      <th>max</th>\n      <th>count</th>\n      <th>mean</th>\n      <th>std</th>\n      <th>min</th>\n      <th>25%</th>\n      <th>50%</th>\n      <th>75%</th>\n      <th>max</th>\n      <th>count</th>\n      <th>mean</th>\n      <th>std</th>\n      <th>min</th>\n      <th>25%</th>\n      <th>50%</th>\n      <th>75%</th>\n      <th>max</th>\n      <th>count</th>\n      <th>mean</th>\n      <th>std</th>\n      <th>min</th>\n      <th>25%</th>\n      <th>50%</th>\n      <th>75%</th>\n      <th>max</th>\n      <th>count</th>\n      <th>mean</th>\n      <th>std</th>\n      <th>min</th>\n      <th>25%</th>\n      <th>50%</th>\n      <th>75%</th>\n      <th>max</th>\n      <th>count</th>\n      <th>mean</th>\n      <th>std</th>\n      <th>min</th>\n      <th>25%</th>\n      <th>50%</th>\n      <th>75%</th>\n      <th>max</th>\n      <th>count</th>\n      <th>mean</th>\n      <th>std</th>\n      <th>min</th>\n      <th>25%</th>\n      <th>50%</th>\n      <th>75%</th>\n      <th>max</th>\n      <th>count</th>\n      <th>mean</th>\n      <th>std</th>\n      <th>min</th>\n      <th>25%</th>\n      <th>50%</th>\n      <th>75%</th>\n      <th>max</th>\n      <th>count</th>\n      <th>mean</th>\n      <th>std</th>\n      <th>min</th>\n      <th>25%</th>\n      <th>50%</th>\n      <th>75%</th>\n      <th>max</th>\n      <th>count</th>\n      <th>mean</th>\n      <th>std</th>\n      <th>min</th>\n      <th>25%</th>\n      <th>50%</th>\n      <th>75%</th>\n      <th>max</th>\n      <th>count</th>\n      <th>mean</th>\n      <th>std</th>\n      <th>min</th>\n      <th>25%</th>\n      <th>50%</th>\n      <th>75%</th>\n      <th>max</th>\n      <th>count</th>\n      <th>mean</th>\n      <th>std</th>\n      <th>min</th>\n      <th>25%</th>\n      <th>50%</th>\n      <th>75%</th>\n      <th>max</th>\n      <th>count</th>\n      <th>mean</th>\n      <th>std</th>\n      <th>min</th>\n      <th>25%</th>\n      <th>50%</th>\n      <th>75%</th>\n      <th>max</th>\n      <th>count</th>\n      <th>mean</th>\n      <th>std</th>\n      <th>min</th>\n      <th>25%</th>\n      <th>50%</th>\n      <th>75%</th>\n      <th>max</th>\n      <th>count</th>\n      <th>mean</th>\n      <th>std</th>\n      <th>min</th>\n      <th>25%</th>\n      <th>50%</th>\n      <th>75%</th>\n      <th>max</th>\n      <th>count</th>\n      <th>mean</th>\n      <th>std</th>\n      <th>min</th>\n      <th>25%</th>\n      <th>50%</th>\n      <th>75%</th>\n      <th>max</th>\n      <th>count</th>\n      <th>mean</th>\n      <th>std</th>\n      <th>min</th>\n      <th>25%</th>\n      <th>50%</th>\n      <th>75%</th>\n      <th>max</th>\n      <th>count</th>\n      <th>mean</th>\n      <th>std</th>\n      <th>min</th>\n      <th>25%</th>\n      <th>50%</th>\n      <th>75%</th>\n      <th>max</th>\n      <th>count</th>\n      <th>mean</th>\n      <th>std</th>\n      <th>min</th>\n      <th>25%</th>\n      <th>50%</th>\n      <th>75%</th>\n      <th>max</th>\n      <th>count</th>\n      <th>mean</th>\n      <th>std</th>\n      <th>min</th>\n      <th>25%</th>\n      <th>50%</th>\n      <th>75%</th>\n      <th>max</th>\n      <th>count</th>\n      <th>mean</th>\n      <th>std</th>\n      <th>min</th>\n      <th>25%</th>\n      <th>50%</th>\n      <th>75%</th>\n      <th>max</th>\n      <th>count</th>\n      <th>mean</th>\n      <th>std</th>\n      <th>min</th>\n      <th>25%</th>\n      <th>50%</th>\n      <th>75%</th>\n      <th>max</th>\n      <th>count</th>\n      <th>mean</th>\n      <th>std</th>\n      <th>min</th>\n      <th>25%</th>\n      <th>50%</th>\n      <th>75%</th>\n      <th>max</th>\n      <th>count</th>\n      <th>mean</th>\n      <th>std</th>\n      <th>min</th>\n      <th>25%</th>\n      <th>50%</th>\n      <th>75%</th>\n      <th>max</th>\n      <th>count</th>\n      <th>mean</th>\n      <th>std</th>\n      <th>min</th>\n      <th>25%</th>\n      <th>50%</th>\n      <th>75%</th>\n      <th>max</th>\n      <th>count</th>\n      <th>mean</th>\n      <th>std</th>\n      <th>min</th>\n      <th>25%</th>\n      <th>50%</th>\n      <th>75%</th>\n      <th>max</th>\n      <th>count</th>\n      <th>mean</th>\n      <th>std</th>\n      <th>min</th>\n      <th>25%</th>\n      <th>50%</th>\n      <th>75%</th>\n      <th>max</th>\n      <th>count</th>\n      <th>mean</th>\n      <th>std</th>\n      <th>min</th>\n      <th>25%</th>\n      <th>50%</th>\n      <th>75%</th>\n      <th>max</th>\n      <th>count</th>\n      <th>mean</th>\n      <th>std</th>\n      <th>min</th>\n      <th>25%</th>\n      <th>50%</th>\n      <th>75%</th>\n      <th>max</th>\n      <th>count</th>\n      <th>mean</th>\n      <th>std</th>\n      <th>min</th>\n      <th>25%</th>\n      <th>50%</th>\n      <th>75%</th>\n      <th>max</th>\n      <th>count</th>\n      <th>mean</th>\n      <th>std</th>\n      <th>min</th>\n      <th>25%</th>\n      <th>50%</th>\n      <th>75%</th>\n      <th>max</th>\n      <th>count</th>\n      <th>mean</th>\n      <th>std</th>\n      <th>min</th>\n      <th>25%</th>\n      <th>50%</th>\n      <th>75%</th>\n      <th>max</th>\n      <th>count</th>\n      <th>mean</th>\n      <th>std</th>\n      <th>min</th>\n      <th>25%</th>\n      <th>50%</th>\n      <th>75%</th>\n      <th>max</th>\n      <th>count</th>\n      <th>mean</th>\n      <th>std</th>\n      <th>min</th>\n      <th>25%</th>\n      <th>50%</th>\n      <th>75%</th>\n      <th>max</th>\n      <th>count</th>\n      <th>mean</th>\n      <th>std</th>\n      <th>min</th>\n      <th>25%</th>\n      <th>50%</th>\n      <th>75%</th>\n      <th>max</th>\n      <th>count</th>\n      <th>mean</th>\n      <th>std</th>\n      <th>min</th>\n      <th>25%</th>\n      <th>50%</th>\n      <th>75%</th>\n      <th>max</th>\n      <th>count</th>\n      <th>mean</th>\n      <th>std</th>\n      <th>min</th>\n      <th>25%</th>\n      <th>50%</th>\n      <th>75%</th>\n      <th>max</th>\n      <th>count</th>\n      <th>mean</th>\n      <th>std</th>\n      <th>min</th>\n      <th>25%</th>\n      <th>50%</th>\n      <th>75%</th>\n      <th>max</th>\n      <th>count</th>\n      <th>mean</th>\n      <th>std</th>\n      <th>min</th>\n      <th>25%</th>\n      <th>50%</th>\n      <th>75%</th>\n      <th>max</th>\n      <th>count</th>\n      <th>mean</th>\n      <th>std</th>\n      <th>min</th>\n      <th>25%</th>\n      <th>50%</th>\n      <th>75%</th>\n      <th>max</th>\n      <th>count</th>\n      <th>mean</th>\n      <th>std</th>\n      <th>min</th>\n      <th>25%</th>\n      <th>50%</th>\n      <th>75%</th>\n      <th>max</th>\n      <th>count</th>\n      <th>mean</th>\n      <th>std</th>\n      <th>min</th>\n      <th>25%</th>\n      <th>50%</th>\n      <th>75%</th>\n      <th>max</th>\n      <th>count</th>\n      <th>mean</th>\n      <th>std</th>\n      <th>min</th>\n      <th>25%</th>\n      <th>50%</th>\n      <th>75%</th>\n      <th>max</th>\n      <th>count</th>\n      <th>mean</th>\n      <th>std</th>\n      <th>min</th>\n      <th>25%</th>\n      <th>50%</th>\n      <th>75%</th>\n      <th>max</th>\n      <th>count</th>\n      <th>mean</th>\n      <th>std</th>\n      <th>min</th>\n      <th>25%</th>\n      <th>50%</th>\n      <th>75%</th>\n      <th>max</th>\n      <th>count</th>\n      <th>mean</th>\n      <th>std</th>\n      <th>min</th>\n      <th>25%</th>\n      <th>50%</th>\n      <th>75%</th>\n      <th>max</th>\n      <th>count</th>\n      <th>mean</th>\n      <th>std</th>\n      <th>min</th>\n      <th>25%</th>\n      <th>50%</th>\n      <th>75%</th>\n      <th>max</th>\n      <th>count</th>\n      <th>mean</th>\n      <th>std</th>\n      <th>min</th>\n      <th>25%</th>\n      <th>50%</th>\n      <th>75%</th>\n      <th>max</th>\n      <th>count</th>\n      <th>mean</th>\n      <th>std</th>\n      <th>min</th>\n      <th>25%</th>\n      <th>50%</th>\n      <th>75%</th>\n      <th>max</th>\n      <th>count</th>\n      <th>mean</th>\n      <th>std</th>\n      <th>min</th>\n      <th>25%</th>\n      <th>50%</th>\n      <th>75%</th>\n      <th>max</th>\n      <th>count</th>\n      <th>mean</th>\n      <th>std</th>\n      <th>min</th>\n      <th>25%</th>\n      <th>50%</th>\n      <th>75%</th>\n      <th>max</th>\n      <th>count</th>\n      <th>mean</th>\n      <th>std</th>\n      <th>min</th>\n      <th>25%</th>\n      <th>50%</th>\n      <th>75%</th>\n      <th>max</th>\n      <th>count</th>\n      <th>mean</th>\n      <th>std</th>\n      <th>min</th>\n      <th>25%</th>\n      <th>50%</th>\n      <th>75%</th>\n      <th>max</th>\n      <th>count</th>\n      <th>mean</th>\n      <th>std</th>\n      <th>min</th>\n      <th>25%</th>\n      <th>50%</th>\n      <th>75%</th>\n      <th>max</th>\n      <th>count</th>\n      <th>mean</th>\n      <th>std</th>\n      <th>min</th>\n      <th>25%</th>\n      <th>50%</th>\n      <th>75%</th>\n      <th>max</th>\n      <th>count</th>\n      <th>mean</th>\n      <th>std</th>\n      <th>min</th>\n      <th>25%</th>\n      <th>50%</th>\n      <th>75%</th>\n      <th>max</th>\n    </tr>\n    <tr>\n      <th>dataset</th>\n      <th></th>\n      <th></th>\n      <th></th>\n      <th></th>\n      <th></th>\n      <th></th>\n      <th></th>\n      <th></th>\n      <th></th>\n      <th></th>\n      <th></th>\n      <th></th>\n      <th></th>\n      <th></th>\n      <th></th>\n      <th></th>\n      <th></th>\n      <th></th>\n      <th></th>\n      <th></th>\n      <th></th>\n      <th></th>\n      <th></th>\n      <th></th>\n      <th></th>\n      <th></th>\n      <th></th>\n      <th></th>\n      <th></th>\n      <th></th>\n      <th></th>\n      <th></th>\n      <th></th>\n      <th></th>\n      <th></th>\n      <th></th>\n      <th></th>\n      <th></th>\n      <th></th>\n      <th></th>\n      <th></th>\n      <th></th>\n      <th></th>\n      <th></th>\n      <th></th>\n      <th></th>\n      <th></th>\n      <th></th>\n      <th></th>\n      <th></th>\n      <th></th>\n      <th></th>\n      <th></th>\n      <th></th>\n      <th></th>\n      <th></th>\n      <th></th>\n      <th></th>\n      <th></th>\n      <th></th>\n      <th></th>\n      <th></th>\n      <th></th>\n      <th></th>\n      <th></th>\n      <th></th>\n      <th></th>\n      <th></th>\n      <th></th>\n      <th></th>\n      <th></th>\n      <th></th>\n      <th></th>\n      <th></th>\n      <th></th>\n      <th></th>\n      <th></th>\n      <th></th>\n      <th></th>\n      <th></th>\n      <th></th>\n      <th></th>\n      <th></th>\n      <th></th>\n      <th></th>\n      <th></th>\n      <th></th>\n      <th></th>\n      <th></th>\n      <th></th>\n      <th></th>\n      <th></th>\n      <th></th>\n      <th></th>\n      <th></th>\n      <th></th>\n      <th></th>\n      <th></th>\n      <th></th>\n      <th></th>\n      <th></th>\n      <th></th>\n      <th></th>\n      <th></th>\n      <th></th>\n      <th></th>\n      <th></th>\n      <th></th>\n      <th></th>\n      <th></th>\n      <th></th>\n      <th></th>\n      <th></th>\n      <th></th>\n      <th></th>\n      <th></th>\n      <th></th>\n      <th></th>\n      <th></th>\n      <th></th>\n      <th></th>\n      <th></th>\n      <th></th>\n      <th></th>\n      <th></th>\n      <th></th>\n      <th></th>\n      <th></th>\n      <th></th>\n      <th></th>\n      <th></th>\n      <th></th>\n      <th></th>\n      <th></th>\n      <th></th>\n      <th></th>\n      <th></th>\n      <th></th>\n      <th></th>\n      <th></th>\n      <th></th>\n      <th></th>\n      <th></th>\n      <th></th>\n      <th></th>\n      <th></th>\n      <th></th>\n      <th></th>\n      <th></th>\n      <th></th>\n      <th></th>\n      <th></th>\n      <th></th>\n      <th></th>\n      <th></th>\n      <th></th>\n      <th></th>\n      <th></th>\n      <th></th>\n      <th></th>\n      <th></th>\n      <th></th>\n      <th></th>\n      <th></th>\n      <th></th>\n      <th></th>\n      <th></th>\n      <th></th>\n      <th></th>\n      <th></th>\n      <th></th>\n      <th></th>\n      <th></th>\n      <th></th>\n      <th></th>\n      <th></th>\n      <th></th>\n      <th></th>\n      <th></th>\n      <th></th>\n      <th></th>\n      <th></th>\n      <th></th>\n      <th></th>\n      <th></th>\n      <th></th>\n      <th></th>\n      <th></th>\n      <th></th>\n      <th></th>\n      <th></th>\n      <th></th>\n      <th></th>\n      <th></th>\n      <th></th>\n      <th></th>\n      <th></th>\n      <th></th>\n      <th></th>\n      <th></th>\n      <th></th>\n      <th></th>\n      <th></th>\n      <th></th>\n      <th></th>\n      <th></th>\n      <th></th>\n      <th></th>\n      <th></th>\n      <th></th>\n      <th></th>\n      <th></th>\n      <th></th>\n      <th></th>\n      <th></th>\n      <th></th>\n      <th></th>\n      <th></th>\n      <th></th>\n      <th></th>\n      <th></th>\n      <th></th>\n      <th></th>\n      <th></th>\n      <th></th>\n      <th></th>\n      <th></th>\n      <th></th>\n      <th></th>\n      <th></th>\n      <th></th>\n      <th></th>\n      <th></th>\n      <th></th>\n      <th></th>\n      <th></th>\n      <th></th>\n      <th></th>\n      <th></th>\n      <th></th>\n      <th></th>\n      <th></th>\n      <th></th>\n      <th></th>\n      <th></th>\n      <th></th>\n      <th></th>\n      <th></th>\n      <th></th>\n      <th></th>\n      <th></th>\n      <th></th>\n      <th></th>\n      <th></th>\n      <th></th>\n      <th></th>\n      <th></th>\n      <th></th>\n      <th></th>\n      <th></th>\n      <th></th>\n      <th></th>\n      <th></th>\n      <th></th>\n      <th></th>\n      <th></th>\n      <th></th>\n      <th></th>\n      <th></th>\n      <th></th>\n      <th></th>\n      <th></th>\n      <th></th>\n      <th></th>\n      <th></th>\n      <th></th>\n      <th></th>\n      <th></th>\n      <th></th>\n      <th></th>\n      <th></th>\n      <th></th>\n      <th></th>\n      <th></th>\n      <th></th>\n      <th></th>\n      <th></th>\n      <th></th>\n      <th></th>\n      <th></th>\n      <th></th>\n      <th></th>\n      <th></th>\n      <th></th>\n      <th></th>\n      <th></th>\n      <th></th>\n      <th></th>\n      <th></th>\n      <th></th>\n      <th></th>\n      <th></th>\n      <th></th>\n      <th></th>\n      <th></th>\n      <th></th>\n      <th></th>\n      <th></th>\n      <th></th>\n      <th></th>\n      <th></th>\n      <th></th>\n      <th></th>\n      <th></th>\n      <th></th>\n      <th></th>\n      <th></th>\n      <th></th>\n      <th></th>\n      <th></th>\n      <th></th>\n      <th></th>\n      <th></th>\n      <th></th>\n      <th></th>\n      <th></th>\n      <th></th>\n      <th></th>\n      <th></th>\n      <th></th>\n      <th></th>\n      <th></th>\n      <th></th>\n      <th></th>\n      <th></th>\n      <th></th>\n      <th></th>\n      <th></th>\n      <th></th>\n      <th></th>\n      <th></th>\n      <th></th>\n      <th></th>\n      <th></th>\n      <th></th>\n      <th></th>\n      <th></th>\n      <th></th>\n      <th></th>\n      <th></th>\n      <th></th>\n      <th></th>\n      <th></th>\n      <th></th>\n      <th></th>\n      <th></th>\n      <th></th>\n      <th></th>\n      <th></th>\n      <th></th>\n      <th></th>\n      <th></th>\n      <th></th>\n      <th></th>\n      <th></th>\n      <th></th>\n      <th></th>\n      <th></th>\n      <th></th>\n      <th></th>\n      <th></th>\n      <th></th>\n      <th></th>\n      <th></th>\n      <th></th>\n      <th></th>\n      <th></th>\n      <th></th>\n      <th></th>\n      <th></th>\n      <th></th>\n      <th></th>\n      <th></th>\n      <th></th>\n      <th></th>\n      <th></th>\n      <th></th>\n      <th></th>\n      <th></th>\n      <th></th>\n      <th></th>\n      <th></th>\n      <th></th>\n      <th></th>\n      <th></th>\n      <th></th>\n      <th></th>\n      <th></th>\n      <th></th>\n      <th></th>\n      <th></th>\n      <th></th>\n      <th></th>\n      <th></th>\n      <th></th>\n      <th></th>\n      <th></th>\n      <th></th>\n      <th></th>\n      <th></th>\n      <th></th>\n      <th></th>\n      <th></th>\n      <th></th>\n      <th></th>\n      <th></th>\n      <th></th>\n      <th></th>\n      <th></th>\n      <th></th>\n      <th></th>\n      <th></th>\n      <th></th>\n      <th></th>\n      <th></th>\n      <th></th>\n      <th></th>\n      <th></th>\n      <th></th>\n      <th></th>\n      <th></th>\n      <th></th>\n      <th></th>\n      <th></th>\n      <th></th>\n      <th></th>\n      <th></th>\n      <th></th>\n      <th></th>\n      <th></th>\n      <th></th>\n      <th></th>\n      <th></th>\n      <th></th>\n      <th></th>\n      <th></th>\n      <th></th>\n      <th></th>\n      <th></th>\n      <th></th>\n      <th></th>\n      <th></th>\n      <th></th>\n      <th></th>\n      <th></th>\n      <th></th>\n      <th></th>\n      <th></th>\n      <th></th>\n      <th></th>\n      <th></th>\n      <th></th>\n      <th></th>\n      <th></th>\n      <th></th>\n      <th></th>\n      <th></th>\n      <th></th>\n      <th></th>\n      <th></th>\n      <th></th>\n      <th></th>\n      <th></th>\n      <th></th>\n      <th></th>\n      <th></th>\n      <th></th>\n      <th></th>\n      <th></th>\n      <th></th>\n      <th></th>\n      <th></th>\n      <th></th>\n      <th></th>\n      <th></th>\n      <th></th>\n      <th></th>\n      <th></th>\n      <th></th>\n      <th></th>\n      <th></th>\n      <th></th>\n      <th></th>\n      <th></th>\n      <th></th>\n      <th></th>\n      <th></th>\n      <th></th>\n      <th></th>\n      <th></th>\n      <th></th>\n      <th></th>\n      <th></th>\n      <th></th>\n      <th></th>\n      <th></th>\n      <th></th>\n      <th></th>\n      <th></th>\n      <th></th>\n      <th></th>\n      <th></th>\n      <th></th>\n      <th></th>\n      <th></th>\n      <th></th>\n      <th></th>\n      <th></th>\n      <th></th>\n      <th></th>\n      <th></th>\n      <th></th>\n      <th></th>\n      <th></th>\n      <th></th>\n      <th></th>\n      <th></th>\n      <th></th>\n      <th></th>\n      <th></th>\n      <th></th>\n      <th></th>\n      <th></th>\n      <th></th>\n      <th></th>\n      <th></th>\n      <th></th>\n      <th></th>\n      <th></th>\n      <th></th>\n      <th></th>\n      <th></th>\n      <th></th>\n      <th></th>\n      <th></th>\n      <th></th>\n      <th></th>\n      <th></th>\n      <th></th>\n      <th></th>\n      <th></th>\n      <th></th>\n      <th></th>\n      <th></th>\n      <th></th>\n      <th></th>\n      <th></th>\n      <th></th>\n      <th></th>\n      <th></th>\n      <th></th>\n      <th></th>\n      <th></th>\n      <th></th>\n      <th></th>\n      <th></th>\n      <th></th>\n      <th></th>\n      <th></th>\n      <th></th>\n      <th></th>\n      <th></th>\n      <th></th>\n      <th></th>\n      <th></th>\n      <th></th>\n      <th></th>\n      <th></th>\n      <th></th>\n      <th></th>\n      <th></th>\n      <th></th>\n      <th></th>\n      <th></th>\n      <th></th>\n      <th></th>\n      <th></th>\n      <th></th>\n      <th></th>\n      <th></th>\n      <th></th>\n      <th></th>\n      <th></th>\n      <th></th>\n      <th></th>\n      <th></th>\n      <th></th>\n      <th></th>\n      <th></th>\n      <th></th>\n    </tr>\n  </thead>\n  <tbody>\n    <tr>\n      <th>cleveland</th>\n      <td>282.0</td>\n      <td>151.517730</td>\n      <td>87.131234</td>\n      <td>1.0</td>\n      <td>75.25</td>\n      <td>151.5</td>\n      <td>227.75</td>\n      <td>298.0</td>\n      <td>282.0</td>\n      <td>0.0</td>\n      <td>0.0</td>\n      <td>0.0</td>\n      <td>0.0</td>\n      <td>0.0</td>\n      <td>0.0</td>\n      <td>0.0</td>\n      <td>282.0</td>\n      <td>54.411348</td>\n      <td>9.053083</td>\n      <td>29.0</td>\n      <td>48.0</td>\n      <td>55.0</td>\n      <td>61.0</td>\n      <td>77.0</td>\n      <td>282.0</td>\n      <td>0.677305</td>\n      <td>0.468338</td>\n      <td>0.0</td>\n      <td>0.0</td>\n      <td>1.0</td>\n      <td>1.0</td>\n      <td>1.0</td>\n      <td>0.0</td>\n      <td>NaN</td>\n      <td>NaN</td>\n      <td>NaN</td>\n      <td>NaN</td>\n      <td>NaN</td>\n      <td>NaN</td>\n      <td>NaN</td>\n      <td>0.0</td>\n      <td>NaN</td>\n      <td>NaN</td>\n      <td>NaN</td>\n      <td>NaN</td>\n      <td>NaN</td>\n      <td>NaN</td>\n      <td>NaN</td>\n      <td>0.0</td>\n      <td>NaN</td>\n      <td>NaN</td>\n      <td>NaN</td>\n      <td>NaN</td>\n      <td>NaN</td>\n      <td>NaN</td>\n      <td>NaN</td>\n      <td>0.0</td>\n      <td>NaN</td>\n      <td>NaN</td>\n      <td>NaN</td>\n      <td>NaN</td>\n      <td>NaN</td>\n      <td>NaN</td>\n      <td>NaN</td>\n      <td>282.0</td>\n      <td>3.163121</td>\n      <td>0.955405</td>\n      <td>1.0</td>\n      <td>3.0</td>\n      <td>3.0</td>\n      <td>4.0</td>\n      <td>4.0</td>\n      <td>282.0</td>\n      <td>131.563830</td>\n      <td>17.757496</td>\n      <td>94.0</td>\n      <td>120.0</td>\n      <td>130.0</td>\n      <td>140.0</td>\n      <td>200.0</td>\n      <td>282.0</td>\n      <td>0.617021</td>\n      <td>0.486977</td>\n      <td>0.0</td>\n      <td>0.0</td>\n      <td>1.0</td>\n      <td>1.0</td>\n      <td>1.0</td>\n      <td>282.0</td>\n      <td>249.092199</td>\n      <td>51.217546</td>\n      <td>126.0</td>\n      <td>213.0</td>\n      <td>244.0</td>\n      <td>277.0</td>\n      <td>564.0</td>\n      <td>0.0</td>\n      <td>NaN</td>\n      <td>NaN</td>\n      <td>NaN</td>\n      <td>NaN</td>\n      <td>NaN</td>\n      <td>NaN</td>\n      <td>NaN</td>\n      <td>277.0</td>\n      <td>16.920578</td>\n      <td>19.451934</td>\n      <td>0.0</td>\n      <td>0.0</td>\n      <td>10.0</td>\n      <td>30.0</td>\n      <td>99.0</td>\n      <td>277.0</td>\n      <td>15.259928</td>\n      <td>15.367867</td>\n      <td>0.0</td>\n      <td>0.00</td>\n      <td>15.0</td>\n      <td>30.0</td>\n      <td>54.0</td>\n      <td>282.0</td>\n      <td>0.148936</td>\n      <td>0.356658</td>\n      <td>0.0</td>\n      <td>0.0</td>\n      <td>0.0</td>\n      <td>0.0</td>\n      <td>1.0</td>\n      <td>23.0</td>\n      <td>1.000000</td>\n      <td>0.000000</td>\n      <td>1.0</td>\n      <td>1.0</td>\n      <td>1.0</td>\n      <td>1.0</td>\n      <td>1.0</td>\n      <td>282.0</td>\n      <td>0.620567</td>\n      <td>0.486108</td>\n      <td>0.0</td>\n      <td>0.0</td>\n      <td>1.0</td>\n      <td>1.0</td>\n      <td>1.0</td>\n      <td>282.0</td>\n      <td>1.014184</td>\n      <td>0.998118</td>\n      <td>0.0</td>\n      <td>0.0</td>\n      <td>2.0</td>\n      <td>2.0</td>\n      <td>2.0</td>\n      <td>282.0</td>\n      <td>6.404255</td>\n      <td>3.790752</td>\n      <td>1.0</td>\n      <td>3.0</td>\n      <td>7.0</td>\n      <td>10.0</td>\n      <td>12.0</td>\n      <td>282.0</td>\n      <td>15.223404</td>\n      <td>8.686089</td>\n      <td>1.0</td>\n      <td>8.00</td>\n      <td>15.0</td>\n      <td>22.0</td>\n      <td>31.0</td>\n      <td>282.0</td>\n      <td>82.301418</td>\n      <td>0.960759</td>\n      <td>81.0</td>\n      <td>82.0</td>\n      <td>82.0</td>\n      <td>83.0</td>\n      <td>84.0</td>\n      <td>280.0</td>\n      <td>0.032143</td>\n      <td>0.176695</td>\n      <td>0.0</td>\n      <td>0.0</td>\n      <td>0.0</td>\n      <td>0.0</td>\n      <td>1.0</td>\n      <td>280.0</td>\n      <td>0.335714</td>\n      <td>0.473085</td>\n      <td>0.0</td>\n      <td>0.0</td>\n      <td>0.0</td>\n      <td>1.0</td>\n      <td>1.0</td>\n      <td>280.0</td>\n      <td>0.246429</td>\n      <td>0.431703</td>\n      <td>0.0</td>\n      <td>0.0</td>\n      <td>0.0</td>\n      <td>0.0</td>\n      <td>1.0</td>\n      <td>280.0</td>\n      <td>0.100000</td>\n      <td>0.300537</td>\n      <td>0.0</td>\n      <td>0.0</td>\n      <td>0.0</td>\n      <td>0.0</td>\n      <td>1.0</td>\n      <td>280.0</td>\n      <td>0.114286</td>\n      <td>0.318728</td>\n      <td>0.0</td>\n      <td>0.0</td>\n      <td>0.0</td>\n      <td>0.0</td>\n      <td>1.0</td>\n      <td>282.0</td>\n      <td>1.000000</td>\n      <td>0.000000</td>\n      <td>1.0</td>\n      <td>1.0</td>\n      <td>1.0</td>\n      <td>1.0</td>\n      <td>1.0</td>\n      <td>282.0</td>\n      <td>8.418440</td>\n      <td>2.590569</td>\n      <td>1.8</td>\n      <td>6.5</td>\n      <td>8.5</td>\n      <td>10.075</td>\n      <td>15.0</td>\n      <td>213.0</td>\n      <td>4.882629</td>\n      <td>3.465331</td>\n      <td>0.0</td>\n      <td>3.000</td>\n      <td>5.50</td>\n      <td>7.000</td>\n      <td>15.0</td>\n      <td>282.0</td>\n      <td>9.753546</td>\n      <td>2.961870</td>\n      <td>3.0</td>\n      <td>7.0</td>\n      <td>9.0</td>\n      <td>12.0</td>\n      <td>18.0</td>\n      <td>282.0</td>\n      <td>149.765957</td>\n      <td>22.923869</td>\n      <td>71.0</td>\n      <td>133.25</td>\n      <td>153.5</td>\n      <td>165.75</td>\n      <td>202.0</td>\n      <td>282.0</td>\n      <td>75.117021</td>\n      <td>13.795809</td>\n      <td>40.0</td>\n      <td>65.0</td>\n      <td>74.0</td>\n      <td>84.00</td>\n      <td>119.0</td>\n      <td>282.0</td>\n      <td>168.056738</td>\n      <td>23.575961</td>\n      <td>84.0</td>\n      <td>154.0</td>\n      <td>168.0</td>\n      <td>184.0</td>\n      <td>232.0</td>\n      <td>282.0</td>\n      <td>78.744681</td>\n      <td>13.331206</td>\n      <td>26.0</td>\n      <td>70.0</td>\n      <td>80.0</td>\n      <td>85.0</td>\n      <td>120.0</td>\n      <td>282.0</td>\n      <td>131.563830</td>\n      <td>17.757496</td>\n      <td>94.0</td>\n      <td>120.0</td>\n      <td>130.0</td>\n      <td>140.0</td>\n      <td>200.0</td>\n      <td>282.0</td>\n      <td>84.946809</td>\n      <td>9.477864</td>\n      <td>50.0</td>\n      <td>80.0</td>\n      <td>85.0</td>\n      <td>90.0</td>\n      <td>110.0</td>\n      <td>282.0</td>\n      <td>0.326241</td>\n      <td>0.469670</td>\n      <td>0.0</td>\n      <td>0.0</td>\n      <td>0.0</td>\n      <td>1.0</td>\n      <td>1.0</td>\n      <td>282.0</td>\n      <td>0.021277</td>\n      <td>0.144561</td>\n      <td>0.0</td>\n      <td>0.0</td>\n      <td>0.0</td>\n      <td>0.0</td>\n      <td>1.0</td>\n      <td>282.0</td>\n      <td>1.026950</td>\n      <td>1.138825</td>\n      <td>0.0</td>\n      <td>0.0</td>\n      <td>0.8</td>\n      <td>1.6</td>\n      <td>6.2</td>\n      <td>282.0</td>\n      <td>1.585106</td>\n      <td>0.609700</td>\n      <td>1.0</td>\n      <td>1.0</td>\n      <td>2.0</td>\n      <td>2.0</td>\n      <td>3.0</td>\n      <td>0.0</td>\n      <td>NaN</td>\n      <td>NaN</td>\n      <td>NaN</td>\n      <td>NaN</td>\n      <td>NaN</td>\n      <td>NaN</td>\n      <td>NaN</td>\n      <td>282.0</td>\n      <td>123.585106</td>\n      <td>46.783839</td>\n      <td>24.0</td>\n      <td>92.00</td>\n      <td>118.0</td>\n      <td>152.75</td>\n      <td>270.0</td>\n      <td>280.0</td>\n      <td>0.664286</td>\n      <td>0.936023</td>\n      <td>0.0</td>\n      <td>0.0</td>\n      <td>0.0</td>\n      <td>1.00</td>\n      <td>3.0</td>\n      <td>0.0</td>\n      <td>NaN</td>\n      <td>NaN</td>\n      <td>NaN</td>\n      <td>NaN</td>\n      <td>NaN</td>\n      <td>NaN</td>\n      <td>NaN</td>\n      <td>0.0</td>\n      <td>NaN</td>\n      <td>NaN</td>\n      <td>NaN</td>\n      <td>NaN</td>\n      <td>NaN</td>\n      <td>NaN</td>\n      <td>NaN</td>\n      <td>0.0</td>\n      <td>NaN</td>\n      <td>NaN</td>\n      <td>NaN</td>\n      <td>NaN</td>\n      <td>NaN</td>\n      <td>NaN</td>\n      <td>NaN</td>\n      <td>0.0</td>\n      <td>NaN</td>\n      <td>NaN</td>\n      <td>NaN</td>\n      <td>NaN</td>\n      <td>NaN</td>\n      <td>NaN</td>\n      <td>NaN</td>\n      <td>0.0</td>\n      <td>NaN</td>\n      <td>NaN</td>\n      <td>NaN</td>\n      <td>NaN</td>\n      <td>NaN</td>\n      <td>NaN</td>\n      <td>NaN</td>\n      <td>0.0</td>\n      <td>NaN</td>\n      <td>NaN</td>\n      <td>NaN</td>\n      <td>NaN</td>\n      <td>NaN</td>\n      <td>NaN</td>\n      <td>NaN</td>\n      <td>280.0</td>\n      <td>4.678571</td>\n      <td>1.939101</td>\n      <td>3.0</td>\n      <td>3.00</td>\n      <td>3.0</td>\n      <td>7.0</td>\n      <td>7.0</td>\n      <td>0.0</td>\n      <td>NaN</td>\n      <td>NaN</td>\n      <td>NaN</td>\n      <td>NaN</td>\n      <td>NaN</td>\n      <td>NaN</td>\n      <td>NaN</td>\n      <td>0.0</td>\n      <td>NaN</td>\n      <td>NaN</td>\n      <td>NaN</td>\n      <td>NaN</td>\n      <td>NaN</td>\n      <td>NaN</td>\n      <td>NaN</td>\n      <td>0.0</td>\n      <td>NaN</td>\n      <td>NaN</td>\n      <td>NaN</td>\n      <td>NaN</td>\n      <td>NaN</td>\n      <td>NaN</td>\n      <td>NaN</td>\n      <td>282.0</td>\n      <td>6.400709</td>\n      <td>3.744376</td>\n      <td>1.0</td>\n      <td>3.0</td>\n      <td>7.0</td>\n      <td>10.0</td>\n      <td>12.0</td>\n      <td>282.0</td>\n      <td>15.347518</td>\n      <td>8.830541</td>\n      <td>1.0</td>\n      <td>8.0</td>\n      <td>15.0</td>\n      <td>22.00</td>\n      <td>31.0</td>\n      <td>282.0</td>\n      <td>82.304965</td>\n      <td>0.957780</td>\n      <td>81.0</td>\n      <td>82.0</td>\n      <td>82.0</td>\n      <td>83.0</td>\n      <td>84.0</td>\n      <td>282.0</td>\n      <td>0.907801</td>\n      <td>1.224894</td>\n      <td>0.0</td>\n      <td>0.0</td>\n      <td>0.0</td>\n      <td>2.0</td>\n      <td>4.0</td>\n      <td>282.0</td>\n      <td>1.042553</td>\n      <td>0.202206</td>\n      <td>1.0</td>\n      <td>1.0</td>\n      <td>1.0</td>\n      <td>1.0</td>\n      <td>2.0</td>\n      <td>282.0</td>\n      <td>1.141844</td>\n      <td>0.349510</td>\n      <td>1.0</td>\n      <td>1.0</td>\n      <td>1.0</td>\n      <td>1.0</td>\n      <td>2.0</td>\n      <td>282.0</td>\n      <td>1.205674</td>\n      <td>0.404912</td>\n      <td>1.0</td>\n      <td>1.0</td>\n      <td>1.0</td>\n      <td>1.0</td>\n      <td>2.0</td>\n      <td>0.0</td>\n      <td>NaN</td>\n      <td>NaN</td>\n      <td>NaN</td>\n      <td>NaN</td>\n      <td>NaN</td>\n      <td>NaN</td>\n      <td>NaN</td>\n      <td>282.0</td>\n      <td>1.156028</td>\n      <td>0.363527</td>\n      <td>1.0</td>\n      <td>1.0</td>\n      <td>1.0</td>\n      <td>1.0</td>\n      <td>2.0</td>\n      <td>0.0</td>\n      <td>NaN</td>\n      <td>NaN</td>\n      <td>NaN</td>\n      <td>NaN</td>\n      <td>NaN</td>\n      <td>NaN</td>\n      <td>NaN</td>\n      <td>282.0</td>\n      <td>1.163121</td>\n      <td>0.370132</td>\n      <td>1.0</td>\n      <td>1.0</td>\n      <td>1.0</td>\n      <td>1.0</td>\n      <td>2.0</td>\n      <td>0.0</td>\n      <td>NaN</td>\n      <td>NaN</td>\n      <td>NaN</td>\n      <td>NaN</td>\n      <td>NaN</td>\n      <td>NaN</td>\n      <td>NaN</td>\n      <td>282.0</td>\n      <td>1.173759</td>\n      <td>0.379576</td>\n      <td>1.0</td>\n      <td>1.0</td>\n      <td>1.0</td>\n      <td>1.0</td>\n      <td>2.0</td>\n      <td>282.0</td>\n      <td>1.127660</td>\n      <td>0.334304</td>\n      <td>1.0</td>\n      <td>1.0</td>\n      <td>1.0</td>\n      <td>1.0</td>\n      <td>2.0</td>\n      <td>282.0</td>\n      <td>1.000000</td>\n      <td>0.000000</td>\n      <td>1.0</td>\n      <td>1.0</td>\n      <td>1.0</td>\n      <td>1.0</td>\n      <td>1.0</td>\n      <td>282.0</td>\n      <td>1.000000</td>\n      <td>0.000000</td>\n      <td>1.0</td>\n      <td>1.0</td>\n      <td>1.0</td>\n      <td>1.0</td>\n      <td>1.0</td>\n      <td>282.0</td>\n      <td>1.134752</td>\n      <td>0.766002</td>\n      <td>1.0</td>\n      <td>1.0</td>\n      <td>1.0</td>\n      <td>1.0</td>\n      <td>8.0</td>\n      <td>282.0</td>\n      <td>1.411348</td>\n      <td>1.439508</td>\n      <td>1.0</td>\n      <td>1.0</td>\n      <td>1.0</td>\n      <td>1.0</td>\n      <td>8.0</td>\n      <td>282.0</td>\n      <td>1.145390</td>\n      <td>0.442570</td>\n      <td>1.0</td>\n      <td>1.0</td>\n      <td>1.0</td>\n      <td>1.0</td>\n      <td>4.0</td>\n      <td>0.0</td>\n      <td>NaN</td>\n      <td>NaN</td>\n      <td>NaN</td>\n      <td>NaN</td>\n      <td>NaN</td>\n      <td>NaN</td>\n      <td>NaN</td>\n      <td>0.0</td>\n      <td>NaN</td>\n      <td>NaN</td>\n      <td>NaN</td>\n      <td>NaN</td>\n      <td>NaN</td>\n      <td>NaN</td>\n      <td>NaN</td>\n    </tr>\n    <tr>\n      <th>hungarian</th>\n      <td>294.0</td>\n      <td>1195.853741</td>\n      <td>397.340367</td>\n      <td>1001.0</td>\n      <td>1080.25</td>\n      <td>1158.5</td>\n      <td>1235.75</td>\n      <td>5002.0</td>\n      <td>294.0</td>\n      <td>0.0</td>\n      <td>0.0</td>\n      <td>0.0</td>\n      <td>0.0</td>\n      <td>0.0</td>\n      <td>0.0</td>\n      <td>0.0</td>\n      <td>294.0</td>\n      <td>47.826531</td>\n      <td>7.811812</td>\n      <td>28.0</td>\n      <td>42.0</td>\n      <td>49.0</td>\n      <td>54.0</td>\n      <td>66.0</td>\n      <td>294.0</td>\n      <td>0.724490</td>\n      <td>0.447533</td>\n      <td>0.0</td>\n      <td>0.0</td>\n      <td>1.0</td>\n      <td>1.0</td>\n      <td>1.0</td>\n      <td>294.0</td>\n      <td>0.921769</td>\n      <td>0.268993</td>\n      <td>0.0</td>\n      <td>1.0</td>\n      <td>1.0</td>\n      <td>1.0</td>\n      <td>1.0</td>\n      <td>294.0</td>\n      <td>0.442177</td>\n      <td>0.497492</td>\n      <td>0.0</td>\n      <td>0.0</td>\n      <td>0.0</td>\n      <td>1.0</td>\n      <td>1.0</td>\n      <td>294.0</td>\n      <td>0.520408</td>\n      <td>0.500435</td>\n      <td>0.0</td>\n      <td>0.0</td>\n      <td>1.0</td>\n      <td>1.0</td>\n      <td>1.0</td>\n      <td>0.0</td>\n      <td>NaN</td>\n      <td>NaN</td>\n      <td>NaN</td>\n      <td>NaN</td>\n      <td>NaN</td>\n      <td>NaN</td>\n      <td>NaN</td>\n      <td>294.0</td>\n      <td>2.982993</td>\n      <td>0.965117</td>\n      <td>1.0</td>\n      <td>2.0</td>\n      <td>3.0</td>\n      <td>4.0</td>\n      <td>4.0</td>\n      <td>293.0</td>\n      <td>132.583618</td>\n      <td>17.626568</td>\n      <td>92.0</td>\n      <td>120.0</td>\n      <td>130.0</td>\n      <td>140.0</td>\n      <td>200.0</td>\n      <td>293.0</td>\n      <td>0.334471</td>\n      <td>0.472612</td>\n      <td>0.0</td>\n      <td>0.0</td>\n      <td>0.0</td>\n      <td>1.0</td>\n      <td>1.0</td>\n      <td>271.0</td>\n      <td>250.848708</td>\n      <td>67.657711</td>\n      <td>85.0</td>\n      <td>209.0</td>\n      <td>243.0</td>\n      <td>282.5</td>\n      <td>603.0</td>\n      <td>12.0</td>\n      <td>0.166667</td>\n      <td>0.389249</td>\n      <td>0.0</td>\n      <td>0.0</td>\n      <td>0.0</td>\n      <td>0.0</td>\n      <td>1.0</td>\n      <td>1.0</td>\n      <td>60.000000</td>\n      <td>NaN</td>\n      <td>60.0</td>\n      <td>60.0</td>\n      <td>60.0</td>\n      <td>60.0</td>\n      <td>60.0</td>\n      <td>0.0</td>\n      <td>NaN</td>\n      <td>NaN</td>\n      <td>NaN</td>\n      <td>NaN</td>\n      <td>NaN</td>\n      <td>NaN</td>\n      <td>NaN</td>\n      <td>286.0</td>\n      <td>0.069930</td>\n      <td>0.255476</td>\n      <td>0.0</td>\n      <td>0.0</td>\n      <td>0.0</td>\n      <td>0.0</td>\n      <td>1.0</td>\n      <td>21.0</td>\n      <td>1.000000</td>\n      <td>0.000000</td>\n      <td>1.0</td>\n      <td>1.0</td>\n      <td>1.0</td>\n      <td>1.0</td>\n      <td>1.0</td>\n      <td>1.0</td>\n      <td>0.000000</td>\n      <td>NaN</td>\n      <td>0.0</td>\n      <td>0.0</td>\n      <td>0.0</td>\n      <td>0.0</td>\n      <td>0.0</td>\n      <td>293.0</td>\n      <td>0.218430</td>\n      <td>0.460868</td>\n      <td>0.0</td>\n      <td>0.0</td>\n      <td>0.0</td>\n      <td>0.0</td>\n      <td>2.0</td>\n      <td>294.0</td>\n      <td>6.061224</td>\n      <td>3.203506</td>\n      <td>1.0</td>\n      <td>3.0</td>\n      <td>5.0</td>\n      <td>9.0</td>\n      <td>12.0</td>\n      <td>294.0</td>\n      <td>15.761905</td>\n      <td>8.717667</td>\n      <td>1.0</td>\n      <td>9.00</td>\n      <td>16.0</td>\n      <td>23.0</td>\n      <td>31.0</td>\n      <td>294.0</td>\n      <td>85.200680</td>\n      <td>1.122467</td>\n      <td>83.0</td>\n      <td>84.0</td>\n      <td>85.0</td>\n      <td>86.0</td>\n      <td>87.0</td>\n      <td>293.0</td>\n      <td>0.000000</td>\n      <td>0.000000</td>\n      <td>0.0</td>\n      <td>0.0</td>\n      <td>0.0</td>\n      <td>0.0</td>\n      <td>0.0</td>\n      <td>292.0</td>\n      <td>0.061644</td>\n      <td>0.240920</td>\n      <td>0.0</td>\n      <td>0.0</td>\n      <td>0.0</td>\n      <td>0.0</td>\n      <td>1.0</td>\n      <td>293.0</td>\n      <td>0.095563</td>\n      <td>0.294494</td>\n      <td>0.0</td>\n      <td>0.0</td>\n      <td>0.0</td>\n      <td>0.0</td>\n      <td>1.0</td>\n      <td>293.0</td>\n      <td>0.081911</td>\n      <td>0.274699</td>\n      <td>0.0</td>\n      <td>0.0</td>\n      <td>0.0</td>\n      <td>0.0</td>\n      <td>1.0</td>\n      <td>293.0</td>\n      <td>0.010239</td>\n      <td>0.100840</td>\n      <td>0.0</td>\n      <td>0.0</td>\n      <td>0.0</td>\n      <td>0.0</td>\n      <td>1.0</td>\n      <td>285.0</td>\n      <td>96.333333</td>\n      <td>37.538400</td>\n      <td>25.0</td>\n      <td>75.0</td>\n      <td>100.0</td>\n      <td>125.0</td>\n      <td>200.0</td>\n      <td>292.0</td>\n      <td>10.626712</td>\n      <td>4.643220</td>\n      <td>1.0</td>\n      <td>7.0</td>\n      <td>10.0</td>\n      <td>13.000</td>\n      <td>24.0</td>\n      <td>104.0</td>\n      <td>7.576923</td>\n      <td>4.144694</td>\n      <td>0.5</td>\n      <td>4.375</td>\n      <td>7.25</td>\n      <td>10.000</td>\n      <td>20.0</td>\n      <td>292.0</td>\n      <td>5.700342</td>\n      <td>1.864453</td>\n      <td>2.0</td>\n      <td>5.0</td>\n      <td>6.0</td>\n      <td>7.0</td>\n      <td>11.0</td>\n      <td>293.0</td>\n      <td>139.129693</td>\n      <td>23.589749</td>\n      <td>82.0</td>\n      <td>122.00</td>\n      <td>140.0</td>\n      <td>155.00</td>\n      <td>190.0</td>\n      <td>293.0</td>\n      <td>81.034130</td>\n      <td>15.534943</td>\n      <td>46.0</td>\n      <td>70.0</td>\n      <td>80.0</td>\n      <td>92.00</td>\n      <td>134.0</td>\n      <td>293.0</td>\n      <td>181.279863</td>\n      <td>25.615776</td>\n      <td>120.0</td>\n      <td>160.0</td>\n      <td>180.0</td>\n      <td>200.0</td>\n      <td>240.0</td>\n      <td>293.0</td>\n      <td>95.713311</td>\n      <td>12.369859</td>\n      <td>60.0</td>\n      <td>90.0</td>\n      <td>95.0</td>\n      <td>100.0</td>\n      <td>134.0</td>\n      <td>293.0</td>\n      <td>132.583618</td>\n      <td>17.626568</td>\n      <td>92.0</td>\n      <td>120.0</td>\n      <td>130.0</td>\n      <td>140.0</td>\n      <td>200.0</td>\n      <td>293.0</td>\n      <td>84.395904</td>\n      <td>9.267722</td>\n      <td>50.0</td>\n      <td>80.0</td>\n      <td>80.0</td>\n      <td>90.0</td>\n      <td>110.0</td>\n      <td>293.0</td>\n      <td>0.303754</td>\n      <td>0.460665</td>\n      <td>0.0</td>\n      <td>0.0</td>\n      <td>0.0</td>\n      <td>1.0</td>\n      <td>1.0</td>\n      <td>292.0</td>\n      <td>0.003425</td>\n      <td>0.058521</td>\n      <td>0.0</td>\n      <td>0.0</td>\n      <td>0.0</td>\n      <td>0.0</td>\n      <td>1.0</td>\n      <td>294.0</td>\n      <td>0.586054</td>\n      <td>0.908648</td>\n      <td>0.0</td>\n      <td>0.0</td>\n      <td>0.0</td>\n      <td>1.0</td>\n      <td>5.0</td>\n      <td>104.0</td>\n      <td>1.894231</td>\n      <td>0.338995</td>\n      <td>1.0</td>\n      <td>2.0</td>\n      <td>2.0</td>\n      <td>2.0</td>\n      <td>3.0</td>\n      <td>293.0</td>\n      <td>13.682594</td>\n      <td>5.581734</td>\n      <td>3.0</td>\n      <td>10.0</td>\n      <td>13.0</td>\n      <td>17.0</td>\n      <td>31.0</td>\n      <td>294.0</td>\n      <td>13.295918</td>\n      <td>5.345808</td>\n      <td>2.0</td>\n      <td>9.00</td>\n      <td>13.0</td>\n      <td>17.00</td>\n      <td>30.0</td>\n      <td>4.0</td>\n      <td>2.250000</td>\n      <td>4.500000</td>\n      <td>0.0</td>\n      <td>0.0</td>\n      <td>0.0</td>\n      <td>2.25</td>\n      <td>9.0</td>\n      <td>0.0</td>\n      <td>NaN</td>\n      <td>NaN</td>\n      <td>NaN</td>\n      <td>NaN</td>\n      <td>NaN</td>\n      <td>NaN</td>\n      <td>NaN</td>\n      <td>0.0</td>\n      <td>NaN</td>\n      <td>NaN</td>\n      <td>NaN</td>\n      <td>NaN</td>\n      <td>NaN</td>\n      <td>NaN</td>\n      <td>NaN</td>\n      <td>0.0</td>\n      <td>NaN</td>\n      <td>NaN</td>\n      <td>NaN</td>\n      <td>NaN</td>\n      <td>NaN</td>\n      <td>NaN</td>\n      <td>NaN</td>\n      <td>3.0</td>\n      <td>0.000000</td>\n      <td>0.00000</td>\n      <td>0.0</td>\n      <td>0.0</td>\n      <td>0.0</td>\n      <td>0.0</td>\n      <td>0.0</td>\n      <td>0.0</td>\n      <td>NaN</td>\n      <td>NaN</td>\n      <td>NaN</td>\n      <td>NaN</td>\n      <td>NaN</td>\n      <td>NaN</td>\n      <td>NaN</td>\n      <td>2.0</td>\n      <td>0.000000</td>\n      <td>0.00000</td>\n      <td>0.0</td>\n      <td>0.0</td>\n      <td>0.0</td>\n      <td>0.0</td>\n      <td>0.0</td>\n      <td>28.0</td>\n      <td>5.642857</td>\n      <td>1.615074</td>\n      <td>3.0</td>\n      <td>5.25</td>\n      <td>6.0</td>\n      <td>7.0</td>\n      <td>7.0</td>\n      <td>27.0</td>\n      <td>1.333333</td>\n      <td>0.877058</td>\n      <td>0.0</td>\n      <td>1.0</td>\n      <td>2.0</td>\n      <td>2.0</td>\n      <td>3.0</td>\n      <td>17.0</td>\n      <td>0.588235</td>\n      <td>0.507300</td>\n      <td>0.0</td>\n      <td>0.0</td>\n      <td>1.0</td>\n      <td>1.0</td>\n      <td>1.0</td>\n      <td>0.0</td>\n      <td>NaN</td>\n      <td>NaN</td>\n      <td>NaN</td>\n      <td>NaN</td>\n      <td>NaN</td>\n      <td>NaN</td>\n      <td>NaN</td>\n      <td>294.0</td>\n      <td>6.241497</td>\n      <td>3.212525</td>\n      <td>1.0</td>\n      <td>3.0</td>\n      <td>6.0</td>\n      <td>9.0</td>\n      <td>12.0</td>\n      <td>294.0</td>\n      <td>17.244898</td>\n      <td>8.667614</td>\n      <td>1.0</td>\n      <td>10.0</td>\n      <td>17.0</td>\n      <td>25.00</td>\n      <td>31.0</td>\n      <td>294.0</td>\n      <td>85.204082</td>\n      <td>1.117278</td>\n      <td>83.0</td>\n      <td>84.0</td>\n      <td>85.0</td>\n      <td>86.0</td>\n      <td>87.0</td>\n      <td>294.0</td>\n      <td>0.792517</td>\n      <td>1.237006</td>\n      <td>0.0</td>\n      <td>0.0</td>\n      <td>0.0</td>\n      <td>1.0</td>\n      <td>4.0</td>\n      <td>19.0</td>\n      <td>1.789474</td>\n      <td>0.418854</td>\n      <td>1.0</td>\n      <td>2.0</td>\n      <td>2.0</td>\n      <td>2.0</td>\n      <td>2.0</td>\n      <td>58.0</td>\n      <td>1.827586</td>\n      <td>0.381039</td>\n      <td>1.0</td>\n      <td>2.0</td>\n      <td>2.0</td>\n      <td>2.0</td>\n      <td>2.0</td>\n      <td>48.0</td>\n      <td>1.666667</td>\n      <td>0.476393</td>\n      <td>1.0</td>\n      <td>1.0</td>\n      <td>2.0</td>\n      <td>2.0</td>\n      <td>2.0</td>\n      <td>18.0</td>\n      <td>1.722222</td>\n      <td>0.460889</td>\n      <td>1.0</td>\n      <td>1.25</td>\n      <td>2.0</td>\n      <td>2.0</td>\n      <td>2.0</td>\n      <td>59.0</td>\n      <td>1.830508</td>\n      <td>0.378406</td>\n      <td>1.0</td>\n      <td>2.0</td>\n      <td>2.0</td>\n      <td>2.0</td>\n      <td>2.0</td>\n      <td>9.0</td>\n      <td>1.777778</td>\n      <td>0.440959</td>\n      <td>1.0</td>\n      <td>2.0</td>\n      <td>2.0</td>\n      <td>2.0</td>\n      <td>2.0</td>\n      <td>23.0</td>\n      <td>1.826087</td>\n      <td>0.387553</td>\n      <td>1.0</td>\n      <td>2.0</td>\n      <td>2.0</td>\n      <td>2.0</td>\n      <td>2.0</td>\n      <td>5.0</td>\n      <td>2.000000</td>\n      <td>0.000000</td>\n      <td>2.0</td>\n      <td>2.0</td>\n      <td>2.0</td>\n      <td>2.0</td>\n      <td>2.0</td>\n      <td>50.0</td>\n      <td>1.800000</td>\n      <td>0.404061</td>\n      <td>1.0</td>\n      <td>2.0</td>\n      <td>2.0</td>\n      <td>2.0</td>\n      <td>2.0</td>\n      <td>25.0</td>\n      <td>1.880000</td>\n      <td>0.331662</td>\n      <td>1.0</td>\n      <td>2.0</td>\n      <td>2.0</td>\n      <td>2.0</td>\n      <td>2.0</td>\n      <td>294.0</td>\n      <td>1.000000</td>\n      <td>0.000000</td>\n      <td>1.0</td>\n      <td>1.0</td>\n      <td>1.0</td>\n      <td>1.0</td>\n      <td>1.0</td>\n      <td>294.0</td>\n      <td>1.006803</td>\n      <td>0.116642</td>\n      <td>1.0</td>\n      <td>1.0</td>\n      <td>1.0</td>\n      <td>1.0</td>\n      <td>3.0</td>\n      <td>294.0</td>\n      <td>1.068027</td>\n      <td>0.454929</td>\n      <td>1.0</td>\n      <td>1.0</td>\n      <td>1.0</td>\n      <td>1.0</td>\n      <td>5.0</td>\n      <td>294.0</td>\n      <td>1.479592</td>\n      <td>1.549389</td>\n      <td>1.0</td>\n      <td>1.0</td>\n      <td>1.0</td>\n      <td>1.0</td>\n      <td>8.0</td>\n      <td>294.0</td>\n      <td>1.102041</td>\n      <td>0.364550</td>\n      <td>1.0</td>\n      <td>1.0</td>\n      <td>1.0</td>\n      <td>1.0</td>\n      <td>4.0</td>\n      <td>28.0</td>\n      <td>60.571429</td>\n      <td>11.786460</td>\n      <td>18.00</td>\n      <td>58.75</td>\n      <td>63.5</td>\n      <td>67.25</td>\n      <td>75.00</td>\n      <td>0.0</td>\n      <td>NaN</td>\n      <td>NaN</td>\n      <td>NaN</td>\n      <td>NaN</td>\n      <td>NaN</td>\n      <td>NaN</td>\n      <td>NaN</td>\n    </tr>\n    <tr>\n      <th>long-beach-va</th>\n      <td>200.0</td>\n      <td>101.310000</td>\n      <td>58.717824</td>\n      <td>1.0</td>\n      <td>50.75</td>\n      <td>100.5</td>\n      <td>152.25</td>\n      <td>202.0</td>\n      <td>200.0</td>\n      <td>0.0</td>\n      <td>0.0</td>\n      <td>0.0</td>\n      <td>0.0</td>\n      <td>0.0</td>\n      <td>0.0</td>\n      <td>0.0</td>\n      <td>200.0</td>\n      <td>59.350000</td>\n      <td>7.811697</td>\n      <td>35.0</td>\n      <td>55.0</td>\n      <td>60.0</td>\n      <td>64.0</td>\n      <td>77.0</td>\n      <td>200.0</td>\n      <td>0.970000</td>\n      <td>0.171015</td>\n      <td>0.0</td>\n      <td>1.0</td>\n      <td>1.0</td>\n      <td>1.0</td>\n      <td>1.0</td>\n      <td>200.0</td>\n      <td>0.925000</td>\n      <td>0.264052</td>\n      <td>0.0</td>\n      <td>1.0</td>\n      <td>1.0</td>\n      <td>1.0</td>\n      <td>1.0</td>\n      <td>200.0</td>\n      <td>0.675000</td>\n      <td>0.469550</td>\n      <td>0.0</td>\n      <td>0.0</td>\n      <td>1.0</td>\n      <td>1.0</td>\n      <td>1.0</td>\n      <td>196.0</td>\n      <td>0.831633</td>\n      <td>0.375150</td>\n      <td>0.0</td>\n      <td>1.0</td>\n      <td>1.0</td>\n      <td>1.0</td>\n      <td>1.0</td>\n      <td>0.0</td>\n      <td>NaN</td>\n      <td>NaN</td>\n      <td>NaN</td>\n      <td>NaN</td>\n      <td>NaN</td>\n      <td>NaN</td>\n      <td>NaN</td>\n      <td>200.0</td>\n      <td>3.505000</td>\n      <td>0.795701</td>\n      <td>1.0</td>\n      <td>3.0</td>\n      <td>4.0</td>\n      <td>4.0</td>\n      <td>4.0</td>\n      <td>144.0</td>\n      <td>133.763889</td>\n      <td>21.537733</td>\n      <td>0.0</td>\n      <td>120.0</td>\n      <td>130.0</td>\n      <td>147.0</td>\n      <td>190.0</td>\n      <td>197.0</td>\n      <td>0.543147</td>\n      <td>0.499404</td>\n      <td>0.0</td>\n      <td>0.0</td>\n      <td>1.0</td>\n      <td>1.0</td>\n      <td>1.0</td>\n      <td>193.0</td>\n      <td>178.746114</td>\n      <td>114.035232</td>\n      <td>0.0</td>\n      <td>0.0</td>\n      <td>216.0</td>\n      <td>258.0</td>\n      <td>458.0</td>\n      <td>195.0</td>\n      <td>0.507692</td>\n      <td>0.501228</td>\n      <td>0.0</td>\n      <td>0.0</td>\n      <td>1.0</td>\n      <td>1.0</td>\n      <td>1.0</td>\n      <td>190.0</td>\n      <td>21.742105</td>\n      <td>16.256600</td>\n      <td>0.0</td>\n      <td>10.0</td>\n      <td>20.0</td>\n      <td>30.0</td>\n      <td>80.0</td>\n      <td>188.0</td>\n      <td>23.728723</td>\n      <td>16.362727</td>\n      <td>0.0</td>\n      <td>7.75</td>\n      <td>25.0</td>\n      <td>40.0</td>\n      <td>60.0</td>\n      <td>193.0</td>\n      <td>0.352332</td>\n      <td>0.478939</td>\n      <td>0.0</td>\n      <td>0.0</td>\n      <td>0.0</td>\n      <td>1.0</td>\n      <td>1.0</td>\n      <td>43.0</td>\n      <td>0.906977</td>\n      <td>0.293903</td>\n      <td>0.0</td>\n      <td>1.0</td>\n      <td>1.0</td>\n      <td>1.0</td>\n      <td>1.0</td>\n      <td>192.0</td>\n      <td>0.479167</td>\n      <td>0.500872</td>\n      <td>0.0</td>\n      <td>0.0</td>\n      <td>0.0</td>\n      <td>1.0</td>\n      <td>1.0</td>\n      <td>200.0</td>\n      <td>0.735000</td>\n      <td>0.683455</td>\n      <td>0.0</td>\n      <td>0.0</td>\n      <td>1.0</td>\n      <td>1.0</td>\n      <td>2.0</td>\n      <td>148.0</td>\n      <td>6.195946</td>\n      <td>3.367833</td>\n      <td>1.0</td>\n      <td>4.0</td>\n      <td>6.0</td>\n      <td>9.0</td>\n      <td>12.0</td>\n      <td>147.0</td>\n      <td>15.285714</td>\n      <td>8.848032</td>\n      <td>1.0</td>\n      <td>7.00</td>\n      <td>16.0</td>\n      <td>23.0</td>\n      <td>31.0</td>\n      <td>148.0</td>\n      <td>84.655405</td>\n      <td>1.353820</td>\n      <td>81.0</td>\n      <td>83.0</td>\n      <td>85.0</td>\n      <td>86.0</td>\n      <td>87.0</td>\n      <td>140.0</td>\n      <td>0.128571</td>\n      <td>0.335927</td>\n      <td>0.0</td>\n      <td>0.0</td>\n      <td>0.0</td>\n      <td>0.0</td>\n      <td>1.0</td>\n      <td>140.0</td>\n      <td>0.521429</td>\n      <td>1.890787</td>\n      <td>0.0</td>\n      <td>0.0</td>\n      <td>0.0</td>\n      <td>1.0</td>\n      <td>22.0</td>\n      <td>141.0</td>\n      <td>0.567376</td>\n      <td>0.497206</td>\n      <td>0.0</td>\n      <td>0.0</td>\n      <td>1.0</td>\n      <td>1.0</td>\n      <td>1.0</td>\n      <td>141.0</td>\n      <td>0.255319</td>\n      <td>0.437595</td>\n      <td>0.0</td>\n      <td>0.0</td>\n      <td>0.0</td>\n      <td>1.0</td>\n      <td>1.0</td>\n      <td>127.0</td>\n      <td>0.259843</td>\n      <td>0.440285</td>\n      <td>0.0</td>\n      <td>0.0</td>\n      <td>0.0</td>\n      <td>1.0</td>\n      <td>1.0</td>\n      <td>147.0</td>\n      <td>3.877551</td>\n      <td>1.839066</td>\n      <td>1.0</td>\n      <td>1.0</td>\n      <td>5.0</td>\n      <td>5.0</td>\n      <td>6.0</td>\n      <td>147.0</td>\n      <td>6.216327</td>\n      <td>2.394937</td>\n      <td>1.5</td>\n      <td>4.5</td>\n      <td>6.0</td>\n      <td>8.000</td>\n      <td>12.0</td>\n      <td>40.0</td>\n      <td>5.047500</td>\n      <td>2.423601</td>\n      <td>0.0</td>\n      <td>3.600</td>\n      <td>5.00</td>\n      <td>6.625</td>\n      <td>11.3</td>\n      <td>147.0</td>\n      <td>6.106122</td>\n      <td>2.296669</td>\n      <td>2.0</td>\n      <td>5.0</td>\n      <td>6.0</td>\n      <td>8.0</td>\n      <td>13.0</td>\n      <td>147.0</td>\n      <td>122.795918</td>\n      <td>21.990328</td>\n      <td>69.0</td>\n      <td>109.00</td>\n      <td>120.0</td>\n      <td>140.00</td>\n      <td>180.0</td>\n      <td>146.0</td>\n      <td>69.726027</td>\n      <td>11.952504</td>\n      <td>37.0</td>\n      <td>62.0</td>\n      <td>68.0</td>\n      <td>76.00</td>\n      <td>139.0</td>\n      <td>141.0</td>\n      <td>163.510638</td>\n      <td>24.787848</td>\n      <td>100.0</td>\n      <td>148.0</td>\n      <td>160.0</td>\n      <td>180.0</td>\n      <td>220.0</td>\n      <td>141.0</td>\n      <td>88.170213</td>\n      <td>14.393926</td>\n      <td>11.0</td>\n      <td>80.0</td>\n      <td>90.0</td>\n      <td>100.0</td>\n      <td>120.0</td>\n      <td>144.0</td>\n      <td>133.763889</td>\n      <td>21.537733</td>\n      <td>0.0</td>\n      <td>120.0</td>\n      <td>130.0</td>\n      <td>147.0</td>\n      <td>190.0</td>\n      <td>144.0</td>\n      <td>80.291667</td>\n      <td>11.737141</td>\n      <td>0.0</td>\n      <td>73.5</td>\n      <td>80.0</td>\n      <td>90.0</td>\n      <td>100.0</td>\n      <td>147.0</td>\n      <td>0.646259</td>\n      <td>0.479765</td>\n      <td>0.0</td>\n      <td>0.0</td>\n      <td>1.0</td>\n      <td>1.0</td>\n      <td>1.0</td>\n      <td>147.0</td>\n      <td>0.054422</td>\n      <td>0.227624</td>\n      <td>0.0</td>\n      <td>0.0</td>\n      <td>0.0</td>\n      <td>0.0</td>\n      <td>1.0</td>\n      <td>144.0</td>\n      <td>1.320833</td>\n      <td>1.106236</td>\n      <td>-0.5</td>\n      <td>0.0</td>\n      <td>1.5</td>\n      <td>2.0</td>\n      <td>4.0</td>\n      <td>99.0</td>\n      <td>2.111111</td>\n      <td>0.698232</td>\n      <td>0.0</td>\n      <td>2.0</td>\n      <td>2.0</td>\n      <td>3.0</td>\n      <td>3.0</td>\n      <td>135.0</td>\n      <td>16.007407</td>\n      <td>5.827747</td>\n      <td>2.0</td>\n      <td>11.5</td>\n      <td>16.0</td>\n      <td>20.0</td>\n      <td>36.0</td>\n      <td>135.0</td>\n      <td>15.792593</td>\n      <td>6.125669</td>\n      <td>4.0</td>\n      <td>11.00</td>\n      <td>16.0</td>\n      <td>20.00</td>\n      <td>36.0</td>\n      <td>2.0</td>\n      <td>0.000000</td>\n      <td>0.000000</td>\n      <td>0.0</td>\n      <td>0.0</td>\n      <td>0.0</td>\n      <td>0.00</td>\n      <td>0.0</td>\n      <td>0.0</td>\n      <td>NaN</td>\n      <td>NaN</td>\n      <td>NaN</td>\n      <td>NaN</td>\n      <td>NaN</td>\n      <td>NaN</td>\n      <td>NaN</td>\n      <td>1.0</td>\n      <td>0.0</td>\n      <td>NaN</td>\n      <td>0.0</td>\n      <td>0.0</td>\n      <td>0.0</td>\n      <td>0.0</td>\n      <td>0.0</td>\n      <td>28.0</td>\n      <td>0.531071</td>\n      <td>0.146195</td>\n      <td>0.22</td>\n      <td>0.4075</td>\n      <td>0.57</td>\n      <td>0.625</td>\n      <td>0.8</td>\n      <td>27.0</td>\n      <td>1.148148</td>\n      <td>1.06351</td>\n      <td>0.0</td>\n      <td>0.0</td>\n      <td>1.0</td>\n      <td>2.0</td>\n      <td>3.0</td>\n      <td>2.0</td>\n      <td>0.55</td>\n      <td>0.070711</td>\n      <td>0.5</td>\n      <td>0.525</td>\n      <td>0.55</td>\n      <td>0.575</td>\n      <td>0.6</td>\n      <td>3.0</td>\n      <td>0.333333</td>\n      <td>0.57735</td>\n      <td>0.0</td>\n      <td>0.0</td>\n      <td>0.0</td>\n      <td>0.5</td>\n      <td>1.0</td>\n      <td>41.0</td>\n      <td>5.707317</td>\n      <td>1.926706</td>\n      <td>1.0</td>\n      <td>5.00</td>\n      <td>7.0</td>\n      <td>7.0</td>\n      <td>7.0</td>\n      <td>31.0</td>\n      <td>1.354839</td>\n      <td>1.018115</td>\n      <td>0.0</td>\n      <td>0.0</td>\n      <td>2.0</td>\n      <td>2.0</td>\n      <td>3.0</td>\n      <td>1.0</td>\n      <td>0.000000</td>\n      <td>NaN</td>\n      <td>0.0</td>\n      <td>0.0</td>\n      <td>0.0</td>\n      <td>0.0</td>\n      <td>0.0</td>\n      <td>1.0</td>\n      <td>0.0</td>\n      <td>NaN</td>\n      <td>0.0</td>\n      <td>0.0</td>\n      <td>0.0</td>\n      <td>0.0</td>\n      <td>0.0</td>\n      <td>198.0</td>\n      <td>6.318182</td>\n      <td>3.414626</td>\n      <td>1.0</td>\n      <td>4.0</td>\n      <td>6.0</td>\n      <td>9.0</td>\n      <td>12.0</td>\n      <td>200.0</td>\n      <td>15.045000</td>\n      <td>8.849551</td>\n      <td>1.0</td>\n      <td>7.0</td>\n      <td>15.0</td>\n      <td>22.00</td>\n      <td>31.0</td>\n      <td>200.0</td>\n      <td>83.565000</td>\n      <td>8.772718</td>\n      <td>1.0</td>\n      <td>83.0</td>\n      <td>85.0</td>\n      <td>86.0</td>\n      <td>87.0</td>\n      <td>200.0</td>\n      <td>1.520000</td>\n      <td>1.219441</td>\n      <td>0.0</td>\n      <td>0.0</td>\n      <td>1.0</td>\n      <td>3.0</td>\n      <td>4.0</td>\n      <td>200.0</td>\n      <td>1.850000</td>\n      <td>11.383560</td>\n      <td>0.0</td>\n      <td>1.0</td>\n      <td>1.0</td>\n      <td>1.0</td>\n      <td>162.0</td>\n      <td>200.0</td>\n      <td>1.335000</td>\n      <td>0.473175</td>\n      <td>1.0</td>\n      <td>1.0</td>\n      <td>1.0</td>\n      <td>2.0</td>\n      <td>2.0</td>\n      <td>200.0</td>\n      <td>1.155000</td>\n      <td>0.362813</td>\n      <td>1.0</td>\n      <td>1.0</td>\n      <td>1.0</td>\n      <td>1.0</td>\n      <td>2.0</td>\n      <td>200.0</td>\n      <td>1.145000</td>\n      <td>0.352984</td>\n      <td>1.0</td>\n      <td>1.00</td>\n      <td>1.0</td>\n      <td>1.0</td>\n      <td>2.0</td>\n      <td>200.0</td>\n      <td>1.350000</td>\n      <td>0.478167</td>\n      <td>1.0</td>\n      <td>1.0</td>\n      <td>1.0</td>\n      <td>2.0</td>\n      <td>2.0</td>\n      <td>200.0</td>\n      <td>1.030000</td>\n      <td>0.171015</td>\n      <td>1.0</td>\n      <td>1.0</td>\n      <td>1.0</td>\n      <td>1.0</td>\n      <td>2.0</td>\n      <td>200.0</td>\n      <td>1.175000</td>\n      <td>0.380921</td>\n      <td>1.0</td>\n      <td>1.0</td>\n      <td>1.0</td>\n      <td>1.0</td>\n      <td>2.0</td>\n      <td>199.0</td>\n      <td>1.050251</td>\n      <td>0.219014</td>\n      <td>1.0</td>\n      <td>1.0</td>\n      <td>1.0</td>\n      <td>1.0</td>\n      <td>2.0</td>\n      <td>199.0</td>\n      <td>1.417085</td>\n      <td>0.494321</td>\n      <td>1.0</td>\n      <td>1.0</td>\n      <td>1.0</td>\n      <td>2.0</td>\n      <td>2.0</td>\n      <td>199.0</td>\n      <td>1.105528</td>\n      <td>0.308007</td>\n      <td>1.0</td>\n      <td>1.0</td>\n      <td>1.0</td>\n      <td>1.0</td>\n      <td>2.0</td>\n      <td>198.0</td>\n      <td>1.000000</td>\n      <td>0.000000</td>\n      <td>1.0</td>\n      <td>1.0</td>\n      <td>1.0</td>\n      <td>1.0</td>\n      <td>1.0</td>\n      <td>198.0</td>\n      <td>1.070707</td>\n      <td>0.664587</td>\n      <td>1.0</td>\n      <td>1.0</td>\n      <td>1.0</td>\n      <td>1.0</td>\n      <td>10.0</td>\n      <td>198.0</td>\n      <td>1.166667</td>\n      <td>0.696255</td>\n      <td>1.0</td>\n      <td>1.0</td>\n      <td>1.0</td>\n      <td>1.0</td>\n      <td>5.0</td>\n      <td>198.0</td>\n      <td>2.141414</td>\n      <td>2.250821</td>\n      <td>1.0</td>\n      <td>1.0</td>\n      <td>1.0</td>\n      <td>1.0</td>\n      <td>7.0</td>\n      <td>197.0</td>\n      <td>1.167513</td>\n      <td>0.586724</td>\n      <td>0.0</td>\n      <td>1.0</td>\n      <td>1.0</td>\n      <td>1.0</td>\n      <td>5.0</td>\n      <td>177.0</td>\n      <td>0.671130</td>\n      <td>0.135323</td>\n      <td>0.22</td>\n      <td>0.58</td>\n      <td>0.7</td>\n      <td>0.77</td>\n      <td>0.89</td>\n      <td>119.0</td>\n      <td>5.869748</td>\n      <td>1.650914</td>\n      <td>3.3</td>\n      <td>4.8</td>\n      <td>5.6</td>\n      <td>6.9</td>\n      <td>11.3</td>\n    </tr>\n    <tr>\n      <th>switzerland</th>\n      <td>123.0</td>\n      <td>3625.886179</td>\n      <td>499.271374</td>\n      <td>3001.0</td>\n      <td>3031.50</td>\n      <td>4012.0</td>\n      <td>4042.50</td>\n      <td>4074.0</td>\n      <td>123.0</td>\n      <td>0.0</td>\n      <td>0.0</td>\n      <td>0.0</td>\n      <td>0.0</td>\n      <td>0.0</td>\n      <td>0.0</td>\n      <td>0.0</td>\n      <td>123.0</td>\n      <td>55.317073</td>\n      <td>9.032108</td>\n      <td>32.0</td>\n      <td>51.0</td>\n      <td>56.0</td>\n      <td>61.5</td>\n      <td>74.0</td>\n      <td>123.0</td>\n      <td>0.918699</td>\n      <td>0.274414</td>\n      <td>0.0</td>\n      <td>1.0</td>\n      <td>1.0</td>\n      <td>1.0</td>\n      <td>1.0</td>\n      <td>123.0</td>\n      <td>0.910569</td>\n      <td>0.286532</td>\n      <td>0.0</td>\n      <td>1.0</td>\n      <td>1.0</td>\n      <td>1.0</td>\n      <td>1.0</td>\n      <td>123.0</td>\n      <td>0.821138</td>\n      <td>0.384804</td>\n      <td>0.0</td>\n      <td>1.0</td>\n      <td>1.0</td>\n      <td>1.0</td>\n      <td>1.0</td>\n      <td>123.0</td>\n      <td>0.780488</td>\n      <td>0.415609</td>\n      <td>0.0</td>\n      <td>1.0</td>\n      <td>1.0</td>\n      <td>1.0</td>\n      <td>1.0</td>\n      <td>0.0</td>\n      <td>NaN</td>\n      <td>NaN</td>\n      <td>NaN</td>\n      <td>NaN</td>\n      <td>NaN</td>\n      <td>NaN</td>\n      <td>NaN</td>\n      <td>123.0</td>\n      <td>3.699187</td>\n      <td>0.688726</td>\n      <td>1.0</td>\n      <td>4.0</td>\n      <td>4.0</td>\n      <td>4.0</td>\n      <td>4.0</td>\n      <td>121.0</td>\n      <td>130.206612</td>\n      <td>22.559151</td>\n      <td>80.0</td>\n      <td>115.0</td>\n      <td>125.0</td>\n      <td>145.0</td>\n      <td>200.0</td>\n      <td>93.0</td>\n      <td>0.354839</td>\n      <td>0.481058</td>\n      <td>0.0</td>\n      <td>0.0</td>\n      <td>0.0</td>\n      <td>1.0</td>\n      <td>1.0</td>\n      <td>123.0</td>\n      <td>0.000000</td>\n      <td>0.000000</td>\n      <td>0.0</td>\n      <td>0.0</td>\n      <td>0.0</td>\n      <td>0.0</td>\n      <td>0.0</td>\n      <td>23.0</td>\n      <td>0.782609</td>\n      <td>0.421741</td>\n      <td>0.0</td>\n      <td>1.0</td>\n      <td>1.0</td>\n      <td>1.0</td>\n      <td>1.0</td>\n      <td>11.0</td>\n      <td>25.454545</td>\n      <td>9.341987</td>\n      <td>20.0</td>\n      <td>20.0</td>\n      <td>20.0</td>\n      <td>30.0</td>\n      <td>40.0</td>\n      <td>2.0</td>\n      <td>45.000000</td>\n      <td>7.071068</td>\n      <td>40.0</td>\n      <td>42.50</td>\n      <td>45.0</td>\n      <td>47.5</td>\n      <td>50.0</td>\n      <td>48.0</td>\n      <td>0.104167</td>\n      <td>0.308709</td>\n      <td>0.0</td>\n      <td>0.0</td>\n      <td>0.0</td>\n      <td>0.0</td>\n      <td>1.0</td>\n      <td>8.0</td>\n      <td>1.000000</td>\n      <td>0.000000</td>\n      <td>1.0</td>\n      <td>1.0</td>\n      <td>1.0</td>\n      <td>1.0</td>\n      <td>1.0</td>\n      <td>2.0</td>\n      <td>1.000000</td>\n      <td>0.000000</td>\n      <td>1.0</td>\n      <td>1.0</td>\n      <td>1.0</td>\n      <td>1.0</td>\n      <td>1.0</td>\n      <td>122.0</td>\n      <td>0.360656</td>\n      <td>0.590077</td>\n      <td>0.0</td>\n      <td>0.0</td>\n      <td>0.0</td>\n      <td>1.0</td>\n      <td>2.0</td>\n      <td>122.0</td>\n      <td>4.500000</td>\n      <td>3.191544</td>\n      <td>1.0</td>\n      <td>2.0</td>\n      <td>3.5</td>\n      <td>7.0</td>\n      <td>12.0</td>\n      <td>122.0</td>\n      <td>15.721311</td>\n      <td>9.019045</td>\n      <td>1.0</td>\n      <td>6.25</td>\n      <td>17.0</td>\n      <td>24.0</td>\n      <td>30.0</td>\n      <td>122.0</td>\n      <td>84.631148</td>\n      <td>0.484484</td>\n      <td>84.0</td>\n      <td>84.0</td>\n      <td>85.0</td>\n      <td>85.0</td>\n      <td>85.0</td>\n      <td>118.0</td>\n      <td>0.016949</td>\n      <td>0.129631</td>\n      <td>0.0</td>\n      <td>0.0</td>\n      <td>0.0</td>\n      <td>0.0</td>\n      <td>1.0</td>\n      <td>121.0</td>\n      <td>0.421488</td>\n      <td>0.495851</td>\n      <td>0.0</td>\n      <td>0.0</td>\n      <td>0.0</td>\n      <td>1.0</td>\n      <td>1.0</td>\n      <td>120.0</td>\n      <td>0.375000</td>\n      <td>0.486153</td>\n      <td>0.0</td>\n      <td>0.0</td>\n      <td>0.0</td>\n      <td>1.0</td>\n      <td>1.0</td>\n      <td>122.0</td>\n      <td>0.459016</td>\n      <td>0.500372</td>\n      <td>0.0</td>\n      <td>0.0</td>\n      <td>0.0</td>\n      <td>1.0</td>\n      <td>1.0</td>\n      <td>117.0</td>\n      <td>0.205128</td>\n      <td>0.405532</td>\n      <td>0.0</td>\n      <td>0.0</td>\n      <td>0.0</td>\n      <td>0.0</td>\n      <td>1.0</td>\n      <td>73.0</td>\n      <td>12.000000</td>\n      <td>0.000000</td>\n      <td>12.0</td>\n      <td>12.0</td>\n      <td>12.0</td>\n      <td>12.0</td>\n      <td>12.0</td>\n      <td>122.0</td>\n      <td>7.427049</td>\n      <td>2.250952</td>\n      <td>3.0</td>\n      <td>6.0</td>\n      <td>7.0</td>\n      <td>9.000</td>\n      <td>12.0</td>\n      <td>89.0</td>\n      <td>5.707865</td>\n      <td>4.804241</td>\n      <td>0.0</td>\n      <td>0.000</td>\n      <td>6.00</td>\n      <td>10.000</td>\n      <td>17.8</td>\n      <td>73.0</td>\n      <td>106.506849</td>\n      <td>35.849656</td>\n      <td>50.0</td>\n      <td>100.0</td>\n      <td>100.0</td>\n      <td>150.0</td>\n      <td>200.0</td>\n      <td>122.0</td>\n      <td>121.557377</td>\n      <td>25.977438</td>\n      <td>60.0</td>\n      <td>104.25</td>\n      <td>121.0</td>\n      <td>140.00</td>\n      <td>182.0</td>\n      <td>122.0</td>\n      <td>69.918033</td>\n      <td>12.949738</td>\n      <td>39.0</td>\n      <td>60.0</td>\n      <td>70.0</td>\n      <td>79.75</td>\n      <td>110.0</td>\n      <td>120.0</td>\n      <td>166.083333</td>\n      <td>25.156513</td>\n      <td>110.0</td>\n      <td>150.0</td>\n      <td>162.5</td>\n      <td>180.0</td>\n      <td>230.0</td>\n      <td>120.0</td>\n      <td>85.791667</td>\n      <td>11.559052</td>\n      <td>55.0</td>\n      <td>80.0</td>\n      <td>85.0</td>\n      <td>95.0</td>\n      <td>115.0</td>\n      <td>121.0</td>\n      <td>130.206612</td>\n      <td>22.559151</td>\n      <td>80.0</td>\n      <td>115.0</td>\n      <td>125.0</td>\n      <td>145.0</td>\n      <td>200.0</td>\n      <td>121.0</td>\n      <td>81.942149</td>\n      <td>11.390272</td>\n      <td>60.0</td>\n      <td>75.0</td>\n      <td>80.0</td>\n      <td>90.0</td>\n      <td>120.0</td>\n      <td>122.0</td>\n      <td>0.442623</td>\n      <td>0.498745</td>\n      <td>0.0</td>\n      <td>0.0</td>\n      <td>0.0</td>\n      <td>1.0</td>\n      <td>1.0</td>\n      <td>120.0</td>\n      <td>0.058333</td>\n      <td>0.235355</td>\n      <td>0.0</td>\n      <td>0.0</td>\n      <td>0.0</td>\n      <td>0.0</td>\n      <td>1.0</td>\n      <td>117.0</td>\n      <td>0.653846</td>\n      <td>1.056061</td>\n      <td>-2.6</td>\n      <td>0.0</td>\n      <td>0.3</td>\n      <td>1.5</td>\n      <td>3.7</td>\n      <td>106.0</td>\n      <td>1.801887</td>\n      <td>0.623658</td>\n      <td>1.0</td>\n      <td>1.0</td>\n      <td>2.0</td>\n      <td>2.0</td>\n      <td>3.0</td>\n      <td>46.0</td>\n      <td>14.239130</td>\n      <td>5.237407</td>\n      <td>7.0</td>\n      <td>11.0</td>\n      <td>13.0</td>\n      <td>18.0</td>\n      <td>26.0</td>\n      <td>46.0</td>\n      <td>14.739130</td>\n      <td>5.555517</td>\n      <td>6.0</td>\n      <td>10.25</td>\n      <td>15.0</td>\n      <td>18.75</td>\n      <td>27.0</td>\n      <td>5.0</td>\n      <td>1.600000</td>\n      <td>0.547723</td>\n      <td>1.0</td>\n      <td>1.0</td>\n      <td>2.0</td>\n      <td>2.00</td>\n      <td>2.0</td>\n      <td>0.0</td>\n      <td>NaN</td>\n      <td>NaN</td>\n      <td>NaN</td>\n      <td>NaN</td>\n      <td>NaN</td>\n      <td>NaN</td>\n      <td>NaN</td>\n      <td>0.0</td>\n      <td>NaN</td>\n      <td>NaN</td>\n      <td>NaN</td>\n      <td>NaN</td>\n      <td>NaN</td>\n      <td>NaN</td>\n      <td>NaN</td>\n      <td>0.0</td>\n      <td>NaN</td>\n      <td>NaN</td>\n      <td>NaN</td>\n      <td>NaN</td>\n      <td>NaN</td>\n      <td>NaN</td>\n      <td>NaN</td>\n      <td>0.0</td>\n      <td>NaN</td>\n      <td>NaN</td>\n      <td>NaN</td>\n      <td>NaN</td>\n      <td>NaN</td>\n      <td>NaN</td>\n      <td>NaN</td>\n      <td>0.0</td>\n      <td>NaN</td>\n      <td>NaN</td>\n      <td>NaN</td>\n      <td>NaN</td>\n      <td>NaN</td>\n      <td>NaN</td>\n      <td>NaN</td>\n      <td>0.0</td>\n      <td>NaN</td>\n      <td>NaN</td>\n      <td>NaN</td>\n      <td>NaN</td>\n      <td>NaN</td>\n      <td>NaN</td>\n      <td>NaN</td>\n      <td>73.0</td>\n      <td>5.698630</td>\n      <td>1.808045</td>\n      <td>1.0</td>\n      <td>3.00</td>\n      <td>7.0</td>\n      <td>7.0</td>\n      <td>7.0</td>\n      <td>72.0</td>\n      <td>1.236111</td>\n      <td>0.971322</td>\n      <td>0.0</td>\n      <td>0.0</td>\n      <td>1.0</td>\n      <td>2.0</td>\n      <td>3.0</td>\n      <td>26.0</td>\n      <td>0.115385</td>\n      <td>0.325813</td>\n      <td>0.0</td>\n      <td>0.0</td>\n      <td>0.0</td>\n      <td>0.0</td>\n      <td>1.0</td>\n      <td>0.0</td>\n      <td>NaN</td>\n      <td>NaN</td>\n      <td>NaN</td>\n      <td>NaN</td>\n      <td>NaN</td>\n      <td>NaN</td>\n      <td>NaN</td>\n      <td>114.0</td>\n      <td>4.789474</td>\n      <td>3.270879</td>\n      <td>1.0</td>\n      <td>2.0</td>\n      <td>4.0</td>\n      <td>7.0</td>\n      <td>12.0</td>\n      <td>114.0</td>\n      <td>15.991228</td>\n      <td>9.184920</td>\n      <td>1.0</td>\n      <td>7.0</td>\n      <td>17.5</td>\n      <td>24.75</td>\n      <td>31.0</td>\n      <td>114.0</td>\n      <td>84.596491</td>\n      <td>0.590774</td>\n      <td>82.0</td>\n      <td>84.0</td>\n      <td>85.0</td>\n      <td>85.0</td>\n      <td>87.0</td>\n      <td>123.0</td>\n      <td>1.804878</td>\n      <td>1.013503</td>\n      <td>0.0</td>\n      <td>1.0</td>\n      <td>2.0</td>\n      <td>3.0</td>\n      <td>4.0</td>\n      <td>123.0</td>\n      <td>1.040650</td>\n      <td>0.198287</td>\n      <td>1.0</td>\n      <td>1.0</td>\n      <td>1.0</td>\n      <td>1.0</td>\n      <td>2.0</td>\n      <td>123.0</td>\n      <td>1.504065</td>\n      <td>0.502028</td>\n      <td>1.0</td>\n      <td>1.0</td>\n      <td>2.0</td>\n      <td>2.0</td>\n      <td>2.0</td>\n      <td>123.0</td>\n      <td>1.333333</td>\n      <td>0.473333</td>\n      <td>1.0</td>\n      <td>1.0</td>\n      <td>1.0</td>\n      <td>2.0</td>\n      <td>2.0</td>\n      <td>123.0</td>\n      <td>1.219512</td>\n      <td>0.415609</td>\n      <td>1.0</td>\n      <td>1.00</td>\n      <td>1.0</td>\n      <td>1.0</td>\n      <td>2.0</td>\n      <td>123.0</td>\n      <td>1.276423</td>\n      <td>0.449058</td>\n      <td>1.0</td>\n      <td>1.0</td>\n      <td>1.0</td>\n      <td>2.0</td>\n      <td>2.0</td>\n      <td>123.0</td>\n      <td>1.203252</td>\n      <td>0.404064</td>\n      <td>1.0</td>\n      <td>1.0</td>\n      <td>1.0</td>\n      <td>1.0</td>\n      <td>2.0</td>\n      <td>123.0</td>\n      <td>1.089431</td>\n      <td>0.286532</td>\n      <td>1.0</td>\n      <td>1.0</td>\n      <td>1.0</td>\n      <td>1.0</td>\n      <td>2.0</td>\n      <td>123.0</td>\n      <td>1.056911</td>\n      <td>0.232619</td>\n      <td>1.0</td>\n      <td>1.0</td>\n      <td>1.0</td>\n      <td>1.0</td>\n      <td>2.0</td>\n      <td>123.0</td>\n      <td>1.422764</td>\n      <td>0.496019</td>\n      <td>1.0</td>\n      <td>1.0</td>\n      <td>1.0</td>\n      <td>2.0</td>\n      <td>2.0</td>\n      <td>123.0</td>\n      <td>1.235772</td>\n      <td>0.426217</td>\n      <td>1.0</td>\n      <td>1.0</td>\n      <td>1.0</td>\n      <td>1.0</td>\n      <td>2.0</td>\n      <td>106.0</td>\n      <td>1.169811</td>\n      <td>0.786453</td>\n      <td>1.0</td>\n      <td>1.0</td>\n      <td>1.0</td>\n      <td>1.0</td>\n      <td>7.0</td>\n      <td>106.0</td>\n      <td>1.122642</td>\n      <td>0.752176</td>\n      <td>1.0</td>\n      <td>1.0</td>\n      <td>1.0</td>\n      <td>1.0</td>\n      <td>7.0</td>\n      <td>106.0</td>\n      <td>1.245283</td>\n      <td>1.031054</td>\n      <td>1.0</td>\n      <td>1.0</td>\n      <td>1.0</td>\n      <td>1.0</td>\n      <td>7.0</td>\n      <td>106.0</td>\n      <td>1.518868</td>\n      <td>1.544459</td>\n      <td>1.0</td>\n      <td>1.0</td>\n      <td>1.0</td>\n      <td>1.0</td>\n      <td>8.0</td>\n      <td>110.0</td>\n      <td>1.490909</td>\n      <td>0.726250</td>\n      <td>0.0</td>\n      <td>1.0</td>\n      <td>1.0</td>\n      <td>2.0</td>\n      <td>4.0</td>\n      <td>106.0</td>\n      <td>63.924528</td>\n      <td>9.060325</td>\n      <td>36.00</td>\n      <td>58.00</td>\n      <td>65.0</td>\n      <td>70.00</td>\n      <td>86.00</td>\n      <td>0.0</td>\n      <td>NaN</td>\n      <td>NaN</td>\n      <td>NaN</td>\n      <td>NaN</td>\n      <td>NaN</td>\n      <td>NaN</td>\n      <td>NaN</td>\n    </tr>\n  </tbody>\n</table>\n</div>"
     },
     "execution_count": 50,
     "metadata": {},
     "output_type": "execute_result"
    }
   ],
   "source": [
    "df.groupby('dataset').describe()"
   ]
  },
  {
   "cell_type": "markdown",
   "metadata": {
    "collapsed": false
   },
   "source": [
    "## Through the high correlation check if dummy is equal to trestbps"
   ]
  },
  {
   "cell_type": "code",
   "execution_count": 51,
   "metadata": {
    "collapsed": false
   },
   "outputs": [
    {
     "name": "stdout",
     "output_type": "stream",
     "text": [
      "(840, 77)\n"
     ]
    }
   ],
   "source": [
    "print(df[df['dummy'] == df['trestbps']].shape)"
   ]
  },
  {
   "cell_type": "markdown",
   "metadata": {
    "collapsed": false
   },
   "source": [
    "It is assumed that these two variables are representing the same value. Dummy is therefor removed."
   ]
  },
  {
   "cell_type": "markdown",
   "source": [
    "# Drop columns"
   ],
   "metadata": {
    "collapsed": false
   }
  },
  {
   "cell_type": "code",
   "execution_count": 52,
   "metadata": {
    "collapsed": false
   },
   "outputs": [],
   "source": [
    "irrelevant_columns = [\n",
    "    \"id\", # A id is not relevant for a model\n",
    "    \"ccf\", # the social security number does not influence if you have a heart disease or not\n",
    "    \"pncaden\", # sum of painlox painexer relrest -> the features are already in the dataset -> drop because it is a duplicate\n",
    "    \"ekgmo\", # The date of the medical examination is irrelevant for the occurrence of a disease.\n",
    "    \"ekgday\", # The date of the medical examination is irrelevant for the occurrence of a disease.\n",
    "    \"ekgyr\", # The date of the medical examination is irrelevant for the occurrence of a disease.\n",
    "    \"cmo\", # The date of the medical examination is irrelevant for the occurrence of a disease.\n",
    "    \"cday\", # The date of the medical examination is irrelevant for the occurrence of a disease.\n",
    "    \"cyr\", # The date of the medical examination is irrelevant for the occurrence of a disease.\n",
    "    \"name\", # Constant\n",
    "\n",
    "]\n",
    "df.drop(irrelevant_columns, inplace=True, axis=1)"
   ]
  },
  {
   "cell_type": "code",
   "execution_count": 53,
   "metadata": {
    "collapsed": false
   },
   "outputs": [],
   "source": [
    "unexplained_columns = [\n",
    "    \"restckm\", # irrelevant according to the uci\n",
    "    \"exerckm\", # irrelevant according to the uci\n",
    "    \"thalsev\", # irrelevant according to the uci\n",
    "    \"thalpul\", # irrelevant according to the uci\n",
    "    \"earlobe\", # Constant\n",
    "    \"lvx1\", # it is not possible to gain information about what this feature measures -> could not be supplied to trained models -> drop https://archive.ics.uci.edu/ml/datasets/Heart+Disease\n",
    "    \"lvx2\", # it is not possible to gain information about what this feature measures -> could not be supplied to trained models -> drop https://archive.ics.uci.edu/ml/datasets/Heart+Disease\n",
    "    \"lvx3\", # it is not possible to gain information about what this feature measures -> could not be supplied to trained models -> drop https://archive.ics.uci.edu/ml/datasets/Heart+Disease\n",
    "    \"lvx4\", # it is not possible to gain information about what this feature measures -> could not be supplied to trained models -> drop https://archive.ics.uci.edu/ml/datasets/Heart+Disease\n",
    "    \"lvf\", # it is not possible to gain information about what this feature measures -> could not be supplied to trained models -> drop https://archive.ics.uci.edu/ml/datasets/Heart+Disease\n",
    "    'junk', # it is not possible to gain information about what this feature measures -> could not be supplied to trained models -> drop https://archive.ics.uci.edu/ml/datasets/Heart+Disease\n",
    "    \"dummy\" # same as trestbps\n",
    "]\n",
    "df.drop(unexplained_columns, inplace=True, axis=1)"
   ]
  },
  {
   "cell_type": "markdown",
   "source": [
    "# false predictors"
   ],
   "metadata": {
    "collapsed": false
   }
  },
  {
   "cell_type": "code",
   "execution_count": 54,
   "outputs": [],
   "source": [
    "from sklearn.model_selection import train_test_split\n",
    "X = df.loc[ : , (df.columns != 'num')&(df.columns != 'dataset')]\n",
    "y = df.loc[: , (df.columns== 'num')].values.ravel().copy()\n",
    "y[y> 1] = 1\n",
    "X_train, X_test, y_train, y_test = train_test_split(X, y, test_size=0.25, random_state=42)\n",
    "eval_set = [(X_train, y_train), (X_test, y_test)]"
   ],
   "metadata": {
    "collapsed": false
   }
  },
  {
   "cell_type": "code",
   "execution_count": 55,
   "outputs": [
    {
     "name": "stdout",
     "output_type": "stream",
     "text": [
      "[0]\tvalidation_0-auc:0.99054\tvalidation_1-auc:0.99200\n",
      "[1]\tvalidation_0-auc:0.99054\tvalidation_1-auc:0.99200\n",
      "[2]\tvalidation_0-auc:0.99727\tvalidation_1-auc:1.00000\n",
      "[3]\tvalidation_0-auc:0.99885\tvalidation_1-auc:1.00000\n",
      "[4]\tvalidation_0-auc:0.99885\tvalidation_1-auc:1.00000\n",
      "[5]\tvalidation_0-auc:0.99988\tvalidation_1-auc:1.00000\n",
      "[6]\tvalidation_0-auc:0.99988\tvalidation_1-auc:1.00000\n",
      "[7]\tvalidation_0-auc:0.99997\tvalidation_1-auc:1.00000\n",
      "[8]\tvalidation_0-auc:0.99997\tvalidation_1-auc:1.00000\n",
      "[9]\tvalidation_0-auc:0.99998\tvalidation_1-auc:1.00000\n",
      "[10]\tvalidation_0-auc:0.99998\tvalidation_1-auc:1.00000\n",
      "[11]\tvalidation_0-auc:0.99998\tvalidation_1-auc:1.00000\n",
      "[12]\tvalidation_0-auc:0.99998\tvalidation_1-auc:1.00000\n",
      "[13]\tvalidation_0-auc:0.99998\tvalidation_1-auc:1.00000\n",
      "[14]\tvalidation_0-auc:0.99998\tvalidation_1-auc:1.00000\n",
      "[15]\tvalidation_0-auc:0.99999\tvalidation_1-auc:1.00000\n",
      "[16]\tvalidation_0-auc:1.00000\tvalidation_1-auc:1.00000\n",
      "[17]\tvalidation_0-auc:1.00000\tvalidation_1-auc:1.00000\n",
      "[18]\tvalidation_0-auc:1.00000\tvalidation_1-auc:1.00000\n",
      "[19]\tvalidation_0-auc:1.00000\tvalidation_1-auc:1.00000\n",
      "[20]\tvalidation_0-auc:1.00000\tvalidation_1-auc:1.00000\n",
      "[21]\tvalidation_0-auc:1.00000\tvalidation_1-auc:1.00000\n",
      "[22]\tvalidation_0-auc:1.00000\tvalidation_1-auc:1.00000\n",
      "[23]\tvalidation_0-auc:1.00000\tvalidation_1-auc:0.99992\n",
      "[24]\tvalidation_0-auc:1.00000\tvalidation_1-auc:0.99992\n",
      "[25]\tvalidation_0-auc:1.00000\tvalidation_1-auc:0.99976\n",
      "[26]\tvalidation_0-auc:1.00000\tvalidation_1-auc:0.99976\n",
      "[27]\tvalidation_0-auc:1.00000\tvalidation_1-auc:0.99976\n",
      "[28]\tvalidation_0-auc:1.00000\tvalidation_1-auc:0.99976\n",
      "[29]\tvalidation_0-auc:1.00000\tvalidation_1-auc:0.99976\n",
      "[30]\tvalidation_0-auc:1.00000\tvalidation_1-auc:0.99976\n",
      "[31]\tvalidation_0-auc:1.00000\tvalidation_1-auc:0.99976\n",
      "[32]\tvalidation_0-auc:1.00000\tvalidation_1-auc:0.99976\n",
      "[33]\tvalidation_0-auc:1.00000\tvalidation_1-auc:0.99976\n",
      "[34]\tvalidation_0-auc:1.00000\tvalidation_1-auc:0.99984\n",
      "[35]\tvalidation_0-auc:1.00000\tvalidation_1-auc:0.99968\n",
      "[36]\tvalidation_0-auc:1.00000\tvalidation_1-auc:0.99968\n",
      "[37]\tvalidation_0-auc:1.00000\tvalidation_1-auc:0.99968\n",
      "[38]\tvalidation_0-auc:1.00000\tvalidation_1-auc:0.99968\n",
      "[39]\tvalidation_0-auc:1.00000\tvalidation_1-auc:0.99968\n",
      "[40]\tvalidation_0-auc:1.00000\tvalidation_1-auc:0.99968\n",
      "[41]\tvalidation_0-auc:1.00000\tvalidation_1-auc:0.99968\n",
      "[42]\tvalidation_0-auc:1.00000\tvalidation_1-auc:0.99960\n",
      "[43]\tvalidation_0-auc:1.00000\tvalidation_1-auc:0.99960\n",
      "[44]\tvalidation_0-auc:1.00000\tvalidation_1-auc:0.99960\n",
      "[45]\tvalidation_0-auc:1.00000\tvalidation_1-auc:0.99960\n",
      "[46]\tvalidation_0-auc:1.00000\tvalidation_1-auc:0.99960\n",
      "[47]\tvalidation_0-auc:1.00000\tvalidation_1-auc:0.99960\n",
      "[48]\tvalidation_0-auc:1.00000\tvalidation_1-auc:0.99960\n",
      "[49]\tvalidation_0-auc:1.00000\tvalidation_1-auc:0.99960\n",
      "[50]\tvalidation_0-auc:1.00000\tvalidation_1-auc:0.99952\n",
      "[51]\tvalidation_0-auc:1.00000\tvalidation_1-auc:0.99952\n",
      "[52]\tvalidation_0-auc:1.00000\tvalidation_1-auc:0.99952\n",
      "[53]\tvalidation_0-auc:1.00000\tvalidation_1-auc:0.99952\n",
      "[54]\tvalidation_0-auc:1.00000\tvalidation_1-auc:0.99952\n",
      "[55]\tvalidation_0-auc:1.00000\tvalidation_1-auc:0.99960\n",
      "[56]\tvalidation_0-auc:1.00000\tvalidation_1-auc:0.99960\n",
      "[57]\tvalidation_0-auc:1.00000\tvalidation_1-auc:0.99952\n",
      "[58]\tvalidation_0-auc:1.00000\tvalidation_1-auc:0.99952\n",
      "[59]\tvalidation_0-auc:1.00000\tvalidation_1-auc:0.99952\n",
      "[60]\tvalidation_0-auc:1.00000\tvalidation_1-auc:0.99952\n",
      "[61]\tvalidation_0-auc:1.00000\tvalidation_1-auc:0.99952\n",
      "[62]\tvalidation_0-auc:1.00000\tvalidation_1-auc:0.99952\n",
      "[63]\tvalidation_0-auc:1.00000\tvalidation_1-auc:0.99952\n",
      "[64]\tvalidation_0-auc:1.00000\tvalidation_1-auc:0.99952\n",
      "[65]\tvalidation_0-auc:1.00000\tvalidation_1-auc:0.99944\n",
      "[66]\tvalidation_0-auc:1.00000\tvalidation_1-auc:0.99952\n",
      "[67]\tvalidation_0-auc:1.00000\tvalidation_1-auc:0.99952\n",
      "[68]\tvalidation_0-auc:1.00000\tvalidation_1-auc:0.99944\n",
      "[69]\tvalidation_0-auc:1.00000\tvalidation_1-auc:0.99952\n",
      "[70]\tvalidation_0-auc:1.00000\tvalidation_1-auc:0.99952\n",
      "[71]\tvalidation_0-auc:1.00000\tvalidation_1-auc:0.99952\n",
      "[72]\tvalidation_0-auc:1.00000\tvalidation_1-auc:0.99952\n",
      "[73]\tvalidation_0-auc:1.00000\tvalidation_1-auc:0.99944\n",
      "[74]\tvalidation_0-auc:1.00000\tvalidation_1-auc:0.99944\n",
      "[75]\tvalidation_0-auc:1.00000\tvalidation_1-auc:0.99944\n",
      "[76]\tvalidation_0-auc:1.00000\tvalidation_1-auc:0.99936\n",
      "[77]\tvalidation_0-auc:1.00000\tvalidation_1-auc:0.99944\n",
      "[78]\tvalidation_0-auc:1.00000\tvalidation_1-auc:0.99944\n",
      "[79]\tvalidation_0-auc:1.00000\tvalidation_1-auc:0.99944\n",
      "[80]\tvalidation_0-auc:1.00000\tvalidation_1-auc:0.99944\n",
      "[81]\tvalidation_0-auc:1.00000\tvalidation_1-auc:0.99944\n",
      "[82]\tvalidation_0-auc:1.00000\tvalidation_1-auc:0.99944\n",
      "[83]\tvalidation_0-auc:1.00000\tvalidation_1-auc:0.99928\n",
      "[84]\tvalidation_0-auc:1.00000\tvalidation_1-auc:0.99928\n",
      "[85]\tvalidation_0-auc:1.00000\tvalidation_1-auc:0.99928\n",
      "[86]\tvalidation_0-auc:1.00000\tvalidation_1-auc:0.99928\n",
      "[87]\tvalidation_0-auc:1.00000\tvalidation_1-auc:0.99928\n",
      "[88]\tvalidation_0-auc:1.00000\tvalidation_1-auc:0.99928\n",
      "[89]\tvalidation_0-auc:1.00000\tvalidation_1-auc:0.99928\n",
      "[90]\tvalidation_0-auc:1.00000\tvalidation_1-auc:0.99928\n",
      "[91]\tvalidation_0-auc:1.00000\tvalidation_1-auc:0.99928\n",
      "[92]\tvalidation_0-auc:1.00000\tvalidation_1-auc:0.99928\n",
      "[93]\tvalidation_0-auc:1.00000\tvalidation_1-auc:0.99928\n",
      "[94]\tvalidation_0-auc:1.00000\tvalidation_1-auc:0.99928\n",
      "[95]\tvalidation_0-auc:1.00000\tvalidation_1-auc:0.99928\n",
      "[96]\tvalidation_0-auc:1.00000\tvalidation_1-auc:0.99928\n",
      "[97]\tvalidation_0-auc:1.00000\tvalidation_1-auc:0.99928\n",
      "[98]\tvalidation_0-auc:1.00000\tvalidation_1-auc:0.99928\n",
      "[99]\tvalidation_0-auc:1.00000\tvalidation_1-auc:0.99928\n"
     ]
    },
    {
     "data": {
      "text/plain": "XGBClassifier(base_score=0.5, booster='gbtree', callbacks=None,\n              colsample_bylevel=1, colsample_bynode=1, colsample_bytree=1,\n              early_stopping_rounds=None, enable_categorical=True,\n              eval_metric='auc', gamma=0, gpu_id=-1, grow_policy='depthwise',\n              importance_type=None, interaction_constraints='',\n              learning_rate=0.300000012, max_bin=256, max_cat_to_onehot=4,\n              max_delta_step=0, max_depth=6, max_leaves=0, min_child_weight=1,\n              missing=nan, monotone_constraints='()', n_estimators=100,\n              n_jobs=0, num_parallel_tree=1, predictor='auto', random_state=0,\n              reg_alpha=0, reg_lambda=1, ...)",
      "text/html": "<style>#sk-container-id-2 {color: black;background-color: white;}#sk-container-id-2 pre{padding: 0;}#sk-container-id-2 div.sk-toggleable {background-color: white;}#sk-container-id-2 label.sk-toggleable__label {cursor: pointer;display: block;width: 100%;margin-bottom: 0;padding: 0.3em;box-sizing: border-box;text-align: center;}#sk-container-id-2 label.sk-toggleable__label-arrow:before {content: \"▸\";float: left;margin-right: 0.25em;color: #696969;}#sk-container-id-2 label.sk-toggleable__label-arrow:hover:before {color: black;}#sk-container-id-2 div.sk-estimator:hover label.sk-toggleable__label-arrow:before {color: black;}#sk-container-id-2 div.sk-toggleable__content {max-height: 0;max-width: 0;overflow: hidden;text-align: left;background-color: #f0f8ff;}#sk-container-id-2 div.sk-toggleable__content pre {margin: 0.2em;color: black;border-radius: 0.25em;background-color: #f0f8ff;}#sk-container-id-2 input.sk-toggleable__control:checked~div.sk-toggleable__content {max-height: 200px;max-width: 100%;overflow: auto;}#sk-container-id-2 input.sk-toggleable__control:checked~label.sk-toggleable__label-arrow:before {content: \"▾\";}#sk-container-id-2 div.sk-estimator input.sk-toggleable__control:checked~label.sk-toggleable__label {background-color: #d4ebff;}#sk-container-id-2 div.sk-label input.sk-toggleable__control:checked~label.sk-toggleable__label {background-color: #d4ebff;}#sk-container-id-2 input.sk-hidden--visually {border: 0;clip: rect(1px 1px 1px 1px);clip: rect(1px, 1px, 1px, 1px);height: 1px;margin: -1px;overflow: hidden;padding: 0;position: absolute;width: 1px;}#sk-container-id-2 div.sk-estimator {font-family: monospace;background-color: #f0f8ff;border: 1px dotted black;border-radius: 0.25em;box-sizing: border-box;margin-bottom: 0.5em;}#sk-container-id-2 div.sk-estimator:hover {background-color: #d4ebff;}#sk-container-id-2 div.sk-parallel-item::after {content: \"\";width: 100%;border-bottom: 1px solid gray;flex-grow: 1;}#sk-container-id-2 div.sk-label:hover label.sk-toggleable__label {background-color: #d4ebff;}#sk-container-id-2 div.sk-serial::before {content: \"\";position: absolute;border-left: 1px solid gray;box-sizing: border-box;top: 0;bottom: 0;left: 50%;z-index: 0;}#sk-container-id-2 div.sk-serial {display: flex;flex-direction: column;align-items: center;background-color: white;padding-right: 0.2em;padding-left: 0.2em;position: relative;}#sk-container-id-2 div.sk-item {position: relative;z-index: 1;}#sk-container-id-2 div.sk-parallel {display: flex;align-items: stretch;justify-content: center;background-color: white;position: relative;}#sk-container-id-2 div.sk-item::before, #sk-container-id-2 div.sk-parallel-item::before {content: \"\";position: absolute;border-left: 1px solid gray;box-sizing: border-box;top: 0;bottom: 0;left: 50%;z-index: -1;}#sk-container-id-2 div.sk-parallel-item {display: flex;flex-direction: column;z-index: 1;position: relative;background-color: white;}#sk-container-id-2 div.sk-parallel-item:first-child::after {align-self: flex-end;width: 50%;}#sk-container-id-2 div.sk-parallel-item:last-child::after {align-self: flex-start;width: 50%;}#sk-container-id-2 div.sk-parallel-item:only-child::after {width: 0;}#sk-container-id-2 div.sk-dashed-wrapped {border: 1px dashed gray;margin: 0 0.4em 0.5em 0.4em;box-sizing: border-box;padding-bottom: 0.4em;background-color: white;}#sk-container-id-2 div.sk-label label {font-family: monospace;font-weight: bold;display: inline-block;line-height: 1.2em;}#sk-container-id-2 div.sk-label-container {text-align: center;}#sk-container-id-2 div.sk-container {/* jupyter's `normalize.less` sets `[hidden] { display: none; }` but bootstrap.min.css set `[hidden] { display: none !important; }` so we also need the `!important` here to be able to override the default hidden behavior on the sphinx rendered scikit-learn.org. See: https://github.com/scikit-learn/scikit-learn/issues/21755 */display: inline-block !important;position: relative;}#sk-container-id-2 div.sk-text-repr-fallback {display: none;}</style><div id=\"sk-container-id-2\" class=\"sk-top-container\"><div class=\"sk-text-repr-fallback\"><pre>XGBClassifier(base_score=0.5, booster=&#x27;gbtree&#x27;, callbacks=None,\n              colsample_bylevel=1, colsample_bynode=1, colsample_bytree=1,\n              early_stopping_rounds=None, enable_categorical=True,\n              eval_metric=&#x27;auc&#x27;, gamma=0, gpu_id=-1, grow_policy=&#x27;depthwise&#x27;,\n              importance_type=None, interaction_constraints=&#x27;&#x27;,\n              learning_rate=0.300000012, max_bin=256, max_cat_to_onehot=4,\n              max_delta_step=0, max_depth=6, max_leaves=0, min_child_weight=1,\n              missing=nan, monotone_constraints=&#x27;()&#x27;, n_estimators=100,\n              n_jobs=0, num_parallel_tree=1, predictor=&#x27;auto&#x27;, random_state=0,\n              reg_alpha=0, reg_lambda=1, ...)</pre><b>In a Jupyter environment, please rerun this cell to show the HTML representation or trust the notebook. <br />On GitHub, the HTML representation is unable to render, please try loading this page with nbviewer.org.</b></div><div class=\"sk-container\" hidden><div class=\"sk-item\"><div class=\"sk-estimator sk-toggleable\"><input class=\"sk-toggleable__control sk-hidden--visually\" id=\"sk-estimator-id-2\" type=\"checkbox\" checked><label for=\"sk-estimator-id-2\" class=\"sk-toggleable__label sk-toggleable__label-arrow\">XGBClassifier</label><div class=\"sk-toggleable__content\"><pre>XGBClassifier(base_score=0.5, booster=&#x27;gbtree&#x27;, callbacks=None,\n              colsample_bylevel=1, colsample_bynode=1, colsample_bytree=1,\n              early_stopping_rounds=None, enable_categorical=True,\n              eval_metric=&#x27;auc&#x27;, gamma=0, gpu_id=-1, grow_policy=&#x27;depthwise&#x27;,\n              importance_type=None, interaction_constraints=&#x27;&#x27;,\n              learning_rate=0.300000012, max_bin=256, max_cat_to_onehot=4,\n              max_delta_step=0, max_depth=6, max_leaves=0, min_child_weight=1,\n              missing=nan, monotone_constraints=&#x27;()&#x27;, n_estimators=100,\n              n_jobs=0, num_parallel_tree=1, predictor=&#x27;auto&#x27;, random_state=0,\n              reg_alpha=0, reg_lambda=1, ...)</pre></div></div></div></div></div>"
     },
     "execution_count": 55,
     "metadata": {},
     "output_type": "execute_result"
    }
   ],
   "source": [
    "from xgboost import XGBClassifier\n",
    "xgb = XGBClassifier(tree_method=\"hist\", eval_metric= \"auc\", enable_categorical=True)\n",
    "xgb.fit(X_train, y_train, eval_set=eval_set)"
   ],
   "metadata": {
    "collapsed": false
   }
  },
  {
   "cell_type": "code",
   "execution_count": 56,
   "outputs": [],
   "source": [
    "results = xgb.evals_result()\n",
    "epochs = len(results['validation_0']['auc'])\n",
    "x_axis = np.arange(0, 1.001,0.01)"
   ],
   "metadata": {
    "collapsed": false
   }
  },
  {
   "cell_type": "code",
   "execution_count": 57,
   "outputs": [
    {
     "data": {
      "text/plain": "<Figure size 640x480 with 1 Axes>",
      "image/png": "[encoded data removed]"
     },
     "metadata": {},
     "output_type": "display_data"
    }
   ],
   "source": [
    "fig, ax = plt.subplots()\n",
    "ax.plot(x_axis, [0]+results['validation_0']['auc'], label='Train')\n",
    "ax.plot(x_axis, [0]+results['validation_1']['auc'], label='Test')\n",
    "ax.legend()\n",
    "plt.ylabel('AUC')\n",
    "plt.title('XGBoost AUC')\n",
    "plt.ylim(-0.1, 1.1)\n",
    "plt.savefig('XGBoost AUC.pdf', bbox_inches='tight')\n",
    "plt.show()"
   ],
   "metadata": {
    "collapsed": false
   }
  },
  {
   "cell_type": "code",
   "execution_count": 58,
   "outputs": [
    {
     "data": {
      "text/plain": "<Figure size 640x480 with 1 Axes>",
      "image/png": "[encoded data removed]"
     },
     "metadata": {},
     "output_type": "display_data"
    }
   ],
   "source": [
    "sorted_idx = xgb.feature_importances_.argsort()\n",
    "\n",
    "plt.barh(X.columns[sorted_idx][-9:], xgb.feature_importances_[sorted_idx][-9:])\n",
    "plt.xlabel(\"Xgboost Feature Importance\")\n",
    "plt.title('Most important features for XGBoost')\n",
    "plt.savefig('Xgboost Feature Importance.pdf', bbox_inches='tight')"
   ],
   "metadata": {
    "collapsed": false
   }
  },
  {
   "cell_type": "code",
   "execution_count": 59,
   "outputs": [
    {
     "data": {
      "text/plain": "0.987"
     },
     "execution_count": 59,
     "metadata": {},
     "output_type": "execute_result"
    }
   ],
   "source": [
    "from sklearn.metrics import roc_auc_score\n",
    "\n",
    "roc_auc_score(y_test, xgb.predict(X_test))"
   ],
   "metadata": {
    "collapsed": false
   }
  },
  {
   "cell_type": "code",
   "execution_count": 60,
   "metadata": {
    "collapsed": false
   },
   "outputs": [],
   "source": [
    "hidden_identifier = [\n",
    "    'lmt',      # Left main truck\n",
    "    'ladprox',  # Proximal left anterior descending artery\n",
    "    'laddist',  # Distal left anterior descending artery\n",
    "    'diag',     # Diagonal branches\n",
    "    'cxmain',   # Circumflex\n",
    "    'ramus',    # Ramus intermedius\n",
    "    'om1',      # First obtuse marginal branch\n",
    "    'om2',      # Second obtuse marginal branch\n",
    "    'rcaprox',  # Proximal right coronary artery\n",
    "    'rcadist',  # Distal right coronary artery\n",
    "]\n",
    "df.drop(hidden_identifier, inplace=True, axis=1)"
   ]
  },
  {
   "cell_type": "code",
   "execution_count": 61,
   "outputs": [],
   "source": [
    "X = df.loc[ : , (df.columns != 'num')&(df.columns != 'dataset')]\n",
    "y = df.loc[: , (df.columns== 'num')].values.ravel().copy()\n",
    "y[y> 1] = 1\n",
    "X_train, X_test, y_train, y_test = train_test_split(X, y, test_size=0.25, random_state=42)\n",
    "eval_set = [(X_train, y_train), (X_test, y_test)]"
   ],
   "metadata": {
    "collapsed": false
   }
  },
  {
   "cell_type": "code",
   "execution_count": 62,
   "outputs": [
    {
     "name": "stdout",
     "output_type": "stream",
     "text": [
      "[0]\tvalidation_0-auc:0.93870\tvalidation_1-auc:0.86724\n",
      "[1]\tvalidation_0-auc:0.96094\tvalidation_1-auc:0.88544\n",
      "[2]\tvalidation_0-auc:0.97440\tvalidation_1-auc:0.88016\n",
      "[3]\tvalidation_0-auc:0.98273\tvalidation_1-auc:0.87912\n",
      "[4]\tvalidation_0-auc:0.99043\tvalidation_1-auc:0.88640\n",
      "[5]\tvalidation_0-auc:0.99166\tvalidation_1-auc:0.89000\n",
      "[6]\tvalidation_0-auc:0.99411\tvalidation_1-auc:0.89160\n",
      "[7]\tvalidation_0-auc:0.99575\tvalidation_1-auc:0.88976\n",
      "[8]\tvalidation_0-auc:0.99715\tvalidation_1-auc:0.89180\n",
      "[9]\tvalidation_0-auc:0.99786\tvalidation_1-auc:0.89836\n",
      "[10]\tvalidation_0-auc:0.99835\tvalidation_1-auc:0.89724\n",
      "[11]\tvalidation_0-auc:0.99880\tvalidation_1-auc:0.89996\n",
      "[12]\tvalidation_0-auc:0.99930\tvalidation_1-auc:0.89956\n",
      "[13]\tvalidation_0-auc:0.99957\tvalidation_1-auc:0.90088\n",
      "[14]\tvalidation_0-auc:0.99974\tvalidation_1-auc:0.89936\n",
      "[15]\tvalidation_0-auc:0.99969\tvalidation_1-auc:0.90080\n",
      "[16]\tvalidation_0-auc:0.99987\tvalidation_1-auc:0.90168\n",
      "[17]\tvalidation_0-auc:0.99989\tvalidation_1-auc:0.89904\n",
      "[18]\tvalidation_0-auc:0.99995\tvalidation_1-auc:0.89680\n",
      "[19]\tvalidation_0-auc:0.99994\tvalidation_1-auc:0.89688\n",
      "[20]\tvalidation_0-auc:0.99996\tvalidation_1-auc:0.89712\n",
      "[21]\tvalidation_0-auc:0.99998\tvalidation_1-auc:0.89760\n",
      "[22]\tvalidation_0-auc:0.99999\tvalidation_1-auc:0.89752\n",
      "[23]\tvalidation_0-auc:1.00000\tvalidation_1-auc:0.89872\n",
      "[24]\tvalidation_0-auc:0.99999\tvalidation_1-auc:0.89664\n",
      "[25]\tvalidation_0-auc:1.00000\tvalidation_1-auc:0.89584\n",
      "[26]\tvalidation_0-auc:1.00000\tvalidation_1-auc:0.89720\n",
      "[27]\tvalidation_0-auc:1.00000\tvalidation_1-auc:0.89696\n",
      "[28]\tvalidation_0-auc:1.00000\tvalidation_1-auc:0.89552\n",
      "[29]\tvalidation_0-auc:1.00000\tvalidation_1-auc:0.89768\n",
      "[30]\tvalidation_0-auc:1.00000\tvalidation_1-auc:0.89600\n",
      "[31]\tvalidation_0-auc:1.00000\tvalidation_1-auc:0.89664\n",
      "[32]\tvalidation_0-auc:1.00000\tvalidation_1-auc:0.89656\n",
      "[33]\tvalidation_0-auc:1.00000\tvalidation_1-auc:0.89616\n",
      "[34]\tvalidation_0-auc:1.00000\tvalidation_1-auc:0.89520\n",
      "[35]\tvalidation_0-auc:1.00000\tvalidation_1-auc:0.89440\n",
      "[36]\tvalidation_0-auc:1.00000\tvalidation_1-auc:0.89424\n",
      "[37]\tvalidation_0-auc:1.00000\tvalidation_1-auc:0.89456\n",
      "[38]\tvalidation_0-auc:1.00000\tvalidation_1-auc:0.89424\n",
      "[39]\tvalidation_0-auc:1.00000\tvalidation_1-auc:0.89424\n",
      "[40]\tvalidation_0-auc:1.00000\tvalidation_1-auc:0.89512\n",
      "[41]\tvalidation_0-auc:1.00000\tvalidation_1-auc:0.89528\n",
      "[42]\tvalidation_0-auc:1.00000\tvalidation_1-auc:0.89520\n",
      "[43]\tvalidation_0-auc:1.00000\tvalidation_1-auc:0.89512\n",
      "[44]\tvalidation_0-auc:1.00000\tvalidation_1-auc:0.89536\n",
      "[45]\tvalidation_0-auc:1.00000\tvalidation_1-auc:0.89440\n",
      "[46]\tvalidation_0-auc:1.00000\tvalidation_1-auc:0.89464\n",
      "[47]\tvalidation_0-auc:1.00000\tvalidation_1-auc:0.89416\n",
      "[48]\tvalidation_0-auc:1.00000\tvalidation_1-auc:0.89344\n",
      "[49]\tvalidation_0-auc:1.00000\tvalidation_1-auc:0.89200\n",
      "[50]\tvalidation_0-auc:1.00000\tvalidation_1-auc:0.89280\n",
      "[51]\tvalidation_0-auc:1.00000\tvalidation_1-auc:0.89368\n",
      "[52]\tvalidation_0-auc:1.00000\tvalidation_1-auc:0.89296\n",
      "[53]\tvalidation_0-auc:1.00000\tvalidation_1-auc:0.89368\n",
      "[54]\tvalidation_0-auc:1.00000\tvalidation_1-auc:0.89184\n",
      "[55]\tvalidation_0-auc:1.00000\tvalidation_1-auc:0.89264\n",
      "[56]\tvalidation_0-auc:1.00000\tvalidation_1-auc:0.89264\n",
      "[57]\tvalidation_0-auc:1.00000\tvalidation_1-auc:0.89240\n",
      "[58]\tvalidation_0-auc:1.00000\tvalidation_1-auc:0.89272\n",
      "[59]\tvalidation_0-auc:1.00000\tvalidation_1-auc:0.89304\n",
      "[60]\tvalidation_0-auc:1.00000\tvalidation_1-auc:0.89288\n",
      "[61]\tvalidation_0-auc:1.00000\tvalidation_1-auc:0.89320\n",
      "[62]\tvalidation_0-auc:1.00000\tvalidation_1-auc:0.89320\n",
      "[63]\tvalidation_0-auc:1.00000\tvalidation_1-auc:0.89368\n",
      "[64]\tvalidation_0-auc:1.00000\tvalidation_1-auc:0.89336\n",
      "[65]\tvalidation_0-auc:1.00000\tvalidation_1-auc:0.89352\n",
      "[66]\tvalidation_0-auc:1.00000\tvalidation_1-auc:0.89424\n",
      "[67]\tvalidation_0-auc:1.00000\tvalidation_1-auc:0.89400\n",
      "[68]\tvalidation_0-auc:1.00000\tvalidation_1-auc:0.89392\n",
      "[69]\tvalidation_0-auc:1.00000\tvalidation_1-auc:0.89328\n",
      "[70]\tvalidation_0-auc:1.00000\tvalidation_1-auc:0.89264\n",
      "[71]\tvalidation_0-auc:1.00000\tvalidation_1-auc:0.89264\n",
      "[72]\tvalidation_0-auc:1.00000\tvalidation_1-auc:0.89240\n",
      "[73]\tvalidation_0-auc:1.00000\tvalidation_1-auc:0.89320\n",
      "[74]\tvalidation_0-auc:1.00000\tvalidation_1-auc:0.89304\n",
      "[75]\tvalidation_0-auc:1.00000\tvalidation_1-auc:0.89272\n",
      "[76]\tvalidation_0-auc:1.00000\tvalidation_1-auc:0.89272\n",
      "[77]\tvalidation_0-auc:1.00000\tvalidation_1-auc:0.89240\n",
      "[78]\tvalidation_0-auc:1.00000\tvalidation_1-auc:0.89232\n",
      "[79]\tvalidation_0-auc:1.00000\tvalidation_1-auc:0.89224\n",
      "[80]\tvalidation_0-auc:1.00000\tvalidation_1-auc:0.89192\n",
      "[81]\tvalidation_0-auc:1.00000\tvalidation_1-auc:0.89168\n",
      "[82]\tvalidation_0-auc:1.00000\tvalidation_1-auc:0.89208\n",
      "[83]\tvalidation_0-auc:1.00000\tvalidation_1-auc:0.89224\n",
      "[84]\tvalidation_0-auc:1.00000\tvalidation_1-auc:0.89264\n",
      "[85]\tvalidation_0-auc:1.00000\tvalidation_1-auc:0.89296\n",
      "[86]\tvalidation_0-auc:1.00000\tvalidation_1-auc:0.89296\n",
      "[87]\tvalidation_0-auc:1.00000\tvalidation_1-auc:0.89296\n",
      "[88]\tvalidation_0-auc:1.00000\tvalidation_1-auc:0.89280\n",
      "[89]\tvalidation_0-auc:1.00000\tvalidation_1-auc:0.89232\n",
      "[90]\tvalidation_0-auc:1.00000\tvalidation_1-auc:0.89208\n",
      "[91]\tvalidation_0-auc:1.00000\tvalidation_1-auc:0.89296\n",
      "[92]\tvalidation_0-auc:1.00000\tvalidation_1-auc:0.89312\n",
      "[93]\tvalidation_0-auc:1.00000\tvalidation_1-auc:0.89288\n",
      "[94]\tvalidation_0-auc:1.00000\tvalidation_1-auc:0.89280\n",
      "[95]\tvalidation_0-auc:1.00000\tvalidation_1-auc:0.89312\n",
      "[96]\tvalidation_0-auc:1.00000\tvalidation_1-auc:0.89336\n",
      "[97]\tvalidation_0-auc:1.00000\tvalidation_1-auc:0.89336\n",
      "[98]\tvalidation_0-auc:1.00000\tvalidation_1-auc:0.89320\n",
      "[99]\tvalidation_0-auc:1.00000\tvalidation_1-auc:0.89344\n"
     ]
    },
    {
     "data": {
      "text/plain": "XGBClassifier(base_score=0.5, booster='gbtree', callbacks=None,\n              colsample_bylevel=1, colsample_bynode=1, colsample_bytree=1,\n              early_stopping_rounds=None, enable_categorical=True,\n              eval_metric='auc', gamma=0, gpu_id=-1, grow_policy='depthwise',\n              importance_type=None, interaction_constraints='',\n              learning_rate=0.300000012, max_bin=256, max_cat_to_onehot=4,\n              max_delta_step=0, max_depth=6, max_leaves=0, min_child_weight=1,\n              missing=nan, monotone_constraints='()', n_estimators=100,\n              n_jobs=0, num_parallel_tree=1, predictor='auto', random_state=0,\n              reg_alpha=0, reg_lambda=1, ...)",
      "text/html": "<style>#sk-container-id-3 {color: black;background-color: white;}#sk-container-id-3 pre{padding: 0;}#sk-container-id-3 div.sk-toggleable {background-color: white;}#sk-container-id-3 label.sk-toggleable__label {cursor: pointer;display: block;width: 100%;margin-bottom: 0;padding: 0.3em;box-sizing: border-box;text-align: center;}#sk-container-id-3 label.sk-toggleable__label-arrow:before {content: \"▸\";float: left;margin-right: 0.25em;color: #696969;}#sk-container-id-3 label.sk-toggleable__label-arrow:hover:before {color: black;}#sk-container-id-3 div.sk-estimator:hover label.sk-toggleable__label-arrow:before {color: black;}#sk-container-id-3 div.sk-toggleable__content {max-height: 0;max-width: 0;overflow: hidden;text-align: left;background-color: #f0f8ff;}#sk-container-id-3 div.sk-toggleable__content pre {margin: 0.2em;color: black;border-radius: 0.25em;background-color: #f0f8ff;}#sk-container-id-3 input.sk-toggleable__control:checked~div.sk-toggleable__content {max-height: 200px;max-width: 100%;overflow: auto;}#sk-container-id-3 input.sk-toggleable__control:checked~label.sk-toggleable__label-arrow:before {content: \"▾\";}#sk-container-id-3 div.sk-estimator input.sk-toggleable__control:checked~label.sk-toggleable__label {background-color: #d4ebff;}#sk-container-id-3 div.sk-label input.sk-toggleable__control:checked~label.sk-toggleable__label {background-color: #d4ebff;}#sk-container-id-3 input.sk-hidden--visually {border: 0;clip: rect(1px 1px 1px 1px);clip: rect(1px, 1px, 1px, 1px);height: 1px;margin: -1px;overflow: hidden;padding: 0;position: absolute;width: 1px;}#sk-container-id-3 div.sk-estimator {font-family: monospace;background-color: #f0f8ff;border: 1px dotted black;border-radius: 0.25em;box-sizing: border-box;margin-bottom: 0.5em;}#sk-container-id-3 div.sk-estimator:hover {background-color: #d4ebff;}#sk-container-id-3 div.sk-parallel-item::after {content: \"\";width: 100%;border-bottom: 1px solid gray;flex-grow: 1;}#sk-container-id-3 div.sk-label:hover label.sk-toggleable__label {background-color: #d4ebff;}#sk-container-id-3 div.sk-serial::before {content: \"\";position: absolute;border-left: 1px solid gray;box-sizing: border-box;top: 0;bottom: 0;left: 50%;z-index: 0;}#sk-container-id-3 div.sk-serial {display: flex;flex-direction: column;align-items: center;background-color: white;padding-right: 0.2em;padding-left: 0.2em;position: relative;}#sk-container-id-3 div.sk-item {position: relative;z-index: 1;}#sk-container-id-3 div.sk-parallel {display: flex;align-items: stretch;justify-content: center;background-color: white;position: relative;}#sk-container-id-3 div.sk-item::before, #sk-container-id-3 div.sk-parallel-item::before {content: \"\";position: absolute;border-left: 1px solid gray;box-sizing: border-box;top: 0;bottom: 0;left: 50%;z-index: -1;}#sk-container-id-3 div.sk-parallel-item {display: flex;flex-direction: column;z-index: 1;position: relative;background-color: white;}#sk-container-id-3 div.sk-parallel-item:first-child::after {align-self: flex-end;width: 50%;}#sk-container-id-3 div.sk-parallel-item:last-child::after {align-self: flex-start;width: 50%;}#sk-container-id-3 div.sk-parallel-item:only-child::after {width: 0;}#sk-container-id-3 div.sk-dashed-wrapped {border: 1px dashed gray;margin: 0 0.4em 0.5em 0.4em;box-sizing: border-box;padding-bottom: 0.4em;background-color: white;}#sk-container-id-3 div.sk-label label {font-family: monospace;font-weight: bold;display: inline-block;line-height: 1.2em;}#sk-container-id-3 div.sk-label-container {text-align: center;}#sk-container-id-3 div.sk-container {/* jupyter's `normalize.less` sets `[hidden] { display: none; }` but bootstrap.min.css set `[hidden] { display: none !important; }` so we also need the `!important` here to be able to override the default hidden behavior on the sphinx rendered scikit-learn.org. See: https://github.com/scikit-learn/scikit-learn/issues/21755 */display: inline-block !important;position: relative;}#sk-container-id-3 div.sk-text-repr-fallback {display: none;}</style><div id=\"sk-container-id-3\" class=\"sk-top-container\"><div class=\"sk-text-repr-fallback\"><pre>XGBClassifier(base_score=0.5, booster=&#x27;gbtree&#x27;, callbacks=None,\n              colsample_bylevel=1, colsample_bynode=1, colsample_bytree=1,\n              early_stopping_rounds=None, enable_categorical=True,\n              eval_metric=&#x27;auc&#x27;, gamma=0, gpu_id=-1, grow_policy=&#x27;depthwise&#x27;,\n              importance_type=None, interaction_constraints=&#x27;&#x27;,\n              learning_rate=0.300000012, max_bin=256, max_cat_to_onehot=4,\n              max_delta_step=0, max_depth=6, max_leaves=0, min_child_weight=1,\n              missing=nan, monotone_constraints=&#x27;()&#x27;, n_estimators=100,\n              n_jobs=0, num_parallel_tree=1, predictor=&#x27;auto&#x27;, random_state=0,\n              reg_alpha=0, reg_lambda=1, ...)</pre><b>In a Jupyter environment, please rerun this cell to show the HTML representation or trust the notebook. <br />On GitHub, the HTML representation is unable to render, please try loading this page with nbviewer.org.</b></div><div class=\"sk-container\" hidden><div class=\"sk-item\"><div class=\"sk-estimator sk-toggleable\"><input class=\"sk-toggleable__control sk-hidden--visually\" id=\"sk-estimator-id-3\" type=\"checkbox\" checked><label for=\"sk-estimator-id-3\" class=\"sk-toggleable__label sk-toggleable__label-arrow\">XGBClassifier</label><div class=\"sk-toggleable__content\"><pre>XGBClassifier(base_score=0.5, booster=&#x27;gbtree&#x27;, callbacks=None,\n              colsample_bylevel=1, colsample_bynode=1, colsample_bytree=1,\n              early_stopping_rounds=None, enable_categorical=True,\n              eval_metric=&#x27;auc&#x27;, gamma=0, gpu_id=-1, grow_policy=&#x27;depthwise&#x27;,\n              importance_type=None, interaction_constraints=&#x27;&#x27;,\n              learning_rate=0.300000012, max_bin=256, max_cat_to_onehot=4,\n              max_delta_step=0, max_depth=6, max_leaves=0, min_child_weight=1,\n              missing=nan, monotone_constraints=&#x27;()&#x27;, n_estimators=100,\n              n_jobs=0, num_parallel_tree=1, predictor=&#x27;auto&#x27;, random_state=0,\n              reg_alpha=0, reg_lambda=1, ...)</pre></div></div></div></div></div>"
     },
     "execution_count": 62,
     "metadata": {},
     "output_type": "execute_result"
    }
   ],
   "source": [
    "from xgboost import XGBClassifier\n",
    "xgb = XGBClassifier(tree_method=\"hist\", eval_metric= \"auc\", enable_categorical=True)\n",
    "xgb.fit(X_train, y_train, eval_set=eval_set)"
   ],
   "metadata": {
    "collapsed": false
   }
  },
  {
   "cell_type": "code",
   "execution_count": 63,
   "outputs": [],
   "source": [
    "results = xgb.evals_result()\n",
    "epochs = len(results['validation_0']['auc'])\n",
    "x_axis = np.arange(0, 1.001,0.01)"
   ],
   "metadata": {
    "collapsed": false
   }
  },
  {
   "cell_type": "code",
   "execution_count": 64,
   "outputs": [
    {
     "data": {
      "text/plain": "<Figure size 640x480 with 1 Axes>",
      "image/png": "[encoded data removed]"
     },
     "metadata": {},
     "output_type": "display_data"
    }
   ],
   "source": [
    "fig, ax = plt.subplots()\n",
    "ax.plot(x_axis, [0]+results['validation_0']['auc'], label='Train')\n",
    "ax.plot(x_axis, [0]+results['validation_1']['auc'], label='Test')\n",
    "ax.legend()\n",
    "plt.ylabel('AUC')\n",
    "plt.title('XGBoost AUC')\n",
    "plt.ylim(-0.1, 1.1)\n",
    "plt.savefig('XGBoost AUC.pdf', bbox_inches='tight')\n",
    "plt.show()"
   ],
   "metadata": {
    "collapsed": false
   }
  },
  {
   "cell_type": "code",
   "execution_count": 65,
   "outputs": [
    {
     "data": {
      "text/plain": "<Figure size 640x480 with 1 Axes>",
      "image/png": "[encoded data removed]"
     },
     "metadata": {},
     "output_type": "display_data"
    }
   ],
   "source": [
    "sorted_idx = xgb.feature_importances_.argsort()\n",
    "\n",
    "plt.barh(X.columns[sorted_idx][-9:], xgb.feature_importances_[sorted_idx][-9:])\n",
    "plt.xlabel(\"Xgboost Feature Importance\")\n",
    "plt.title('Most important features for XGBoost')\n",
    "plt.savefig('Xgboost Feature Importance.pdf', bbox_inches='tight')"
   ],
   "metadata": {
    "collapsed": false
   }
  },
  {
   "cell_type": "code",
   "execution_count": 66,
   "outputs": [
    {
     "data": {
      "text/plain": "0.829"
     },
     "execution_count": 66,
     "metadata": {},
     "output_type": "execute_result"
    }
   ],
   "source": [
    "from sklearn.metrics import roc_auc_score\n",
    "\n",
    "roc_auc_score(y_test, xgb.predict(X_test))"
   ],
   "metadata": {
    "collapsed": false
   }
  },
  {
   "cell_type": "code",
   "execution_count": 67,
   "outputs": [
    {
     "name": "stdout",
     "output_type": "stream",
     "text": [
      "              precision    recall  f1-score   support\n",
      "\n",
      "           0       0.78      0.85      0.81       100\n",
      "           1       0.87      0.81      0.84       125\n",
      "\n",
      "    accuracy                           0.83       225\n",
      "   macro avg       0.83      0.83      0.83       225\n",
      "weighted avg       0.83      0.83      0.83       225\n",
      "\n"
     ]
    }
   ],
   "source": [
    "from sklearn.metrics import classification_report\n",
    "\n",
    "print(classification_report(y_test, xgb.predict(X_test)))"
   ],
   "metadata": {
    "collapsed": false
   }
  },
  {
   "cell_type": "code",
   "execution_count": 73,
   "outputs": [
    {
     "ename": "ValueError",
     "evalue": "[(0.1411764705882353, 0.1411764705882353, 0.1411764705882353), (0.28627450980392155, 0.28627450980392155, 0.28627450980392155), (0.42745098039215684, 0.42745098039215684, 0.42745098039215684), (0.5725490196078431, 0.5725490196078431, 0.5725490196078431), (0.7137254901960784, 0.7137254901960784, 0.7137254901960784), (0.8588235294117647, 0.8588235294117647, 0.8588235294117647)] is not a valid value for name; supported values are 'Accent', 'Accent_r', 'Blues', 'Blues_r', 'BrBG', 'BrBG_r', 'BuGn', 'BuGn_r', 'BuPu', 'BuPu_r', 'CMRmap', 'CMRmap_r', 'Dark2', 'Dark2_r', 'GnBu', 'GnBu_r', 'Greens', 'Greens_r', 'Greys', 'Greys_r', 'OrRd', 'OrRd_r', 'Oranges', 'Oranges_r', 'PRGn', 'PRGn_r', 'Paired', 'Paired_r', 'Pastel1', 'Pastel1_r', 'Pastel2', 'Pastel2_r', 'PiYG', 'PiYG_r', 'PuBu', 'PuBuGn', 'PuBuGn_r', 'PuBu_r', 'PuOr', 'PuOr_r', 'PuRd', 'PuRd_r', 'Purples', 'Purples_r', 'RdBu', 'RdBu_r', 'RdGy', 'RdGy_r', 'RdPu', 'RdPu_r', 'RdYlBu', 'RdYlBu_r', 'RdYlGn', 'RdYlGn_r', 'Reds', 'Reds_r', 'Set1', 'Set1_r', 'Set2', 'Set2_r', 'Set3', 'Set3_r', 'Spectral', 'Spectral_r', 'Wistia', 'Wistia_r', 'YlGn', 'YlGnBu', 'YlGnBu_r', 'YlGn_r', 'YlOrBr', 'YlOrBr_r', 'YlOrRd', 'YlOrRd_r', 'afmhot', 'afmhot_r', 'autumn', 'autumn_r', 'binary', 'binary_r', 'bone', 'bone_r', 'brg', 'brg_r', 'bwr', 'bwr_r', 'cividis', 'cividis_r', 'cool', 'cool_r', 'coolwarm', 'coolwarm_r', 'copper', 'copper_r', 'crest', 'crest_r', 'cubehelix', 'cubehelix_r', 'flag', 'flag_r', 'flare', 'flare_r', 'gist_earth', 'gist_earth_r', 'gist_gray', 'gist_gray_r', 'gist_heat', 'gist_heat_r', 'gist_ncar', 'gist_ncar_r', 'gist_rainbow', 'gist_rainbow_r', 'gist_stern', 'gist_stern_r', 'gist_yarg', 'gist_yarg_r', 'gnuplot', 'gnuplot2', 'gnuplot2_r', 'gnuplot_r', 'gray', 'gray_r', 'hot', 'hot_r', 'hsv', 'hsv_r', 'icefire', 'icefire_r', 'inferno', 'inferno_r', 'jet', 'jet_r', 'magma', 'magma_r', 'mako', 'mako_r', 'nipy_spectral', 'nipy_spectral_r', 'ocean', 'ocean_r', 'pink', 'pink_r', 'plasma', 'plasma_r', 'prism', 'prism_r', 'rainbow', 'rainbow_r', 'rocket', 'rocket_r', 'seismic', 'seismic_r', 'spring', 'spring_r', 'summer', 'summer_r', 'tab10', 'tab10_r', 'tab20', 'tab20_r', 'tab20b', 'tab20b_r', 'tab20c', 'tab20c_r', 'terrain', 'terrain_r', 'turbo', 'turbo_r', 'twilight', 'twilight_r', 'twilight_shifted', 'twilight_shifted_r', 'viridis', 'viridis_r', 'vlag', 'vlag_r', 'winter', 'winter_r'",
     "output_type": "error",
     "traceback": [
      "\u001B[0;31m---------------------------------------------------------------------------\u001B[0m",
      "\u001B[0;31mValueError\u001B[0m                                Traceback (most recent call last)",
      "Cell \u001B[0;32mIn [73], line 6\u001B[0m\n\u001B[1;32m      2\u001B[0m \u001B[38;5;28;01mfrom\u001B[39;00m \u001B[38;5;21;01msklearn\u001B[39;00m\u001B[38;5;21;01m.\u001B[39;00m\u001B[38;5;21;01mmetrics\u001B[39;00m \u001B[38;5;28;01mimport\u001B[39;00m confusion_matrix\n\u001B[1;32m      4\u001B[0m cm_display \u001B[38;5;241m=\u001B[39m metrics\u001B[38;5;241m.\u001B[39mConfusionMatrixDisplay(confusion_matrix \u001B[38;5;241m=\u001B[39m confusion_matrix(y_test, xgb\u001B[38;5;241m.\u001B[39mpredict(X_test)), display_labels \u001B[38;5;241m=\u001B[39m [\u001B[38;5;28;01mFalse\u001B[39;00m, \u001B[38;5;28;01mTrue\u001B[39;00m])\n\u001B[0;32m----> 6\u001B[0m cm_display\u001B[38;5;241m.\u001B[39mplot(cmap\u001B[38;5;241m=\u001B[39msns\u001B[38;5;241m.\u001B[39mcolor_palette(\u001B[38;5;124m'\u001B[39m\u001B[38;5;124mbinary_r\u001B[39m\u001B[38;5;124m'\u001B[39m))\n\u001B[1;32m      7\u001B[0m plt\u001B[38;5;241m.\u001B[39mshow()\n",
      "File \u001B[0;32m~/.local/lib/python3.10/site-packages/sklearn/metrics/_plot/confusion_matrix.py:140\u001B[0m, in \u001B[0;36mConfusionMatrixDisplay.plot\u001B[0;34m(self, include_values, cmap, xticks_rotation, values_format, ax, colorbar, im_kw)\u001B[0m\n\u001B[1;32m    137\u001B[0m im_kw \u001B[38;5;241m=\u001B[39m im_kw \u001B[38;5;129;01mor\u001B[39;00m {}\n\u001B[1;32m    138\u001B[0m im_kw \u001B[38;5;241m=\u001B[39m {\u001B[38;5;241m*\u001B[39m\u001B[38;5;241m*\u001B[39mdefault_im_kw, \u001B[38;5;241m*\u001B[39m\u001B[38;5;241m*\u001B[39mim_kw}\n\u001B[0;32m--> 140\u001B[0m \u001B[38;5;28mself\u001B[39m\u001B[38;5;241m.\u001B[39mim_ \u001B[38;5;241m=\u001B[39m \u001B[43max\u001B[49m\u001B[38;5;241;43m.\u001B[39;49m\u001B[43mimshow\u001B[49m\u001B[43m(\u001B[49m\u001B[43mcm\u001B[49m\u001B[43m,\u001B[49m\u001B[43m \u001B[49m\u001B[38;5;241;43m*\u001B[39;49m\u001B[38;5;241;43m*\u001B[39;49m\u001B[43mim_kw\u001B[49m\u001B[43m)\u001B[49m\n\u001B[1;32m    141\u001B[0m \u001B[38;5;28mself\u001B[39m\u001B[38;5;241m.\u001B[39mtext_ \u001B[38;5;241m=\u001B[39m \u001B[38;5;28;01mNone\u001B[39;00m\n\u001B[1;32m    142\u001B[0m cmap_min, cmap_max \u001B[38;5;241m=\u001B[39m \u001B[38;5;28mself\u001B[39m\u001B[38;5;241m.\u001B[39mim_\u001B[38;5;241m.\u001B[39mcmap(\u001B[38;5;241m0\u001B[39m), \u001B[38;5;28mself\u001B[39m\u001B[38;5;241m.\u001B[39mim_\u001B[38;5;241m.\u001B[39mcmap(\u001B[38;5;241m1.0\u001B[39m)\n",
      "File \u001B[0;32m~/.local/lib/python3.10/site-packages/matplotlib/_api/deprecation.py:459\u001B[0m, in \u001B[0;36mmake_keyword_only.<locals>.wrapper\u001B[0;34m(*args, **kwargs)\u001B[0m\n\u001B[1;32m    453\u001B[0m \u001B[38;5;28;01mif\u001B[39;00m \u001B[38;5;28mlen\u001B[39m(args) \u001B[38;5;241m>\u001B[39m name_idx:\n\u001B[1;32m    454\u001B[0m     warn_deprecated(\n\u001B[1;32m    455\u001B[0m         since, message\u001B[38;5;241m=\u001B[39m\u001B[38;5;124m\"\u001B[39m\u001B[38;5;124mPassing the \u001B[39m\u001B[38;5;132;01m%(name)s\u001B[39;00m\u001B[38;5;124m \u001B[39m\u001B[38;5;132;01m%(obj_type)s\u001B[39;00m\u001B[38;5;124m \u001B[39m\u001B[38;5;124m\"\u001B[39m\n\u001B[1;32m    456\u001B[0m         \u001B[38;5;124m\"\u001B[39m\u001B[38;5;124mpositionally is deprecated since Matplotlib \u001B[39m\u001B[38;5;132;01m%(since)s\u001B[39;00m\u001B[38;5;124m; the \u001B[39m\u001B[38;5;124m\"\u001B[39m\n\u001B[1;32m    457\u001B[0m         \u001B[38;5;124m\"\u001B[39m\u001B[38;5;124mparameter will become keyword-only \u001B[39m\u001B[38;5;132;01m%(removal)s\u001B[39;00m\u001B[38;5;124m.\u001B[39m\u001B[38;5;124m\"\u001B[39m,\n\u001B[1;32m    458\u001B[0m         name\u001B[38;5;241m=\u001B[39mname, obj_type\u001B[38;5;241m=\u001B[39m\u001B[38;5;124mf\u001B[39m\u001B[38;5;124m\"\u001B[39m\u001B[38;5;124mparameter of \u001B[39m\u001B[38;5;132;01m{\u001B[39;00mfunc\u001B[38;5;241m.\u001B[39m\u001B[38;5;18m__name__\u001B[39m\u001B[38;5;132;01m}\u001B[39;00m\u001B[38;5;124m()\u001B[39m\u001B[38;5;124m\"\u001B[39m)\n\u001B[0;32m--> 459\u001B[0m \u001B[38;5;28;01mreturn\u001B[39;00m \u001B[43mfunc\u001B[49m\u001B[43m(\u001B[49m\u001B[38;5;241;43m*\u001B[39;49m\u001B[43margs\u001B[49m\u001B[43m,\u001B[49m\u001B[43m \u001B[49m\u001B[38;5;241;43m*\u001B[39;49m\u001B[38;5;241;43m*\u001B[39;49m\u001B[43mkwargs\u001B[49m\u001B[43m)\u001B[49m\n",
      "File \u001B[0;32m~/.local/lib/python3.10/site-packages/matplotlib/__init__.py:1414\u001B[0m, in \u001B[0;36m_preprocess_data.<locals>.inner\u001B[0;34m(ax, data, *args, **kwargs)\u001B[0m\n\u001B[1;32m   1411\u001B[0m \u001B[38;5;129m@functools\u001B[39m\u001B[38;5;241m.\u001B[39mwraps(func)\n\u001B[1;32m   1412\u001B[0m \u001B[38;5;28;01mdef\u001B[39;00m \u001B[38;5;21minner\u001B[39m(ax, \u001B[38;5;241m*\u001B[39margs, data\u001B[38;5;241m=\u001B[39m\u001B[38;5;28;01mNone\u001B[39;00m, \u001B[38;5;241m*\u001B[39m\u001B[38;5;241m*\u001B[39mkwargs):\n\u001B[1;32m   1413\u001B[0m     \u001B[38;5;28;01mif\u001B[39;00m data \u001B[38;5;129;01mis\u001B[39;00m \u001B[38;5;28;01mNone\u001B[39;00m:\n\u001B[0;32m-> 1414\u001B[0m         \u001B[38;5;28;01mreturn\u001B[39;00m \u001B[43mfunc\u001B[49m\u001B[43m(\u001B[49m\u001B[43max\u001B[49m\u001B[43m,\u001B[49m\u001B[43m \u001B[49m\u001B[38;5;241;43m*\u001B[39;49m\u001B[38;5;28;43mmap\u001B[39;49m\u001B[43m(\u001B[49m\u001B[43msanitize_sequence\u001B[49m\u001B[43m,\u001B[49m\u001B[43m \u001B[49m\u001B[43margs\u001B[49m\u001B[43m)\u001B[49m\u001B[43m,\u001B[49m\u001B[43m \u001B[49m\u001B[38;5;241;43m*\u001B[39;49m\u001B[38;5;241;43m*\u001B[39;49m\u001B[43mkwargs\u001B[49m\u001B[43m)\u001B[49m\n\u001B[1;32m   1416\u001B[0m     bound \u001B[38;5;241m=\u001B[39m new_sig\u001B[38;5;241m.\u001B[39mbind(ax, \u001B[38;5;241m*\u001B[39margs, \u001B[38;5;241m*\u001B[39m\u001B[38;5;241m*\u001B[39mkwargs)\n\u001B[1;32m   1417\u001B[0m     auto_label \u001B[38;5;241m=\u001B[39m (bound\u001B[38;5;241m.\u001B[39marguments\u001B[38;5;241m.\u001B[39mget(label_namer)\n\u001B[1;32m   1418\u001B[0m                   \u001B[38;5;129;01mor\u001B[39;00m bound\u001B[38;5;241m.\u001B[39mkwargs\u001B[38;5;241m.\u001B[39mget(label_namer))\n",
      "File \u001B[0;32m~/.local/lib/python3.10/site-packages/matplotlib/axes/_axes.py:5481\u001B[0m, in \u001B[0;36mAxes.imshow\u001B[0;34m(self, X, cmap, norm, aspect, interpolation, alpha, vmin, vmax, origin, extent, interpolation_stage, filternorm, filterrad, resample, url, **kwargs)\u001B[0m\n\u001B[1;32m   5479\u001B[0m     aspect \u001B[38;5;241m=\u001B[39m rcParams[\u001B[38;5;124m'\u001B[39m\u001B[38;5;124mimage.aspect\u001B[39m\u001B[38;5;124m'\u001B[39m]\n\u001B[1;32m   5480\u001B[0m \u001B[38;5;28mself\u001B[39m\u001B[38;5;241m.\u001B[39mset_aspect(aspect)\n\u001B[0;32m-> 5481\u001B[0m im \u001B[38;5;241m=\u001B[39m \u001B[43mmimage\u001B[49m\u001B[38;5;241;43m.\u001B[39;49m\u001B[43mAxesImage\u001B[49m\u001B[43m(\u001B[49m\u001B[38;5;28;43mself\u001B[39;49m\u001B[43m,\u001B[49m\u001B[43m \u001B[49m\u001B[43mcmap\u001B[49m\u001B[43m,\u001B[49m\u001B[43m \u001B[49m\u001B[43mnorm\u001B[49m\u001B[43m,\u001B[49m\u001B[43m \u001B[49m\u001B[43minterpolation\u001B[49m\u001B[43m,\u001B[49m\n\u001B[1;32m   5482\u001B[0m \u001B[43m                      \u001B[49m\u001B[43morigin\u001B[49m\u001B[43m,\u001B[49m\u001B[43m \u001B[49m\u001B[43mextent\u001B[49m\u001B[43m,\u001B[49m\u001B[43m \u001B[49m\u001B[43mfilternorm\u001B[49m\u001B[38;5;241;43m=\u001B[39;49m\u001B[43mfilternorm\u001B[49m\u001B[43m,\u001B[49m\n\u001B[1;32m   5483\u001B[0m \u001B[43m                      \u001B[49m\u001B[43mfilterrad\u001B[49m\u001B[38;5;241;43m=\u001B[39;49m\u001B[43mfilterrad\u001B[49m\u001B[43m,\u001B[49m\u001B[43m \u001B[49m\u001B[43mresample\u001B[49m\u001B[38;5;241;43m=\u001B[39;49m\u001B[43mresample\u001B[49m\u001B[43m,\u001B[49m\n\u001B[1;32m   5484\u001B[0m \u001B[43m                      \u001B[49m\u001B[43minterpolation_stage\u001B[49m\u001B[38;5;241;43m=\u001B[39;49m\u001B[43minterpolation_stage\u001B[49m\u001B[43m,\u001B[49m\n\u001B[1;32m   5485\u001B[0m \u001B[43m                      \u001B[49m\u001B[38;5;241;43m*\u001B[39;49m\u001B[38;5;241;43m*\u001B[39;49m\u001B[43mkwargs\u001B[49m\u001B[43m)\u001B[49m\n\u001B[1;32m   5487\u001B[0m im\u001B[38;5;241m.\u001B[39mset_data(X)\n\u001B[1;32m   5488\u001B[0m im\u001B[38;5;241m.\u001B[39mset_alpha(alpha)\n",
      "File \u001B[0;32m~/.local/lib/python3.10/site-packages/matplotlib/image.py:929\u001B[0m, in \u001B[0;36mAxesImage.__init__\u001B[0;34m(self, ax, cmap, norm, interpolation, origin, extent, filternorm, filterrad, resample, interpolation_stage, **kwargs)\u001B[0m\n\u001B[1;32m    913\u001B[0m \u001B[38;5;28;01mdef\u001B[39;00m \u001B[38;5;21m__init__\u001B[39m(\u001B[38;5;28mself\u001B[39m, ax,\n\u001B[1;32m    914\u001B[0m              cmap\u001B[38;5;241m=\u001B[39m\u001B[38;5;28;01mNone\u001B[39;00m,\n\u001B[1;32m    915\u001B[0m              norm\u001B[38;5;241m=\u001B[39m\u001B[38;5;28;01mNone\u001B[39;00m,\n\u001B[0;32m   (...)\u001B[0m\n\u001B[1;32m    924\u001B[0m              \u001B[38;5;241m*\u001B[39m\u001B[38;5;241m*\u001B[39mkwargs\n\u001B[1;32m    925\u001B[0m              ):\n\u001B[1;32m    927\u001B[0m     \u001B[38;5;28mself\u001B[39m\u001B[38;5;241m.\u001B[39m_extent \u001B[38;5;241m=\u001B[39m extent\n\u001B[0;32m--> 929\u001B[0m     \u001B[38;5;28;43msuper\u001B[39;49m\u001B[43m(\u001B[49m\u001B[43m)\u001B[49m\u001B[38;5;241;43m.\u001B[39;49m\u001B[38;5;21;43m__init__\u001B[39;49m\u001B[43m(\u001B[49m\n\u001B[1;32m    930\u001B[0m \u001B[43m        \u001B[49m\u001B[43max\u001B[49m\u001B[43m,\u001B[49m\n\u001B[1;32m    931\u001B[0m \u001B[43m        \u001B[49m\u001B[43mcmap\u001B[49m\u001B[38;5;241;43m=\u001B[39;49m\u001B[43mcmap\u001B[49m\u001B[43m,\u001B[49m\n\u001B[1;32m    932\u001B[0m \u001B[43m        \u001B[49m\u001B[43mnorm\u001B[49m\u001B[38;5;241;43m=\u001B[39;49m\u001B[43mnorm\u001B[49m\u001B[43m,\u001B[49m\n\u001B[1;32m    933\u001B[0m \u001B[43m        \u001B[49m\u001B[43minterpolation\u001B[49m\u001B[38;5;241;43m=\u001B[39;49m\u001B[43minterpolation\u001B[49m\u001B[43m,\u001B[49m\n\u001B[1;32m    934\u001B[0m \u001B[43m        \u001B[49m\u001B[43morigin\u001B[49m\u001B[38;5;241;43m=\u001B[39;49m\u001B[43morigin\u001B[49m\u001B[43m,\u001B[49m\n\u001B[1;32m    935\u001B[0m \u001B[43m        \u001B[49m\u001B[43mfilternorm\u001B[49m\u001B[38;5;241;43m=\u001B[39;49m\u001B[43mfilternorm\u001B[49m\u001B[43m,\u001B[49m\n\u001B[1;32m    936\u001B[0m \u001B[43m        \u001B[49m\u001B[43mfilterrad\u001B[49m\u001B[38;5;241;43m=\u001B[39;49m\u001B[43mfilterrad\u001B[49m\u001B[43m,\u001B[49m\n\u001B[1;32m    937\u001B[0m \u001B[43m        \u001B[49m\u001B[43mresample\u001B[49m\u001B[38;5;241;43m=\u001B[39;49m\u001B[43mresample\u001B[49m\u001B[43m,\u001B[49m\n\u001B[1;32m    938\u001B[0m \u001B[43m        \u001B[49m\u001B[43minterpolation_stage\u001B[49m\u001B[38;5;241;43m=\u001B[39;49m\u001B[43minterpolation_stage\u001B[49m\u001B[43m,\u001B[49m\n\u001B[1;32m    939\u001B[0m \u001B[43m        \u001B[49m\u001B[38;5;241;43m*\u001B[39;49m\u001B[38;5;241;43m*\u001B[39;49m\u001B[43mkwargs\u001B[49m\n\u001B[1;32m    940\u001B[0m \u001B[43m    \u001B[49m\u001B[43m)\u001B[49m\n",
      "File \u001B[0;32m~/.local/lib/python3.10/site-packages/matplotlib/image.py:246\u001B[0m, in \u001B[0;36m_ImageBase.__init__\u001B[0;34m(self, ax, cmap, norm, interpolation, origin, filternorm, filterrad, resample, interpolation_stage, **kwargs)\u001B[0m\n\u001B[1;32m    233\u001B[0m \u001B[38;5;28;01mdef\u001B[39;00m \u001B[38;5;21m__init__\u001B[39m(\u001B[38;5;28mself\u001B[39m, ax,\n\u001B[1;32m    234\u001B[0m              cmap\u001B[38;5;241m=\u001B[39m\u001B[38;5;28;01mNone\u001B[39;00m,\n\u001B[1;32m    235\u001B[0m              norm\u001B[38;5;241m=\u001B[39m\u001B[38;5;28;01mNone\u001B[39;00m,\n\u001B[0;32m   (...)\u001B[0m\n\u001B[1;32m    243\u001B[0m              \u001B[38;5;241m*\u001B[39m\u001B[38;5;241m*\u001B[39mkwargs\n\u001B[1;32m    244\u001B[0m              ):\n\u001B[1;32m    245\u001B[0m     martist\u001B[38;5;241m.\u001B[39mArtist\u001B[38;5;241m.\u001B[39m\u001B[38;5;21m__init__\u001B[39m(\u001B[38;5;28mself\u001B[39m)\n\u001B[0;32m--> 246\u001B[0m     \u001B[43mcm\u001B[49m\u001B[38;5;241;43m.\u001B[39;49m\u001B[43mScalarMappable\u001B[49m\u001B[38;5;241;43m.\u001B[39;49m\u001B[38;5;21;43m__init__\u001B[39;49m\u001B[43m(\u001B[49m\u001B[38;5;28;43mself\u001B[39;49m\u001B[43m,\u001B[49m\u001B[43m \u001B[49m\u001B[43mnorm\u001B[49m\u001B[43m,\u001B[49m\u001B[43m \u001B[49m\u001B[43mcmap\u001B[49m\u001B[43m)\u001B[49m\n\u001B[1;32m    247\u001B[0m     \u001B[38;5;28;01mif\u001B[39;00m origin \u001B[38;5;129;01mis\u001B[39;00m \u001B[38;5;28;01mNone\u001B[39;00m:\n\u001B[1;32m    248\u001B[0m         origin \u001B[38;5;241m=\u001B[39m mpl\u001B[38;5;241m.\u001B[39mrcParams[\u001B[38;5;124m'\u001B[39m\u001B[38;5;124mimage.origin\u001B[39m\u001B[38;5;124m'\u001B[39m]\n",
      "File \u001B[0;32m~/.local/lib/python3.10/site-packages/matplotlib/cm.py:359\u001B[0m, in \u001B[0;36mScalarMappable.__init__\u001B[0;34m(self, norm, cmap)\u001B[0m\n\u001B[1;32m    357\u001B[0m \u001B[38;5;28mself\u001B[39m\u001B[38;5;241m.\u001B[39mset_norm(norm)  \u001B[38;5;66;03m# The Normalize instance of this ScalarMappable.\u001B[39;00m\n\u001B[1;32m    358\u001B[0m \u001B[38;5;28mself\u001B[39m\u001B[38;5;241m.\u001B[39mcmap \u001B[38;5;241m=\u001B[39m \u001B[38;5;28;01mNone\u001B[39;00m  \u001B[38;5;66;03m# So that the setter knows we're initializing.\u001B[39;00m\n\u001B[0;32m--> 359\u001B[0m \u001B[38;5;28;43mself\u001B[39;49m\u001B[38;5;241;43m.\u001B[39;49m\u001B[43mset_cmap\u001B[49m\u001B[43m(\u001B[49m\u001B[43mcmap\u001B[49m\u001B[43m)\u001B[49m  \u001B[38;5;66;03m# The Colormap instance of this ScalarMappable.\u001B[39;00m\n\u001B[1;32m    360\u001B[0m \u001B[38;5;66;03m#: The last colorbar associated with this ScalarMappable. May be None.\u001B[39;00m\n\u001B[1;32m    361\u001B[0m \u001B[38;5;28mself\u001B[39m\u001B[38;5;241m.\u001B[39mcolorbar \u001B[38;5;241m=\u001B[39m \u001B[38;5;28;01mNone\u001B[39;00m\n",
      "File \u001B[0;32m~/.local/lib/python3.10/site-packages/matplotlib/cm.py:546\u001B[0m, in \u001B[0;36mScalarMappable.set_cmap\u001B[0;34m(self, cmap)\u001B[0m\n\u001B[1;32m    538\u001B[0m \u001B[38;5;124;03m\"\"\"\u001B[39;00m\n\u001B[1;32m    539\u001B[0m \u001B[38;5;124;03mSet the colormap for luminance data.\u001B[39;00m\n\u001B[1;32m    540\u001B[0m \n\u001B[0;32m   (...)\u001B[0m\n\u001B[1;32m    543\u001B[0m \u001B[38;5;124;03mcmap : `.Colormap` or str or None\u001B[39;00m\n\u001B[1;32m    544\u001B[0m \u001B[38;5;124;03m\"\"\"\u001B[39;00m\n\u001B[1;32m    545\u001B[0m in_init \u001B[38;5;241m=\u001B[39m \u001B[38;5;28mself\u001B[39m\u001B[38;5;241m.\u001B[39mcmap \u001B[38;5;129;01mis\u001B[39;00m \u001B[38;5;28;01mNone\u001B[39;00m\n\u001B[0;32m--> 546\u001B[0m cmap \u001B[38;5;241m=\u001B[39m \u001B[43mget_cmap\u001B[49m\u001B[43m(\u001B[49m\u001B[43mcmap\u001B[49m\u001B[43m)\u001B[49m\n\u001B[1;32m    547\u001B[0m \u001B[38;5;28mself\u001B[39m\u001B[38;5;241m.\u001B[39mcmap \u001B[38;5;241m=\u001B[39m cmap\n\u001B[1;32m    548\u001B[0m \u001B[38;5;28;01mif\u001B[39;00m \u001B[38;5;129;01mnot\u001B[39;00m in_init:\n",
      "File \u001B[0;32m~/.local/lib/python3.10/site-packages/matplotlib/cm.py:286\u001B[0m, in \u001B[0;36mget_cmap\u001B[0;34m(name, lut)\u001B[0m\n\u001B[1;32m    284\u001B[0m \u001B[38;5;28;01mif\u001B[39;00m \u001B[38;5;28misinstance\u001B[39m(name, colors\u001B[38;5;241m.\u001B[39mColormap):\n\u001B[1;32m    285\u001B[0m     \u001B[38;5;28;01mreturn\u001B[39;00m name\n\u001B[0;32m--> 286\u001B[0m \u001B[43m_api\u001B[49m\u001B[38;5;241;43m.\u001B[39;49m\u001B[43mcheck_in_list\u001B[49m\u001B[43m(\u001B[49m\u001B[38;5;28;43msorted\u001B[39;49m\u001B[43m(\u001B[49m\u001B[43m_cmap_registry\u001B[49m\u001B[43m)\u001B[49m\u001B[43m,\u001B[49m\u001B[43m \u001B[49m\u001B[43mname\u001B[49m\u001B[38;5;241;43m=\u001B[39;49m\u001B[43mname\u001B[49m\u001B[43m)\u001B[49m\n\u001B[1;32m    287\u001B[0m \u001B[38;5;28;01mif\u001B[39;00m lut \u001B[38;5;129;01mis\u001B[39;00m \u001B[38;5;28;01mNone\u001B[39;00m:\n\u001B[1;32m    288\u001B[0m     \u001B[38;5;28;01mreturn\u001B[39;00m _cmap_registry[name]\n",
      "File \u001B[0;32m~/.local/lib/python3.10/site-packages/matplotlib/_api/__init__.py:129\u001B[0m, in \u001B[0;36mcheck_in_list\u001B[0;34m(_values, _print_supported_values, **kwargs)\u001B[0m\n\u001B[1;32m    127\u001B[0m \u001B[38;5;28;01mif\u001B[39;00m _print_supported_values:\n\u001B[1;32m    128\u001B[0m     msg \u001B[38;5;241m+\u001B[39m\u001B[38;5;241m=\u001B[39m \u001B[38;5;124mf\u001B[39m\u001B[38;5;124m\"\u001B[39m\u001B[38;5;124m; supported values are \u001B[39m\u001B[38;5;132;01m{\u001B[39;00m\u001B[38;5;124m'\u001B[39m\u001B[38;5;124m, \u001B[39m\u001B[38;5;124m'\u001B[39m\u001B[38;5;241m.\u001B[39mjoin(\u001B[38;5;28mmap\u001B[39m(\u001B[38;5;28mrepr\u001B[39m, values))\u001B[38;5;132;01m}\u001B[39;00m\u001B[38;5;124m\"\u001B[39m\n\u001B[0;32m--> 129\u001B[0m \u001B[38;5;28;01mraise\u001B[39;00m \u001B[38;5;167;01mValueError\u001B[39;00m(msg)\n",
      "\u001B[0;31mValueError\u001B[0m: [(0.1411764705882353, 0.1411764705882353, 0.1411764705882353), (0.28627450980392155, 0.28627450980392155, 0.28627450980392155), (0.42745098039215684, 0.42745098039215684, 0.42745098039215684), (0.5725490196078431, 0.5725490196078431, 0.5725490196078431), (0.7137254901960784, 0.7137254901960784, 0.7137254901960784), (0.8588235294117647, 0.8588235294117647, 0.8588235294117647)] is not a valid value for name; supported values are 'Accent', 'Accent_r', 'Blues', 'Blues_r', 'BrBG', 'BrBG_r', 'BuGn', 'BuGn_r', 'BuPu', 'BuPu_r', 'CMRmap', 'CMRmap_r', 'Dark2', 'Dark2_r', 'GnBu', 'GnBu_r', 'Greens', 'Greens_r', 'Greys', 'Greys_r', 'OrRd', 'OrRd_r', 'Oranges', 'Oranges_r', 'PRGn', 'PRGn_r', 'Paired', 'Paired_r', 'Pastel1', 'Pastel1_r', 'Pastel2', 'Pastel2_r', 'PiYG', 'PiYG_r', 'PuBu', 'PuBuGn', 'PuBuGn_r', 'PuBu_r', 'PuOr', 'PuOr_r', 'PuRd', 'PuRd_r', 'Purples', 'Purples_r', 'RdBu', 'RdBu_r', 'RdGy', 'RdGy_r', 'RdPu', 'RdPu_r', 'RdYlBu', 'RdYlBu_r', 'RdYlGn', 'RdYlGn_r', 'Reds', 'Reds_r', 'Set1', 'Set1_r', 'Set2', 'Set2_r', 'Set3', 'Set3_r', 'Spectral', 'Spectral_r', 'Wistia', 'Wistia_r', 'YlGn', 'YlGnBu', 'YlGnBu_r', 'YlGn_r', 'YlOrBr', 'YlOrBr_r', 'YlOrRd', 'YlOrRd_r', 'afmhot', 'afmhot_r', 'autumn', 'autumn_r', 'binary', 'binary_r', 'bone', 'bone_r', 'brg', 'brg_r', 'bwr', 'bwr_r', 'cividis', 'cividis_r', 'cool', 'cool_r', 'coolwarm', 'coolwarm_r', 'copper', 'copper_r', 'crest', 'crest_r', 'cubehelix', 'cubehelix_r', 'flag', 'flag_r', 'flare', 'flare_r', 'gist_earth', 'gist_earth_r', 'gist_gray', 'gist_gray_r', 'gist_heat', 'gist_heat_r', 'gist_ncar', 'gist_ncar_r', 'gist_rainbow', 'gist_rainbow_r', 'gist_stern', 'gist_stern_r', 'gist_yarg', 'gist_yarg_r', 'gnuplot', 'gnuplot2', 'gnuplot2_r', 'gnuplot_r', 'gray', 'gray_r', 'hot', 'hot_r', 'hsv', 'hsv_r', 'icefire', 'icefire_r', 'inferno', 'inferno_r', 'jet', 'jet_r', 'magma', 'magma_r', 'mako', 'mako_r', 'nipy_spectral', 'nipy_spectral_r', 'ocean', 'ocean_r', 'pink', 'pink_r', 'plasma', 'plasma_r', 'prism', 'prism_r', 'rainbow', 'rainbow_r', 'rocket', 'rocket_r', 'seismic', 'seismic_r', 'spring', 'spring_r', 'summer', 'summer_r', 'tab10', 'tab10_r', 'tab20', 'tab20_r', 'tab20b', 'tab20b_r', 'tab20c', 'tab20c_r', 'terrain', 'terrain_r', 'turbo', 'turbo_r', 'twilight', 'twilight_r', 'twilight_shifted', 'twilight_shifted_r', 'viridis', 'viridis_r', 'vlag', 'vlag_r', 'winter', 'winter_r'"
     ]
    },
    {
     "data": {
      "text/plain": "<Figure size 640x480 with 1 Axes>",
      "image/png": "[encoded data removed]"
     },
     "metadata": {},
     "output_type": "display_data"
    }
   ],
   "source": [
    "from sklearn import metrics\n",
    "from sklearn.metrics import confusion_matrix\n",
    "\n",
    "cm_display = metrics.ConfusionMatrixDisplay(confusion_matrix = confusion_matrix(y_test, xgb.predict(X_test)), display_labels = [False, True])\n",
    "\n",
    "cm_display.plot(cmap=sns.color_palette('binary_r'))\n",
    "plt.show()"
   ],
   "metadata": {
    "collapsed": false
   }
  },
  {
   "cell_type": "code",
   "execution_count": null,
   "metadata": {
    "collapsed": false
   },
   "outputs": [],
   "source": [
    "if generate_profiling_reports:\n",
    "    profile = pandas_profiling.ProfileReport(df, title='Pandas Profiling Report for the used features from the UCI dataset', explorative=True)\n",
    "    profile.to_file(\"Pandas Profiling Report for all used features.html\")"
   ]
  },
  {
   "cell_type": "markdown",
   "metadata": {
    "collapsed": false
   },
   "source": [
    "# Start of analysis\n",
    "## Static Analysis\n",
    "### Get the number of entries where the ST Depression was measured at a timepoint that is higher than the Exercise electrocardiogram"
   ]
  },
  {
   "cell_type": "code",
   "execution_count": null,
   "metadata": {
    "collapsed": false
   },
   "outputs": [],
   "source": [
    "df[df['thaltime'] > df['thaldur']].shape"
   ]
  },
  {
   "cell_type": "markdown",
   "metadata": {
    "collapsed": false
   },
   "source": [
    "### Check heart rate for inconsistency"
   ]
  },
  {
   "cell_type": "code",
   "execution_count": null,
   "metadata": {
    "collapsed": false
   },
   "outputs": [],
   "source": [
    "df.loc[df['thalach'] < df['thalrest'],['thalach','thalrest']]"
   ]
  },
  {
   "cell_type": "markdown",
   "metadata": {
    "collapsed": false
   },
   "source": [
    "The resting heart rate (thalrest) can not be lower than the maximum archived heart rate (thalach) because the thalach seems unrealisitc it is set to NaN"
   ]
  },
  {
   "cell_type": "markdown",
   "metadata": {
    "collapsed": false
   },
   "source": [
    "## enrich smoke"
   ]
  },
  {
   "cell_type": "code",
   "execution_count": null,
   "metadata": {
    "collapsed": false
   },
   "outputs": [],
   "source": [
    "\n",
    "def enrich_smoke(input_df):\n",
    "        # we do not enrich smoke if cigs and years are conflicting\n",
    "\n",
    "        # set all values of smoke that are NaN to 0 if the value of years is 0 and smoke does not indicate that the person smokes\n",
    "        input_df.loc[(input_df['smoke'].isna()) & (input_df['years'] == 0) & ~(input_df['cigs'] > 0),'smoke'] = 0\n",
    "        # set all values of smoke that are NaN to 1 if the value of years is larger than 0 and smoke does not indicate that the person does not smoke\n",
    "        input_df.loc[(input_df['smoke'].isna()) & (input_df['years'] > 0) & (input_df['cigs'] != 0),'smoke'] = 1\n",
    "\n",
    "        # set all values of smoke that are NaN to 0 if the value of smoke is 0 and years does not indicate that the person smokes\n",
    "        input_df.loc[(input_df['smoke'].isna()) & (input_df['cigs'] == 0) & ~(input_df['years'] > 0),'smoke'] = 0\n",
    "        # set all values of smoke that are NaN to 1 if the value of cigs is larger than 0 and years does not indicate that the person does not smoke\n",
    "        input_df.loc[(input_df['smoke'].isna()) & (input_df['cigs'] > 0) & (input_df['years'] != 0),'smoke'] = 1\n",
    "        return input_df\n",
    "percentage_missing_pre = ((df[\"smoke\"].isna().sum() / len(df) * 100).round(2))\n",
    "\n",
    "\n",
    "df = enrich_smoke(df)\n",
    "\n",
    "percentage_missing_post = ((df[\"smoke\"].isna().sum() / len(df) * 100).round(2))\n",
    "print(f\"missing before enrichment:\\t {percentage_missing_pre}%\")\n",
    "print(f\"missing after enrichment:\\t {percentage_missing_post}%\")"
   ]
  },
  {
   "cell_type": "markdown",
   "source": [
    "The columns used for the enrichment are kept in the df because they provide a more detailed description of the smoking behaviour"
   ],
   "metadata": {
    "collapsed": false
   }
  },
  {
   "cell_type": "markdown",
   "metadata": {
    "collapsed": false
   },
   "source": [
    "## Explore how many NaNs and zeros are within one column for each attribute."
   ]
  },
  {
   "cell_type": "code",
   "execution_count": null,
   "metadata": {
    "collapsed": false
   },
   "outputs": [],
   "source": [
    "(df.loc[:, df.columns != 'dataset'].eq(0)).join(df['dataset']).groupby(\"dataset\").sum()"
   ]
  },
  {
   "cell_type": "code",
   "execution_count": null,
   "metadata": {
    "collapsed": false
   },
   "outputs": [],
   "source": [
    "(df.loc[:, df.columns != 'dataset'].eq(-9)).join(df['dataset']).groupby(\"dataset\").sum()"
   ]
  },
  {
   "cell_type": "markdown",
   "metadata": {
    "collapsed": false
   },
   "source": [
    "## outliers"
   ]
  },
  {
   "cell_type": "code",
   "execution_count": null,
   "metadata": {
    "collapsed": false
   },
   "outputs": [],
   "source": [
    "from sklearn.preprocessing import StandardScaler, MaxAbsScaler\n",
    "\n",
    "df_continous = df[[\"age\",\"trestbps\",\"thaldur\",\"thalach\",\"thalrest\",\"tpeakbps\",\"tpeakbpd\",\"trestbpd\",\"oldpeak\"]]\n",
    "\n",
    "sc = StandardScaler()\n",
    "temp = sc.fit_transform(df_continous)\n",
    "df_continous = pd.DataFrame(temp, columns = [\"age\",\"trestbps\",\"thaldur\",\"thalach\",\"thalrest\",\"tpeakbps\",\"tpeakbpd\",\"trestbpd\",\"oldpeak\"])\n",
    "ax = sns.boxplot(x=\"variable\", y=\"value\", data=pd.melt(df_continous))\n",
    "ax.set(xlabel='', ylabel='normalized value')\n",
    "plt.title(\"data distribution of numerical features\")\n",
    "plt.show()\n",
    "\n",
    "df_continous = df[[\"age\",\"trestbps\",\"thaldur\",\"thalach\",\"thalrest\",\"tpeakbps\",\"tpeakbpd\",\"trestbpd\",\"oldpeak\"]]\n",
    "\n",
    "sns.boxplot(x=\"variable\", y=\"value\", data=pd.melt(df_continous))\n",
    "plt.title(\"original values\")\n",
    "sns.set(rc={\"figure.figsize\":(12, 3)})\n",
    "plt.show()\n",
    "\n",
    "\n"
   ]
  },
  {
   "cell_type": "markdown",
   "metadata": {
    "collapsed": false
   },
   "source": [
    "## Correlation"
   ]
  },
  {
   "cell_type": "code",
   "execution_count": null,
   "metadata": {
    "collapsed": false
   },
   "outputs": [],
   "source": [
    "percentage_missing = ((df.isna().sum()/len(df)*100).round(2)).to_dict()\n",
    "test = {}\n",
    "for percentage in np.arange(0,100,1):\n",
    "    missing_vlaues = {key: val for key, val in percentage_missing.items() if val > percentage}\n",
    "    test[percentage] = df.drop([*missing_vlaues.keys()], axis=1).shape + (df.drop([*missing_vlaues.keys()], axis=1).isna().sum().sum(), )"
   ]
  },
  {
   "cell_type": "code",
   "execution_count": null,
   "metadata": {
    "collapsed": false
   },
   "outputs": [],
   "source": [
    "plt.figure(figsize=(15,15))\n",
    "# Compute the correlation matrix\n",
    "corr = df.corr()\n",
    "corr = corr.round(2)\n",
    "# Draw the heatmap with the mask and correct aspect ratio\n",
    "sns.heatmap(corr, cmap=\"coolwarm\", center=0, square=True, linewidths=.5, vmin=-1, vmax=1)\n",
    "plt.show()"
   ]
  },
  {
   "cell_type": "code",
   "execution_count": null,
   "metadata": {
    "collapsed": false
   },
   "outputs": [],
   "source": [
    "for dataset in datasets:\n",
    "    plt.figure(figsize=(15, 15))\n",
    "    # Compute the correlation matrix\n",
    "    corr = df[df['dataset'] == dataset].corr()\n",
    "    corr = corr.round(2)\n",
    "    # Draw the heatmap with the mask and correct aspect ratio\n",
    "    sns.heatmap(corr, cmap=\"coolwarm\", center=0, square=True, linewidths=.5, vmin=-1, vmax=1)\n",
    "    plt.show()\n"
   ]
  },
  {
   "cell_type": "code",
   "execution_count": null,
   "metadata": {
    "collapsed": false
   },
   "outputs": [],
   "source": [
    "df_corr = df.copy()\n",
    "df_corr = pd.concat([df_corr,pd.get_dummies(df_corr['cp'], prefix='cp')],axis=1)\n",
    "df_corr.drop(['cp'],axis=1, inplace=True)\n",
    "\n",
    "percentage_missing = ((df_corr.isna().sum()/len(df_corr)*100).round(2)).to_dict()"
   ]
  },
  {
   "cell_type": "code",
   "execution_count": null,
   "metadata": {
    "collapsed": false
   },
   "outputs": [],
   "source": [
    "unstacked_corr = df_corr.corr().unstack()\n",
    "#remove duplicate pairs\n",
    "#index = pd.MultiIndex.from_tuples(tuples)\n",
    "unstacked_corr = unstacked_corr.reset_index()\n",
    "unstacked_corr.columns = [\"feature1\",\"feature2\",\"correlation\"]\n",
    "#remove duplicates and correlation between the same feature\n",
    "unstacked_corr = unstacked_corr[unstacked_corr['feature1'] < unstacked_corr['feature2']]\n",
    "unstacked_corr['NaN_Values_feature1'] = [percentage_missing[x] for x in unstacked_corr['feature1']]\n",
    "unstacked_corr['NaN_Values_feature2'] = [percentage_missing[x] for x in unstacked_corr['feature2']]\n",
    "unstacked_corr['abs_corr'] = abs(unstacked_corr['correlation'])\n",
    "unstacked_corr = unstacked_corr[(abs(unstacked_corr[\"correlation\"]) > 0.5) & (unstacked_corr['NaN_Values_feature1'] < 75) & (unstacked_corr['NaN_Values_feature2'] < 75)].sort_values(by=\"abs_corr\", ascending=False)\n",
    "unstacked_corr.drop([\"abs_corr\"], inplace=True, axis=1)\n",
    "print(unstacked_corr)"
   ]
  },
  {
   "cell_type": "code",
   "execution_count": null,
   "metadata": {
    "collapsed": false
   },
   "outputs": [],
   "source": [
    "cp_4VSpainexer = pd.crosstab(df_corr['cp_4'], df_corr['painexer'], rownames=['cp_4'], colnames=['painexer'])\n",
    "cpVSpainexer = pd.crosstab(df['cp'], df['painexer'], rownames=['cp_4'], colnames=['painexer'])\n",
    "print(cp_4VSpainexer)\n",
    "print(\"------------------------------------\")\n",
    "print(cpVSpainexer)"
   ]
  },
  {
   "cell_type": "markdown",
   "metadata": {
    "collapsed": false
   },
   "source": [
    "## PairPlots"
   ]
  },
  {
   "cell_type": "markdown",
   "metadata": {
    "collapsed": false
   },
   "source": [
    "# minimumPercentageToBeDropped"
   ]
  },
  {
   "cell_type": "code",
   "execution_count": null,
   "metadata": {
    "collapsed": false
   },
   "outputs": [],
   "source": [
    "print_pair_plots = False #was missing\n",
    "if print_pair_plots:\n",
    "    sns.pairplot(df, hue=\"num\", palette=\"tab10\")\n",
    "if print_pair_plots:\n",
    "    sns.pairplot(df, hue=\"dataset\", palette=\"tab10\")"
   ]
  },
  {
   "cell_type": "code",
   "execution_count": null,
   "metadata": {
    "collapsed": false
   },
   "outputs": [],
   "source": [
    "test = pd.DataFrame.from_dict(test).transpose()\n",
    "test.columns = [\"rows\", \"columns\", \"number of imputed cells\"]"
   ]
  },
  {
   "cell_type": "code",
   "execution_count": null,
   "metadata": {},
   "outputs": [],
   "source": [
    "from matplotlib.lines import Line2D\n",
    "fig, ax = plt.subplots(1)\n",
    "ax.grid()\n",
    "#add decided thresholds\n",
    "thresholds = [0,4,8,20,35,60,75,100]\n",
    "for threshold in thresholds:\n",
    "    ax.vlines(threshold,0,80000,color=\"#ef9494\")\n",
    "\n",
    "lns1 = ax.plot(test.index, test[\"number of imputed cells\"], '-o', label = 'number of imputed cells', color = 'orange')\n",
    "ax2 = ax.twinx()\n",
    "lns2 = ax2.plot(test.index, test[\"columns\"], '-o', label = 'n features')\n",
    "\n",
    "ax.set_xlabel('minimumPercentageMissingToBeDropped')\n",
    "ax.set_ylabel('number of imputed cells')\n",
    "ax2.set_ylabel('n features')\n",
    "\n",
    "\n",
    "# added these three lines\n",
    "lns = lns1 + lns2\n",
    "labs = [l.get_label() for l in lns]\n",
    "\n",
    "handles, labels = ax.get_legend_handles_labels()\n",
    "lns.append(Line2D([0],[0],markersize=10,color='#ef9494',label='thresholds'))\n",
    "labs.append(\"Color Patch\")\n",
    "\n",
    "legend = ax.legend(lns, labs, loc=2, bbox_to_anchor=(0,1))\n",
    "\n",
    "plt.show()"
   ]
  },
  {
   "cell_type": "code",
   "execution_count": null,
   "metadata": {
    "collapsed": false
   },
   "outputs": [],
   "source": [
    "from matplotlib.lines import Line2D\n",
    "fig, ax = plt.subplots(1)\n",
    "ax.grid()\n",
    "lns1 = ax.plot(test.index, test[\"number of imputed cells\"], '-o', label = 'number of imputed cells', color = 'orange')\n",
    "ax2 = ax.twinx()\n",
    "lns2 = ax2.plot(test.index, test[\"columns\"], '-o', label = 'n features')\n",
    "\n",
    "ax.set_xlabel('minimumPercentageMissingToBeDropped')\n",
    "ax.set_ylabel('number of imputed cells')\n",
    "ax2.set_ylabel('n features')\n",
    "\n",
    "\n",
    "# added these three lines\n",
    "lns = lns1 + lns2\n",
    "labs = [l.get_label() for l in lns]\n",
    "legend = ax.legend(lns, labs, loc=2, bbox_to_anchor=(0,1))\n",
    "\n",
    "plt.show()"
   ]
  },
  {
   "cell_type": "code",
   "execution_count": null,
   "metadata": {
    "collapsed": false
   },
   "outputs": [],
   "source": [
    "percentage_missing = ((df.isna().sum() / len(df) * 100).round(2)).to_dict()\n",
    "test = {}\n",
    "for percentage in np.arange(0, 100, 10):\n",
    "    missing_vlaues = {key: val for key, val in percentage_missing.items() if val > percentage}\n",
    "    test[percentage] = df.drop([*missing_vlaues.keys()], axis=1).dropna(axis=0, how='any').shape\n",
    "test = pd.DataFrame.from_dict(test).transpose()\n",
    "test.columns = [\"rows\", \"columns\"]"
   ]
  },
  {
   "cell_type": "code",
   "execution_count": null,
   "metadata": {
    "collapsed": false
   },
   "outputs": [],
   "source": [
    "fig, ax1 = plt.subplots()\n",
    "ax2 = ax1.twinx()\n",
    "ax1 = sns.lineplot(data=test, y=\"columns\", x=test.index, ax=ax1, color=\"orange\", marker='o')\n",
    "ax2 = sns.lineplot(data=test, y=\"rows\", x=test.index, ax=ax2, color=\"blue\", marker='o')\n",
    "ax1.set_ylabel('n features')\n",
    "ax1.set_xlabel('minimumPercentageMissingToBeDropped')\n",
    "ax2.set_ylabel('n datapoints')\n",
    "ax1.figure.legend(['features','datapoints'], bbox_to_anchor=(1.,1),loc=1, bbox_transform=ax1.transAxes)\n",
    "plt.show()"
   ]
  },
  {
   "cell_type": "markdown",
   "metadata": {
    "collapsed": false
   },
   "source": [
    "# Model visualisation"
   ]
  },
  {
   "cell_type": "code",
   "execution_count": null,
   "metadata": {
    "collapsed": false
   },
   "outputs": [],
   "source": [
    "class DataframeSmokeTransformer:\n",
    "    def transform(self, input_df, **transform_params):\n",
    "        # we do not enrich smoke if cigs and years are conflicting\n",
    "\n",
    "        # set all values of smoke that are NaN to 0 if the value of years is 0 and smoke does not indicate that the person smokes\n",
    "        input_df.loc[(input_df['smoke'].isna()) & (input_df['years'] == 0) & ~(input_df['cigs'] > 0),'smoke'] = 0\n",
    "        # set all values of smoke that are NaN to 1 if the value of years is larger than 0 and smoke does not indicate that the person does not smoke\n",
    "        input_df.loc[(input_df['smoke'].isna()) & (input_df['years'] > 0) & (input_df['cigs'] != 0),'smoke'] = 1\n",
    "\n",
    "        # set all values of smoke that are NaN to 0 if the value of smoke is 0 and years does not indicate that the person smokes\n",
    "        input_df.loc[(input_df['smoke'].isna()) & (input_df['cigs'] == 0) & ~(input_df['years'] > 0),'smoke'] = 0\n",
    "        # set all values of smoke that are NaN to 1 if the value of cigs is larger than 0 and years does not indicate that the person does not smoke\n",
    "        input_df.loc[(input_df['smoke'].isna()) & (input_df['cigs'] > 0) & (input_df['years'] != 0),'smoke'] = 1\n",
    "        return input_df\n",
    "    def fit(self, X, y=None, **fit_params):\n",
    "        # there is nothing to be fitted here because this handling is not split specific\n",
    "        return self"
   ]
  },
  {
   "cell_type": "code",
   "execution_count": null,
   "metadata": {
    "collapsed": false
   },
   "outputs": [],
   "source": [
    "class EnrichHeartData:\n",
    "    def transform(self, input_df, **transform_params):\n",
    "        input_df[\"heart_rate_diff\"] = input_df['thalach'] - input_df['thalrest']\n",
    "        input_df[\"rldv5_diff\"] = input_df['rldv5'] - input_df['rldv5e']\n",
    "        return input_df\n",
    "\n",
    "    def fit(self, X, y=None, **fit_params):\n",
    "        return self"
   ]
  },
  {
   "cell_type": "code",
   "execution_count": null,
   "metadata": {
    "collapsed": false
   },
   "outputs": [],
   "source": [
    "from sklearn.exceptions import NotFittedError\n",
    "\n",
    "\n",
    "class DropColumnsBasedOnMinimumPercentageToBeDropped:\n",
    "    def __init__(self):\n",
    "        self.minimum_percentage_to_be_dropped = 100\n",
    "        self.fitted = False\n",
    "        self.valuesToKeep = []\n",
    "\n",
    "    def set_params(self, **params):\n",
    "        self.minimum_percentage_to_be_dropped = params.get('minimum_percentage_to_be_dropped')\n",
    "\n",
    "    def transform(self, input_df, **transform_params):\n",
    "        if self.fitted:\n",
    "            return input_df[input_df.columns.intersection(self.valuesToKeep)]\n",
    "        else:\n",
    "            raise NotFittedError()\n",
    "\n",
    "    def fit(self, X, y=None, **fit_params):\n",
    "        # calculate percentage of missing values for each column and store in a dictionary\n",
    "        percentage_missing = (X.isna().sum()/len(df)*100).to_dict()\n",
    "        # generate list of columns to keep\n",
    "        self.valuesToKeep = [key for key, val in percentage_missing.items() if val <= self.minimum_percentage_to_be_dropped]\n",
    "        self.fitted = True\n",
    "        return self"
   ]
  },
  {
   "cell_type": "code",
   "execution_count": null,
   "metadata": {
    "collapsed": false
   },
   "outputs": [],
   "source": [
    "class FixCommonEncodingErrors:\n",
    "    def transform(self, input_df, **transform_params):\n",
    "        input_df = input_df.copy(deep=True)\n",
    "        # if cholesterin is 0 it was not measured\n",
    "        input_df.loc[input_df['chol'] == 0,'chol'] =  np.float64(\"NaN\")\n",
    "        # leave the dead ones behind\n",
    "        # drop entries with a blood pressure of 0\n",
    "        input_df.loc[input_df['trestbps'] == 0,'trestbps'] =  np.float64(\"NaN\")\n",
    "        # is a binary variable (wrong measurement was detected in Pandas Profiling Report)\n",
    "        input_df.loc[df['prop'].isin([0,1]) == False,'prop' ] = np.float64(\"NaN\")\n",
    "        # is a variable that has the values 0-3 by definition  (wrong measurement was detected in Pandas Profiling Report)\n",
    "        input_df.loc[input_df['ca'] >3 ,'ca'] =  np.float64(\"NaN\")\n",
    "        # transform proto according to possible values from data/ask-detrano\n",
    "        input_df.loc[input_df['proto'] == 200,'proto'] =  9\n",
    "        input_df.loc[input_df['proto'] == 175,'proto'] =  8\n",
    "        input_df.loc[input_df['proto'] == 150,'proto'] =  7\n",
    "        input_df.loc[input_df['proto'] == 130,'proto'] =  6\n",
    "        input_df.loc[input_df['proto'] == 125,'proto'] =  5\n",
    "        input_df.loc[input_df['proto'] == 100,'proto'] = 4\n",
    "        input_df.loc[input_df['proto'] == 75,'proto'] = 3\n",
    "        input_df.loc[input_df['proto'] == 50,'proto'] = 2\n",
    "        input_df.loc[input_df['proto'] == 25,'proto'] = 1\n",
    "        #set all other values to NaN\n",
    "        input_df.loc[input_df['proto'].isin([*range(1,13)]) == False, 'proto'] = np.float64(\"NaN\")\n",
    "        # the timepoint when the measurement was taken can not be larger than the time that the exercise took.\n",
    "        input_df.loc[df['thaltime'] > df['thaldur'], 'thaltime'] = np.float64('NaN')\n",
    "        # maximum archived heart rate can not  be lower than the heart rate at rest\n",
    "        input_df.loc[input_df['thalach'] < input_df['thalrest'],'thalach'] = np.float64('NaN')\n",
    "\n",
    "        return input_df\n",
    "    def fit(self, X, y=None, **fit_params):\n",
    "        return self"
   ]
  },
  {
   "cell_type": "code",
   "execution_count": null,
   "metadata": {
    "collapsed": false
   },
   "outputs": [],
   "source": [
    "df.loc[df[\"num\"]>1,'num'] = 1"
   ]
  },
  {
   "cell_type": "code",
   "execution_count": null,
   "metadata": {
    "collapsed": false
   },
   "outputs": [],
   "source": [
    "from sklearn.preprocessing import KBinsDiscretizer, OneHotEncoder\n",
    "from sklearn.compose import ColumnTransformer\n",
    "from sklearn.tree import DecisionTreeClassifier\n",
    "from imblearn.under_sampling import RandomUnderSampler\n",
    "from sklearn.impute import SimpleImputer\n",
    "from imblearn.pipeline import Pipeline\n",
    "one_hot_encoded_features = ['cp','restecg', 'slope','ca', 'restwm']\n",
    "X = df.loc[:,(df.columns!= 'num') & (df.columns != 'dataset') ].copy(deep=True)\n",
    "y = df.loc[: , (df.columns== 'num')].values.ravel().copy()\n",
    "oneHotEncoder = ColumnTransformer(\n",
    "    transformers=[\n",
    "        ('discretize', KBinsDiscretizer(strategy='ordinal'), ['age']),\n",
    "        ('oneHotEncoder', OneHotEncoder(handle_unknown='ignore'), lambda X : [value for value in one_hot_encoded_features if value in X.columns]),\n",
    "    ], remainder='passthrough')\n",
    "pipeline = Pipeline(steps=[\n",
    "    ('fix_encoding_errors', FixCommonEncodingErrors()),\n",
    "    ('transform_smoke', DataframeSmokeTransformer()),\n",
    "    ('enrich_heart_rate', EnrichHeartData()),\n",
    "    ('drop_columns', DropColumnsBasedOnMinimumPercentageToBeDropped()),\n",
    "    ('oneHotEncoder', oneHotEncoder),\n",
    "    ('impute', SimpleImputer()),\n",
    "    ('scaler', 'passthrough'),\n",
    "    ('sampler', 'passthrough'),\n",
    "    ('estimator', DecisionTreeClassifier())\n",
    "])\n",
    "parameters = {\n",
    "    'drop_columns__minimum_percentage_to_be_dropped' : 0,\n",
    "    'estimator__criterion': \"gini\",\n",
    "    'estimator__max_depth': None,\n",
    "    'estimator__min_samples_split': 2,\n",
    "    'impute__strategy':'mean',\n",
    "    'oneHotEncoder__discretize': KBinsDiscretizer(2,encode='ordinal', strategy='uniform')\n",
    "}\n",
    "pipeline.set_params(**parameters)\n",
    "pipeline.fit(X,y)"
   ]
  },
  {
   "cell_type": "code",
   "execution_count": null,
   "metadata": {
    "collapsed": false
   },
   "outputs": [],
   "source": [
    "decision_tree = pipeline['estimator']"
   ]
  },
  {
   "cell_type": "code",
   "execution_count": null,
   "metadata": {
    "collapsed": false
   },
   "outputs": [],
   "source": [
    "from sklearn import tree\n",
    "\n",
    "fig = plt.figure(figsize=(25,20))\n",
    "_ = tree.plot_tree(decision_tree)\n"
   ]
  },
  {
   "cell_type": "code",
   "execution_count": null,
   "metadata": {
    "collapsed": false
   },
   "outputs": [],
   "source": [
    "X = df.loc[:,(df.columns!= 'num') & (df.columns != 'dataset') ].copy(deep=True)\n",
    "y = df.loc[: , (df.columns== 'num')].values.ravel().copy()\n",
    "X_transformed = X.copy(deep=True)\n",
    "X_transformed = FixCommonEncodingErrors().transform(X_transformed)\n",
    "X_transformed = DataframeSmokeTransformer().transform(X_transformed)\n",
    "X_transformed = EnrichHeartData().transform(X_transformed)\n",
    "columnDropper = DropColumnsBasedOnMinimumPercentageToBeDropped()\n",
    "columnDropper.set_params(**{'minimum_percentage_to_be_dropped':0})\n",
    "columnDropper.fit(X)\n",
    "X_transformed = columnDropper.transform(X_transformed)\n",
    "# discretizer =  KBinsDiscretizer(2,encode='ordinal', strategy='uniform')\n",
    "# X_transformed['age'] = discretizer.fit_transform(X_transformed['age'].to_numpy().reshape(-1, 1))\n",
    "# oneHotEncoder = OneHotEncoder(handle_unknown='ignore')\n",
    "# one_hot_encoded_features = [value for value in one_hot_encoded_features if value in X_transformed.columns]\n",
    "# encoded = pd.DataFrame(oneHotEncoder.fit_transform(X_transformed[one_hot_encoded_features]).toarray(), columns=oneHotEncoder.get_feature_names(one_hot_encoded_features))\n",
    "# X_transformed = X_transformed.drop(columns=one_hot_encoded_features)\n",
    "# X_transformed = X_transformed.join(encoded)\n",
    "# imputer = SimpleImputer(strategy='mean')\n",
    "# X_transformed = pd.DataFrame(imputer.fit_transform(X_transformed), columns=imputer.get_feature_names_out())\n",
    "# scaler = MaxAbsScaler()\n",
    "# X_transformed = pd.DataFrame(scaler.fit_transform(X_transformed), columns=scaler.get_feature_names_out())\n",
    "# sampler = RandomUnderSampler(random_state=42)\n",
    "# X_transformed, y = sampler.fit_resample(X_transformed,y)\n",
    "decisionTreeClassifier = DecisionTreeClassifier(criterion='entropy', max_depth=3, min_samples_split=2)\n",
    "decisionTreeClassifier = decisionTreeClassifier.fit(X_transformed,y)"
   ]
  },
  {
   "cell_type": "code",
   "execution_count": null,
   "metadata": {},
   "outputs": [],
   "source": [
    "from dtreeviz.trees import dtreeviz # remember to load the package\n",
    "\n",
    "viz = dtreeviz(decisionTreeClassifier, X_transformed, y,\n",
    "               target_name=\"heart disease\",\n",
    "               feature_names=X_transformed.columns,\n",
    "               class_names=['No','Yes']\n",
    "               )\n",
    "viz"
   ]
  },
  {
   "cell_type": "code",
   "execution_count": null,
   "metadata": {
    "collapsed": false
   },
   "outputs": [],
   "source": [
    "from dtreeviz.trees import dtreeviz # remember to load the package\n",
    "\n",
    "viz = dtreeviz(decisionTreeClassifier, X_transformed, y,\n",
    "               target_name=\"heart disease\",\n",
    "               feature_names=X_transformed.columns,\n",
    "               class_names=['No','Yes']\n",
    "               )\n",
    "\n",
    "viz\n"
   ]
  },
  {
   "cell_type": "code",
   "execution_count": null,
   "outputs": [],
   "source": [
    "from sklearn.neighbors import KNeighborsClassifier\n",
    "X = df.loc[:,(df.columns!= 'num') & (df.columns != 'dataset') ].copy(deep=True)\n",
    "y = df.loc[: , (df.columns== 'num')].values.ravel().copy()\n",
    "X_transformed = X.copy(deep=True)\n",
    "X_transformed = FixCommonEncodingErrors().transform(X_transformed)\n",
    "X_transformed = DataframeSmokeTransformer().transform(X_transformed)\n",
    "X_transformed = EnrichHeartData().transform(X_transformed)\n",
    "columnDropper = DropColumnsBasedOnMinimumPercentageToBeDropped()\n",
    "columnDropper.set_params(**{'minimum_percentage_to_be_dropped':0})\n",
    "columnDropper.fit(X)\n",
    "X_transformed = columnDropper.transform(X_transformed)\n",
    "discretizer =  KBinsDiscretizer(2,encode='ordinal', strategy='uniform')\n",
    "X_transformed['age'] = discretizer.fit_transform(X_transformed['age'].to_numpy().reshape(-1, 1))\n",
    "# oneHotEncoder = OneHotEncoder(handle_unknown='ignore')\n",
    "# one_hot_encoded_features = [value for value in one_hot_encoded_features if value in X_transformed.columns]\n",
    "# encoded = pd.DataFrame(oneHotEncoder.fit_transform(X_transformed[one_hot_encoded_features]).toarray(), columns=oneHotEncoder.get_feature_names(one_hot_encoded_features))\n",
    "# X_transformed = X_transformed.drop(columns=one_hot_encoded_features)\n",
    "# X_transformed = X_transformed.join(encoded)\n",
    "imputer = SimpleImputer(strategy='mean')\n",
    "X_transformed = pd.DataFrame(imputer.fit_transform(X_transformed), columns=imputer.get_feature_names_out())\n",
    "# scaler = MaxAbsScaler()\n",
    "# X_transformed = pd.DataFrame(scaler.fit_transform(X_transformed), columns=scaler.get_feature_names_out())\n",
    "# sampler = RandomUnderSampler(random_state=42)\n",
    "# X_transformed, y = sampler.fit_resample(X_transformed,y)\n",
    "kNeighborsClassifier = KNeighborsClassifier(n_neighbors=82,p=1, weights='distance')\n",
    "kNeighborsClassifier = kNeighborsClassifier.fit(X_transformed,y)"
   ],
   "metadata": {
    "collapsed": false
   }
  },
  {
   "cell_type": "code",
   "execution_count": null,
   "metadata": {
    "collapsed": false
   },
   "outputs": [],
   "source": [
    "import re, seaborn as sns\n",
    "import numpy as np\n",
    "\n",
    "from matplotlib import pyplot as plt\n",
    "from mpl_toolkits.mplot3d import Axes3D\n",
    "from matplotlib.colors import ListedColormap\n",
    "target = df.loc[: , (df.columns== 'num')].values.ravel().copy()\n",
    "# generate data\n",
    "n = 200\n",
    "x = X_transformed['age']\n",
    "y = X_transformed['cp']\n",
    "z = X_transformed['sex']\n",
    "\n",
    "# axes instance\n",
    "fig = plt.figure(figsize=(6,6))\n",
    "ax = Axes3D(fig, auto_add_to_figure=False)\n",
    "fig.add_axes(ax)\n",
    "\n",
    "# get colormap from seaborn\n",
    "cmap = ListedColormap(sns.color_palette('rainbow').as_hex())\n",
    "\n",
    "# plot\n",
    "sc = ax.scatter(x, y, z, s=40, c=target, marker='o', cmap=cmap, alpha=0.3)\n",
    "ax.set_xlabel('age')\n",
    "ax.set_ylabel('cp')\n",
    "ax.set_zlabel('sex')\n",
    "\n",
    "# legend\n",
    "plt.legend(*sc.legend_elements(), bbox_to_anchor=(1.05, 1), loc=2)\n",
    "\n",
    "\n",
    "#give the labels to each point\n",
    "for x_label, y_label, z_label in zip(x, y, z):\n",
    "    label = X_transformed[X_transformed['age'] == x & X_transformed['cp'] == y & X_transformed['sex'] == z]\n",
    "    ax3d.text(x, y, z, label)\n",
    "# save\n",
    "plt.savefig(\"scatter_hue\", bbox_inches='tight')"
   ]
  },
  {
   "cell_type": "code",
   "execution_count": null,
   "outputs": [],
   "source": [
    "import re, seaborn as sns\n",
    "import numpy as np\n",
    "\n",
    "from matplotlib import pyplot as plt\n",
    "from mpl_toolkits.mplot3d import Axes3D\n",
    "from matplotlib.colors import ListedColormap\n",
    "target = df.loc[: , (df.columns== 'num')].values.ravel().copy()\n",
    "# generate data\n",
    "x = X_transformed['age']\n",
    "y = X_transformed['cp']\n",
    "z = X_transformed['sex']\n",
    "\n",
    "# axes instance\n",
    "ax3d = plt.figure(figsize=(6,6)).gca(projection='3d')\n",
    "\n",
    "# get colormap from seaborn\n",
    "cmap = ListedColormap(sns.color_palette('rainbow').as_hex())\n",
    "\n",
    "# legend\n",
    "plt.legend(*sc.legend_elements(), bbox_to_anchor=(1.05, 1), loc=2)\n",
    "\n",
    "# plot\n",
    "ax3d.scatter(x, y, z, s=40, c=target, marker='o', cmap=cmap, alpha=0.3)\n",
    "ax3d.set_xlabel('age')\n",
    "ax3d.set_ylabel('cp')\n",
    "ax3d.set_zlabel('sex')\n",
    "\n",
    "\n",
    "X_transformed['num'] = target\n",
    "\n",
    "for index, row in X_transformed.groupby(['sex', 'cp','age']).count().reset_index().iterrows():\n",
    "    ax3d.text(row['age'], row['cp'], row['sex'], int(row['num']))\n",
    "\n",
    "plt.show()"
   ],
   "metadata": {
    "collapsed": false
   }
  },
  {
   "cell_type": "code",
   "execution_count": null,
   "outputs": [],
   "source": [
    "X['age'].describe()"
   ],
   "metadata": {
    "collapsed": false
   }
  },
  {
   "cell_type": "code",
   "execution_count": null,
   "outputs": [],
   "source": [
    "for current_x, current_y, current_z in zip(x, y, z):\n",
    "    print(current_x, current_y, current_z)"
   ],
   "metadata": {
    "collapsed": false
   }
  },
  {
   "cell_type": "code",
   "execution_count": null,
   "outputs": [],
   "source": [],
   "metadata": {
    "collapsed": false
   }
  },
  {
   "cell_type": "code",
   "execution_count": null,
   "outputs": [],
   "source": [],
   "metadata": {
    "collapsed": false
   }
  }
 ],
 "metadata": {
  "kernelspec": {
   "display_name": "Python 3.10.8 ('dataMining')",
   "language": "python",
   "name": "python3"
  },
  "language_info": {
   "codemirror_mode": {
    "name": "ipython",
    "version": 3
   },
   "file_extension": ".py",
   "mimetype": "text/x-python",
   "name": "python",
   "nbconvert_exporter": "python",
   "pygments_lexer": "ipython3",
   "version": "3.10.8"
  },
  "vscode": {
   "interpreter": {
    "hash": "43abaa89d8f041132bf32a2cf1bbc1cf029c16308625f0c61dcc8cc992b44073"
   }
  }
 },
 "nbformat": 4,
 "nbformat_minor": 0
}
