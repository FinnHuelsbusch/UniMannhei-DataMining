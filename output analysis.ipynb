{
 "cells": [
  {
   "cell_type": "code",
   "execution_count": 1,
   "metadata": {
    "collapsed": true
   },
   "outputs": [],
   "source": [
    "import json\n",
    "import pandas as pd\n",
    "import seaborn as sns\n",
    "import matplotlib.pyplot as plt"
   ]
  },
  {
   "cell_type": "code",
   "execution_count": 2,
   "outputs": [],
   "source": [
    "with open('KNN.json') as file:\n",
    "     measurements = json.load(file)['measurements']"
   ],
   "metadata": {
    "collapsed": false
   }
  },
  {
   "cell_type": "code",
   "execution_count": 3,
   "outputs": [],
   "source": [
    "groupedByImputer = {}\n",
    "for entry in measurements:\n",
    "    temp = groupedByImputer.get(entry['imputer'],[])\n",
    "    if entry['scaler'] == 'RobustScaler':\n",
    "        continue\n",
    "    temp.append(entry)\n",
    "    groupedByImputer[entry['imputer']] = temp"
   ],
   "metadata": {
    "collapsed": false
   }
  },
  {
   "cell_type": "code",
   "execution_count": 4,
   "outputs": [],
   "source": [
    "for entry in groupedByImputer['SimpleImputer']:\n",
    "    if not 'Execution time in seconds' in entry.keys():\n",
    "        print(entry)"
   ],
   "metadata": {
    "collapsed": false
   }
  },
  {
   "cell_type": "code",
   "execution_count": 5,
   "outputs": [
    {
     "name": "stdout",
     "output_type": "stream",
     "text": [
      "SimpleImputer\n"
     ]
    },
    {
     "data": {
      "text/plain": "count       6.000000\nmean     3958.284533\nstd      2664.469657\nmin      2037.073731\n25%      2144.620626\n50%      2523.123979\n75%      5387.558989\nmax      8305.562007\ndtype: float64"
     },
     "metadata": {},
     "output_type": "display_data"
    }
   ],
   "source": [
    "for key, val in groupedByImputer.items():\n",
    "    print(key)\n",
    "    display(pd.Series([entry['Execution time in seconds'] for entry in val]).describe())"
   ],
   "metadata": {
    "collapsed": false
   }
  },
  {
   "cell_type": "code",
   "execution_count": 14,
   "outputs": [
    {
     "data": {
      "text/plain": "         imputer            scaler             estimator   AUC mean  \\\n3  SimpleImputer  PowerTransformer  KNeighborsClassifier  78.936486   \n6  SimpleImputer    StandardScaler  KNeighborsClassifier  77.771242   \n1  SimpleImputer      MinMaxScaler  KNeighborsClassifier  76.770159   \n0  SimpleImputer      MaxAbsScaler  KNeighborsClassifier  76.568678   \n2  SimpleImputer        Normalizer  KNeighborsClassifier  75.763950   \n4  SimpleImputer      RobustScaler  KNeighborsClassifier  75.343143   \n5  SimpleImputer               str  KNeighborsClassifier  73.841887   \n\n   minimumPercentageMissingToBeDropped  Execution time in seconds  \\\n3                                   90                2819.452134   \n6                                  100                8305.562007   \n1                                  100                2117.228893   \n0                                   90                2226.795825   \n2                                    0                6243.594608   \n4                                   50                8331.260922   \n5                                    0                2037.073731   \n\n   Execution time in Minutes  \n3                  46.990869  \n6                 138.426033  \n1                  35.287148  \n0                  37.113264  \n2                 104.059910  \n4                 138.854349  \n5                  33.951229  ",
      "text/html": "<div>\n<style scoped>\n    .dataframe tbody tr th:only-of-type {\n        vertical-align: middle;\n    }\n\n    .dataframe tbody tr th {\n        vertical-align: top;\n    }\n\n    .dataframe thead th {\n        text-align: right;\n    }\n</style>\n<table border=\"1\" class=\"dataframe\">\n  <thead>\n    <tr style=\"text-align: right;\">\n      <th></th>\n      <th>imputer</th>\n      <th>scaler</th>\n      <th>estimator</th>\n      <th>AUC mean</th>\n      <th>minimumPercentageMissingToBeDropped</th>\n      <th>Execution time in seconds</th>\n      <th>Execution time in Minutes</th>\n    </tr>\n  </thead>\n  <tbody>\n    <tr>\n      <th>3</th>\n      <td>SimpleImputer</td>\n      <td>PowerTransformer</td>\n      <td>KNeighborsClassifier</td>\n      <td>78.936486</td>\n      <td>90</td>\n      <td>2819.452134</td>\n      <td>46.990869</td>\n    </tr>\n    <tr>\n      <th>6</th>\n      <td>SimpleImputer</td>\n      <td>StandardScaler</td>\n      <td>KNeighborsClassifier</td>\n      <td>77.771242</td>\n      <td>100</td>\n      <td>8305.562007</td>\n      <td>138.426033</td>\n    </tr>\n    <tr>\n      <th>1</th>\n      <td>SimpleImputer</td>\n      <td>MinMaxScaler</td>\n      <td>KNeighborsClassifier</td>\n      <td>76.770159</td>\n      <td>100</td>\n      <td>2117.228893</td>\n      <td>35.287148</td>\n    </tr>\n    <tr>\n      <th>0</th>\n      <td>SimpleImputer</td>\n      <td>MaxAbsScaler</td>\n      <td>KNeighborsClassifier</td>\n      <td>76.568678</td>\n      <td>90</td>\n      <td>2226.795825</td>\n      <td>37.113264</td>\n    </tr>\n    <tr>\n      <th>2</th>\n      <td>SimpleImputer</td>\n      <td>Normalizer</td>\n      <td>KNeighborsClassifier</td>\n      <td>75.763950</td>\n      <td>0</td>\n      <td>6243.594608</td>\n      <td>104.059910</td>\n    </tr>\n    <tr>\n      <th>4</th>\n      <td>SimpleImputer</td>\n      <td>RobustScaler</td>\n      <td>KNeighborsClassifier</td>\n      <td>75.343143</td>\n      <td>50</td>\n      <td>8331.260922</td>\n      <td>138.854349</td>\n    </tr>\n    <tr>\n      <th>5</th>\n      <td>SimpleImputer</td>\n      <td>str</td>\n      <td>KNeighborsClassifier</td>\n      <td>73.841887</td>\n      <td>0</td>\n      <td>2037.073731</td>\n      <td>33.951229</td>\n    </tr>\n  </tbody>\n</table>\n</div>"
     },
     "execution_count": 14,
     "metadata": {},
     "output_type": "execute_result"
    }
   ],
   "source": [
    "temp = []\n",
    "for entry in measurements:\n",
    "    temp.append([entry['imputer'], entry[\"scaler\"], entry[\"estimator\"], entry['auc mean'], entry['best_params']['drop_columns__minimum_percentage_to_be_dropped'], entry['Execution time in seconds']])\n",
    "df = pd.DataFrame(temp, columns=['imputer', 'scaler', 'estimator', 'AUC mean', 'minimumPercentageMissingToBeDropped','Execution time in seconds'])\n",
    "df['Execution time in Minutes'] = df['Execution time in seconds'] / 60\n",
    "df.sort_values(by='AUC mean', ascending=False)"
   ],
   "metadata": {
    "collapsed": false
   }
  },
  {
   "cell_type": "code",
   "execution_count": null,
   "outputs": [],
   "source": [],
   "metadata": {
    "collapsed": false
   }
  }
 ],
 "metadata": {
  "kernelspec": {
   "display_name": "Python 3",
   "language": "python",
   "name": "python3"
  },
  "language_info": {
   "codemirror_mode": {
    "name": "ipython",
    "version": 2
   },
   "file_extension": ".py",
   "mimetype": "text/x-python",
   "name": "python",
   "nbconvert_exporter": "python",
   "pygments_lexer": "ipython2",
   "version": "2.7.6"
  }
 },
 "nbformat": 4,
 "nbformat_minor": 0
}
