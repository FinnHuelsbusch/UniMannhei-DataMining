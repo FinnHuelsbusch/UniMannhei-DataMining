{
 "cells": [
  {
   "cell_type": "code",
   "execution_count": 24,
   "metadata": {
    "collapsed": true
   },
   "outputs": [],
   "source": [
    "import json\n",
    "import pandas as pd\n",
    "import seaborn as sns\n",
    "import matplotlib.pyplot as plt"
   ]
  },
  {
   "cell_type": "code",
   "execution_count": 25,
   "outputs": [],
   "source": [
    "with open('outputs/output SVC.json') as file:\n",
    "     measurements = json.load(file)['measurements']"
   ],
   "metadata": {
    "collapsed": false
   }
  },
  {
   "cell_type": "code",
   "execution_count": 26,
   "outputs": [],
   "source": [
    "groupedBySampler = {}\n",
    "for entry in measurements:\n",
    "    temp = groupedBySampler.get(entry['sampler'],[])\n",
    "    if 'reason' in entry.keys():\n",
    "        continue\n",
    "    temp.append(entry)\n",
    "    groupedBySampler[entry['sampler']] = temp"
   ],
   "metadata": {
    "collapsed": false
   }
  },
  {
   "cell_type": "code",
   "execution_count": 28,
   "outputs": [
    {
     "data": {
      "text/plain": "{'str': [85.30853658536586,\n  84.93761821801891,\n  80.04657789945246,\n  71.54839472374316,\n  78.52537332005973,\n  78.2697237431558],\n 'RandomOverSampler': [84.73918616226979,\n  85.39835739173718,\n  80.32857142857142,\n  80.39324290691887,\n  83.21223245395718,\n  82.79225983076157],\n 'RandomUnderSampler': [83.9927949228472,\n  83.75297411647585,\n  80.71632653061226,\n  84.39019412643106,\n  81.58010204081633,\n  85.0034718765555]}"
     },
     "execution_count": 28,
     "metadata": {},
     "output_type": "execute_result"
    }
   ],
   "source": [
    "sampler_auc={}\n",
    "for sampler in groupedBySampler:\n",
    "    temp = []\n",
    "    for entry in groupedBySampler[sampler]:\n",
    "        temp.append(entry['auc_mean'])\n",
    "    sampler_auc[sampler] = temp\n",
    "sampler_auc"
   ],
   "metadata": {
    "collapsed": false
   }
  },
  {
   "cell_type": "code",
   "execution_count": 33,
   "outputs": [
    {
     "data": {
      "text/plain": "             str  RandomOverSampler  RandomUnderSampler\ncount   6.000000           6.000000            6.000000\nmean   79.772704          82.810642           83.239311\nstd     5.076433           2.125166            1.696279\nmin    71.548395          80.328571           80.716327\n25%    78.333636          80.992997           82.123320\n50%    79.285976          83.002246           83.872885\n75%    83.714858          84.357448           84.290844\nmax    85.308537          85.398357           85.003472",
      "text/html": "<div>\n<style scoped>\n    .dataframe tbody tr th:only-of-type {\n        vertical-align: middle;\n    }\n\n    .dataframe tbody tr th {\n        vertical-align: top;\n    }\n\n    .dataframe thead th {\n        text-align: right;\n    }\n</style>\n<table border=\"1\" class=\"dataframe\">\n  <thead>\n    <tr style=\"text-align: right;\">\n      <th></th>\n      <th>str</th>\n      <th>RandomOverSampler</th>\n      <th>RandomUnderSampler</th>\n    </tr>\n  </thead>\n  <tbody>\n    <tr>\n      <th>count</th>\n      <td>6.000000</td>\n      <td>6.000000</td>\n      <td>6.000000</td>\n    </tr>\n    <tr>\n      <th>mean</th>\n      <td>79.772704</td>\n      <td>82.810642</td>\n      <td>83.239311</td>\n    </tr>\n    <tr>\n      <th>std</th>\n      <td>5.076433</td>\n      <td>2.125166</td>\n      <td>1.696279</td>\n    </tr>\n    <tr>\n      <th>min</th>\n      <td>71.548395</td>\n      <td>80.328571</td>\n      <td>80.716327</td>\n    </tr>\n    <tr>\n      <th>25%</th>\n      <td>78.333636</td>\n      <td>80.992997</td>\n      <td>82.123320</td>\n    </tr>\n    <tr>\n      <th>50%</th>\n      <td>79.285976</td>\n      <td>83.002246</td>\n      <td>83.872885</td>\n    </tr>\n    <tr>\n      <th>75%</th>\n      <td>83.714858</td>\n      <td>84.357448</td>\n      <td>84.290844</td>\n    </tr>\n    <tr>\n      <th>max</th>\n      <td>85.308537</td>\n      <td>85.398357</td>\n      <td>85.003472</td>\n    </tr>\n  </tbody>\n</table>\n</div>"
     },
     "execution_count": 33,
     "metadata": {},
     "output_type": "execute_result"
    }
   ],
   "source": [
    "df = pd.DataFrame.from_dict(sampler_auc)\n",
    "df.describe()"
   ],
   "metadata": {
    "collapsed": false
   }
  },
  {
   "cell_type": "code",
   "execution_count": 32,
   "outputs": [
    {
     "data": {
      "text/plain": "<AxesSubplot:>"
     },
     "execution_count": 32,
     "metadata": {},
     "output_type": "execute_result"
    },
    {
     "data": {
      "text/plain": "<Figure size 640x480 with 1 Axes>",
      "image/png": "[encoded data removed]"
     },
     "metadata": {},
     "output_type": "display_data"
    }
   ],
   "source": [
    "sns.boxplot(data=df)"
   ],
   "metadata": {
    "collapsed": false
   }
  },
  {
   "cell_type": "code",
   "execution_count": 30,
   "outputs": [
    {
     "name": "stdout",
     "output_type": "stream",
     "text": [
      "SimpleImputer\n"
     ]
    },
    {
     "ename": "KeyError",
     "evalue": "'Execution time in seconds'",
     "output_type": "error",
     "traceback": [
      "\u001B[0;31m---------------------------------------------------------------------------\u001B[0m",
      "\u001B[0;31mKeyError\u001B[0m                                  Traceback (most recent call last)",
      "Cell \u001B[0;32mIn [30], line 3\u001B[0m\n\u001B[1;32m      1\u001B[0m \u001B[38;5;28;01mfor\u001B[39;00m key, val \u001B[38;5;129;01min\u001B[39;00m groupedByImputer\u001B[38;5;241m.\u001B[39mitems():\n\u001B[1;32m      2\u001B[0m     \u001B[38;5;28mprint\u001B[39m(key)\n\u001B[0;32m----> 3\u001B[0m     display(pd\u001B[38;5;241m.\u001B[39mSeries([entry[\u001B[38;5;124m'\u001B[39m\u001B[38;5;124mExecution time in seconds\u001B[39m\u001B[38;5;124m'\u001B[39m] \u001B[38;5;28;01mfor\u001B[39;00m entry \u001B[38;5;129;01min\u001B[39;00m val])\u001B[38;5;241m.\u001B[39mdescribe())\n",
      "Cell \u001B[0;32mIn [30], line 3\u001B[0m, in \u001B[0;36m<listcomp>\u001B[0;34m(.0)\u001B[0m\n\u001B[1;32m      1\u001B[0m \u001B[38;5;28;01mfor\u001B[39;00m key, val \u001B[38;5;129;01min\u001B[39;00m groupedByImputer\u001B[38;5;241m.\u001B[39mitems():\n\u001B[1;32m      2\u001B[0m     \u001B[38;5;28mprint\u001B[39m(key)\n\u001B[0;32m----> 3\u001B[0m     display(pd\u001B[38;5;241m.\u001B[39mSeries([\u001B[43mentry\u001B[49m\u001B[43m[\u001B[49m\u001B[38;5;124;43m'\u001B[39;49m\u001B[38;5;124;43mExecution time in seconds\u001B[39;49m\u001B[38;5;124;43m'\u001B[39;49m\u001B[43m]\u001B[49m \u001B[38;5;28;01mfor\u001B[39;00m entry \u001B[38;5;129;01min\u001B[39;00m val])\u001B[38;5;241m.\u001B[39mdescribe())\n",
      "\u001B[0;31mKeyError\u001B[0m: 'Execution time in seconds'"
     ]
    }
   ],
   "source": [
    "for key, val in groupedByImputer.items():\n",
    "    print(key)\n",
    "    display(pd.Series([entry['Execution time in seconds'] for entry in val]).describe())"
   ],
   "metadata": {
    "collapsed": false
   }
  },
  {
   "cell_type": "code",
   "execution_count": null,
   "outputs": [],
   "source": [
    "temp = []\n",
    "for entry in measurements:\n",
    "    temp.append([entry['imputer'], entry[\"scaler\"], entry[\"estimator\"], entry['auc mean'], entry['best_params']['drop_columns__minimum_percentage_to_be_dropped'], entry['Execution time in seconds']])\n",
    "df = pd.DataFrame(temp, columns=['imputer', 'scaler', 'estimator', 'AUC mean', 'minimumPercentageMissingToBeDropped','Execution time in seconds'])\n",
    "df['Execution time in Minutes'] = df['Execution time in seconds'] / 60\n",
    "df.sort_values(by='AUC mean', ascending=False)"
   ],
   "metadata": {
    "collapsed": false
   }
  },
  {
   "cell_type": "code",
   "execution_count": null,
   "outputs": [],
   "source": [],
   "metadata": {
    "collapsed": false
   }
  }
 ],
 "metadata": {
  "kernelspec": {
   "display_name": "Python 3",
   "language": "python",
   "name": "python3"
  },
  "language_info": {
   "codemirror_mode": {
    "name": "ipython",
    "version": 2
   },
   "file_extension": ".py",
   "mimetype": "text/x-python",
   "name": "python",
   "nbconvert_exporter": "python",
   "pygments_lexer": "ipython2",
   "version": "2.7.6"
  }
 },
 "nbformat": 4,
 "nbformat_minor": 0
}
