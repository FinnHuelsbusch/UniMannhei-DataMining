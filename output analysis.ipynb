{
 "cells": [
  {
   "cell_type": "code",
   "execution_count": 63,
   "metadata": {
    "collapsed": true
   },
   "outputs": [],
   "source": [
    "import json\n",
    "import pandas as pd\n",
    "import seaborn as sns\n",
    "import matplotlib as plt"
   ]
  },
  {
   "cell_type": "code",
   "execution_count": 64,
   "outputs": [],
   "source": [
    "with open('example_output.json') as file:\n",
    "     measurements = json.load(file)['measurements']"
   ],
   "metadata": {
    "collapsed": false
   }
  },
  {
   "cell_type": "code",
   "execution_count": 65,
   "outputs": [],
   "source": [
    "output = {}\n",
    "for entry in measurements:\n",
    "    temp = output.get(entry['imputer'],[])\n",
    "    temp.append(entry['Execution time in seconds'])\n",
    "    output[entry['imputer']] = temp\n"
   ],
   "metadata": {
    "collapsed": false
   }
  },
  {
   "cell_type": "code",
   "execution_count": 66,
   "outputs": [
    {
     "name": "stdout",
     "output_type": "stream",
     "text": [
      "SimpleImputer\n"
     ]
    },
    {
     "data": {
      "text/plain": "count     33.000000\nmean     119.987377\nstd       74.484739\nmin       35.431654\n25%       72.897580\n50%       80.473342\n75%      198.221003\nmax      260.374381\ndtype: float64"
     },
     "metadata": {},
     "output_type": "display_data"
    },
    {
     "name": "stdout",
     "output_type": "stream",
     "text": [
      "KNNImputer\n"
     ]
    },
    {
     "data": {
      "text/plain": "count      23.000000\nmean     1267.571051\nstd       420.354533\nmin       354.992807\n25%       985.934800\n50%      1315.175147\n75%      1581.991649\nmax      1902.247683\ndtype: float64"
     },
     "metadata": {},
     "output_type": "display_data"
    }
   ],
   "source": [
    "for key in output.keys():\n",
    "    print(key)\n",
    "    display(pd.Series(output[key]).describe())"
   ],
   "metadata": {
    "collapsed": false
   }
  },
  {
   "cell_type": "code",
   "execution_count": 67,
   "outputs": [],
   "source": [
    "output = {}\n",
    "for entry in measurements:\n",
    "    temp = output.get(entry['imputer'],[])\n",
    "    temp.append(entry['best_params'])\n",
    "    output[entry['imputer']] = temp"
   ],
   "metadata": {
    "collapsed": false
   }
  },
  {
   "cell_type": "code",
   "execution_count": 68,
   "outputs": [],
   "source": [
    "temp = []\n",
    "for entry in output['KNNImputer']:\n",
    "    temp.append(entry['impute__n_neighbors'])"
   ],
   "metadata": {
    "collapsed": false
   }
  },
  {
   "cell_type": "code",
   "execution_count": 69,
   "outputs": [
    {
     "data": {
      "text/plain": "count    23.000000\nmean     19.478261\nstd      22.661280\nmin       2.000000\n25%       2.000000\n50%      11.000000\n75%      21.500000\nmax      74.000000\ndtype: float64"
     },
     "metadata": {},
     "output_type": "display_data"
    }
   ],
   "source": [
    "display(pd.Series(temp).describe())"
   ],
   "metadata": {
    "collapsed": false
   }
  },
  {
   "cell_type": "code",
   "execution_count": 69,
   "outputs": [],
   "source": [],
   "metadata": {
    "collapsed": false
   }
  }
 ],
 "metadata": {
  "kernelspec": {
   "display_name": "Python 3",
   "language": "python",
   "name": "python3"
  },
  "language_info": {
   "codemirror_mode": {
    "name": "ipython",
    "version": 2
   },
   "file_extension": ".py",
   "mimetype": "text/x-python",
   "name": "python",
   "nbconvert_exporter": "python",
   "pygments_lexer": "ipython2",
   "version": "2.7.6"
  }
 },
 "nbformat": 4,
 "nbformat_minor": 0
}
