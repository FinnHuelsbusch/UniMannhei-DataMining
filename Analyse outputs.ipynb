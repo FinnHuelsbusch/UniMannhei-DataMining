{
 "cells": [
  {
   "cell_type": "code",
   "execution_count": 1,
   "id": "9438b12c",
   "metadata": {},
   "outputs": [],
   "source": [
    "import json\n",
    "import pandas as pd\n",
    "import numpy as np\n",
    "import statistics"
   ]
  },
  {
   "cell_type": "code",
   "execution_count": 2,
   "id": "700e876f",
   "metadata": {},
   "outputs": [],
   "source": [
    "def calculate_metrics(filepath:str): \n",
    "    with open(filepath, 'r') as f:\n",
    "        data = json.load(f)\n",
    "    # extract data form json into usable df \n",
    "    df = pd.json_normalize(data, record_path =['measurements'])\n",
    "    # save minimum percentage to be dropped in extra variable\n",
    "    df[\"drop_columns\"] = df[\"best_params.drop_columns__minimum_percentage_to_be_dropped\"]\n",
    "    # calculate main values of interest\n",
    "    df[\"auc_std\"] = df.apply(lambda row: np.std(row[\"auc\"]), axis =1)\n",
    "    df[\"pre_mean\"] = df.apply(lambda row: np.mean(row[\"classification_report.weighted avg.precision\"]), axis =1)\n",
    "    df[\"rec_mean\"] = df.apply(lambda row: np.mean(row[\"classification_report.weighted avg.recall\"]), axis =1)\n",
    "    df[\"f1_std\"] = df.apply(lambda row: np.std(row[\"classification_report.weighted avg.f1-score\"]), axis =1)\n",
    "    df[\"f1_mean\"] = df.apply(lambda row: np.mean(row[\"classification_report.weighted avg.f1-score\"]), axis =1)\n",
    "    df[\"type2\"] = df.apply(lambda row: np.sum(row[\"confusion_matrix.(1, 0)\"]), axis =1)\n",
    "    # Confidence Intervalls\n",
    "    df[\"auc_confl\"] = df[\"auc_mean\"]- 1.96 * (df[\"auc_std\"] / np.sqrt(10))\n",
    "    df[\"auc_confu\"] = df[\"auc_mean\"]+ 1.96 * (df[\"auc_std\"] / np.sqrt(10))\n",
    "    df[\"f1_confl\"] = df[\"f1_mean\"]- 1.96 * (df[\"f1_std\"] / np.sqrt(10))\n",
    "    df[\"f1_confu\"] = df[\"f1_mean\"]+ 1.96 * (df[\"f1_std\"] / np.sqrt(10))\n",
    "    return df"
   ]
  },
  {
   "cell_type": "code",
   "execution_count": 3,
   "id": "8b338096",
   "metadata": {},
   "outputs": [
    {
     "data": {
      "text/plain": "     auc_mean   auc_std  type2  drop_columns\n7   76.971665  0.074685     96           100\n8   76.540518  0.086870    109            75\n9   75.475697  0.080552    106           100\n1   75.438477  0.070096    110           100\n4   75.438477  0.070096    110           100\n10  75.438477  0.070096    110           100\n13  75.438477  0.070096    110           100\n19  75.438477  0.070096    110           100\n15  75.402738  0.075977    108           100\n18  75.352738  0.076452    106           100\n14  75.312469  0.081907    115            75\n17  75.287469  0.081928    114           100\n20  75.287469  0.081928    114           100\n5   75.287469  0.081928    114            75\n6   75.280811  0.082558     98           100\n12  75.277738  0.074727    108           100\n16  75.234395  0.075600    112           100\n2   75.162469  0.081176    114            75\n11  75.062469  0.081313    115            75\n3   75.050697  0.075209    109           100",
      "text/html": "<div>\n<style scoped>\n    .dataframe tbody tr th:only-of-type {\n        vertical-align: middle;\n    }\n\n    .dataframe tbody tr th {\n        vertical-align: top;\n    }\n\n    .dataframe thead th {\n        text-align: right;\n    }\n</style>\n<table border=\"1\" class=\"dataframe\">\n  <thead>\n    <tr style=\"text-align: right;\">\n      <th></th>\n      <th>auc_mean</th>\n      <th>auc_std</th>\n      <th>type2</th>\n      <th>drop_columns</th>\n    </tr>\n  </thead>\n  <tbody>\n    <tr>\n      <th>7</th>\n      <td>76.971665</td>\n      <td>0.074685</td>\n      <td>96</td>\n      <td>100</td>\n    </tr>\n    <tr>\n      <th>8</th>\n      <td>76.540518</td>\n      <td>0.086870</td>\n      <td>109</td>\n      <td>75</td>\n    </tr>\n    <tr>\n      <th>9</th>\n      <td>75.475697</td>\n      <td>0.080552</td>\n      <td>106</td>\n      <td>100</td>\n    </tr>\n    <tr>\n      <th>1</th>\n      <td>75.438477</td>\n      <td>0.070096</td>\n      <td>110</td>\n      <td>100</td>\n    </tr>\n    <tr>\n      <th>4</th>\n      <td>75.438477</td>\n      <td>0.070096</td>\n      <td>110</td>\n      <td>100</td>\n    </tr>\n    <tr>\n      <th>10</th>\n      <td>75.438477</td>\n      <td>0.070096</td>\n      <td>110</td>\n      <td>100</td>\n    </tr>\n    <tr>\n      <th>13</th>\n      <td>75.438477</td>\n      <td>0.070096</td>\n      <td>110</td>\n      <td>100</td>\n    </tr>\n    <tr>\n      <th>19</th>\n      <td>75.438477</td>\n      <td>0.070096</td>\n      <td>110</td>\n      <td>100</td>\n    </tr>\n    <tr>\n      <th>15</th>\n      <td>75.402738</td>\n      <td>0.075977</td>\n      <td>108</td>\n      <td>100</td>\n    </tr>\n    <tr>\n      <th>18</th>\n      <td>75.352738</td>\n      <td>0.076452</td>\n      <td>106</td>\n      <td>100</td>\n    </tr>\n    <tr>\n      <th>14</th>\n      <td>75.312469</td>\n      <td>0.081907</td>\n      <td>115</td>\n      <td>75</td>\n    </tr>\n    <tr>\n      <th>17</th>\n      <td>75.287469</td>\n      <td>0.081928</td>\n      <td>114</td>\n      <td>100</td>\n    </tr>\n    <tr>\n      <th>20</th>\n      <td>75.287469</td>\n      <td>0.081928</td>\n      <td>114</td>\n      <td>100</td>\n    </tr>\n    <tr>\n      <th>5</th>\n      <td>75.287469</td>\n      <td>0.081928</td>\n      <td>114</td>\n      <td>75</td>\n    </tr>\n    <tr>\n      <th>6</th>\n      <td>75.280811</td>\n      <td>0.082558</td>\n      <td>98</td>\n      <td>100</td>\n    </tr>\n    <tr>\n      <th>12</th>\n      <td>75.277738</td>\n      <td>0.074727</td>\n      <td>108</td>\n      <td>100</td>\n    </tr>\n    <tr>\n      <th>16</th>\n      <td>75.234395</td>\n      <td>0.075600</td>\n      <td>112</td>\n      <td>100</td>\n    </tr>\n    <tr>\n      <th>2</th>\n      <td>75.162469</td>\n      <td>0.081176</td>\n      <td>114</td>\n      <td>75</td>\n    </tr>\n    <tr>\n      <th>11</th>\n      <td>75.062469</td>\n      <td>0.081313</td>\n      <td>115</td>\n      <td>75</td>\n    </tr>\n    <tr>\n      <th>3</th>\n      <td>75.050697</td>\n      <td>0.075209</td>\n      <td>109</td>\n      <td>100</td>\n    </tr>\n  </tbody>\n</table>\n</div>"
     },
     "execution_count": 3,
     "metadata": {},
     "output_type": "execute_result"
    }
   ],
   "source": [
    "df_XGBoost = calculate_metrics(\"outputs/output xgboost.json\")\n",
    "# only display variables important for the model evaluation\n",
    "df_XGBoost = df_XGBoost.sort_values(by = [\"auc_mean\", \"auc_std\", \"type2\", \"drop_columns\"], ascending = False)\n",
    "df_XGBoost[[\"auc_mean\", \"auc_std\", \"type2\", \"drop_columns\"]].head(20)"
   ]
  },
  {
   "cell_type": "code",
   "execution_count": 4,
   "id": "44ccfe22",
   "metadata": {},
   "outputs": [
    {
     "data": {
      "text/plain": "scaler                  Normalizer\nestimator            XGBClassifier\nimputer              SimpleImputer\nsampler         RandomUnderSampler\nauc_mean                 76.540518\nauc_confl                76.486675\nauc_confu                 76.59436\ntype2                          109\nf1_mean                   0.759294\nf1_confl                  0.700291\nf1_confu                  0.818296\ndrop_columns                    75\npre_mean                  0.778677\nrec_mean                  0.767316\nName: 8, dtype: object"
     },
     "execution_count": 4,
     "metadata": {},
     "output_type": "execute_result"
    }
   ],
   "source": [
    "# best model in detail \n",
    "XGBoost = df_XGBoost.loc[8]\n",
    "XGBoost[[\"scaler\", \"estimator\", \"imputer\", \"sampler\", \"auc_mean\", \"auc_confl\", \"auc_confu\", \"type2\", \"f1_mean\", \"f1_confl\", \"f1_confu\", \"drop_columns\", \"pre_mean\", \"rec_mean\"]]"
   ]
  },
  {
   "cell_type": "code",
   "execution_count": 5,
   "id": "85cc427c",
   "metadata": {},
   "outputs": [
    {
     "data": {
      "text/plain": "     auc_mean   auc_std  type2  drop_columns\n15  80.398731  0.097697     83           100\n17  79.798258  0.090229    100           100\n16  79.383997  0.092650    109           100\n5   78.938589  0.063572    127           100\n4   78.811013  0.065513    121           100\n11  78.790070  0.090879    105           100\n2   78.481906  0.065569    123           100\n9   78.180338  0.088097     95           100\n10  78.144126  0.095192    114           100\n0   77.672623  0.075865    109           100\n3   77.645582  0.089669    108            75\n12  77.281396  0.105067     94            20\n1   77.134930  0.067626    134           100\n18  76.285254  0.056878     70             0\n14  76.110988  0.096023    118            20\n8   76.010876  0.048473    107             0\n19  75.770993  0.051443     85             0\n13  75.729890  0.093557    123            20\n20  75.626643  0.056547     95             0\n7   74.909843  0.049239    108             0",
      "text/html": "<div>\n<style scoped>\n    .dataframe tbody tr th:only-of-type {\n        vertical-align: middle;\n    }\n\n    .dataframe tbody tr th {\n        vertical-align: top;\n    }\n\n    .dataframe thead th {\n        text-align: right;\n    }\n</style>\n<table border=\"1\" class=\"dataframe\">\n  <thead>\n    <tr style=\"text-align: right;\">\n      <th></th>\n      <th>auc_mean</th>\n      <th>auc_std</th>\n      <th>type2</th>\n      <th>drop_columns</th>\n    </tr>\n  </thead>\n  <tbody>\n    <tr>\n      <th>15</th>\n      <td>80.398731</td>\n      <td>0.097697</td>\n      <td>83</td>\n      <td>100</td>\n    </tr>\n    <tr>\n      <th>17</th>\n      <td>79.798258</td>\n      <td>0.090229</td>\n      <td>100</td>\n      <td>100</td>\n    </tr>\n    <tr>\n      <th>16</th>\n      <td>79.383997</td>\n      <td>0.092650</td>\n      <td>109</td>\n      <td>100</td>\n    </tr>\n    <tr>\n      <th>5</th>\n      <td>78.938589</td>\n      <td>0.063572</td>\n      <td>127</td>\n      <td>100</td>\n    </tr>\n    <tr>\n      <th>4</th>\n      <td>78.811013</td>\n      <td>0.065513</td>\n      <td>121</td>\n      <td>100</td>\n    </tr>\n    <tr>\n      <th>11</th>\n      <td>78.790070</td>\n      <td>0.090879</td>\n      <td>105</td>\n      <td>100</td>\n    </tr>\n    <tr>\n      <th>2</th>\n      <td>78.481906</td>\n      <td>0.065569</td>\n      <td>123</td>\n      <td>100</td>\n    </tr>\n    <tr>\n      <th>9</th>\n      <td>78.180338</td>\n      <td>0.088097</td>\n      <td>95</td>\n      <td>100</td>\n    </tr>\n    <tr>\n      <th>10</th>\n      <td>78.144126</td>\n      <td>0.095192</td>\n      <td>114</td>\n      <td>100</td>\n    </tr>\n    <tr>\n      <th>0</th>\n      <td>77.672623</td>\n      <td>0.075865</td>\n      <td>109</td>\n      <td>100</td>\n    </tr>\n    <tr>\n      <th>3</th>\n      <td>77.645582</td>\n      <td>0.089669</td>\n      <td>108</td>\n      <td>75</td>\n    </tr>\n    <tr>\n      <th>12</th>\n      <td>77.281396</td>\n      <td>0.105067</td>\n      <td>94</td>\n      <td>20</td>\n    </tr>\n    <tr>\n      <th>1</th>\n      <td>77.134930</td>\n      <td>0.067626</td>\n      <td>134</td>\n      <td>100</td>\n    </tr>\n    <tr>\n      <th>18</th>\n      <td>76.285254</td>\n      <td>0.056878</td>\n      <td>70</td>\n      <td>0</td>\n    </tr>\n    <tr>\n      <th>14</th>\n      <td>76.110988</td>\n      <td>0.096023</td>\n      <td>118</td>\n      <td>20</td>\n    </tr>\n    <tr>\n      <th>8</th>\n      <td>76.010876</td>\n      <td>0.048473</td>\n      <td>107</td>\n      <td>0</td>\n    </tr>\n    <tr>\n      <th>19</th>\n      <td>75.770993</td>\n      <td>0.051443</td>\n      <td>85</td>\n      <td>0</td>\n    </tr>\n    <tr>\n      <th>13</th>\n      <td>75.729890</td>\n      <td>0.093557</td>\n      <td>123</td>\n      <td>20</td>\n    </tr>\n    <tr>\n      <th>20</th>\n      <td>75.626643</td>\n      <td>0.056547</td>\n      <td>95</td>\n      <td>0</td>\n    </tr>\n    <tr>\n      <th>7</th>\n      <td>74.909843</td>\n      <td>0.049239</td>\n      <td>108</td>\n      <td>0</td>\n    </tr>\n  </tbody>\n</table>\n</div>"
     },
     "execution_count": 5,
     "metadata": {},
     "output_type": "execute_result"
    }
   ],
   "source": [
    "# loading KNeighbors \n",
    "df_KNeighbors = calculate_metrics(\"outputs/output KNN.json\")\n",
    "df_KNeighbors = df_KNeighbors.sort_values(by = [\"auc_mean\", \"auc_std\", \"type2\", \"drop_columns\"], ascending = False)\n",
    "df_KNeighbors[[\"auc_mean\", \"auc_std\", \"type2\", \"drop_columns\"]].head(20)"
   ]
  },
  {
   "cell_type": "code",
   "execution_count": 6,
   "id": "8b338096",
   "metadata": {},
   "outputs": [
    {
     "data": {
      "text/plain": "scaler                           str\nestimator       KNeighborsClassifier\nimputer                SimpleImputer\nsampler                          str\nauc_mean                   76.285254\nauc_confl                  76.250001\nauc_confu                  76.320507\ntype2                             70\nf1_mean                     0.767047\nf1_confl                    0.732173\nf1_confu                     0.80192\ndrop_columns                       0\npre_mean                    0.781214\nrec_mean                    0.772996\nName: 18, dtype: object"
     },
     "execution_count": 6,
     "metadata": {},
     "output_type": "execute_result"
    }
   ],
   "source": [
    "KNeighbors = df_KNeighbors.loc[18]\n",
    "KNeighbors[[\"scaler\", \"estimator\", \"imputer\", \"sampler\", \"auc_mean\", \"auc_confl\", \"auc_confu\", \"type2\", \"f1_mean\", \"f1_confl\", \"f1_confu\", \"drop_columns\", \"pre_mean\", \"rec_mean\"]]"
   ]
  },
  {
   "cell_type": "code",
   "execution_count": 7,
   "id": "ab11529e",
   "metadata": {},
   "outputs": [
    {
     "data": {
      "text/plain": "     auc_mean   auc_std  type2  drop_columns\n18  78.409383  0.097154     77           100\n15  78.332342  0.097413     79           100\n12  78.205301  0.104771     79           100\n3   78.190480  0.095344     78           100\n9   78.160391  0.095387     77           100\n16  78.105811  0.093092     96            75\n1   78.103771  0.094111     96            75\n19  78.080811  0.093026     95            75\n0   78.065480  0.098726     78           100\n4   78.041551  0.095939     99            75\n13  77.903771  0.094006     98            75\n10  77.889983  0.106215     92            75\n8   77.758885  0.083667     97            75\n2   76.730338  0.095331    112           100\n6   76.531844  0.072818     98            75\n7   76.524664  0.097920    103            75\n11  76.464535  0.099508    111            75\n17  75.908387  0.099018    114           100\n20  75.905338  0.101178    114           100\n14  75.852290  0.101550    117           100",
      "text/html": "<div>\n<style scoped>\n    .dataframe tbody tr th:only-of-type {\n        vertical-align: middle;\n    }\n\n    .dataframe tbody tr th {\n        vertical-align: top;\n    }\n\n    .dataframe thead th {\n        text-align: right;\n    }\n</style>\n<table border=\"1\" class=\"dataframe\">\n  <thead>\n    <tr style=\"text-align: right;\">\n      <th></th>\n      <th>auc_mean</th>\n      <th>auc_std</th>\n      <th>type2</th>\n      <th>drop_columns</th>\n    </tr>\n  </thead>\n  <tbody>\n    <tr>\n      <th>18</th>\n      <td>78.409383</td>\n      <td>0.097154</td>\n      <td>77</td>\n      <td>100</td>\n    </tr>\n    <tr>\n      <th>15</th>\n      <td>78.332342</td>\n      <td>0.097413</td>\n      <td>79</td>\n      <td>100</td>\n    </tr>\n    <tr>\n      <th>12</th>\n      <td>78.205301</td>\n      <td>0.104771</td>\n      <td>79</td>\n      <td>100</td>\n    </tr>\n    <tr>\n      <th>3</th>\n      <td>78.190480</td>\n      <td>0.095344</td>\n      <td>78</td>\n      <td>100</td>\n    </tr>\n    <tr>\n      <th>9</th>\n      <td>78.160391</td>\n      <td>0.095387</td>\n      <td>77</td>\n      <td>100</td>\n    </tr>\n    <tr>\n      <th>16</th>\n      <td>78.105811</td>\n      <td>0.093092</td>\n      <td>96</td>\n      <td>75</td>\n    </tr>\n    <tr>\n      <th>1</th>\n      <td>78.103771</td>\n      <td>0.094111</td>\n      <td>96</td>\n      <td>75</td>\n    </tr>\n    <tr>\n      <th>19</th>\n      <td>78.080811</td>\n      <td>0.093026</td>\n      <td>95</td>\n      <td>75</td>\n    </tr>\n    <tr>\n      <th>0</th>\n      <td>78.065480</td>\n      <td>0.098726</td>\n      <td>78</td>\n      <td>100</td>\n    </tr>\n    <tr>\n      <th>4</th>\n      <td>78.041551</td>\n      <td>0.095939</td>\n      <td>99</td>\n      <td>75</td>\n    </tr>\n    <tr>\n      <th>13</th>\n      <td>77.903771</td>\n      <td>0.094006</td>\n      <td>98</td>\n      <td>75</td>\n    </tr>\n    <tr>\n      <th>10</th>\n      <td>77.889983</td>\n      <td>0.106215</td>\n      <td>92</td>\n      <td>75</td>\n    </tr>\n    <tr>\n      <th>8</th>\n      <td>77.758885</td>\n      <td>0.083667</td>\n      <td>97</td>\n      <td>75</td>\n    </tr>\n    <tr>\n      <th>2</th>\n      <td>76.730338</td>\n      <td>0.095331</td>\n      <td>112</td>\n      <td>100</td>\n    </tr>\n    <tr>\n      <th>6</th>\n      <td>76.531844</td>\n      <td>0.072818</td>\n      <td>98</td>\n      <td>75</td>\n    </tr>\n    <tr>\n      <th>7</th>\n      <td>76.524664</td>\n      <td>0.097920</td>\n      <td>103</td>\n      <td>75</td>\n    </tr>\n    <tr>\n      <th>11</th>\n      <td>76.464535</td>\n      <td>0.099508</td>\n      <td>111</td>\n      <td>75</td>\n    </tr>\n    <tr>\n      <th>17</th>\n      <td>75.908387</td>\n      <td>0.099018</td>\n      <td>114</td>\n      <td>100</td>\n    </tr>\n    <tr>\n      <th>20</th>\n      <td>75.905338</td>\n      <td>0.101178</td>\n      <td>114</td>\n      <td>100</td>\n    </tr>\n    <tr>\n      <th>14</th>\n      <td>75.852290</td>\n      <td>0.101550</td>\n      <td>117</td>\n      <td>100</td>\n    </tr>\n  </tbody>\n</table>\n</div>"
     },
     "execution_count": 7,
     "metadata": {},
     "output_type": "execute_result"
    }
   ],
   "source": [
    "# loading Random Forest Classifier\n",
    "df_Forest = calculate_metrics(\"outputs/output RandomForestClassifier.json\")\n",
    "df_Forest = df_Forest.sort_values(by = [\"auc_mean\", \"auc_std\", \"type2\", \"drop_columns\"], ascending = False)\n",
    "df_Forest[[\"auc_mean\", \"auc_std\", \"type2\", \"drop_columns\"]].head(20)"
   ]
  },
  {
   "cell_type": "code",
   "execution_count": 8,
   "id": "ca36a430",
   "metadata": {},
   "outputs": [
    {
     "data": {
      "text/plain": "scaler                  StandardScaler\nestimator       RandomForestClassifier\nimputer                  SimpleImputer\nsampler                            str\nauc_mean                     78.332342\nauc_confl                    78.271965\nauc_confu                    78.392719\ntype2                               79\nf1_mean                       0.775015\nf1_confl                      0.700043\nf1_confu                      0.849987\ndrop_columns                       100\npre_mean                      0.815984\nrec_mean                      0.789526\nName: 15, dtype: object"
     },
     "execution_count": 8,
     "metadata": {},
     "output_type": "execute_result"
    }
   ],
   "source": [
    "Forest = df_Forest.loc[15]\n",
    "Forest[[\"scaler\", \"estimator\", \"imputer\", \"sampler\", \"auc_mean\", \"auc_confl\", \"auc_confu\", \"type2\", \"f1_mean\", \"f1_confl\", \"f1_confu\", \"drop_columns\", \"pre_mean\", \"rec_mean\"]]"
   ]
  },
  {
   "cell_type": "code",
   "execution_count": 9,
   "id": "66a94412",
   "metadata": {},
   "outputs": [
    {
     "data": {
      "text/plain": "     auc_mean   auc_std  type2  drop_columns            scaler\n0   76.703708  0.059859     73             0      MaxAbsScaler\n3   76.703708  0.059859     73             0      MinMaxScaler\n7   76.703708  0.059859     73             0  PowerTransformer\n10  76.703708  0.059859     73             0      RobustScaler\n13  76.703708  0.059859     73             0    StandardScaler\n16  76.703708  0.059859     73             0               str\n6   75.907765  0.056369     81             0        Normalizer\n2   74.731234  0.047840    105             0      MaxAbsScaler\n5   74.731234  0.047840    105             0      MinMaxScaler\n9   74.731234  0.047840    105             0  PowerTransformer\n12  74.731234  0.047840    105             0      RobustScaler\n15  74.731234  0.047840    105             0    StandardScaler\n18  74.731234  0.047840    105             0               str\n20  74.710316  0.055345    104             0        Normalizer\n1   74.229219  0.049248    100             0      MaxAbsScaler\n4   74.229219  0.049248    100             0      MinMaxScaler\n11  74.229219  0.049248    100             0      RobustScaler\n14  74.229219  0.049248    100             0    StandardScaler\n17  74.229219  0.049248    100             0               str\n19  73.935316  0.051369    103             0        Normalizer",
      "text/html": "<div>\n<style scoped>\n    .dataframe tbody tr th:only-of-type {\n        vertical-align: middle;\n    }\n\n    .dataframe tbody tr th {\n        vertical-align: top;\n    }\n\n    .dataframe thead th {\n        text-align: right;\n    }\n</style>\n<table border=\"1\" class=\"dataframe\">\n  <thead>\n    <tr style=\"text-align: right;\">\n      <th></th>\n      <th>auc_mean</th>\n      <th>auc_std</th>\n      <th>type2</th>\n      <th>drop_columns</th>\n      <th>scaler</th>\n    </tr>\n  </thead>\n  <tbody>\n    <tr>\n      <th>0</th>\n      <td>76.703708</td>\n      <td>0.059859</td>\n      <td>73</td>\n      <td>0</td>\n      <td>MaxAbsScaler</td>\n    </tr>\n    <tr>\n      <th>3</th>\n      <td>76.703708</td>\n      <td>0.059859</td>\n      <td>73</td>\n      <td>0</td>\n      <td>MinMaxScaler</td>\n    </tr>\n    <tr>\n      <th>7</th>\n      <td>76.703708</td>\n      <td>0.059859</td>\n      <td>73</td>\n      <td>0</td>\n      <td>PowerTransformer</td>\n    </tr>\n    <tr>\n      <th>10</th>\n      <td>76.703708</td>\n      <td>0.059859</td>\n      <td>73</td>\n      <td>0</td>\n      <td>RobustScaler</td>\n    </tr>\n    <tr>\n      <th>13</th>\n      <td>76.703708</td>\n      <td>0.059859</td>\n      <td>73</td>\n      <td>0</td>\n      <td>StandardScaler</td>\n    </tr>\n    <tr>\n      <th>16</th>\n      <td>76.703708</td>\n      <td>0.059859</td>\n      <td>73</td>\n      <td>0</td>\n      <td>str</td>\n    </tr>\n    <tr>\n      <th>6</th>\n      <td>75.907765</td>\n      <td>0.056369</td>\n      <td>81</td>\n      <td>0</td>\n      <td>Normalizer</td>\n    </tr>\n    <tr>\n      <th>2</th>\n      <td>74.731234</td>\n      <td>0.047840</td>\n      <td>105</td>\n      <td>0</td>\n      <td>MaxAbsScaler</td>\n    </tr>\n    <tr>\n      <th>5</th>\n      <td>74.731234</td>\n      <td>0.047840</td>\n      <td>105</td>\n      <td>0</td>\n      <td>MinMaxScaler</td>\n    </tr>\n    <tr>\n      <th>9</th>\n      <td>74.731234</td>\n      <td>0.047840</td>\n      <td>105</td>\n      <td>0</td>\n      <td>PowerTransformer</td>\n    </tr>\n    <tr>\n      <th>12</th>\n      <td>74.731234</td>\n      <td>0.047840</td>\n      <td>105</td>\n      <td>0</td>\n      <td>RobustScaler</td>\n    </tr>\n    <tr>\n      <th>15</th>\n      <td>74.731234</td>\n      <td>0.047840</td>\n      <td>105</td>\n      <td>0</td>\n      <td>StandardScaler</td>\n    </tr>\n    <tr>\n      <th>18</th>\n      <td>74.731234</td>\n      <td>0.047840</td>\n      <td>105</td>\n      <td>0</td>\n      <td>str</td>\n    </tr>\n    <tr>\n      <th>20</th>\n      <td>74.710316</td>\n      <td>0.055345</td>\n      <td>104</td>\n      <td>0</td>\n      <td>Normalizer</td>\n    </tr>\n    <tr>\n      <th>1</th>\n      <td>74.229219</td>\n      <td>0.049248</td>\n      <td>100</td>\n      <td>0</td>\n      <td>MaxAbsScaler</td>\n    </tr>\n    <tr>\n      <th>4</th>\n      <td>74.229219</td>\n      <td>0.049248</td>\n      <td>100</td>\n      <td>0</td>\n      <td>MinMaxScaler</td>\n    </tr>\n    <tr>\n      <th>11</th>\n      <td>74.229219</td>\n      <td>0.049248</td>\n      <td>100</td>\n      <td>0</td>\n      <td>RobustScaler</td>\n    </tr>\n    <tr>\n      <th>14</th>\n      <td>74.229219</td>\n      <td>0.049248</td>\n      <td>100</td>\n      <td>0</td>\n      <td>StandardScaler</td>\n    </tr>\n    <tr>\n      <th>17</th>\n      <td>74.229219</td>\n      <td>0.049248</td>\n      <td>100</td>\n      <td>0</td>\n      <td>str</td>\n    </tr>\n    <tr>\n      <th>19</th>\n      <td>73.935316</td>\n      <td>0.051369</td>\n      <td>103</td>\n      <td>0</td>\n      <td>Normalizer</td>\n    </tr>\n  </tbody>\n</table>\n</div>"
     },
     "execution_count": 9,
     "metadata": {},
     "output_type": "execute_result"
    }
   ],
   "source": [
    "# loading Decision Tree Classifier\n",
    "df_Tree = calculate_metrics(\"outputs/output DecisionTrees.json\")\n",
    "df_Tree = df_Tree.sort_values(by = [\"auc_mean\", \"auc_std\", \"type2\", \"drop_columns\"], ascending = False)\n",
    "df_Tree[[\"auc_mean\", \"auc_std\", \"type2\", \"drop_columns\", 'scaler']].head(20)"
   ]
  },
  {
   "cell_type": "code",
   "execution_count": 10,
   "id": "2bbae235",
   "metadata": {},
   "outputs": [
    {
     "data": {
      "text/plain": "scaler                             str\nestimator       DecisionTreeClassifier\nimputer                  SimpleImputer\nsampler                            str\nauc_mean                     76.703708\nauc_confl                    76.666607\nauc_confu                     76.74081\ntype2                               73\nf1_mean                       0.770171\nf1_confl                      0.733067\nf1_confu                      0.807274\ndrop_columns                         0\npre_mean                      0.785349\nrec_mean                      0.776305\nName: 16, dtype: object"
     },
     "execution_count": 10,
     "metadata": {},
     "output_type": "execute_result"
    }
   ],
   "source": [
    "Tree = df_Tree.loc[16]\n",
    "Tree[[\"scaler\", \"estimator\", \"imputer\", \"sampler\", \"auc_mean\", \"auc_confl\", \"auc_confu\", \"type2\", \"f1_mean\", \"f1_confl\", \"f1_confu\", \"drop_columns\", \"pre_mean\", \"rec_mean\"]]"
   ]
  },
  {
   "cell_type": "code",
   "execution_count": 11,
   "id": "26ecfdd7",
   "metadata": {},
   "outputs": [],
   "source": [
    "# Tree.to_excel(r'DTree.xlsx', index=False)"
   ]
  },
  {
   "cell_type": "code",
   "execution_count": 12,
   "id": "11bba66a",
   "metadata": {},
   "outputs": [
    {
     "data": {
      "text/plain": "     auc_mean   auc_std  type2  drop_columns\n17  79.468591  0.065352  101.0          20.0\n2   78.508412  0.076647  113.0         100.0\n16  78.051257  0.084012  110.0          20.0\n0   77.935901  0.073471   94.0          20.0\n4   77.907379  0.083855  114.0          20.0\n9   77.870632  0.084183   92.0          20.0\n3   77.527738  0.073300   98.0          20.0\n11  77.283387  0.075887  114.0          75.0\n5   77.206434  0.071671  133.0          75.0\n15  77.173656  0.078727  104.0          20.0\n1   77.007354  0.093415  113.0          20.0\n10  76.849689  0.079539  111.0          20.0\n6   76.793703  0.070966  106.0          60.0\n8   76.439149  0.067503  138.0          20.0\n7   75.542198  0.067355  147.0          20.0\n12        NaN       NaN    NaN           NaN\n13        NaN       NaN    NaN           NaN\n14        NaN       NaN    NaN           NaN\n18        NaN       NaN    NaN           NaN\n19        NaN       NaN    NaN           NaN",
      "text/html": "<div>\n<style scoped>\n    .dataframe tbody tr th:only-of-type {\n        vertical-align: middle;\n    }\n\n    .dataframe tbody tr th {\n        vertical-align: top;\n    }\n\n    .dataframe thead th {\n        text-align: right;\n    }\n</style>\n<table border=\"1\" class=\"dataframe\">\n  <thead>\n    <tr style=\"text-align: right;\">\n      <th></th>\n      <th>auc_mean</th>\n      <th>auc_std</th>\n      <th>type2</th>\n      <th>drop_columns</th>\n    </tr>\n  </thead>\n  <tbody>\n    <tr>\n      <th>17</th>\n      <td>79.468591</td>\n      <td>0.065352</td>\n      <td>101.0</td>\n      <td>20.0</td>\n    </tr>\n    <tr>\n      <th>2</th>\n      <td>78.508412</td>\n      <td>0.076647</td>\n      <td>113.0</td>\n      <td>100.0</td>\n    </tr>\n    <tr>\n      <th>16</th>\n      <td>78.051257</td>\n      <td>0.084012</td>\n      <td>110.0</td>\n      <td>20.0</td>\n    </tr>\n    <tr>\n      <th>0</th>\n      <td>77.935901</td>\n      <td>0.073471</td>\n      <td>94.0</td>\n      <td>20.0</td>\n    </tr>\n    <tr>\n      <th>4</th>\n      <td>77.907379</td>\n      <td>0.083855</td>\n      <td>114.0</td>\n      <td>20.0</td>\n    </tr>\n    <tr>\n      <th>9</th>\n      <td>77.870632</td>\n      <td>0.084183</td>\n      <td>92.0</td>\n      <td>20.0</td>\n    </tr>\n    <tr>\n      <th>3</th>\n      <td>77.527738</td>\n      <td>0.073300</td>\n      <td>98.0</td>\n      <td>20.0</td>\n    </tr>\n    <tr>\n      <th>11</th>\n      <td>77.283387</td>\n      <td>0.075887</td>\n      <td>114.0</td>\n      <td>75.0</td>\n    </tr>\n    <tr>\n      <th>5</th>\n      <td>77.206434</td>\n      <td>0.071671</td>\n      <td>133.0</td>\n      <td>75.0</td>\n    </tr>\n    <tr>\n      <th>15</th>\n      <td>77.173656</td>\n      <td>0.078727</td>\n      <td>104.0</td>\n      <td>20.0</td>\n    </tr>\n    <tr>\n      <th>1</th>\n      <td>77.007354</td>\n      <td>0.093415</td>\n      <td>113.0</td>\n      <td>20.0</td>\n    </tr>\n    <tr>\n      <th>10</th>\n      <td>76.849689</td>\n      <td>0.079539</td>\n      <td>111.0</td>\n      <td>20.0</td>\n    </tr>\n    <tr>\n      <th>6</th>\n      <td>76.793703</td>\n      <td>0.070966</td>\n      <td>106.0</td>\n      <td>60.0</td>\n    </tr>\n    <tr>\n      <th>8</th>\n      <td>76.439149</td>\n      <td>0.067503</td>\n      <td>138.0</td>\n      <td>20.0</td>\n    </tr>\n    <tr>\n      <th>7</th>\n      <td>75.542198</td>\n      <td>0.067355</td>\n      <td>147.0</td>\n      <td>20.0</td>\n    </tr>\n    <tr>\n      <th>12</th>\n      <td>NaN</td>\n      <td>NaN</td>\n      <td>NaN</td>\n      <td>NaN</td>\n    </tr>\n    <tr>\n      <th>13</th>\n      <td>NaN</td>\n      <td>NaN</td>\n      <td>NaN</td>\n      <td>NaN</td>\n    </tr>\n    <tr>\n      <th>14</th>\n      <td>NaN</td>\n      <td>NaN</td>\n      <td>NaN</td>\n      <td>NaN</td>\n    </tr>\n    <tr>\n      <th>18</th>\n      <td>NaN</td>\n      <td>NaN</td>\n      <td>NaN</td>\n      <td>NaN</td>\n    </tr>\n    <tr>\n      <th>19</th>\n      <td>NaN</td>\n      <td>NaN</td>\n      <td>NaN</td>\n      <td>NaN</td>\n    </tr>\n  </tbody>\n</table>\n</div>"
     },
     "execution_count": 12,
     "metadata": {},
     "output_type": "execute_result"
    }
   ],
   "source": [
    "# loading SVC\n",
    "df_SVC = calculate_metrics(\"outputs/output SVC.json\")\n",
    "df_SVC = df_SVC.sort_values(by = [\"auc_mean\", \"auc_std\", \"type2\", \"drop_columns\"], ascending = False)\n",
    "df_SVC[[\"auc_mean\", \"auc_std\", \"type2\", \"drop_columns\"]].head(20)"
   ]
  },
  {
   "cell_type": "code",
   "execution_count": 13,
   "id": "213a7155",
   "metadata": {},
   "outputs": [
    {
     "data": {
      "text/plain": "scaler          PowerTransformer\nestimator                    SVC\nimputer            SimpleImputer\nsampler                      str\nauc_mean               77.870632\nauc_confl              77.818455\nauc_confu              77.922809\ntype2                       92.0\nf1_mean                 0.774087\nf1_confl                0.716995\nf1_confu                0.831179\ndrop_columns                20.0\npre_mean                0.800496\nrec_mean                0.782909\nName: 9, dtype: object"
     },
     "execution_count": 13,
     "metadata": {},
     "output_type": "execute_result"
    }
   ],
   "source": [
    "SVC = df_SVC.loc[9]\n",
    "SVC[[\"scaler\", \"estimator\", \"imputer\", \"sampler\", \"auc_mean\", \"auc_confl\", \"auc_confu\", \"type2\", \"f1_mean\", \"f1_confl\", \"f1_confu\", \"drop_columns\", \"pre_mean\", \"rec_mean\"]]"
   ]
  },
  {
   "cell_type": "code",
   "execution_count": 14,
   "id": "2c2b2fc0",
   "metadata": {},
   "outputs": [
    {
     "data": {
      "text/plain": "     auc_mean   auc_std  type2  drop_columns\n15  79.068118  0.071319    111             8\n16  78.913029  0.067901    115             8\n17  78.758947  0.069558    119             8\n9   77.518143  0.095385    109            35\n10  77.389062  0.094922    114            35\n11  77.384980  0.097225    114            35\n12  76.922710  0.099803    116            60\n0   76.840119  0.091046    102            20\n6   76.840119  0.091046    102            20\n18  76.840119  0.091046    102            20\n4   76.579355  0.079567    111             8\n3   76.230836  0.077197    101             8\n5   76.179355  0.079506    115             8\n2   76.120744  0.081529    119            20\n8   76.120744  0.081529    119            20\n20  76.120744  0.081529    119            20\n13  76.084457  0.108448    123            60\n14  75.883425  0.103597    125            60\n1   75.379915  0.085676    119            20\n7   75.379915  0.085676    119            20",
      "text/html": "<div>\n<style scoped>\n    .dataframe tbody tr th:only-of-type {\n        vertical-align: middle;\n    }\n\n    .dataframe tbody tr th {\n        vertical-align: top;\n    }\n\n    .dataframe thead th {\n        text-align: right;\n    }\n</style>\n<table border=\"1\" class=\"dataframe\">\n  <thead>\n    <tr style=\"text-align: right;\">\n      <th></th>\n      <th>auc_mean</th>\n      <th>auc_std</th>\n      <th>type2</th>\n      <th>drop_columns</th>\n    </tr>\n  </thead>\n  <tbody>\n    <tr>\n      <th>15</th>\n      <td>79.068118</td>\n      <td>0.071319</td>\n      <td>111</td>\n      <td>8</td>\n    </tr>\n    <tr>\n      <th>16</th>\n      <td>78.913029</td>\n      <td>0.067901</td>\n      <td>115</td>\n      <td>8</td>\n    </tr>\n    <tr>\n      <th>17</th>\n      <td>78.758947</td>\n      <td>0.069558</td>\n      <td>119</td>\n      <td>8</td>\n    </tr>\n    <tr>\n      <th>9</th>\n      <td>77.518143</td>\n      <td>0.095385</td>\n      <td>109</td>\n      <td>35</td>\n    </tr>\n    <tr>\n      <th>10</th>\n      <td>77.389062</td>\n      <td>0.094922</td>\n      <td>114</td>\n      <td>35</td>\n    </tr>\n    <tr>\n      <th>11</th>\n      <td>77.384980</td>\n      <td>0.097225</td>\n      <td>114</td>\n      <td>35</td>\n    </tr>\n    <tr>\n      <th>12</th>\n      <td>76.922710</td>\n      <td>0.099803</td>\n      <td>116</td>\n      <td>60</td>\n    </tr>\n    <tr>\n      <th>0</th>\n      <td>76.840119</td>\n      <td>0.091046</td>\n      <td>102</td>\n      <td>20</td>\n    </tr>\n    <tr>\n      <th>6</th>\n      <td>76.840119</td>\n      <td>0.091046</td>\n      <td>102</td>\n      <td>20</td>\n    </tr>\n    <tr>\n      <th>18</th>\n      <td>76.840119</td>\n      <td>0.091046</td>\n      <td>102</td>\n      <td>20</td>\n    </tr>\n    <tr>\n      <th>4</th>\n      <td>76.579355</td>\n      <td>0.079567</td>\n      <td>111</td>\n      <td>8</td>\n    </tr>\n    <tr>\n      <th>3</th>\n      <td>76.230836</td>\n      <td>0.077197</td>\n      <td>101</td>\n      <td>8</td>\n    </tr>\n    <tr>\n      <th>5</th>\n      <td>76.179355</td>\n      <td>0.079506</td>\n      <td>115</td>\n      <td>8</td>\n    </tr>\n    <tr>\n      <th>2</th>\n      <td>76.120744</td>\n      <td>0.081529</td>\n      <td>119</td>\n      <td>20</td>\n    </tr>\n    <tr>\n      <th>8</th>\n      <td>76.120744</td>\n      <td>0.081529</td>\n      <td>119</td>\n      <td>20</td>\n    </tr>\n    <tr>\n      <th>20</th>\n      <td>76.120744</td>\n      <td>0.081529</td>\n      <td>119</td>\n      <td>20</td>\n    </tr>\n    <tr>\n      <th>13</th>\n      <td>76.084457</td>\n      <td>0.108448</td>\n      <td>123</td>\n      <td>60</td>\n    </tr>\n    <tr>\n      <th>14</th>\n      <td>75.883425</td>\n      <td>0.103597</td>\n      <td>125</td>\n      <td>60</td>\n    </tr>\n    <tr>\n      <th>1</th>\n      <td>75.379915</td>\n      <td>0.085676</td>\n      <td>119</td>\n      <td>20</td>\n    </tr>\n    <tr>\n      <th>7</th>\n      <td>75.379915</td>\n      <td>0.085676</td>\n      <td>119</td>\n      <td>20</td>\n    </tr>\n  </tbody>\n</table>\n</div>"
     },
     "execution_count": 14,
     "metadata": {},
     "output_type": "execute_result"
    }
   ],
   "source": [
    "# loading naïve bayes (bernoulli)\n",
    "df_bernoulli = calculate_metrics(\"outputs/output BernoulliNB.json\")\n",
    "df_bernoulli = df_bernoulli.sort_values(by = [\"auc_mean\", \"auc_std\", \"type2\", \"drop_columns\"], ascending = False)\n",
    "df_bernoulli[[\"auc_mean\", \"auc_std\", \"type2\", \"drop_columns\"]].head(20)"
   ]
  },
  {
   "cell_type": "code",
   "execution_count": 15,
   "id": "58b80725",
   "metadata": {},
   "outputs": [
    {
     "data": {
      "text/plain": "scaler           MinMaxScaler\nestimator         BernoulliNB\nimputer         SimpleImputer\nsampler                   str\nauc_mean            76.230836\nauc_confl           76.182989\nauc_confu           76.278684\ntype2                     101\nf1_mean              0.757561\nf1_confl             0.704142\nf1_confu              0.81098\ndrop_columns                8\npre_mean             0.779828\nrec_mean              0.76623\nName: 3, dtype: object"
     },
     "execution_count": 15,
     "metadata": {},
     "output_type": "execute_result"
    }
   ],
   "source": [
    "bernoulli = df_bernoulli.loc[3]\n",
    "bernoulli[[\"scaler\", \"estimator\", \"imputer\", \"sampler\", \"auc_mean\", \"auc_confl\", \"auc_confu\", \"type2\", \"f1_mean\", \"f1_confl\", \"f1_confu\", \"drop_columns\", \"pre_mean\", \"rec_mean\"]]"
   ]
  },
  {
   "cell_type": "code",
   "execution_count": 16,
   "id": "58649a95",
   "metadata": {},
   "outputs": [],
   "source": [
    "# naïve bayes (categorical) is skipped because no model could be trained successfully "
   ]
  },
  {
   "cell_type": "code",
   "execution_count": 17,
   "id": "80699449",
   "metadata": {},
   "outputs": [
    {
     "data": {
      "text/plain": "    auc_mean   auc_std  type2  drop_columns\n3  77.483213  0.070835   78.0         100.0\n5  76.538900  0.061275  113.0         100.0\n4  76.416949  0.064465  113.0         100.0\n0        NaN       NaN    NaN           NaN\n1        NaN       NaN    NaN           NaN\n2        NaN       NaN    NaN           NaN\n6        NaN       NaN    NaN           NaN",
      "text/html": "<div>\n<style scoped>\n    .dataframe tbody tr th:only-of-type {\n        vertical-align: middle;\n    }\n\n    .dataframe tbody tr th {\n        vertical-align: top;\n    }\n\n    .dataframe thead th {\n        text-align: right;\n    }\n</style>\n<table border=\"1\" class=\"dataframe\">\n  <thead>\n    <tr style=\"text-align: right;\">\n      <th></th>\n      <th>auc_mean</th>\n      <th>auc_std</th>\n      <th>type2</th>\n      <th>drop_columns</th>\n    </tr>\n  </thead>\n  <tbody>\n    <tr>\n      <th>3</th>\n      <td>77.483213</td>\n      <td>0.070835</td>\n      <td>78.0</td>\n      <td>100.0</td>\n    </tr>\n    <tr>\n      <th>5</th>\n      <td>76.538900</td>\n      <td>0.061275</td>\n      <td>113.0</td>\n      <td>100.0</td>\n    </tr>\n    <tr>\n      <th>4</th>\n      <td>76.416949</td>\n      <td>0.064465</td>\n      <td>113.0</td>\n      <td>100.0</td>\n    </tr>\n    <tr>\n      <th>0</th>\n      <td>NaN</td>\n      <td>NaN</td>\n      <td>NaN</td>\n      <td>NaN</td>\n    </tr>\n    <tr>\n      <th>1</th>\n      <td>NaN</td>\n      <td>NaN</td>\n      <td>NaN</td>\n      <td>NaN</td>\n    </tr>\n    <tr>\n      <th>2</th>\n      <td>NaN</td>\n      <td>NaN</td>\n      <td>NaN</td>\n      <td>NaN</td>\n    </tr>\n    <tr>\n      <th>6</th>\n      <td>NaN</td>\n      <td>NaN</td>\n      <td>NaN</td>\n      <td>NaN</td>\n    </tr>\n  </tbody>\n</table>\n</div>"
     },
     "execution_count": 17,
     "metadata": {},
     "output_type": "execute_result"
    }
   ],
   "source": [
    "# loading naïve bayes (complement)\n",
    "df_complement = calculate_metrics(\"outputs/output CompleteNB.json\")\n",
    "df_complement = df_complement.sort_values(by = [\"auc_mean\", \"auc_std\", \"type2\", \"drop_columns\"], ascending = False)\n",
    "df_complement[[\"auc_mean\", \"auc_std\", \"type2\", \"drop_columns\"]].head(7)"
   ]
  },
  {
   "cell_type": "code",
   "execution_count": 18,
   "id": "9c242b21",
   "metadata": {},
   "outputs": [
    {
     "data": {
      "text/plain": "scaler           MinMaxScaler\nestimator        ComplementNB\nimputer         SimpleImputer\nsampler                   str\nauc_mean            77.483213\nauc_confl           77.439309\nauc_confu           77.527117\ntype2                    78.0\nf1_mean              0.778347\nf1_confl             0.735348\nf1_confu             0.821347\ndrop_columns            100.0\npre_mean              0.78419\nrec_mean              0.78186\nName: 3, dtype: object"
     },
     "execution_count": 18,
     "metadata": {},
     "output_type": "execute_result"
    }
   ],
   "source": [
    "complement = df_complement.loc[3]\n",
    "complement[[\"scaler\", \"estimator\", \"imputer\", \"sampler\", \"auc_mean\", \"auc_confl\", \"auc_confu\", \"type2\", \"f1_mean\", \"f1_confl\", \"f1_confu\", \"drop_columns\", \"pre_mean\", \"rec_mean\"]]"
   ]
  },
  {
   "cell_type": "code",
   "execution_count": 19,
   "id": "d6fb733c",
   "metadata": {},
   "outputs": [
    {
     "data": {
      "text/plain": "     auc_mean   auc_std  type2  drop_columns\n18  70.835652  0.074371    234            20\n7   70.526954  0.064782    236            20\n6   70.455027  0.059793    233            20\n19  70.232578  0.070411    240            20\n20  70.027489  0.072613    242            20\n8   69.888701  0.066260    241            20\n12  65.163216  0.053465    310            20\n14  64.783126  0.048594    315            20\n13  64.605052  0.052414    318            20\n0   61.711187  0.046103    354            20\n3   61.711187  0.046103    354            20\n1   61.153024  0.047334    362            20\n4   61.153024  0.047334    362            20\n2   61.078024  0.045894    364            20\n5   61.078024  0.045894    364            20\n9   57.920893  0.065785    378             8\n15  57.657118  0.044342    404            20\n11  57.593853  0.061815    385            35\n16  57.503036  0.046989    408            20\n17  57.482118  0.044916    407            20",
      "text/html": "<div>\n<style scoped>\n    .dataframe tbody tr th:only-of-type {\n        vertical-align: middle;\n    }\n\n    .dataframe tbody tr th {\n        vertical-align: top;\n    }\n\n    .dataframe thead th {\n        text-align: right;\n    }\n</style>\n<table border=\"1\" class=\"dataframe\">\n  <thead>\n    <tr style=\"text-align: right;\">\n      <th></th>\n      <th>auc_mean</th>\n      <th>auc_std</th>\n      <th>type2</th>\n      <th>drop_columns</th>\n    </tr>\n  </thead>\n  <tbody>\n    <tr>\n      <th>18</th>\n      <td>70.835652</td>\n      <td>0.074371</td>\n      <td>234</td>\n      <td>20</td>\n    </tr>\n    <tr>\n      <th>7</th>\n      <td>70.526954</td>\n      <td>0.064782</td>\n      <td>236</td>\n      <td>20</td>\n    </tr>\n    <tr>\n      <th>6</th>\n      <td>70.455027</td>\n      <td>0.059793</td>\n      <td>233</td>\n      <td>20</td>\n    </tr>\n    <tr>\n      <th>19</th>\n      <td>70.232578</td>\n      <td>0.070411</td>\n      <td>240</td>\n      <td>20</td>\n    </tr>\n    <tr>\n      <th>20</th>\n      <td>70.027489</td>\n      <td>0.072613</td>\n      <td>242</td>\n      <td>20</td>\n    </tr>\n    <tr>\n      <th>8</th>\n      <td>69.888701</td>\n      <td>0.066260</td>\n      <td>241</td>\n      <td>20</td>\n    </tr>\n    <tr>\n      <th>12</th>\n      <td>65.163216</td>\n      <td>0.053465</td>\n      <td>310</td>\n      <td>20</td>\n    </tr>\n    <tr>\n      <th>14</th>\n      <td>64.783126</td>\n      <td>0.048594</td>\n      <td>315</td>\n      <td>20</td>\n    </tr>\n    <tr>\n      <th>13</th>\n      <td>64.605052</td>\n      <td>0.052414</td>\n      <td>318</td>\n      <td>20</td>\n    </tr>\n    <tr>\n      <th>0</th>\n      <td>61.711187</td>\n      <td>0.046103</td>\n      <td>354</td>\n      <td>20</td>\n    </tr>\n    <tr>\n      <th>3</th>\n      <td>61.711187</td>\n      <td>0.046103</td>\n      <td>354</td>\n      <td>20</td>\n    </tr>\n    <tr>\n      <th>1</th>\n      <td>61.153024</td>\n      <td>0.047334</td>\n      <td>362</td>\n      <td>20</td>\n    </tr>\n    <tr>\n      <th>4</th>\n      <td>61.153024</td>\n      <td>0.047334</td>\n      <td>362</td>\n      <td>20</td>\n    </tr>\n    <tr>\n      <th>2</th>\n      <td>61.078024</td>\n      <td>0.045894</td>\n      <td>364</td>\n      <td>20</td>\n    </tr>\n    <tr>\n      <th>5</th>\n      <td>61.078024</td>\n      <td>0.045894</td>\n      <td>364</td>\n      <td>20</td>\n    </tr>\n    <tr>\n      <th>9</th>\n      <td>57.920893</td>\n      <td>0.065785</td>\n      <td>378</td>\n      <td>8</td>\n    </tr>\n    <tr>\n      <th>15</th>\n      <td>57.657118</td>\n      <td>0.044342</td>\n      <td>404</td>\n      <td>20</td>\n    </tr>\n    <tr>\n      <th>11</th>\n      <td>57.593853</td>\n      <td>0.061815</td>\n      <td>385</td>\n      <td>35</td>\n    </tr>\n    <tr>\n      <th>16</th>\n      <td>57.503036</td>\n      <td>0.046989</td>\n      <td>408</td>\n      <td>20</td>\n    </tr>\n    <tr>\n      <th>17</th>\n      <td>57.482118</td>\n      <td>0.044916</td>\n      <td>407</td>\n      <td>20</td>\n    </tr>\n  </tbody>\n</table>\n</div>"
     },
     "execution_count": 19,
     "metadata": {},
     "output_type": "execute_result"
    }
   ],
   "source": [
    "# loading naïve bayes (gaussian)\n",
    "df_gaussian= calculate_metrics(\"outputs/output GaussianNB.json\")\n",
    "df_gaussian = df_gaussian.sort_values(by = [\"auc_mean\", \"auc_std\", \"type2\", \"drop_columns\"], ascending = False)\n",
    "df_gaussian[[\"auc_mean\", \"auc_std\", \"type2\", \"drop_columns\"]].head(20)"
   ]
  },
  {
   "cell_type": "code",
   "execution_count": 20,
   "id": "046a6091",
   "metadata": {},
   "outputs": [
    {
     "data": {
      "text/plain": "scaler                         str\nestimator               GaussianNB\nimputer              SimpleImputer\nsampler         RandomUnderSampler\nauc_mean                 70.027489\nauc_confl                69.982483\nauc_confu                70.072495\ntype2                          242\nf1_mean                   0.667017\nf1_confl                  0.617693\nf1_confu                   0.71634\ndrop_columns                    20\npre_mean                  0.755673\nrec_mean                  0.681798\nName: 20, dtype: object"
     },
     "execution_count": 20,
     "metadata": {},
     "output_type": "execute_result"
    }
   ],
   "source": [
    "gaussian = df_gaussian.loc[20]\n",
    "gaussian[[\"scaler\", \"estimator\", \"imputer\", \"sampler\", \"auc_mean\", \"auc_confl\", \"auc_confu\", \"type2\", \"f1_mean\", \"f1_confl\", \"f1_confu\", \"drop_columns\", \"pre_mean\", \"rec_mean\"]]"
   ]
  },
  {
   "cell_type": "code",
   "execution_count": 21,
   "id": "06ff1c61",
   "metadata": {},
   "outputs": [
    {
     "data": {
      "text/plain": "    auc_mean   auc_std  type2  drop_columns\n3  76.461299  0.062045   99.0         100.0\n4  76.381770  0.065212  117.0         100.0\n5  76.281770  0.061807  118.0         100.0\n0        NaN       NaN    NaN           NaN\n1        NaN       NaN    NaN           NaN",
      "text/html": "<div>\n<style scoped>\n    .dataframe tbody tr th:only-of-type {\n        vertical-align: middle;\n    }\n\n    .dataframe tbody tr th {\n        vertical-align: top;\n    }\n\n    .dataframe thead th {\n        text-align: right;\n    }\n</style>\n<table border=\"1\" class=\"dataframe\">\n  <thead>\n    <tr style=\"text-align: right;\">\n      <th></th>\n      <th>auc_mean</th>\n      <th>auc_std</th>\n      <th>type2</th>\n      <th>drop_columns</th>\n    </tr>\n  </thead>\n  <tbody>\n    <tr>\n      <th>3</th>\n      <td>76.461299</td>\n      <td>0.062045</td>\n      <td>99.0</td>\n      <td>100.0</td>\n    </tr>\n    <tr>\n      <th>4</th>\n      <td>76.381770</td>\n      <td>0.065212</td>\n      <td>117.0</td>\n      <td>100.0</td>\n    </tr>\n    <tr>\n      <th>5</th>\n      <td>76.281770</td>\n      <td>0.061807</td>\n      <td>118.0</td>\n      <td>100.0</td>\n    </tr>\n    <tr>\n      <th>0</th>\n      <td>NaN</td>\n      <td>NaN</td>\n      <td>NaN</td>\n      <td>NaN</td>\n    </tr>\n    <tr>\n      <th>1</th>\n      <td>NaN</td>\n      <td>NaN</td>\n      <td>NaN</td>\n      <td>NaN</td>\n    </tr>\n  </tbody>\n</table>\n</div>"
     },
     "execution_count": 21,
     "metadata": {},
     "output_type": "execute_result"
    }
   ],
   "source": [
    "# loading naïve bayes (multinomial)\n",
    "df_multinomial = calculate_metrics(\"outputs/output MultinomialNB.json\")\n",
    "df_multinomial = df_multinomial.sort_values(by = [\"auc_mean\", \"auc_std\", \"type2\", \"drop_columns\"], ascending = False)\n",
    "df_multinomial[[\"auc_mean\", \"auc_std\", \"type2\", \"drop_columns\"]].head(5)"
   ]
  },
  {
   "cell_type": "code",
   "execution_count": 22,
   "id": "b7976884",
   "metadata": {},
   "outputs": [
    {
     "data": {
      "text/plain": "scaler           MinMaxScaler\nestimator       MultinomialNB\nimputer         SimpleImputer\nsampler                   str\nauc_mean            76.461299\nauc_confl           76.422843\nauc_confu           76.499755\ntype2                    99.0\nf1_mean              0.766352\nf1_confl             0.728844\nf1_confu             0.803859\ndrop_columns            100.0\npre_mean             0.772775\nrec_mean             0.768539\nName: 3, dtype: object"
     },
     "execution_count": 22,
     "metadata": {},
     "output_type": "execute_result"
    }
   ],
   "source": [
    "multinomial = df_multinomial.loc[3]\n",
    "multinomial[[\"scaler\", \"estimator\", \"imputer\", \"sampler\", \"auc_mean\", \"auc_confl\", \"auc_confu\", \"type2\", \"f1_mean\", \"f1_confl\", \"f1_confu\", \"drop_columns\", \"pre_mean\", \"rec_mean\"]]"
   ]
  },
  {
   "cell_type": "code",
   "execution_count": 23,
   "id": "1abf8371",
   "metadata": {},
   "outputs": [
    {
     "data": {
      "text/plain": "     auc_mean   auc_std  type2  drop_columns\n17  78.818143  0.081598    111            20\n14  78.633972  0.081839    114            20\n2   78.319126  0.066004    116            20\n3   77.893591  0.077889    103            20\n16  77.696192  0.072278    116            20\n13  77.665045  0.079287    120            20\n19  77.646167  0.089447    114            20\n15  77.641575  0.069453    103            20\n12  77.563502  0.064914    105            35\n5   77.563004  0.069132    121            20\n20  77.523768  0.090437    120            20\n11  77.269151  0.069457    119            20\n1   77.198183  0.080673    116            20\n4   77.141053  0.082720    119            20\n0   77.139510  0.072828    103            20\n18  76.886461  0.083706    103            20\n7   76.431819  0.053061    114             0\n8   76.283860  0.052359    118             0\n6   76.028148  0.057076     75             0\n10  75.964037  0.094453    127            20",
      "text/html": "<div>\n<style scoped>\n    .dataframe tbody tr th:only-of-type {\n        vertical-align: middle;\n    }\n\n    .dataframe tbody tr th {\n        vertical-align: top;\n    }\n\n    .dataframe thead th {\n        text-align: right;\n    }\n</style>\n<table border=\"1\" class=\"dataframe\">\n  <thead>\n    <tr style=\"text-align: right;\">\n      <th></th>\n      <th>auc_mean</th>\n      <th>auc_std</th>\n      <th>type2</th>\n      <th>drop_columns</th>\n    </tr>\n  </thead>\n  <tbody>\n    <tr>\n      <th>17</th>\n      <td>78.818143</td>\n      <td>0.081598</td>\n      <td>111</td>\n      <td>20</td>\n    </tr>\n    <tr>\n      <th>14</th>\n      <td>78.633972</td>\n      <td>0.081839</td>\n      <td>114</td>\n      <td>20</td>\n    </tr>\n    <tr>\n      <th>2</th>\n      <td>78.319126</td>\n      <td>0.066004</td>\n      <td>116</td>\n      <td>20</td>\n    </tr>\n    <tr>\n      <th>3</th>\n      <td>77.893591</td>\n      <td>0.077889</td>\n      <td>103</td>\n      <td>20</td>\n    </tr>\n    <tr>\n      <th>16</th>\n      <td>77.696192</td>\n      <td>0.072278</td>\n      <td>116</td>\n      <td>20</td>\n    </tr>\n    <tr>\n      <th>13</th>\n      <td>77.665045</td>\n      <td>0.079287</td>\n      <td>120</td>\n      <td>20</td>\n    </tr>\n    <tr>\n      <th>19</th>\n      <td>77.646167</td>\n      <td>0.089447</td>\n      <td>114</td>\n      <td>20</td>\n    </tr>\n    <tr>\n      <th>15</th>\n      <td>77.641575</td>\n      <td>0.069453</td>\n      <td>103</td>\n      <td>20</td>\n    </tr>\n    <tr>\n      <th>12</th>\n      <td>77.563502</td>\n      <td>0.064914</td>\n      <td>105</td>\n      <td>35</td>\n    </tr>\n    <tr>\n      <th>5</th>\n      <td>77.563004</td>\n      <td>0.069132</td>\n      <td>121</td>\n      <td>20</td>\n    </tr>\n    <tr>\n      <th>20</th>\n      <td>77.523768</td>\n      <td>0.090437</td>\n      <td>120</td>\n      <td>20</td>\n    </tr>\n    <tr>\n      <th>11</th>\n      <td>77.269151</td>\n      <td>0.069457</td>\n      <td>119</td>\n      <td>20</td>\n    </tr>\n    <tr>\n      <th>1</th>\n      <td>77.198183</td>\n      <td>0.080673</td>\n      <td>116</td>\n      <td>20</td>\n    </tr>\n    <tr>\n      <th>4</th>\n      <td>77.141053</td>\n      <td>0.082720</td>\n      <td>119</td>\n      <td>20</td>\n    </tr>\n    <tr>\n      <th>0</th>\n      <td>77.139510</td>\n      <td>0.072828</td>\n      <td>103</td>\n      <td>20</td>\n    </tr>\n    <tr>\n      <th>18</th>\n      <td>76.886461</td>\n      <td>0.083706</td>\n      <td>103</td>\n      <td>20</td>\n    </tr>\n    <tr>\n      <th>7</th>\n      <td>76.431819</td>\n      <td>0.053061</td>\n      <td>114</td>\n      <td>0</td>\n    </tr>\n    <tr>\n      <th>8</th>\n      <td>76.283860</td>\n      <td>0.052359</td>\n      <td>118</td>\n      <td>0</td>\n    </tr>\n    <tr>\n      <th>6</th>\n      <td>76.028148</td>\n      <td>0.057076</td>\n      <td>75</td>\n      <td>0</td>\n    </tr>\n    <tr>\n      <th>10</th>\n      <td>75.964037</td>\n      <td>0.094453</td>\n      <td>127</td>\n      <td>20</td>\n    </tr>\n  </tbody>\n</table>\n</div>"
     },
     "execution_count": 23,
     "metadata": {},
     "output_type": "execute_result"
    }
   ],
   "source": [
    "# loading logistic regression\n",
    "df_logistic = calculate_metrics(\"outputs/output LogisticRegression.json\")\n",
    "df_logistic = df_logistic.sort_values(by = [\"auc_mean\", \"auc_std\", \"type2\", \"drop_columns\"], ascending = False)\n",
    "df_logistic[[\"auc_mean\", \"auc_std\", \"type2\", \"drop_columns\"]].head(20)"
   ]
  },
  {
   "cell_type": "code",
   "execution_count": 24,
   "outputs": [
    {
     "data": {
      "text/plain": "scaler                  Normalizer\nestimator       LogisticRegression\nimputer              SimpleImputer\nsampler                        str\nauc_mean                 76.028148\nauc_confl                75.992772\nauc_confu                76.063524\ntype2                           75\nf1_mean                   0.763059\nf1_confl                  0.726622\nf1_confu                  0.799497\ndrop_columns                     0\npre_mean                  0.780859\nrec_mean                   0.76965\nName: 6, dtype: object"
     },
     "execution_count": 24,
     "metadata": {},
     "output_type": "execute_result"
    }
   ],
   "source": [
    "logistic = df_logistic.loc[6]\n",
    "logistic[[\"scaler\", \"estimator\", \"imputer\", \"sampler\", \"auc_mean\", \"auc_confl\", \"auc_confu\", \"type2\", \"f1_mean\", \"f1_confl\", \"f1_confu\", \"drop_columns\", \"pre_mean\", \"rec_mean\"]]"
   ],
   "metadata": {
    "collapsed": false
   }
  },
  {
   "cell_type": "markdown",
   "id": "daac8263",
   "metadata": {},
   "source": [
    "# Combined review of all DFs"
   ]
  },
  {
   "cell_type": "code",
   "execution_count": 25,
   "metadata": {
    "collapsed": false
   },
   "outputs": [],
   "source": [
    "df = pd.concat([df_Tree, df_XGBoost, df_SVC, df_logistic, df_Forest, df_bernoulli, df_KNeighbors])"
   ]
  },
  {
   "cell_type": "code",
   "execution_count": 26,
   "metadata": {
    "collapsed": false
   },
   "outputs": [
    {
     "data": {
      "text/plain": "     auc_mean   auc_std  type2  drop_columns               estimator\n18  76.285254  0.056878   70.0           0.0    KNeighborsClassifier\n16  76.703708  0.059859   73.0           0.0  DecisionTreeClassifier\n13  76.703708  0.059859   73.0           0.0  DecisionTreeClassifier\n0   76.703708  0.059859   73.0           0.0  DecisionTreeClassifier\n7   76.703708  0.059859   73.0           0.0  DecisionTreeClassifier\n..        ...       ...    ...           ...                     ...\n13        NaN       NaN    NaN           NaN                     SVC\n14        NaN       NaN    NaN           NaN                     SVC\n18        NaN       NaN    NaN           NaN                     SVC\n19        NaN       NaN    NaN           NaN                     SVC\n20        NaN       NaN    NaN           NaN                     SVC\n\n[147 rows x 5 columns]",
      "text/html": "<div>\n<style scoped>\n    .dataframe tbody tr th:only-of-type {\n        vertical-align: middle;\n    }\n\n    .dataframe tbody tr th {\n        vertical-align: top;\n    }\n\n    .dataframe thead th {\n        text-align: right;\n    }\n</style>\n<table border=\"1\" class=\"dataframe\">\n  <thead>\n    <tr style=\"text-align: right;\">\n      <th></th>\n      <th>auc_mean</th>\n      <th>auc_std</th>\n      <th>type2</th>\n      <th>drop_columns</th>\n      <th>estimator</th>\n    </tr>\n  </thead>\n  <tbody>\n    <tr>\n      <th>18</th>\n      <td>76.285254</td>\n      <td>0.056878</td>\n      <td>70.0</td>\n      <td>0.0</td>\n      <td>KNeighborsClassifier</td>\n    </tr>\n    <tr>\n      <th>16</th>\n      <td>76.703708</td>\n      <td>0.059859</td>\n      <td>73.0</td>\n      <td>0.0</td>\n      <td>DecisionTreeClassifier</td>\n    </tr>\n    <tr>\n      <th>13</th>\n      <td>76.703708</td>\n      <td>0.059859</td>\n      <td>73.0</td>\n      <td>0.0</td>\n      <td>DecisionTreeClassifier</td>\n    </tr>\n    <tr>\n      <th>0</th>\n      <td>76.703708</td>\n      <td>0.059859</td>\n      <td>73.0</td>\n      <td>0.0</td>\n      <td>DecisionTreeClassifier</td>\n    </tr>\n    <tr>\n      <th>7</th>\n      <td>76.703708</td>\n      <td>0.059859</td>\n      <td>73.0</td>\n      <td>0.0</td>\n      <td>DecisionTreeClassifier</td>\n    </tr>\n    <tr>\n      <th>...</th>\n      <td>...</td>\n      <td>...</td>\n      <td>...</td>\n      <td>...</td>\n      <td>...</td>\n    </tr>\n    <tr>\n      <th>13</th>\n      <td>NaN</td>\n      <td>NaN</td>\n      <td>NaN</td>\n      <td>NaN</td>\n      <td>SVC</td>\n    </tr>\n    <tr>\n      <th>14</th>\n      <td>NaN</td>\n      <td>NaN</td>\n      <td>NaN</td>\n      <td>NaN</td>\n      <td>SVC</td>\n    </tr>\n    <tr>\n      <th>18</th>\n      <td>NaN</td>\n      <td>NaN</td>\n      <td>NaN</td>\n      <td>NaN</td>\n      <td>SVC</td>\n    </tr>\n    <tr>\n      <th>19</th>\n      <td>NaN</td>\n      <td>NaN</td>\n      <td>NaN</td>\n      <td>NaN</td>\n      <td>SVC</td>\n    </tr>\n    <tr>\n      <th>20</th>\n      <td>NaN</td>\n      <td>NaN</td>\n      <td>NaN</td>\n      <td>NaN</td>\n      <td>SVC</td>\n    </tr>\n  </tbody>\n</table>\n<p>147 rows × 5 columns</p>\n</div>"
     },
     "execution_count": 26,
     "metadata": {},
     "output_type": "execute_result"
    }
   ],
   "source": [
    "df[[\"auc_mean\", \"auc_std\", \"type2\", \"drop_columns\", \"estimator\"]].sort_values('type2')"
   ]
  },
  {
   "cell_type": "code",
   "execution_count": 27,
   "metadata": {
    "collapsed": false
   },
   "outputs": [
    {
     "data": {
      "text/plain": "     auc_mean   auc_std   f1_mean  type2  drop_columns             estimator\n15  80.398731  0.097697  0.797751   83.0         100.0  KNeighborsClassifier\n17  79.468591  0.065352  0.792116  101.0          20.0                   SVC\n17  79.798258  0.090229  0.791528  100.0         100.0  KNeighborsClassifier\n15  79.068118  0.071319  0.787344  111.0           8.0           BernoulliNB\n16  79.383997  0.092650  0.786896  109.0         100.0  KNeighborsClassifier\n..        ...       ...       ...    ...           ...                   ...\n13        NaN       NaN       NaN    NaN           NaN                   SVC\n14        NaN       NaN       NaN    NaN           NaN                   SVC\n18        NaN       NaN       NaN    NaN           NaN                   SVC\n19        NaN       NaN       NaN    NaN           NaN                   SVC\n20        NaN       NaN       NaN    NaN           NaN                   SVC\n\n[147 rows x 6 columns]",
      "text/html": "<div>\n<style scoped>\n    .dataframe tbody tr th:only-of-type {\n        vertical-align: middle;\n    }\n\n    .dataframe tbody tr th {\n        vertical-align: top;\n    }\n\n    .dataframe thead th {\n        text-align: right;\n    }\n</style>\n<table border=\"1\" class=\"dataframe\">\n  <thead>\n    <tr style=\"text-align: right;\">\n      <th></th>\n      <th>auc_mean</th>\n      <th>auc_std</th>\n      <th>f1_mean</th>\n      <th>type2</th>\n      <th>drop_columns</th>\n      <th>estimator</th>\n    </tr>\n  </thead>\n  <tbody>\n    <tr>\n      <th>15</th>\n      <td>80.398731</td>\n      <td>0.097697</td>\n      <td>0.797751</td>\n      <td>83.0</td>\n      <td>100.0</td>\n      <td>KNeighborsClassifier</td>\n    </tr>\n    <tr>\n      <th>17</th>\n      <td>79.468591</td>\n      <td>0.065352</td>\n      <td>0.792116</td>\n      <td>101.0</td>\n      <td>20.0</td>\n      <td>SVC</td>\n    </tr>\n    <tr>\n      <th>17</th>\n      <td>79.798258</td>\n      <td>0.090229</td>\n      <td>0.791528</td>\n      <td>100.0</td>\n      <td>100.0</td>\n      <td>KNeighborsClassifier</td>\n    </tr>\n    <tr>\n      <th>15</th>\n      <td>79.068118</td>\n      <td>0.071319</td>\n      <td>0.787344</td>\n      <td>111.0</td>\n      <td>8.0</td>\n      <td>BernoulliNB</td>\n    </tr>\n    <tr>\n      <th>16</th>\n      <td>79.383997</td>\n      <td>0.092650</td>\n      <td>0.786896</td>\n      <td>109.0</td>\n      <td>100.0</td>\n      <td>KNeighborsClassifier</td>\n    </tr>\n    <tr>\n      <th>...</th>\n      <td>...</td>\n      <td>...</td>\n      <td>...</td>\n      <td>...</td>\n      <td>...</td>\n      <td>...</td>\n    </tr>\n    <tr>\n      <th>13</th>\n      <td>NaN</td>\n      <td>NaN</td>\n      <td>NaN</td>\n      <td>NaN</td>\n      <td>NaN</td>\n      <td>SVC</td>\n    </tr>\n    <tr>\n      <th>14</th>\n      <td>NaN</td>\n      <td>NaN</td>\n      <td>NaN</td>\n      <td>NaN</td>\n      <td>NaN</td>\n      <td>SVC</td>\n    </tr>\n    <tr>\n      <th>18</th>\n      <td>NaN</td>\n      <td>NaN</td>\n      <td>NaN</td>\n      <td>NaN</td>\n      <td>NaN</td>\n      <td>SVC</td>\n    </tr>\n    <tr>\n      <th>19</th>\n      <td>NaN</td>\n      <td>NaN</td>\n      <td>NaN</td>\n      <td>NaN</td>\n      <td>NaN</td>\n      <td>SVC</td>\n    </tr>\n    <tr>\n      <th>20</th>\n      <td>NaN</td>\n      <td>NaN</td>\n      <td>NaN</td>\n      <td>NaN</td>\n      <td>NaN</td>\n      <td>SVC</td>\n    </tr>\n  </tbody>\n</table>\n<p>147 rows × 6 columns</p>\n</div>"
     },
     "execution_count": 27,
     "metadata": {},
     "output_type": "execute_result"
    }
   ],
   "source": [
    "df[[\"auc_mean\", \"auc_std\",'f1_mean', \"type2\", \"drop_columns\", \"estimator\"]].sort_values('f1_mean', ascending=False)"
   ]
  },
  {
   "cell_type": "code",
   "execution_count": 28,
   "id": "7bfeb9aa",
   "metadata": {},
   "outputs": [
    {
     "data": {
      "text/plain": "scaler                             str\nestimator       DecisionTreeClassifier\nimputer                  SimpleImputer\nsampler                            str\nauc_mean                     76.703708\nauc_confl                    76.666607\nauc_confu                     76.74081\ntype2                               73\nf1_mean                       0.770171\nf1_confl                      0.733067\nf1_confu                      0.807274\ndrop_columns                         0\npre_mean                      0.785349\nrec_mean                      0.776305\nName: 16, dtype: object"
     },
     "execution_count": 28,
     "metadata": {},
     "output_type": "execute_result"
    }
   ],
   "source": [
    "Tree = df_Tree.loc[16]\n",
    "\n",
    "Tree[[\"scaler\", \"estimator\", \"imputer\", \"sampler\", \"auc_mean\", \"auc_confl\", \"auc_confu\", \"type2\", \"f1_mean\", \"f1_confl\", \"f1_confu\", \"drop_columns\", \"pre_mean\", \"rec_mean\"]]"
   ]
  }
 ],
 "metadata": {
  "kernelspec": {
   "display_name": "Python 3.10.8 64-bit",
   "language": "python",
   "name": "python3"
  },
  "language_info": {
   "codemirror_mode": {
    "name": "ipython",
    "version": 3
   },
   "file_extension": ".py",
   "mimetype": "text/x-python",
   "name": "python",
   "nbconvert_exporter": "python",
   "pygments_lexer": "ipython3",
   "version": "3.10.8"
  },
  "vscode": {
   "interpreter": {
    "hash": "e7370f93d1d0cde622a1f8e1c04877d8463912d04d973331ad4851f04de6915a"
   }
  }
 },
 "nbformat": 4,
 "nbformat_minor": 5
}
