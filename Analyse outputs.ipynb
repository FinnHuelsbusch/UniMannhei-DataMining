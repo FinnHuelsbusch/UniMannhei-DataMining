{
 "cells": [
  {
   "cell_type": "code",
   "execution_count": 166,
   "id": "9438b12c",
   "metadata": {},
   "outputs": [],
   "source": [
    "import json\n",
    "import pandas as pd\n",
    "import numpy as np\n",
    "import re\n",
    "from sklearn.metrics import roc_auc_score, f1_score\n",
    "from io import StringIO"
   ]
  },
  {
   "cell_type": "markdown",
   "source": [
    "# Baseline"
   ],
   "metadata": {
    "collapsed": false
   }
  },
  {
   "cell_type": "code",
   "execution_count": 167,
   "outputs": [],
   "source": [
    "# list the datasets that should be used in the current run\n",
    "datasets = [\"hungarian\", \"cleveland\", \"switzerland\", \"long-beach-va\"]"
   ],
   "metadata": {
    "collapsed": false
   }
  },
  {
   "cell_type": "code",
   "execution_count": 168,
   "outputs": [],
   "source": [
    "# custom function to read the dataset into a csv formated string\n",
    "# the name is used as a delimiter here because it is the last feature and common among all entrys\n",
    "def read_raw_data(file_path:str):\n",
    "    with open(file_path) as file:\n",
    "        data_string = file.read()\n",
    "        data_string = data_string.replace(\"\\n\",\" \")\n",
    "        data_string = re.sub(\"[a-zA-Z]+ \",\"name\\n\", data_string)\n",
    "        data_string = data_string.replace(\" \",\",\")\n",
    "        return data_string"
   ],
   "metadata": {
    "collapsed": false
   }
  },
  {
   "cell_type": "code",
   "execution_count": 169,
   "outputs": [],
   "source": [
    "# read the data from the specified datasets into the df\n",
    "df = pd.DataFrame()\n",
    "for dataset in datasets:\n",
    "    dataset_df = pd.read_csv(StringIO(read_raw_data(\"./Data/\"+ dataset +\".data\")), header=None, sep=\",\")\n",
    "    dataset_df['dataset'] = dataset\n",
    "    df = pd.concat([df,dataset_df ], ignore_index=True)"
   ],
   "metadata": {
    "collapsed": false
   }
  },
  {
   "cell_type": "code",
   "execution_count": 170,
   "outputs": [],
   "source": [
    "df.columns=[\"id\", \"ccf\", \"age\", \"sex\", \"painloc\", \"painexer\" , \"relrest\" , \"pncaden\" , \"cp\", \"trestbps\", \"htn\", \"chol\", \"smoke\", \"cigs\", \"years\", \"fbs\", \"dm\", \"famhist\", \"restecg\", \"ekgmo\", \"ekgday\", \"ekgyr\", \"dig\", \"prop\", \"nitr\", \"pro\", \"diuretic\", \"proto\", \"thaldur\", \"thaltime\", \"met\", \"thalach\", \"thalrest\", \"tpeakbps\", \"tpeakbpd\", \"dummy\", \"trestbpd\", \"exang\", \"xhypo\", \"oldpeak\", \"slope\", \"rldv5\", \"rldv5e\", \"ca\", \"restckm\", \"exerckm\", \"restef\", \"restwm\", \"exeref\", \"exerwm\", \"thal\", \"thalsev\", \"thalpul\", \"earlobe\", \"cmo\", \"cday\", \"cyr\", \"num\", \"lmt\", \"ladprox\", \"laddist\", \"diag\", \"cxmain\", \"ramus\", \"om1\", \"om2\", \"rcaprox\", \"rcadist\", \"lvx1\", \"lvx2\", \"lvx3\", \"lvx4\", \"lvf\", \"cathef\", \"junk\", \"name\", \"dataset\"]"
   ],
   "metadata": {
    "collapsed": false
   }
  },
  {
   "cell_type": "code",
   "execution_count": 171,
   "outputs": [],
   "source": [
    "# the uci encodes missing values as -9 we use np.float('nan') for better profiling reports\n",
    "df = df.replace(-9, float('nan'))"
   ],
   "metadata": {
    "collapsed": false
   }
  },
  {
   "cell_type": "code",
   "execution_count": 172,
   "outputs": [
    {
     "name": "stderr",
     "output_type": "stream",
     "text": [
      "/tmp/ipykernel_125024/109503431.py:2: SettingWithCopyWarning: \n",
      "A value is trying to be set on a copy of a slice from a DataFrame\n",
      "\n",
      "See the caveats in the documentation: https://pandas.pydata.org/pandas-docs/stable/user_guide/indexing.html#returning-a-view-versus-a-copy\n",
      "  y_true[y_true > 1] = 1\n"
     ]
    },
    {
     "data": {
      "text/plain": "0.5"
     },
     "execution_count": 172,
     "metadata": {},
     "output_type": "execute_result"
    }
   ],
   "source": [
    "y_true = df['num']\n",
    "y_true[y_true > 1] = 1\n",
    "y_pred = [1] * len(y_true)\n",
    "roc_auc_score(y_true, y_pred)"
   ],
   "metadata": {
    "collapsed": false
   }
  },
  {
   "cell_type": "code",
   "execution_count": 173,
   "outputs": [
    {
     "data": {
      "text/plain": "0.7101865136298422"
     },
     "execution_count": 173,
     "metadata": {},
     "output_type": "execute_result"
    }
   ],
   "source": [
    "f1_score(y_true, y_pred)"
   ],
   "metadata": {
    "collapsed": false
   }
  },
  {
   "cell_type": "code",
   "execution_count": 174,
   "id": "700e876f",
   "metadata": {},
   "outputs": [],
   "source": [
    "def calculate_metrics(filepath:str): \n",
    "    with open(filepath, 'r') as f:\n",
    "        data = json.load(f)\n",
    "    # extract data form json into usable df \n",
    "    df = pd.json_normalize(data, record_path =['measurements'])\n",
    "    # save minimum percentage to be dropped in extra variable\n",
    "    df[\"drop_columns\"] = df[\"best_params.drop_columns__minimum_percentage_to_be_dropped\"]\n",
    "    # calculate main values of interest\n",
    "    df[\"auc_std\"] = df.apply(lambda row: np.std(row[\"auc\"]), axis =1)\n",
    "    df[\"pre_std\"] = df.apply(lambda row: np.std(row[\"classification_report.1.precision\"]), axis =1)\n",
    "    df[\"pre_mean\"] = df.apply(lambda row: np.mean(row[\"classification_report.1.precision\"]), axis =1)\n",
    "    df[\"acc_mean\"] = df.apply(lambda row: np.mean(row[\"classification_report.accuracy\"]), axis =1)\n",
    "    df[\"rec_std\"] = df.apply(lambda row: np.std(row[\"classification_report.1.recall\"]), axis =1)\n",
    "    df[\"rec_mean\"] = df.apply(lambda row: np.mean(row[\"classification_report.1.recall\"]), axis =1)\n",
    "    df[\"f1_std\"] = df.apply(lambda row: np.std(row[\"classification_report.1.f1-score\"]), axis =1)\n",
    "    df[\"f1_mean\"] = df.apply(lambda row: np.mean(row[\"classification_report.1.f1-score\"]), axis =1)\n",
    "    df[\"type2\"] = df.apply(lambda row: np.sum(row[\"confusion_matrix.(1, 0)\"]), axis =1)\n",
    "    # Confidence Intervalls\n",
    "    df[\"auc_confl\"] = df[\"auc_mean\"]- 1.96 * (df[\"auc_std\"] / np.sqrt(10))\n",
    "    df[\"auc_confu\"] = df[\"auc_mean\"]+ 1.96 * (df[\"auc_std\"] / np.sqrt(10))\n",
    "    df[\"f1_confl\"] = df[\"f1_mean\"]- 1.96 * (df[\"f1_std\"] / np.sqrt(10))\n",
    "    df[\"f1_confu\"] = df[\"f1_mean\"]+ 1.96 * (df[\"f1_std\"] / np.sqrt(10))\n",
    "    return df"
   ]
  },
  {
   "cell_type": "code",
   "execution_count": 175,
   "outputs": [
    {
     "data": {
      "text/plain": "    rec_mean   rec_std   auc_mean  drop_columns   f1_mean\n7   0.805592  0.099109  76.971665           100  0.797337\n6   0.801592  0.094049  75.280811           100  0.786392\n18  0.785469  0.116458  75.352738           100  0.779663\n9   0.785429  0.118263  75.475697           100  0.780468\n15  0.781469  0.119290  75.402738           100  0.778468\n12  0.781469  0.119290  75.277738           100  0.777656\n0   0.781469  0.119290  75.027738           100  0.776250\n3   0.779429  0.119897  75.050697           100  0.775643\n8   0.779347  0.098439  76.540518            75  0.787538\n1   0.777306  0.111754  75.438477           100  0.778476\n4   0.777306  0.111754  75.438477           100  0.778476\n10  0.777306  0.111754  75.438477           100  0.778476\n13  0.777306  0.111754  75.438477           100  0.778476\n19  0.777306  0.111754  75.438477           100  0.778476\n16  0.773224  0.105613  75.234395           100  0.776474\n17  0.769347  0.099167  75.287469           100  0.776419\n20  0.769347  0.099167  75.287469           100  0.776419\n5   0.769347  0.099167  75.287469            75  0.776419\n2   0.769347  0.099167  75.162469            75  0.775604\n14  0.767347  0.101919  75.312469            75  0.775785",
      "text/html": "<div>\n<style scoped>\n    .dataframe tbody tr th:only-of-type {\n        vertical-align: middle;\n    }\n\n    .dataframe tbody tr th {\n        vertical-align: top;\n    }\n\n    .dataframe thead th {\n        text-align: right;\n    }\n</style>\n<table border=\"1\" class=\"dataframe\">\n  <thead>\n    <tr style=\"text-align: right;\">\n      <th></th>\n      <th>rec_mean</th>\n      <th>rec_std</th>\n      <th>auc_mean</th>\n      <th>drop_columns</th>\n      <th>f1_mean</th>\n    </tr>\n  </thead>\n  <tbody>\n    <tr>\n      <th>7</th>\n      <td>0.805592</td>\n      <td>0.099109</td>\n      <td>76.971665</td>\n      <td>100</td>\n      <td>0.797337</td>\n    </tr>\n    <tr>\n      <th>6</th>\n      <td>0.801592</td>\n      <td>0.094049</td>\n      <td>75.280811</td>\n      <td>100</td>\n      <td>0.786392</td>\n    </tr>\n    <tr>\n      <th>18</th>\n      <td>0.785469</td>\n      <td>0.116458</td>\n      <td>75.352738</td>\n      <td>100</td>\n      <td>0.779663</td>\n    </tr>\n    <tr>\n      <th>9</th>\n      <td>0.785429</td>\n      <td>0.118263</td>\n      <td>75.475697</td>\n      <td>100</td>\n      <td>0.780468</td>\n    </tr>\n    <tr>\n      <th>15</th>\n      <td>0.781469</td>\n      <td>0.119290</td>\n      <td>75.402738</td>\n      <td>100</td>\n      <td>0.778468</td>\n    </tr>\n    <tr>\n      <th>12</th>\n      <td>0.781469</td>\n      <td>0.119290</td>\n      <td>75.277738</td>\n      <td>100</td>\n      <td>0.777656</td>\n    </tr>\n    <tr>\n      <th>0</th>\n      <td>0.781469</td>\n      <td>0.119290</td>\n      <td>75.027738</td>\n      <td>100</td>\n      <td>0.776250</td>\n    </tr>\n    <tr>\n      <th>3</th>\n      <td>0.779429</td>\n      <td>0.119897</td>\n      <td>75.050697</td>\n      <td>100</td>\n      <td>0.775643</td>\n    </tr>\n    <tr>\n      <th>8</th>\n      <td>0.779347</td>\n      <td>0.098439</td>\n      <td>76.540518</td>\n      <td>75</td>\n      <td>0.787538</td>\n    </tr>\n    <tr>\n      <th>1</th>\n      <td>0.777306</td>\n      <td>0.111754</td>\n      <td>75.438477</td>\n      <td>100</td>\n      <td>0.778476</td>\n    </tr>\n    <tr>\n      <th>4</th>\n      <td>0.777306</td>\n      <td>0.111754</td>\n      <td>75.438477</td>\n      <td>100</td>\n      <td>0.778476</td>\n    </tr>\n    <tr>\n      <th>10</th>\n      <td>0.777306</td>\n      <td>0.111754</td>\n      <td>75.438477</td>\n      <td>100</td>\n      <td>0.778476</td>\n    </tr>\n    <tr>\n      <th>13</th>\n      <td>0.777306</td>\n      <td>0.111754</td>\n      <td>75.438477</td>\n      <td>100</td>\n      <td>0.778476</td>\n    </tr>\n    <tr>\n      <th>19</th>\n      <td>0.777306</td>\n      <td>0.111754</td>\n      <td>75.438477</td>\n      <td>100</td>\n      <td>0.778476</td>\n    </tr>\n    <tr>\n      <th>16</th>\n      <td>0.773224</td>\n      <td>0.105613</td>\n      <td>75.234395</td>\n      <td>100</td>\n      <td>0.776474</td>\n    </tr>\n    <tr>\n      <th>17</th>\n      <td>0.769347</td>\n      <td>0.099167</td>\n      <td>75.287469</td>\n      <td>100</td>\n      <td>0.776419</td>\n    </tr>\n    <tr>\n      <th>20</th>\n      <td>0.769347</td>\n      <td>0.099167</td>\n      <td>75.287469</td>\n      <td>100</td>\n      <td>0.776419</td>\n    </tr>\n    <tr>\n      <th>5</th>\n      <td>0.769347</td>\n      <td>0.099167</td>\n      <td>75.287469</td>\n      <td>75</td>\n      <td>0.776419</td>\n    </tr>\n    <tr>\n      <th>2</th>\n      <td>0.769347</td>\n      <td>0.099167</td>\n      <td>75.162469</td>\n      <td>75</td>\n      <td>0.775604</td>\n    </tr>\n    <tr>\n      <th>14</th>\n      <td>0.767347</td>\n      <td>0.101919</td>\n      <td>75.312469</td>\n      <td>75</td>\n      <td>0.775785</td>\n    </tr>\n  </tbody>\n</table>\n</div>"
     },
     "execution_count": 175,
     "metadata": {},
     "output_type": "execute_result"
    }
   ],
   "source": [
    "df_XGBoost = calculate_metrics(\"outputs/output xgboost.json\")\n",
    "# only display variables important for the model evaluation\n",
    "df_XGBoost = df_XGBoost.sort_values(by = [\"rec_mean\", \"rec_std\", \"auc_mean\", \"drop_columns\", 'f1_mean'], ascending = False)\n",
    "df_XGBoost[[\"rec_mean\", \"rec_std\", \"auc_mean\", \"drop_columns\", 'f1_mean']].head(20)"
   ],
   "metadata": {
    "collapsed": false
   }
  },
  {
   "cell_type": "code",
   "execution_count": 176,
   "id": "44ccfe22",
   "metadata": {},
   "outputs": [
    {
     "data": {
      "text/plain": "scaler                  Normalizer\nestimator            XGBClassifier\nimputer              SimpleImputer\nsampler         RandomUnderSampler\nauc_mean                 76.540518\nauc_confl                76.486675\nauc_confu                 76.59436\ntype2                          109\nf1_mean                   0.787538\nf1_confl                  0.751974\nf1_confu                  0.823103\ndrop_columns                    75\npre_mean                  0.814819\nrec_mean                  0.779347\nName: 8, dtype: object"
     },
     "execution_count": 176,
     "metadata": {},
     "output_type": "execute_result"
    }
   ],
   "source": [
    "# best model in detail \n",
    "XGBoost = df_XGBoost.loc[8]\n",
    "XGBoost[[\"scaler\", \"estimator\", \"imputer\", \"sampler\", \"auc_mean\", \"auc_confl\", \"auc_confu\", \"type2\", \"f1_mean\", \"f1_confl\", \"f1_confu\", \"drop_columns\", \"pre_mean\", \"rec_mean\"]]"
   ]
  },
  {
   "cell_type": "code",
   "execution_count": 177,
   "id": "85cc427c",
   "metadata": {},
   "outputs": [
    {
     "data": {
      "text/plain": "    rec_mean   rec_std   auc_mean  drop_columns   f1_mean\n18  0.858449  0.048486  76.285254             0  0.807729\n15  0.831755  0.116541  80.398731           100  0.826626\n19  0.828286  0.071276  75.770993             0  0.795510\n6   0.828163  0.057378  74.658163             0  0.789032\n12  0.809469  0.128226  77.281396            20  0.800056\n20  0.808082  0.066057  75.626643             0  0.789785\n9   0.807265  0.143362  78.180338           100  0.803177\n17  0.797429  0.110121  79.798258           100  0.813584\n11  0.787143  0.124669  78.790070           100  0.802811\n8   0.783510  0.074452  76.010876             0  0.784084\n7   0.781429  0.064756  74.909843             0  0.777033\n3   0.781265  0.102581  77.645582            75  0.794056\n0   0.779306  0.099149  77.672623           100  0.793199\n16  0.779265  0.097708  79.383997           100  0.806949\n10  0.769102  0.132387  78.144126           100  0.793181\n14  0.761061  0.114586  76.110988            20  0.778811\n4   0.755184  0.082956  78.811013           100  0.794314\n13  0.751061  0.108713  75.729890            20  0.773942\n2   0.750980  0.086130  78.481906           100  0.790725\n5   0.742857  0.098168  78.938589           100  0.790432\n1   0.728857  0.091892  77.134930           100  0.774335",
      "text/html": "<div>\n<style scoped>\n    .dataframe tbody tr th:only-of-type {\n        vertical-align: middle;\n    }\n\n    .dataframe tbody tr th {\n        vertical-align: top;\n    }\n\n    .dataframe thead th {\n        text-align: right;\n    }\n</style>\n<table border=\"1\" class=\"dataframe\">\n  <thead>\n    <tr style=\"text-align: right;\">\n      <th></th>\n      <th>rec_mean</th>\n      <th>rec_std</th>\n      <th>auc_mean</th>\n      <th>drop_columns</th>\n      <th>f1_mean</th>\n    </tr>\n  </thead>\n  <tbody>\n    <tr>\n      <th>18</th>\n      <td>0.858449</td>\n      <td>0.048486</td>\n      <td>76.285254</td>\n      <td>0</td>\n      <td>0.807729</td>\n    </tr>\n    <tr>\n      <th>15</th>\n      <td>0.831755</td>\n      <td>0.116541</td>\n      <td>80.398731</td>\n      <td>100</td>\n      <td>0.826626</td>\n    </tr>\n    <tr>\n      <th>19</th>\n      <td>0.828286</td>\n      <td>0.071276</td>\n      <td>75.770993</td>\n      <td>0</td>\n      <td>0.795510</td>\n    </tr>\n    <tr>\n      <th>6</th>\n      <td>0.828163</td>\n      <td>0.057378</td>\n      <td>74.658163</td>\n      <td>0</td>\n      <td>0.789032</td>\n    </tr>\n    <tr>\n      <th>12</th>\n      <td>0.809469</td>\n      <td>0.128226</td>\n      <td>77.281396</td>\n      <td>20</td>\n      <td>0.800056</td>\n    </tr>\n    <tr>\n      <th>20</th>\n      <td>0.808082</td>\n      <td>0.066057</td>\n      <td>75.626643</td>\n      <td>0</td>\n      <td>0.789785</td>\n    </tr>\n    <tr>\n      <th>9</th>\n      <td>0.807265</td>\n      <td>0.143362</td>\n      <td>78.180338</td>\n      <td>100</td>\n      <td>0.803177</td>\n    </tr>\n    <tr>\n      <th>17</th>\n      <td>0.797429</td>\n      <td>0.110121</td>\n      <td>79.798258</td>\n      <td>100</td>\n      <td>0.813584</td>\n    </tr>\n    <tr>\n      <th>11</th>\n      <td>0.787143</td>\n      <td>0.124669</td>\n      <td>78.790070</td>\n      <td>100</td>\n      <td>0.802811</td>\n    </tr>\n    <tr>\n      <th>8</th>\n      <td>0.783510</td>\n      <td>0.074452</td>\n      <td>76.010876</td>\n      <td>0</td>\n      <td>0.784084</td>\n    </tr>\n    <tr>\n      <th>7</th>\n      <td>0.781429</td>\n      <td>0.064756</td>\n      <td>74.909843</td>\n      <td>0</td>\n      <td>0.777033</td>\n    </tr>\n    <tr>\n      <th>3</th>\n      <td>0.781265</td>\n      <td>0.102581</td>\n      <td>77.645582</td>\n      <td>75</td>\n      <td>0.794056</td>\n    </tr>\n    <tr>\n      <th>0</th>\n      <td>0.779306</td>\n      <td>0.099149</td>\n      <td>77.672623</td>\n      <td>100</td>\n      <td>0.793199</td>\n    </tr>\n    <tr>\n      <th>16</th>\n      <td>0.779265</td>\n      <td>0.097708</td>\n      <td>79.383997</td>\n      <td>100</td>\n      <td>0.806949</td>\n    </tr>\n    <tr>\n      <th>10</th>\n      <td>0.769102</td>\n      <td>0.132387</td>\n      <td>78.144126</td>\n      <td>100</td>\n      <td>0.793181</td>\n    </tr>\n    <tr>\n      <th>14</th>\n      <td>0.761061</td>\n      <td>0.114586</td>\n      <td>76.110988</td>\n      <td>20</td>\n      <td>0.778811</td>\n    </tr>\n    <tr>\n      <th>4</th>\n      <td>0.755184</td>\n      <td>0.082956</td>\n      <td>78.811013</td>\n      <td>100</td>\n      <td>0.794314</td>\n    </tr>\n    <tr>\n      <th>13</th>\n      <td>0.751061</td>\n      <td>0.108713</td>\n      <td>75.729890</td>\n      <td>20</td>\n      <td>0.773942</td>\n    </tr>\n    <tr>\n      <th>2</th>\n      <td>0.750980</td>\n      <td>0.086130</td>\n      <td>78.481906</td>\n      <td>100</td>\n      <td>0.790725</td>\n    </tr>\n    <tr>\n      <th>5</th>\n      <td>0.742857</td>\n      <td>0.098168</td>\n      <td>78.938589</td>\n      <td>100</td>\n      <td>0.790432</td>\n    </tr>\n    <tr>\n      <th>1</th>\n      <td>0.728857</td>\n      <td>0.091892</td>\n      <td>77.134930</td>\n      <td>100</td>\n      <td>0.774335</td>\n    </tr>\n  </tbody>\n</table>\n</div>"
     },
     "execution_count": 177,
     "metadata": {},
     "output_type": "execute_result"
    }
   ],
   "source": [
    "# loading KNeighbors \n",
    "df_KNeighbors = calculate_metrics(\"outputs/output KNN.json\")\n",
    "df_KNeighbors = df_KNeighbors.sort_values(by = [\"rec_mean\", \"rec_std\", \"auc_mean\", \"drop_columns\", 'f1_mean'], ascending = False)\n",
    "df_KNeighbors[[\"rec_mean\", \"rec_std\", \"auc_mean\", \"drop_columns\", 'f1_mean']].head(40)"
   ]
  },
  {
   "cell_type": "code",
   "execution_count": 178,
   "id": "8b338096",
   "metadata": {},
   "outputs": [
    {
     "data": {
      "text/plain": "scaler                           str\nestimator       KNeighborsClassifier\nimputer                SimpleImputer\nsampler                          str\nauc_mean                   76.285254\nauc_confl                  76.250001\nauc_confu                  76.320507\ntype2                             70\nf1_mean                     0.807729\nf1_confl                    0.788437\nf1_confu                    0.827021\ndrop_columns                       0\npre_mean                    0.768873\nrec_mean                    0.858449\nName: 18, dtype: object"
     },
     "execution_count": 178,
     "metadata": {},
     "output_type": "execute_result"
    }
   ],
   "source": [
    "KNeighbors = df_KNeighbors.loc[18]\n",
    "KNeighbors[[\"scaler\", \"estimator\", \"imputer\", \"sampler\", \"auc_mean\", \"auc_confl\", \"auc_confu\", \"type2\", \"f1_mean\", \"f1_confl\", \"f1_confu\", \"drop_columns\", \"pre_mean\", \"rec_mean\"]]"
   ]
  },
  {
   "cell_type": "code",
   "execution_count": 179,
   "id": "ab11529e",
   "metadata": {},
   "outputs": [
    {
     "data": {
      "text/plain": "    rec_mean   rec_std   auc_mean  drop_columns   f1_mean\n18  0.844163  0.097180  78.409383           100  0.818713\n9   0.844122  0.096034  78.160391           100  0.817078\n3   0.842163  0.099078  78.190480           100  0.816477\n0   0.842163  0.099078  78.065480           100  0.815951\n15  0.840122  0.102677  78.332342           100  0.816883\n12  0.840082  0.097832  78.205301           100  0.816678\n10  0.813714  0.102670  77.889983            75  0.807204\n19  0.807592  0.101768  78.080811            75  0.805459\n16  0.805592  0.098013  78.105811            75  0.805394\n1   0.805551  0.103401  78.103771            75  0.804986\n8   0.803714  0.101596  77.758885            75  0.802304\n6   0.801673  0.110832  76.531844            75  0.792896\n13  0.801551  0.100797  77.903771            75  0.802761\n4   0.799429  0.107875  78.041551            75  0.802699\n7   0.791347  0.121495  76.524664            75  0.789828\n11  0.775510  0.111819  76.464535            75  0.786547\n2   0.773265  0.120517  76.730338           100  0.786410\n17  0.769265  0.120213  75.908387           100  0.780442\n20  0.769265  0.115128  75.905338           100  0.781037\n5   0.765265  0.118121  75.830338           100  0.779117",
      "text/html": "<div>\n<style scoped>\n    .dataframe tbody tr th:only-of-type {\n        vertical-align: middle;\n    }\n\n    .dataframe tbody tr th {\n        vertical-align: top;\n    }\n\n    .dataframe thead th {\n        text-align: right;\n    }\n</style>\n<table border=\"1\" class=\"dataframe\">\n  <thead>\n    <tr style=\"text-align: right;\">\n      <th></th>\n      <th>rec_mean</th>\n      <th>rec_std</th>\n      <th>auc_mean</th>\n      <th>drop_columns</th>\n      <th>f1_mean</th>\n    </tr>\n  </thead>\n  <tbody>\n    <tr>\n      <th>18</th>\n      <td>0.844163</td>\n      <td>0.097180</td>\n      <td>78.409383</td>\n      <td>100</td>\n      <td>0.818713</td>\n    </tr>\n    <tr>\n      <th>9</th>\n      <td>0.844122</td>\n      <td>0.096034</td>\n      <td>78.160391</td>\n      <td>100</td>\n      <td>0.817078</td>\n    </tr>\n    <tr>\n      <th>3</th>\n      <td>0.842163</td>\n      <td>0.099078</td>\n      <td>78.190480</td>\n      <td>100</td>\n      <td>0.816477</td>\n    </tr>\n    <tr>\n      <th>0</th>\n      <td>0.842163</td>\n      <td>0.099078</td>\n      <td>78.065480</td>\n      <td>100</td>\n      <td>0.815951</td>\n    </tr>\n    <tr>\n      <th>15</th>\n      <td>0.840122</td>\n      <td>0.102677</td>\n      <td>78.332342</td>\n      <td>100</td>\n      <td>0.816883</td>\n    </tr>\n    <tr>\n      <th>12</th>\n      <td>0.840082</td>\n      <td>0.097832</td>\n      <td>78.205301</td>\n      <td>100</td>\n      <td>0.816678</td>\n    </tr>\n    <tr>\n      <th>10</th>\n      <td>0.813714</td>\n      <td>0.102670</td>\n      <td>77.889983</td>\n      <td>75</td>\n      <td>0.807204</td>\n    </tr>\n    <tr>\n      <th>19</th>\n      <td>0.807592</td>\n      <td>0.101768</td>\n      <td>78.080811</td>\n      <td>75</td>\n      <td>0.805459</td>\n    </tr>\n    <tr>\n      <th>16</th>\n      <td>0.805592</td>\n      <td>0.098013</td>\n      <td>78.105811</td>\n      <td>75</td>\n      <td>0.805394</td>\n    </tr>\n    <tr>\n      <th>1</th>\n      <td>0.805551</td>\n      <td>0.103401</td>\n      <td>78.103771</td>\n      <td>75</td>\n      <td>0.804986</td>\n    </tr>\n    <tr>\n      <th>8</th>\n      <td>0.803714</td>\n      <td>0.101596</td>\n      <td>77.758885</td>\n      <td>75</td>\n      <td>0.802304</td>\n    </tr>\n    <tr>\n      <th>6</th>\n      <td>0.801673</td>\n      <td>0.110832</td>\n      <td>76.531844</td>\n      <td>75</td>\n      <td>0.792896</td>\n    </tr>\n    <tr>\n      <th>13</th>\n      <td>0.801551</td>\n      <td>0.100797</td>\n      <td>77.903771</td>\n      <td>75</td>\n      <td>0.802761</td>\n    </tr>\n    <tr>\n      <th>4</th>\n      <td>0.799429</td>\n      <td>0.107875</td>\n      <td>78.041551</td>\n      <td>75</td>\n      <td>0.802699</td>\n    </tr>\n    <tr>\n      <th>7</th>\n      <td>0.791347</td>\n      <td>0.121495</td>\n      <td>76.524664</td>\n      <td>75</td>\n      <td>0.789828</td>\n    </tr>\n    <tr>\n      <th>11</th>\n      <td>0.775510</td>\n      <td>0.111819</td>\n      <td>76.464535</td>\n      <td>75</td>\n      <td>0.786547</td>\n    </tr>\n    <tr>\n      <th>2</th>\n      <td>0.773265</td>\n      <td>0.120517</td>\n      <td>76.730338</td>\n      <td>100</td>\n      <td>0.786410</td>\n    </tr>\n    <tr>\n      <th>17</th>\n      <td>0.769265</td>\n      <td>0.120213</td>\n      <td>75.908387</td>\n      <td>100</td>\n      <td>0.780442</td>\n    </tr>\n    <tr>\n      <th>20</th>\n      <td>0.769265</td>\n      <td>0.115128</td>\n      <td>75.905338</td>\n      <td>100</td>\n      <td>0.781037</td>\n    </tr>\n    <tr>\n      <th>5</th>\n      <td>0.765265</td>\n      <td>0.118121</td>\n      <td>75.830338</td>\n      <td>100</td>\n      <td>0.779117</td>\n    </tr>\n  </tbody>\n</table>\n</div>"
     },
     "execution_count": 179,
     "metadata": {},
     "output_type": "execute_result"
    }
   ],
   "source": [
    "# loading Random Forest Classifier\n",
    "df_Forest = calculate_metrics(\"outputs/output RandomForestClassifier.json\")\n",
    "df_Forest = df_Forest.sort_values(by = [\"rec_mean\", \"rec_std\", \"auc_mean\", \"drop_columns\", 'f1_mean'], ascending = False)\n",
    "df_Forest[[\"rec_mean\", \"rec_std\", \"auc_mean\", \"drop_columns\", 'f1_mean']].head(20)"
   ]
  },
  {
   "cell_type": "code",
   "execution_count": 180,
   "id": "ca36a430",
   "metadata": {},
   "outputs": [
    {
     "data": {
      "text/plain": "scaler                             str\nestimator       RandomForestClassifier\nimputer                  SimpleImputer\nsampler                            str\nauc_mean                     78.409383\nauc_confl                    78.349166\nauc_confu                      78.4696\ntype2                               77\nf1_mean                       0.818713\nf1_confl                      0.785005\nf1_confu                      0.852422\ndrop_columns                       100\npre_mean                      0.813039\nrec_mean                      0.844163\nName: 18, dtype: object"
     },
     "execution_count": 180,
     "metadata": {},
     "output_type": "execute_result"
    }
   ],
   "source": [
    "Forest = df_Forest.loc[18]\n",
    "Forest[[\"scaler\", \"estimator\", \"imputer\", \"sampler\", \"auc_mean\", \"auc_confl\", \"auc_confu\", \"type2\", \"f1_mean\", \"f1_confl\", \"f1_confu\", \"drop_columns\", \"pre_mean\", \"rec_mean\"]]"
   ]
  },
  {
   "cell_type": "code",
   "execution_count": 181,
   "id": "66a94412",
   "metadata": {},
   "outputs": [
    {
     "data": {
      "text/plain": "    rec_mean   rec_std   auc_mean  drop_columns   f1_mean            scaler\n16  0.852245  0.062390  76.703708             0  0.808715               str\n13  0.852245  0.062390  76.703708             0  0.808715    StandardScaler\n10  0.852245  0.062390  76.703708             0  0.808715      RobustScaler\n7   0.852245  0.062390  76.703708             0  0.808715  PowerTransformer\n3   0.852245  0.062390  76.703708             0  0.808715      MinMaxScaler\n0   0.852245  0.062390  76.703708             0  0.808715      MaxAbsScaler\n6   0.836204  0.072749  75.907765             0  0.799131        Normalizer\n17  0.797755  0.092605  74.229219             0  0.776856               str\n14  0.797755  0.092605  74.229219             0  0.776856    StandardScaler\n11  0.797755  0.092605  74.229219             0  0.776856      RobustScaler\n4   0.797755  0.092605  74.229219             0  0.776856      MinMaxScaler\n1   0.797755  0.092605  74.229219             0  0.776856      MaxAbsScaler\n19  0.791755  0.084576  73.935316             0  0.773559        Normalizer\n20  0.789755  0.084594  74.710316             0  0.777824        Normalizer\n18  0.787673  0.078121  74.731234             0  0.777100               str\n15  0.787673  0.078121  74.731234             0  0.777100    StandardScaler\n12  0.787673  0.078121  74.731234             0  0.777100      RobustScaler\n9   0.787673  0.078121  74.731234             0  0.777100  PowerTransformer\n5   0.787673  0.078121  74.731234             0  0.777100      MinMaxScaler\n2   0.787673  0.078121  74.731234             0  0.777100      MaxAbsScaler",
      "text/html": "<div>\n<style scoped>\n    .dataframe tbody tr th:only-of-type {\n        vertical-align: middle;\n    }\n\n    .dataframe tbody tr th {\n        vertical-align: top;\n    }\n\n    .dataframe thead th {\n        text-align: right;\n    }\n</style>\n<table border=\"1\" class=\"dataframe\">\n  <thead>\n    <tr style=\"text-align: right;\">\n      <th></th>\n      <th>rec_mean</th>\n      <th>rec_std</th>\n      <th>auc_mean</th>\n      <th>drop_columns</th>\n      <th>f1_mean</th>\n      <th>scaler</th>\n    </tr>\n  </thead>\n  <tbody>\n    <tr>\n      <th>16</th>\n      <td>0.852245</td>\n      <td>0.062390</td>\n      <td>76.703708</td>\n      <td>0</td>\n      <td>0.808715</td>\n      <td>str</td>\n    </tr>\n    <tr>\n      <th>13</th>\n      <td>0.852245</td>\n      <td>0.062390</td>\n      <td>76.703708</td>\n      <td>0</td>\n      <td>0.808715</td>\n      <td>StandardScaler</td>\n    </tr>\n    <tr>\n      <th>10</th>\n      <td>0.852245</td>\n      <td>0.062390</td>\n      <td>76.703708</td>\n      <td>0</td>\n      <td>0.808715</td>\n      <td>RobustScaler</td>\n    </tr>\n    <tr>\n      <th>7</th>\n      <td>0.852245</td>\n      <td>0.062390</td>\n      <td>76.703708</td>\n      <td>0</td>\n      <td>0.808715</td>\n      <td>PowerTransformer</td>\n    </tr>\n    <tr>\n      <th>3</th>\n      <td>0.852245</td>\n      <td>0.062390</td>\n      <td>76.703708</td>\n      <td>0</td>\n      <td>0.808715</td>\n      <td>MinMaxScaler</td>\n    </tr>\n    <tr>\n      <th>0</th>\n      <td>0.852245</td>\n      <td>0.062390</td>\n      <td>76.703708</td>\n      <td>0</td>\n      <td>0.808715</td>\n      <td>MaxAbsScaler</td>\n    </tr>\n    <tr>\n      <th>6</th>\n      <td>0.836204</td>\n      <td>0.072749</td>\n      <td>75.907765</td>\n      <td>0</td>\n      <td>0.799131</td>\n      <td>Normalizer</td>\n    </tr>\n    <tr>\n      <th>17</th>\n      <td>0.797755</td>\n      <td>0.092605</td>\n      <td>74.229219</td>\n      <td>0</td>\n      <td>0.776856</td>\n      <td>str</td>\n    </tr>\n    <tr>\n      <th>14</th>\n      <td>0.797755</td>\n      <td>0.092605</td>\n      <td>74.229219</td>\n      <td>0</td>\n      <td>0.776856</td>\n      <td>StandardScaler</td>\n    </tr>\n    <tr>\n      <th>11</th>\n      <td>0.797755</td>\n      <td>0.092605</td>\n      <td>74.229219</td>\n      <td>0</td>\n      <td>0.776856</td>\n      <td>RobustScaler</td>\n    </tr>\n    <tr>\n      <th>4</th>\n      <td>0.797755</td>\n      <td>0.092605</td>\n      <td>74.229219</td>\n      <td>0</td>\n      <td>0.776856</td>\n      <td>MinMaxScaler</td>\n    </tr>\n    <tr>\n      <th>1</th>\n      <td>0.797755</td>\n      <td>0.092605</td>\n      <td>74.229219</td>\n      <td>0</td>\n      <td>0.776856</td>\n      <td>MaxAbsScaler</td>\n    </tr>\n    <tr>\n      <th>19</th>\n      <td>0.791755</td>\n      <td>0.084576</td>\n      <td>73.935316</td>\n      <td>0</td>\n      <td>0.773559</td>\n      <td>Normalizer</td>\n    </tr>\n    <tr>\n      <th>20</th>\n      <td>0.789755</td>\n      <td>0.084594</td>\n      <td>74.710316</td>\n      <td>0</td>\n      <td>0.777824</td>\n      <td>Normalizer</td>\n    </tr>\n    <tr>\n      <th>18</th>\n      <td>0.787673</td>\n      <td>0.078121</td>\n      <td>74.731234</td>\n      <td>0</td>\n      <td>0.777100</td>\n      <td>str</td>\n    </tr>\n    <tr>\n      <th>15</th>\n      <td>0.787673</td>\n      <td>0.078121</td>\n      <td>74.731234</td>\n      <td>0</td>\n      <td>0.777100</td>\n      <td>StandardScaler</td>\n    </tr>\n    <tr>\n      <th>12</th>\n      <td>0.787673</td>\n      <td>0.078121</td>\n      <td>74.731234</td>\n      <td>0</td>\n      <td>0.777100</td>\n      <td>RobustScaler</td>\n    </tr>\n    <tr>\n      <th>9</th>\n      <td>0.787673</td>\n      <td>0.078121</td>\n      <td>74.731234</td>\n      <td>0</td>\n      <td>0.777100</td>\n      <td>PowerTransformer</td>\n    </tr>\n    <tr>\n      <th>5</th>\n      <td>0.787673</td>\n      <td>0.078121</td>\n      <td>74.731234</td>\n      <td>0</td>\n      <td>0.777100</td>\n      <td>MinMaxScaler</td>\n    </tr>\n    <tr>\n      <th>2</th>\n      <td>0.787673</td>\n      <td>0.078121</td>\n      <td>74.731234</td>\n      <td>0</td>\n      <td>0.777100</td>\n      <td>MaxAbsScaler</td>\n    </tr>\n  </tbody>\n</table>\n</div>"
     },
     "execution_count": 181,
     "metadata": {},
     "output_type": "execute_result"
    }
   ],
   "source": [
    "# loading Decision Tree Classifier\n",
    "df_Tree = calculate_metrics(\"outputs/output DecisionTrees.json\")\n",
    "df_Tree = df_Tree.sort_values(by = [\"rec_mean\", \"rec_std\", \"auc_mean\", \"drop_columns\", 'f1_mean', 'scaler'], ascending = False)\n",
    "df_Tree[[\"rec_mean\", \"rec_std\", \"auc_mean\", \"drop_columns\", 'f1_mean','scaler']].head(20)"
   ]
  },
  {
   "cell_type": "code",
   "execution_count": 182,
   "id": "2bbae235",
   "metadata": {},
   "outputs": [
    {
     "data": {
      "text/plain": "scaler                             str\nestimator       DecisionTreeClassifier\nimputer                  SimpleImputer\nsampler                            str\nauc_mean                     76.703708\nauc_confl                    76.666607\nauc_confu                     76.74081\ntype2                               73\nf1_mean                       0.808715\nf1_confl                      0.788895\nf1_confu                      0.828535\ndrop_columns                         0\npre_mean                      0.778788\nrec_mean                      0.852245\nName: 16, dtype: object"
     },
     "execution_count": 182,
     "metadata": {},
     "output_type": "execute_result"
    }
   ],
   "source": [
    "Tree = df_Tree.loc[16]\n",
    "Tree[[\"scaler\", \"estimator\", \"imputer\", \"sampler\", \"auc_mean\", \"auc_confl\", \"auc_confu\", \"type2\", \"f1_mean\", \"f1_confl\", \"f1_confu\", \"drop_columns\", \"pre_mean\", \"rec_mean\"]]"
   ]
  },
  {
   "cell_type": "code",
   "execution_count": 183,
   "id": "26ecfdd7",
   "metadata": {},
   "outputs": [],
   "source": [
    "# Tree.to_excel(r'DTree.xlsx', index=False)"
   ]
  },
  {
   "cell_type": "code",
   "execution_count": 184,
   "id": "11bba66a",
   "metadata": {},
   "outputs": [
    {
     "data": {
      "text/plain": "    rec_mean   rec_std   auc_mean  drop_columns   f1_mean\n9   0.813510  0.113184  77.870632          20.0  0.804905\n0   0.809633  0.088110  77.935901          20.0  0.804629\n3   0.801469  0.095761  77.527738          20.0  0.799262\n17  0.795469  0.088218  79.468591          20.0  0.810375\n15  0.789388  0.101353  77.173656          20.0  0.793365\n6   0.785020  0.140378  76.793703          60.0  0.787453\n16  0.777184  0.101452  78.051257          20.0  0.795842\n10  0.775469  0.105006  76.849689          20.0  0.787600\n2   0.771388  0.090258  78.508412         100.0  0.797818\n1   0.771184  0.101451  77.007354          20.0  0.787595\n4   0.769306  0.087786  77.907379          20.0  0.793703\n11  0.769265  0.120055  77.283387          75.0  0.786965\n5   0.730653  0.124599  77.206434          75.0  0.773158\n8   0.720612  0.155137  76.439149          20.0  0.763034\n7   0.702612  0.142642  75.542198          20.0  0.752178\n12       NaN       NaN        NaN           NaN       NaN\n13       NaN       NaN        NaN           NaN       NaN\n14       NaN       NaN        NaN           NaN       NaN\n18       NaN       NaN        NaN           NaN       NaN\n19       NaN       NaN        NaN           NaN       NaN",
      "text/html": "<div>\n<style scoped>\n    .dataframe tbody tr th:only-of-type {\n        vertical-align: middle;\n    }\n\n    .dataframe tbody tr th {\n        vertical-align: top;\n    }\n\n    .dataframe thead th {\n        text-align: right;\n    }\n</style>\n<table border=\"1\" class=\"dataframe\">\n  <thead>\n    <tr style=\"text-align: right;\">\n      <th></th>\n      <th>rec_mean</th>\n      <th>rec_std</th>\n      <th>auc_mean</th>\n      <th>drop_columns</th>\n      <th>f1_mean</th>\n    </tr>\n  </thead>\n  <tbody>\n    <tr>\n      <th>9</th>\n      <td>0.813510</td>\n      <td>0.113184</td>\n      <td>77.870632</td>\n      <td>20.0</td>\n      <td>0.804905</td>\n    </tr>\n    <tr>\n      <th>0</th>\n      <td>0.809633</td>\n      <td>0.088110</td>\n      <td>77.935901</td>\n      <td>20.0</td>\n      <td>0.804629</td>\n    </tr>\n    <tr>\n      <th>3</th>\n      <td>0.801469</td>\n      <td>0.095761</td>\n      <td>77.527738</td>\n      <td>20.0</td>\n      <td>0.799262</td>\n    </tr>\n    <tr>\n      <th>17</th>\n      <td>0.795469</td>\n      <td>0.088218</td>\n      <td>79.468591</td>\n      <td>20.0</td>\n      <td>0.810375</td>\n    </tr>\n    <tr>\n      <th>15</th>\n      <td>0.789388</td>\n      <td>0.101353</td>\n      <td>77.173656</td>\n      <td>20.0</td>\n      <td>0.793365</td>\n    </tr>\n    <tr>\n      <th>6</th>\n      <td>0.785020</td>\n      <td>0.140378</td>\n      <td>76.793703</td>\n      <td>60.0</td>\n      <td>0.787453</td>\n    </tr>\n    <tr>\n      <th>16</th>\n      <td>0.777184</td>\n      <td>0.101452</td>\n      <td>78.051257</td>\n      <td>20.0</td>\n      <td>0.795842</td>\n    </tr>\n    <tr>\n      <th>10</th>\n      <td>0.775469</td>\n      <td>0.105006</td>\n      <td>76.849689</td>\n      <td>20.0</td>\n      <td>0.787600</td>\n    </tr>\n    <tr>\n      <th>2</th>\n      <td>0.771388</td>\n      <td>0.090258</td>\n      <td>78.508412</td>\n      <td>100.0</td>\n      <td>0.797818</td>\n    </tr>\n    <tr>\n      <th>1</th>\n      <td>0.771184</td>\n      <td>0.101451</td>\n      <td>77.007354</td>\n      <td>20.0</td>\n      <td>0.787595</td>\n    </tr>\n    <tr>\n      <th>4</th>\n      <td>0.769306</td>\n      <td>0.087786</td>\n      <td>77.907379</td>\n      <td>20.0</td>\n      <td>0.793703</td>\n    </tr>\n    <tr>\n      <th>11</th>\n      <td>0.769265</td>\n      <td>0.120055</td>\n      <td>77.283387</td>\n      <td>75.0</td>\n      <td>0.786965</td>\n    </tr>\n    <tr>\n      <th>5</th>\n      <td>0.730653</td>\n      <td>0.124599</td>\n      <td>77.206434</td>\n      <td>75.0</td>\n      <td>0.773158</td>\n    </tr>\n    <tr>\n      <th>8</th>\n      <td>0.720612</td>\n      <td>0.155137</td>\n      <td>76.439149</td>\n      <td>20.0</td>\n      <td>0.763034</td>\n    </tr>\n    <tr>\n      <th>7</th>\n      <td>0.702612</td>\n      <td>0.142642</td>\n      <td>75.542198</td>\n      <td>20.0</td>\n      <td>0.752178</td>\n    </tr>\n    <tr>\n      <th>12</th>\n      <td>NaN</td>\n      <td>NaN</td>\n      <td>NaN</td>\n      <td>NaN</td>\n      <td>NaN</td>\n    </tr>\n    <tr>\n      <th>13</th>\n      <td>NaN</td>\n      <td>NaN</td>\n      <td>NaN</td>\n      <td>NaN</td>\n      <td>NaN</td>\n    </tr>\n    <tr>\n      <th>14</th>\n      <td>NaN</td>\n      <td>NaN</td>\n      <td>NaN</td>\n      <td>NaN</td>\n      <td>NaN</td>\n    </tr>\n    <tr>\n      <th>18</th>\n      <td>NaN</td>\n      <td>NaN</td>\n      <td>NaN</td>\n      <td>NaN</td>\n      <td>NaN</td>\n    </tr>\n    <tr>\n      <th>19</th>\n      <td>NaN</td>\n      <td>NaN</td>\n      <td>NaN</td>\n      <td>NaN</td>\n      <td>NaN</td>\n    </tr>\n  </tbody>\n</table>\n</div>"
     },
     "execution_count": 184,
     "metadata": {},
     "output_type": "execute_result"
    }
   ],
   "source": [
    "# loading SVC\n",
    "df_SVC = calculate_metrics(\"outputs/output SVC.json\")\n",
    "df_SVC = df_SVC.sort_values(by = [\"rec_mean\", \"rec_std\", \"auc_mean\", \"drop_columns\", 'f1_mean'], ascending = False)\n",
    "df_SVC[[\"rec_mean\", \"rec_std\", \"auc_mean\", \"drop_columns\", 'f1_mean']].head(20)"
   ]
  },
  {
   "cell_type": "code",
   "execution_count": 185,
   "id": "213a7155",
   "metadata": {},
   "outputs": [
    {
     "data": {
      "text/plain": "scaler          PowerTransformer\nestimator                    SVC\nimputer            SimpleImputer\nsampler                      str\nauc_mean               77.870632\nauc_confl              77.818455\nauc_confu              77.922809\ntype2                       92.0\nf1_mean                 0.804905\nf1_confl                0.767937\nf1_confu                0.841873\ndrop_columns                20.0\npre_mean                0.817674\nrec_mean                 0.81351\nName: 9, dtype: object"
     },
     "execution_count": 185,
     "metadata": {},
     "output_type": "execute_result"
    }
   ],
   "source": [
    "SVC = df_SVC.loc[9]\n",
    "SVC[[\"scaler\", \"estimator\", \"imputer\", \"sampler\", \"auc_mean\", \"auc_confl\", \"auc_confu\", \"type2\", \"f1_mean\", \"f1_confl\", \"f1_confu\", \"drop_columns\", \"pre_mean\", \"rec_mean\"]]"
   ]
  },
  {
   "cell_type": "code",
   "execution_count": 186,
   "id": "2c2b2fc0",
   "metadata": {},
   "outputs": [
    {
     "data": {
      "text/plain": "    rec_mean   rec_std   auc_mean  drop_columns   f1_mean\n3   0.795714  0.088000  76.230836             8  0.790790\n0   0.793388  0.105220  76.840119            20  0.794019\n6   0.793388  0.105220  76.840119            20  0.794019\n18  0.793388  0.105220  76.840119            20  0.794019\n9   0.779265  0.126946  77.518143            35  0.793420\n4   0.775429  0.083407  76.579355             8  0.787495\n15  0.775143  0.090321  79.068118             8  0.801905\n10  0.769184  0.130019  77.389062            35  0.789491\n11  0.769102  0.134596  77.384980            35  0.789022\n5   0.767429  0.080123  76.179355             8  0.782852\n16  0.767102  0.086516  78.913029             8  0.798781\n12  0.764735  0.164446  76.922710            60  0.780068\n1   0.759184  0.099865  75.379915            20  0.774245\n7   0.759184  0.099865  75.379915            20  0.774245\n19  0.759184  0.099865  75.379915            20  0.774245\n2   0.759061  0.114080  76.120744            20  0.778027\n8   0.759061  0.114080  76.120744            20  0.778027\n20  0.759061  0.114080  76.120744            20  0.778027\n17  0.759020  0.092632  78.758947             8  0.795088\n13  0.750531  0.173835  76.084457            60  0.769338",
      "text/html": "<div>\n<style scoped>\n    .dataframe tbody tr th:only-of-type {\n        vertical-align: middle;\n    }\n\n    .dataframe tbody tr th {\n        vertical-align: top;\n    }\n\n    .dataframe thead th {\n        text-align: right;\n    }\n</style>\n<table border=\"1\" class=\"dataframe\">\n  <thead>\n    <tr style=\"text-align: right;\">\n      <th></th>\n      <th>rec_mean</th>\n      <th>rec_std</th>\n      <th>auc_mean</th>\n      <th>drop_columns</th>\n      <th>f1_mean</th>\n    </tr>\n  </thead>\n  <tbody>\n    <tr>\n      <th>3</th>\n      <td>0.795714</td>\n      <td>0.088000</td>\n      <td>76.230836</td>\n      <td>8</td>\n      <td>0.790790</td>\n    </tr>\n    <tr>\n      <th>0</th>\n      <td>0.793388</td>\n      <td>0.105220</td>\n      <td>76.840119</td>\n      <td>20</td>\n      <td>0.794019</td>\n    </tr>\n    <tr>\n      <th>6</th>\n      <td>0.793388</td>\n      <td>0.105220</td>\n      <td>76.840119</td>\n      <td>20</td>\n      <td>0.794019</td>\n    </tr>\n    <tr>\n      <th>18</th>\n      <td>0.793388</td>\n      <td>0.105220</td>\n      <td>76.840119</td>\n      <td>20</td>\n      <td>0.794019</td>\n    </tr>\n    <tr>\n      <th>9</th>\n      <td>0.779265</td>\n      <td>0.126946</td>\n      <td>77.518143</td>\n      <td>35</td>\n      <td>0.793420</td>\n    </tr>\n    <tr>\n      <th>4</th>\n      <td>0.775429</td>\n      <td>0.083407</td>\n      <td>76.579355</td>\n      <td>8</td>\n      <td>0.787495</td>\n    </tr>\n    <tr>\n      <th>15</th>\n      <td>0.775143</td>\n      <td>0.090321</td>\n      <td>79.068118</td>\n      <td>8</td>\n      <td>0.801905</td>\n    </tr>\n    <tr>\n      <th>10</th>\n      <td>0.769184</td>\n      <td>0.130019</td>\n      <td>77.389062</td>\n      <td>35</td>\n      <td>0.789491</td>\n    </tr>\n    <tr>\n      <th>11</th>\n      <td>0.769102</td>\n      <td>0.134596</td>\n      <td>77.384980</td>\n      <td>35</td>\n      <td>0.789022</td>\n    </tr>\n    <tr>\n      <th>5</th>\n      <td>0.767429</td>\n      <td>0.080123</td>\n      <td>76.179355</td>\n      <td>8</td>\n      <td>0.782852</td>\n    </tr>\n    <tr>\n      <th>16</th>\n      <td>0.767102</td>\n      <td>0.086516</td>\n      <td>78.913029</td>\n      <td>8</td>\n      <td>0.798781</td>\n    </tr>\n    <tr>\n      <th>12</th>\n      <td>0.764735</td>\n      <td>0.164446</td>\n      <td>76.922710</td>\n      <td>60</td>\n      <td>0.780068</td>\n    </tr>\n    <tr>\n      <th>1</th>\n      <td>0.759184</td>\n      <td>0.099865</td>\n      <td>75.379915</td>\n      <td>20</td>\n      <td>0.774245</td>\n    </tr>\n    <tr>\n      <th>7</th>\n      <td>0.759184</td>\n      <td>0.099865</td>\n      <td>75.379915</td>\n      <td>20</td>\n      <td>0.774245</td>\n    </tr>\n    <tr>\n      <th>19</th>\n      <td>0.759184</td>\n      <td>0.099865</td>\n      <td>75.379915</td>\n      <td>20</td>\n      <td>0.774245</td>\n    </tr>\n    <tr>\n      <th>2</th>\n      <td>0.759061</td>\n      <td>0.114080</td>\n      <td>76.120744</td>\n      <td>20</td>\n      <td>0.778027</td>\n    </tr>\n    <tr>\n      <th>8</th>\n      <td>0.759061</td>\n      <td>0.114080</td>\n      <td>76.120744</td>\n      <td>20</td>\n      <td>0.778027</td>\n    </tr>\n    <tr>\n      <th>20</th>\n      <td>0.759061</td>\n      <td>0.114080</td>\n      <td>76.120744</td>\n      <td>20</td>\n      <td>0.778027</td>\n    </tr>\n    <tr>\n      <th>17</th>\n      <td>0.759020</td>\n      <td>0.092632</td>\n      <td>78.758947</td>\n      <td>8</td>\n      <td>0.795088</td>\n    </tr>\n    <tr>\n      <th>13</th>\n      <td>0.750531</td>\n      <td>0.173835</td>\n      <td>76.084457</td>\n      <td>60</td>\n      <td>0.769338</td>\n    </tr>\n  </tbody>\n</table>\n</div>"
     },
     "execution_count": 186,
     "metadata": {},
     "output_type": "execute_result"
    }
   ],
   "source": [
    "# loading naïve bayes (bernoulli)\n",
    "df_bernoulli = calculate_metrics(\"outputs/output BernoulliNB.json\")\n",
    "df_bernoulli = df_bernoulli.sort_values(by = [\"rec_mean\", \"rec_std\", \"auc_mean\", \"drop_columns\", 'f1_mean'], ascending = False)\n",
    "df_bernoulli[[\"rec_mean\", \"rec_std\", \"auc_mean\", \"drop_columns\", 'f1_mean']].head(20)"
   ]
  },
  {
   "cell_type": "code",
   "execution_count": 187,
   "id": "58b80725",
   "metadata": {},
   "outputs": [
    {
     "data": {
      "text/plain": "scaler           MinMaxScaler\nestimator         BernoulliNB\nimputer         SimpleImputer\nsampler                   str\nauc_mean            76.230836\nauc_confl           76.182989\nauc_confu           76.278684\ntype2                     101\nf1_mean               0.79079\nf1_confl             0.764525\nf1_confu             0.817056\ndrop_columns                8\npre_mean             0.803848\nrec_mean             0.795714\nName: 3, dtype: object"
     },
     "execution_count": 187,
     "metadata": {},
     "output_type": "execute_result"
    }
   ],
   "source": [
    "bernoulli = df_bernoulli.loc[3]\n",
    "bernoulli[[\"scaler\", \"estimator\", \"imputer\", \"sampler\", \"auc_mean\", \"auc_confl\", \"auc_confu\", \"type2\", \"f1_mean\", \"f1_confl\", \"f1_confu\", \"drop_columns\", \"pre_mean\", \"rec_mean\"]]"
   ]
  },
  {
   "cell_type": "code",
   "execution_count": 188,
   "id": "58649a95",
   "metadata": {},
   "outputs": [],
   "source": [
    "# naïve bayes (categorical) is skipped because no model could be trained successfully "
   ]
  },
  {
   "cell_type": "code",
   "execution_count": 189,
   "id": "80699449",
   "metadata": {},
   "outputs": [
    {
     "data": {
      "text/plain": "   rec_mean   rec_std   auc_mean  drop_columns   f1_mean\n3  0.842408  0.032214  77.483213         100.0  0.811631\n5  0.771388  0.053464  76.538900         100.0  0.785140\n4  0.771388  0.053464  76.416949         100.0  0.784579\n0       NaN       NaN        NaN           NaN       NaN\n1       NaN       NaN        NaN           NaN       NaN\n2       NaN       NaN        NaN           NaN       NaN\n6       NaN       NaN        NaN           NaN       NaN",
      "text/html": "<div>\n<style scoped>\n    .dataframe tbody tr th:only-of-type {\n        vertical-align: middle;\n    }\n\n    .dataframe tbody tr th {\n        vertical-align: top;\n    }\n\n    .dataframe thead th {\n        text-align: right;\n    }\n</style>\n<table border=\"1\" class=\"dataframe\">\n  <thead>\n    <tr style=\"text-align: right;\">\n      <th></th>\n      <th>rec_mean</th>\n      <th>rec_std</th>\n      <th>auc_mean</th>\n      <th>drop_columns</th>\n      <th>f1_mean</th>\n    </tr>\n  </thead>\n  <tbody>\n    <tr>\n      <th>3</th>\n      <td>0.842408</td>\n      <td>0.032214</td>\n      <td>77.483213</td>\n      <td>100.0</td>\n      <td>0.811631</td>\n    </tr>\n    <tr>\n      <th>5</th>\n      <td>0.771388</td>\n      <td>0.053464</td>\n      <td>76.538900</td>\n      <td>100.0</td>\n      <td>0.785140</td>\n    </tr>\n    <tr>\n      <th>4</th>\n      <td>0.771388</td>\n      <td>0.053464</td>\n      <td>76.416949</td>\n      <td>100.0</td>\n      <td>0.784579</td>\n    </tr>\n    <tr>\n      <th>0</th>\n      <td>NaN</td>\n      <td>NaN</td>\n      <td>NaN</td>\n      <td>NaN</td>\n      <td>NaN</td>\n    </tr>\n    <tr>\n      <th>1</th>\n      <td>NaN</td>\n      <td>NaN</td>\n      <td>NaN</td>\n      <td>NaN</td>\n      <td>NaN</td>\n    </tr>\n    <tr>\n      <th>2</th>\n      <td>NaN</td>\n      <td>NaN</td>\n      <td>NaN</td>\n      <td>NaN</td>\n      <td>NaN</td>\n    </tr>\n    <tr>\n      <th>6</th>\n      <td>NaN</td>\n      <td>NaN</td>\n      <td>NaN</td>\n      <td>NaN</td>\n      <td>NaN</td>\n    </tr>\n  </tbody>\n</table>\n</div>"
     },
     "execution_count": 189,
     "metadata": {},
     "output_type": "execute_result"
    }
   ],
   "source": [
    "# loading naïve bayes (complement)\n",
    "df_complement = calculate_metrics(\"outputs/output CompleteNB.json\")\n",
    "df_complement = df_complement.sort_values(by = [\"rec_mean\", \"rec_std\", \"auc_mean\", \"drop_columns\", 'f1_mean'], ascending = False)\n",
    "df_complement[[\"rec_mean\", \"rec_std\", \"auc_mean\", \"drop_columns\", 'f1_mean']].head(7)"
   ]
  },
  {
   "cell_type": "code",
   "execution_count": 190,
   "id": "9c242b21",
   "metadata": {},
   "outputs": [
    {
     "data": {
      "text/plain": "scaler           MinMaxScaler\nestimator        ComplementNB\nimputer         SimpleImputer\nsampler                   str\nauc_mean            77.483213\nauc_confl           77.439309\nauc_confu           77.527117\ntype2                    78.0\nf1_mean              0.811631\nf1_confl             0.783947\nf1_confu             0.839315\ndrop_columns            100.0\npre_mean             0.787182\nrec_mean             0.842408\nName: 3, dtype: object"
     },
     "execution_count": 190,
     "metadata": {},
     "output_type": "execute_result"
    }
   ],
   "source": [
    "complement = df_complement.loc[3]\n",
    "complement[[\"scaler\", \"estimator\", \"imputer\", \"sampler\", \"auc_mean\", \"auc_confl\", \"auc_confu\", \"type2\", \"f1_mean\", \"f1_confl\", \"f1_confu\", \"drop_columns\", \"pre_mean\", \"rec_mean\"]]"
   ]
  },
  {
   "cell_type": "code",
   "execution_count": 191,
   "id": "d6fb733c",
   "metadata": {},
   "outputs": [
    {
     "data": {
      "text/plain": "    rec_mean   rec_std   auc_mean  drop_columns   f1_mean\n6   0.528735  0.126961  70.455027            20  0.642916\n18  0.526408  0.124253  70.835652            20  0.645028\n7   0.522612  0.125380  70.526954            20  0.640321\n19  0.514286  0.126286  70.232578            20  0.633862\n8   0.512408  0.129901  69.888701            20  0.629968\n20  0.510245  0.131807  70.027489            20  0.629638\n12  0.373020  0.127526  65.163216            20  0.508464\n14  0.362980  0.128042  64.783126            20  0.498257\n13  0.356857  0.126501  64.605052            20  0.492803\n0   0.284041  0.113199  61.711187            20  0.415911\n3   0.284041  0.113199  61.711187            20  0.415911\n1   0.267878  0.113091  61.153024            20  0.397531\n4   0.267878  0.113091  61.153024            20  0.397531\n2   0.263878  0.116330  61.078024            20  0.392198\n5   0.263878  0.116330  61.078024            20  0.392198\n9   0.235796  0.207960  57.920893             8  0.317420\n11  0.221755  0.202839  57.593853            35  0.301960\n10  0.183469  0.194375  55.429567             8  0.248650\n15  0.183020  0.112409  57.657118            20  0.287892\n17  0.177020  0.110961  57.482118            20  0.279914",
      "text/html": "<div>\n<style scoped>\n    .dataframe tbody tr th:only-of-type {\n        vertical-align: middle;\n    }\n\n    .dataframe tbody tr th {\n        vertical-align: top;\n    }\n\n    .dataframe thead th {\n        text-align: right;\n    }\n</style>\n<table border=\"1\" class=\"dataframe\">\n  <thead>\n    <tr style=\"text-align: right;\">\n      <th></th>\n      <th>rec_mean</th>\n      <th>rec_std</th>\n      <th>auc_mean</th>\n      <th>drop_columns</th>\n      <th>f1_mean</th>\n    </tr>\n  </thead>\n  <tbody>\n    <tr>\n      <th>6</th>\n      <td>0.528735</td>\n      <td>0.126961</td>\n      <td>70.455027</td>\n      <td>20</td>\n      <td>0.642916</td>\n    </tr>\n    <tr>\n      <th>18</th>\n      <td>0.526408</td>\n      <td>0.124253</td>\n      <td>70.835652</td>\n      <td>20</td>\n      <td>0.645028</td>\n    </tr>\n    <tr>\n      <th>7</th>\n      <td>0.522612</td>\n      <td>0.125380</td>\n      <td>70.526954</td>\n      <td>20</td>\n      <td>0.640321</td>\n    </tr>\n    <tr>\n      <th>19</th>\n      <td>0.514286</td>\n      <td>0.126286</td>\n      <td>70.232578</td>\n      <td>20</td>\n      <td>0.633862</td>\n    </tr>\n    <tr>\n      <th>8</th>\n      <td>0.512408</td>\n      <td>0.129901</td>\n      <td>69.888701</td>\n      <td>20</td>\n      <td>0.629968</td>\n    </tr>\n    <tr>\n      <th>20</th>\n      <td>0.510245</td>\n      <td>0.131807</td>\n      <td>70.027489</td>\n      <td>20</td>\n      <td>0.629638</td>\n    </tr>\n    <tr>\n      <th>12</th>\n      <td>0.373020</td>\n      <td>0.127526</td>\n      <td>65.163216</td>\n      <td>20</td>\n      <td>0.508464</td>\n    </tr>\n    <tr>\n      <th>14</th>\n      <td>0.362980</td>\n      <td>0.128042</td>\n      <td>64.783126</td>\n      <td>20</td>\n      <td>0.498257</td>\n    </tr>\n    <tr>\n      <th>13</th>\n      <td>0.356857</td>\n      <td>0.126501</td>\n      <td>64.605052</td>\n      <td>20</td>\n      <td>0.492803</td>\n    </tr>\n    <tr>\n      <th>0</th>\n      <td>0.284041</td>\n      <td>0.113199</td>\n      <td>61.711187</td>\n      <td>20</td>\n      <td>0.415911</td>\n    </tr>\n    <tr>\n      <th>3</th>\n      <td>0.284041</td>\n      <td>0.113199</td>\n      <td>61.711187</td>\n      <td>20</td>\n      <td>0.415911</td>\n    </tr>\n    <tr>\n      <th>1</th>\n      <td>0.267878</td>\n      <td>0.113091</td>\n      <td>61.153024</td>\n      <td>20</td>\n      <td>0.397531</td>\n    </tr>\n    <tr>\n      <th>4</th>\n      <td>0.267878</td>\n      <td>0.113091</td>\n      <td>61.153024</td>\n      <td>20</td>\n      <td>0.397531</td>\n    </tr>\n    <tr>\n      <th>2</th>\n      <td>0.263878</td>\n      <td>0.116330</td>\n      <td>61.078024</td>\n      <td>20</td>\n      <td>0.392198</td>\n    </tr>\n    <tr>\n      <th>5</th>\n      <td>0.263878</td>\n      <td>0.116330</td>\n      <td>61.078024</td>\n      <td>20</td>\n      <td>0.392198</td>\n    </tr>\n    <tr>\n      <th>9</th>\n      <td>0.235796</td>\n      <td>0.207960</td>\n      <td>57.920893</td>\n      <td>8</td>\n      <td>0.317420</td>\n    </tr>\n    <tr>\n      <th>11</th>\n      <td>0.221755</td>\n      <td>0.202839</td>\n      <td>57.593853</td>\n      <td>35</td>\n      <td>0.301960</td>\n    </tr>\n    <tr>\n      <th>10</th>\n      <td>0.183469</td>\n      <td>0.194375</td>\n      <td>55.429567</td>\n      <td>8</td>\n      <td>0.248650</td>\n    </tr>\n    <tr>\n      <th>15</th>\n      <td>0.183020</td>\n      <td>0.112409</td>\n      <td>57.657118</td>\n      <td>20</td>\n      <td>0.287892</td>\n    </tr>\n    <tr>\n      <th>17</th>\n      <td>0.177020</td>\n      <td>0.110961</td>\n      <td>57.482118</td>\n      <td>20</td>\n      <td>0.279914</td>\n    </tr>\n  </tbody>\n</table>\n</div>"
     },
     "execution_count": 191,
     "metadata": {},
     "output_type": "execute_result"
    }
   ],
   "source": [
    "# loading naïve bayes (gaussian)\n",
    "df_gaussian= calculate_metrics(\"outputs/output GaussianNB.json\")\n",
    "df_gaussian = df_gaussian.sort_values(by = [\"rec_mean\", \"rec_std\", \"auc_mean\", \"drop_columns\", 'f1_mean'], ascending = False)\n",
    "df_gaussian[[\"rec_mean\", \"rec_std\", \"auc_mean\", \"drop_columns\", 'f1_mean']].head(20)"
   ]
  },
  {
   "cell_type": "code",
   "execution_count": 192,
   "id": "046a6091",
   "metadata": {},
   "outputs": [
    {
     "data": {
      "text/plain": "scaler             Normalizer\nestimator          GaussianNB\nimputer         SimpleImputer\nsampler                   str\nauc_mean            70.455027\nauc_confl           70.417968\nauc_confu           70.492087\ntype2                     233\nf1_mean              0.642916\nf1_confl              0.58873\nf1_confu             0.697102\ndrop_columns               20\npre_mean             0.881112\nrec_mean             0.528735\nName: 6, dtype: object"
     },
     "execution_count": 192,
     "metadata": {},
     "output_type": "execute_result"
    }
   ],
   "source": [
    "gaussian = df_gaussian.loc[6]\n",
    "gaussian[[\"scaler\", \"estimator\", \"imputer\", \"sampler\", \"auc_mean\", \"auc_confl\", \"auc_confu\", \"type2\", \"f1_mean\", \"f1_confl\", \"f1_confu\", \"drop_columns\", \"pre_mean\", \"rec_mean\"]]"
   ]
  },
  {
   "cell_type": "code",
   "execution_count": 193,
   "id": "06ff1c61",
   "metadata": {},
   "outputs": [
    {
     "data": {
      "text/plain": "   rec_mean   rec_std   auc_mean  drop_columns   f1_mean\n3  0.799592  0.067888  76.461299         100.0  0.792041\n4  0.763306  0.054256  76.381770         100.0  0.782115\n5  0.761306  0.058305  76.281770         100.0  0.780389\n0       NaN       NaN        NaN           NaN       NaN\n1       NaN       NaN        NaN           NaN       NaN",
      "text/html": "<div>\n<style scoped>\n    .dataframe tbody tr th:only-of-type {\n        vertical-align: middle;\n    }\n\n    .dataframe tbody tr th {\n        vertical-align: top;\n    }\n\n    .dataframe thead th {\n        text-align: right;\n    }\n</style>\n<table border=\"1\" class=\"dataframe\">\n  <thead>\n    <tr style=\"text-align: right;\">\n      <th></th>\n      <th>rec_mean</th>\n      <th>rec_std</th>\n      <th>auc_mean</th>\n      <th>drop_columns</th>\n      <th>f1_mean</th>\n    </tr>\n  </thead>\n  <tbody>\n    <tr>\n      <th>3</th>\n      <td>0.799592</td>\n      <td>0.067888</td>\n      <td>76.461299</td>\n      <td>100.0</td>\n      <td>0.792041</td>\n    </tr>\n    <tr>\n      <th>4</th>\n      <td>0.763306</td>\n      <td>0.054256</td>\n      <td>76.381770</td>\n      <td>100.0</td>\n      <td>0.782115</td>\n    </tr>\n    <tr>\n      <th>5</th>\n      <td>0.761306</td>\n      <td>0.058305</td>\n      <td>76.281770</td>\n      <td>100.0</td>\n      <td>0.780389</td>\n    </tr>\n    <tr>\n      <th>0</th>\n      <td>NaN</td>\n      <td>NaN</td>\n      <td>NaN</td>\n      <td>NaN</td>\n      <td>NaN</td>\n    </tr>\n    <tr>\n      <th>1</th>\n      <td>NaN</td>\n      <td>NaN</td>\n      <td>NaN</td>\n      <td>NaN</td>\n      <td>NaN</td>\n    </tr>\n  </tbody>\n</table>\n</div>"
     },
     "execution_count": 193,
     "metadata": {},
     "output_type": "execute_result"
    }
   ],
   "source": [
    "# loading naïve bayes (multinomial)\n",
    "df_multinomial = calculate_metrics(\"outputs/output MultinomialNB.json\")\n",
    "df_multinomial = df_multinomial.sort_values(by = [\"rec_mean\", \"rec_std\", \"auc_mean\", \"drop_columns\", 'f1_mean'], ascending = False)\n",
    "df_multinomial[[\"rec_mean\", \"rec_std\", \"auc_mean\", \"drop_columns\", 'f1_mean']].head(5)"
   ]
  },
  {
   "cell_type": "code",
   "execution_count": 194,
   "id": "b7976884",
   "metadata": {},
   "outputs": [
    {
     "data": {
      "text/plain": "scaler           MinMaxScaler\nestimator       MultinomialNB\nimputer         SimpleImputer\nsampler                   str\nauc_mean            76.461299\nauc_confl           76.422843\nauc_confu           76.499755\ntype2                    99.0\nf1_mean              0.792041\nf1_confl             0.762598\nf1_confu             0.821484\ndrop_columns            100.0\npre_mean             0.791219\nrec_mean             0.799592\nName: 3, dtype: object"
     },
     "execution_count": 194,
     "metadata": {},
     "output_type": "execute_result"
    }
   ],
   "source": [
    "multinomial = df_multinomial.loc[3]\n",
    "multinomial[[\"scaler\", \"estimator\", \"imputer\", \"sampler\", \"auc_mean\", \"auc_confl\", \"auc_confu\", \"type2\", \"f1_mean\", \"f1_confl\", \"f1_confu\", \"drop_columns\", \"pre_mean\", \"rec_mean\"]]"
   ]
  },
  {
   "cell_type": "code",
   "execution_count": 195,
   "id": "1abf8371",
   "metadata": {},
   "outputs": [
    {
     "data": {
      "text/plain": "    rec_mean   rec_std   auc_mean  drop_columns   f1_mean\n6   0.848490  0.077311  76.028148             0  0.802571\n15  0.791551  0.087012  77.641575            20  0.797472\n3   0.791469  0.089943  77.893591            20  0.799550\n18  0.791388  0.097733  76.886461            20  0.792772\n0   0.791388  0.085821  77.139510            20  0.794461\n12  0.787429  0.090881  77.563502            35  0.795023\n9   0.781347  0.102803  75.881371            20  0.783720\n17  0.775265  0.108387  78.818143            20  0.799202\n7   0.769551  0.050236  76.431819             0  0.783671\n19  0.769143  0.096830  77.646167            20  0.791511\n14  0.769143  0.110674  78.633972            20  0.796251\n16  0.765265  0.098586  77.696192            20  0.789331\n2   0.765102  0.084573  78.319126            20  0.794106\n1   0.765061  0.096578  77.198183            20  0.786530\n8   0.761592  0.045173  76.283860             0  0.780485\n11  0.759224  0.109319  77.269151            20  0.783550\n4   0.758980  0.100058  77.141053            20  0.784318\n13  0.757020  0.093517  77.665045            20  0.787179\n20  0.756939  0.117277  77.523768            20  0.785775\n5   0.754980  0.089562  77.563004            20  0.785943",
      "text/html": "<div>\n<style scoped>\n    .dataframe tbody tr th:only-of-type {\n        vertical-align: middle;\n    }\n\n    .dataframe tbody tr th {\n        vertical-align: top;\n    }\n\n    .dataframe thead th {\n        text-align: right;\n    }\n</style>\n<table border=\"1\" class=\"dataframe\">\n  <thead>\n    <tr style=\"text-align: right;\">\n      <th></th>\n      <th>rec_mean</th>\n      <th>rec_std</th>\n      <th>auc_mean</th>\n      <th>drop_columns</th>\n      <th>f1_mean</th>\n    </tr>\n  </thead>\n  <tbody>\n    <tr>\n      <th>6</th>\n      <td>0.848490</td>\n      <td>0.077311</td>\n      <td>76.028148</td>\n      <td>0</td>\n      <td>0.802571</td>\n    </tr>\n    <tr>\n      <th>15</th>\n      <td>0.791551</td>\n      <td>0.087012</td>\n      <td>77.641575</td>\n      <td>20</td>\n      <td>0.797472</td>\n    </tr>\n    <tr>\n      <th>3</th>\n      <td>0.791469</td>\n      <td>0.089943</td>\n      <td>77.893591</td>\n      <td>20</td>\n      <td>0.799550</td>\n    </tr>\n    <tr>\n      <th>18</th>\n      <td>0.791388</td>\n      <td>0.097733</td>\n      <td>76.886461</td>\n      <td>20</td>\n      <td>0.792772</td>\n    </tr>\n    <tr>\n      <th>0</th>\n      <td>0.791388</td>\n      <td>0.085821</td>\n      <td>77.139510</td>\n      <td>20</td>\n      <td>0.794461</td>\n    </tr>\n    <tr>\n      <th>12</th>\n      <td>0.787429</td>\n      <td>0.090881</td>\n      <td>77.563502</td>\n      <td>35</td>\n      <td>0.795023</td>\n    </tr>\n    <tr>\n      <th>9</th>\n      <td>0.781347</td>\n      <td>0.102803</td>\n      <td>75.881371</td>\n      <td>20</td>\n      <td>0.783720</td>\n    </tr>\n    <tr>\n      <th>17</th>\n      <td>0.775265</td>\n      <td>0.108387</td>\n      <td>78.818143</td>\n      <td>20</td>\n      <td>0.799202</td>\n    </tr>\n    <tr>\n      <th>7</th>\n      <td>0.769551</td>\n      <td>0.050236</td>\n      <td>76.431819</td>\n      <td>0</td>\n      <td>0.783671</td>\n    </tr>\n    <tr>\n      <th>19</th>\n      <td>0.769143</td>\n      <td>0.096830</td>\n      <td>77.646167</td>\n      <td>20</td>\n      <td>0.791511</td>\n    </tr>\n    <tr>\n      <th>14</th>\n      <td>0.769143</td>\n      <td>0.110674</td>\n      <td>78.633972</td>\n      <td>20</td>\n      <td>0.796251</td>\n    </tr>\n    <tr>\n      <th>16</th>\n      <td>0.765265</td>\n      <td>0.098586</td>\n      <td>77.696192</td>\n      <td>20</td>\n      <td>0.789331</td>\n    </tr>\n    <tr>\n      <th>2</th>\n      <td>0.765102</td>\n      <td>0.084573</td>\n      <td>78.319126</td>\n      <td>20</td>\n      <td>0.794106</td>\n    </tr>\n    <tr>\n      <th>1</th>\n      <td>0.765061</td>\n      <td>0.096578</td>\n      <td>77.198183</td>\n      <td>20</td>\n      <td>0.786530</td>\n    </tr>\n    <tr>\n      <th>8</th>\n      <td>0.761592</td>\n      <td>0.045173</td>\n      <td>76.283860</td>\n      <td>0</td>\n      <td>0.780485</td>\n    </tr>\n    <tr>\n      <th>11</th>\n      <td>0.759224</td>\n      <td>0.109319</td>\n      <td>77.269151</td>\n      <td>20</td>\n      <td>0.783550</td>\n    </tr>\n    <tr>\n      <th>4</th>\n      <td>0.758980</td>\n      <td>0.100058</td>\n      <td>77.141053</td>\n      <td>20</td>\n      <td>0.784318</td>\n    </tr>\n    <tr>\n      <th>13</th>\n      <td>0.757020</td>\n      <td>0.093517</td>\n      <td>77.665045</td>\n      <td>20</td>\n      <td>0.787179</td>\n    </tr>\n    <tr>\n      <th>20</th>\n      <td>0.756939</td>\n      <td>0.117277</td>\n      <td>77.523768</td>\n      <td>20</td>\n      <td>0.785775</td>\n    </tr>\n    <tr>\n      <th>5</th>\n      <td>0.754980</td>\n      <td>0.089562</td>\n      <td>77.563004</td>\n      <td>20</td>\n      <td>0.785943</td>\n    </tr>\n  </tbody>\n</table>\n</div>"
     },
     "execution_count": 195,
     "metadata": {},
     "output_type": "execute_result"
    }
   ],
   "source": [
    "# loading logistic regression\n",
    "df_logistic = calculate_metrics(\"outputs/output LogisticRegression.json\")\n",
    "df_logistic = df_logistic.sort_values(by = [\"rec_mean\", \"rec_std\", \"auc_mean\", \"drop_columns\", 'f1_mean'], ascending = False)\n",
    "df_logistic[[\"rec_mean\", \"rec_std\", \"auc_mean\", \"drop_columns\", 'f1_mean']].head(20)"
   ]
  },
  {
   "cell_type": "code",
   "execution_count": 196,
   "outputs": [
    {
     "data": {
      "text/plain": "scaler                  Normalizer\nestimator       LogisticRegression\nimputer              SimpleImputer\nsampler                        str\nauc_mean                 76.028148\nauc_confl                75.992772\nauc_confu                76.063524\ntype2                           75\nf1_mean                   0.802571\nf1_confl                  0.779839\nf1_confu                  0.825302\ndrop_columns                     0\npre_mean                  0.770346\nrec_mean                   0.84849\nName: 6, dtype: object"
     },
     "execution_count": 196,
     "metadata": {},
     "output_type": "execute_result"
    }
   ],
   "source": [
    "logistic = df_logistic.loc[6]\n",
    "logistic[[\"scaler\", \"estimator\", \"imputer\", \"sampler\", \"auc_mean\", \"auc_confl\", \"auc_confu\", \"type2\", \"f1_mean\", \"f1_confl\", \"f1_confu\", \"drop_columns\", \"pre_mean\", \"rec_mean\"]]"
   ],
   "metadata": {
    "collapsed": false
   }
  },
  {
   "cell_type": "markdown",
   "id": "daac8263",
   "metadata": {},
   "source": [
    "# Combined review of all DFs"
   ]
  },
  {
   "cell_type": "code",
   "execution_count": 197,
   "metadata": {
    "collapsed": false
   },
   "outputs": [],
   "source": [
    "df = pd.concat([df_Tree, df_XGBoost, df_SVC, df_logistic, df_Forest, df_bernoulli, df_KNeighbors])"
   ]
  },
  {
   "cell_type": "code",
   "execution_count": 198,
   "metadata": {
    "collapsed": false
   },
   "outputs": [
    {
     "data": {
      "text/plain": "    acc_mean  rec_mean   rec_std   auc_mean   f1_mean  drop_columns  \\\n15  0.807328  0.831755  0.116541  80.398731  0.826626         100.0   \n17  0.798464  0.797429  0.110121  79.798258  0.813584         100.0   \n17  0.795194  0.795469  0.088218  79.468591  0.810375          20.0   \n16  0.792896  0.779265  0.097708  79.383997  0.806949         100.0   \n18  0.790637  0.844163  0.097180  78.409383  0.818713         100.0   \n..       ...       ...       ...        ...       ...           ...   \n13       NaN       NaN       NaN        NaN       NaN           NaN   \n14       NaN       NaN       NaN        NaN       NaN           NaN   \n18       NaN       NaN       NaN        NaN       NaN           NaN   \n19       NaN       NaN       NaN        NaN       NaN           NaN   \n20       NaN       NaN       NaN        NaN       NaN           NaN   \n\n                 estimator  \n15    KNeighborsClassifier  \n17    KNeighborsClassifier  \n17                     SVC  \n16    KNeighborsClassifier  \n18  RandomForestClassifier  \n..                     ...  \n13                     SVC  \n14                     SVC  \n18                     SVC  \n19                     SVC  \n20                     SVC  \n\n[147 rows x 7 columns]",
      "text/html": "<div>\n<style scoped>\n    .dataframe tbody tr th:only-of-type {\n        vertical-align: middle;\n    }\n\n    .dataframe tbody tr th {\n        vertical-align: top;\n    }\n\n    .dataframe thead th {\n        text-align: right;\n    }\n</style>\n<table border=\"1\" class=\"dataframe\">\n  <thead>\n    <tr style=\"text-align: right;\">\n      <th></th>\n      <th>acc_mean</th>\n      <th>rec_mean</th>\n      <th>rec_std</th>\n      <th>auc_mean</th>\n      <th>f1_mean</th>\n      <th>drop_columns</th>\n      <th>estimator</th>\n    </tr>\n  </thead>\n  <tbody>\n    <tr>\n      <th>15</th>\n      <td>0.807328</td>\n      <td>0.831755</td>\n      <td>0.116541</td>\n      <td>80.398731</td>\n      <td>0.826626</td>\n      <td>100.0</td>\n      <td>KNeighborsClassifier</td>\n    </tr>\n    <tr>\n      <th>17</th>\n      <td>0.798464</td>\n      <td>0.797429</td>\n      <td>0.110121</td>\n      <td>79.798258</td>\n      <td>0.813584</td>\n      <td>100.0</td>\n      <td>KNeighborsClassifier</td>\n    </tr>\n    <tr>\n      <th>17</th>\n      <td>0.795194</td>\n      <td>0.795469</td>\n      <td>0.088218</td>\n      <td>79.468591</td>\n      <td>0.810375</td>\n      <td>20.0</td>\n      <td>SVC</td>\n    </tr>\n    <tr>\n      <th>16</th>\n      <td>0.792896</td>\n      <td>0.779265</td>\n      <td>0.097708</td>\n      <td>79.383997</td>\n      <td>0.806949</td>\n      <td>100.0</td>\n      <td>KNeighborsClassifier</td>\n    </tr>\n    <tr>\n      <th>18</th>\n      <td>0.790637</td>\n      <td>0.844163</td>\n      <td>0.097180</td>\n      <td>78.409383</td>\n      <td>0.818713</td>\n      <td>100.0</td>\n      <td>RandomForestClassifier</td>\n    </tr>\n    <tr>\n      <th>...</th>\n      <td>...</td>\n      <td>...</td>\n      <td>...</td>\n      <td>...</td>\n      <td>...</td>\n      <td>...</td>\n      <td>...</td>\n    </tr>\n    <tr>\n      <th>13</th>\n      <td>NaN</td>\n      <td>NaN</td>\n      <td>NaN</td>\n      <td>NaN</td>\n      <td>NaN</td>\n      <td>NaN</td>\n      <td>SVC</td>\n    </tr>\n    <tr>\n      <th>14</th>\n      <td>NaN</td>\n      <td>NaN</td>\n      <td>NaN</td>\n      <td>NaN</td>\n      <td>NaN</td>\n      <td>NaN</td>\n      <td>SVC</td>\n    </tr>\n    <tr>\n      <th>18</th>\n      <td>NaN</td>\n      <td>NaN</td>\n      <td>NaN</td>\n      <td>NaN</td>\n      <td>NaN</td>\n      <td>NaN</td>\n      <td>SVC</td>\n    </tr>\n    <tr>\n      <th>19</th>\n      <td>NaN</td>\n      <td>NaN</td>\n      <td>NaN</td>\n      <td>NaN</td>\n      <td>NaN</td>\n      <td>NaN</td>\n      <td>SVC</td>\n    </tr>\n    <tr>\n      <th>20</th>\n      <td>NaN</td>\n      <td>NaN</td>\n      <td>NaN</td>\n      <td>NaN</td>\n      <td>NaN</td>\n      <td>NaN</td>\n      <td>SVC</td>\n    </tr>\n  </tbody>\n</table>\n<p>147 rows × 7 columns</p>\n</div>"
     },
     "execution_count": 198,
     "metadata": {},
     "output_type": "execute_result"
    }
   ],
   "source": [
    "df[[\"acc_mean\", \"rec_mean\", \"rec_std\", \"auc_mean\", 'f1_mean', \"drop_columns\", \"estimator\"]].sort_values('acc_mean', ascending=False)"
   ]
  },
  {
   "cell_type": "code",
   "execution_count": 199,
   "metadata": {
    "collapsed": false
   },
   "outputs": [
    {
     "data": {
      "text/plain": "    rec_mean   rec_std   auc_mean   f1_mean  drop_columns  \\\n15  0.831755  0.116541  80.398731  0.826626         100.0   \n18  0.844163  0.097180  78.409383  0.818713         100.0   \n9   0.844122  0.096034  78.160391  0.817078         100.0   \n15  0.840122  0.102677  78.332342  0.816883         100.0   \n12  0.840082  0.097832  78.205301  0.816678         100.0   \n..       ...       ...        ...       ...           ...   \n13       NaN       NaN        NaN       NaN           NaN   \n14       NaN       NaN        NaN       NaN           NaN   \n18       NaN       NaN        NaN       NaN           NaN   \n19       NaN       NaN        NaN       NaN           NaN   \n20       NaN       NaN        NaN       NaN           NaN   \n\n                 estimator  \n15    KNeighborsClassifier  \n18  RandomForestClassifier  \n9   RandomForestClassifier  \n15  RandomForestClassifier  \n12  RandomForestClassifier  \n..                     ...  \n13                     SVC  \n14                     SVC  \n18                     SVC  \n19                     SVC  \n20                     SVC  \n\n[147 rows x 6 columns]",
      "text/html": "<div>\n<style scoped>\n    .dataframe tbody tr th:only-of-type {\n        vertical-align: middle;\n    }\n\n    .dataframe tbody tr th {\n        vertical-align: top;\n    }\n\n    .dataframe thead th {\n        text-align: right;\n    }\n</style>\n<table border=\"1\" class=\"dataframe\">\n  <thead>\n    <tr style=\"text-align: right;\">\n      <th></th>\n      <th>rec_mean</th>\n      <th>rec_std</th>\n      <th>auc_mean</th>\n      <th>f1_mean</th>\n      <th>drop_columns</th>\n      <th>estimator</th>\n    </tr>\n  </thead>\n  <tbody>\n    <tr>\n      <th>15</th>\n      <td>0.831755</td>\n      <td>0.116541</td>\n      <td>80.398731</td>\n      <td>0.826626</td>\n      <td>100.0</td>\n      <td>KNeighborsClassifier</td>\n    </tr>\n    <tr>\n      <th>18</th>\n      <td>0.844163</td>\n      <td>0.097180</td>\n      <td>78.409383</td>\n      <td>0.818713</td>\n      <td>100.0</td>\n      <td>RandomForestClassifier</td>\n    </tr>\n    <tr>\n      <th>9</th>\n      <td>0.844122</td>\n      <td>0.096034</td>\n      <td>78.160391</td>\n      <td>0.817078</td>\n      <td>100.0</td>\n      <td>RandomForestClassifier</td>\n    </tr>\n    <tr>\n      <th>15</th>\n      <td>0.840122</td>\n      <td>0.102677</td>\n      <td>78.332342</td>\n      <td>0.816883</td>\n      <td>100.0</td>\n      <td>RandomForestClassifier</td>\n    </tr>\n    <tr>\n      <th>12</th>\n      <td>0.840082</td>\n      <td>0.097832</td>\n      <td>78.205301</td>\n      <td>0.816678</td>\n      <td>100.0</td>\n      <td>RandomForestClassifier</td>\n    </tr>\n    <tr>\n      <th>...</th>\n      <td>...</td>\n      <td>...</td>\n      <td>...</td>\n      <td>...</td>\n      <td>...</td>\n      <td>...</td>\n    </tr>\n    <tr>\n      <th>13</th>\n      <td>NaN</td>\n      <td>NaN</td>\n      <td>NaN</td>\n      <td>NaN</td>\n      <td>NaN</td>\n      <td>SVC</td>\n    </tr>\n    <tr>\n      <th>14</th>\n      <td>NaN</td>\n      <td>NaN</td>\n      <td>NaN</td>\n      <td>NaN</td>\n      <td>NaN</td>\n      <td>SVC</td>\n    </tr>\n    <tr>\n      <th>18</th>\n      <td>NaN</td>\n      <td>NaN</td>\n      <td>NaN</td>\n      <td>NaN</td>\n      <td>NaN</td>\n      <td>SVC</td>\n    </tr>\n    <tr>\n      <th>19</th>\n      <td>NaN</td>\n      <td>NaN</td>\n      <td>NaN</td>\n      <td>NaN</td>\n      <td>NaN</td>\n      <td>SVC</td>\n    </tr>\n    <tr>\n      <th>20</th>\n      <td>NaN</td>\n      <td>NaN</td>\n      <td>NaN</td>\n      <td>NaN</td>\n      <td>NaN</td>\n      <td>SVC</td>\n    </tr>\n  </tbody>\n</table>\n<p>147 rows × 6 columns</p>\n</div>"
     },
     "execution_count": 199,
     "metadata": {},
     "output_type": "execute_result"
    }
   ],
   "source": [
    "df[[\"rec_mean\", \"rec_std\", \"auc_mean\", 'f1_mean', \"drop_columns\", \"estimator\"]].sort_values('f1_mean', ascending=False)"
   ]
  },
  {
   "cell_type": "code",
   "execution_count": 200,
   "id": "7bfeb9aa",
   "metadata": {},
   "outputs": [
    {
     "data": {
      "text/plain": "scaler                             str\nestimator       DecisionTreeClassifier\nimputer                  SimpleImputer\nsampler                            str\nauc_mean                     76.703708\nauc_confl                    76.666607\nauc_confu                     76.74081\ntype2                               73\nf1_mean                       0.808715\nf1_confl                      0.788895\nf1_confu                      0.828535\ndrop_columns                         0\npre_mean                      0.778788\nrec_mean                      0.852245\nName: 16, dtype: object"
     },
     "execution_count": 200,
     "metadata": {},
     "output_type": "execute_result"
    }
   ],
   "source": [
    "Tree = df_Tree.loc[16]\n",
    "\n",
    "Tree[[\"scaler\", \"estimator\", \"imputer\", \"sampler\", \"auc_mean\", \"auc_confl\", \"auc_confu\", \"type2\", \"f1_mean\", \"f1_confl\", \"f1_confu\", \"drop_columns\", \"pre_mean\", \"rec_mean\"]]"
   ]
  }
 ],
 "metadata": {
  "kernelspec": {
   "display_name": "Python 3.10.8 64-bit",
   "language": "python",
   "name": "python3"
  },
  "language_info": {
   "codemirror_mode": {
    "name": "ipython",
    "version": 3
   },
   "file_extension": ".py",
   "mimetype": "text/x-python",
   "name": "python",
   "nbconvert_exporter": "python",
   "pygments_lexer": "ipython3",
   "version": "3.10.8"
  },
  "vscode": {
   "interpreter": {
    "hash": "e7370f93d1d0cde622a1f8e1c04877d8463912d04d973331ad4851f04de6915a"
   }
  }
 },
 "nbformat": 4,
 "nbformat_minor": 5
}
