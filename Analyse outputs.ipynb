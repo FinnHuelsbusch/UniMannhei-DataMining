{
 "cells": [
  {
   "cell_type": "code",
   "execution_count": null,
   "id": "9438b12c",
   "metadata": {},
   "outputs": [],
   "source": [
    "import json\n",
    "import pandas as pd\n",
    "import numpy as np\n",
    "import re\n",
    "from sklearn.metrics import roc_auc_score, f1_score\n",
    "from io import StringIO"
   ]
  },
  {
   "cell_type": "markdown",
   "metadata": {
    "collapsed": false
   },
   "source": [
    "# Baseline"
   ]
  },
  {
   "cell_type": "code",
   "execution_count": null,
   "metadata": {
    "collapsed": false
   },
   "outputs": [],
   "source": [
    "# list the datasets that should be used in the current run\n",
    "datasets = [\"hungarian\", \"cleveland\", \"switzerland\", \"long-beach-va\"]"
   ]
  },
  {
   "cell_type": "code",
   "execution_count": null,
   "metadata": {
    "collapsed": false
   },
   "outputs": [],
   "source": [
    "# custom function to read the dataset into a csv formated string\n",
    "# the name is used as a delimiter here because it is the last feature and common among all entrys\n",
    "def read_raw_data(file_path:str):\n",
    "    with open(file_path) as file:\n",
    "        data_string = file.read()\n",
    "        data_string = data_string.replace(\"\\n\",\" \")\n",
    "        data_string = re.sub(\"[a-zA-Z]+ \",\"name\\n\", data_string)\n",
    "        data_string = data_string.replace(\" \",\",\")\n",
    "        return data_string"
   ]
  },
  {
   "cell_type": "code",
   "execution_count": null,
   "metadata": {
    "collapsed": false
   },
   "outputs": [],
   "source": [
    "# read the data from the specified datasets into the df\n",
    "df = pd.DataFrame()\n",
    "for dataset in datasets:\n",
    "    dataset_df = pd.read_csv(StringIO(read_raw_data(\"./Data/\"+ dataset +\".data\")), header=None, sep=\",\")\n",
    "    dataset_df['dataset'] = dataset\n",
    "    df = pd.concat([df,dataset_df ], ignore_index=True)"
   ]
  },
  {
   "cell_type": "code",
   "execution_count": null,
   "metadata": {
    "collapsed": false
   },
   "outputs": [],
   "source": [
    "df.columns=[\"id\", \"ccf\", \"age\", \"sex\", \"painloc\", \"painexer\" , \"relrest\" , \"pncaden\" , \"cp\", \"trestbps\", \"htn\", \"chol\", \"smoke\", \"cigs\", \"years\", \"fbs\", \"dm\", \"famhist\", \"restecg\", \"ekgmo\", \"ekgday\", \"ekgyr\", \"dig\", \"prop\", \"nitr\", \"pro\", \"diuretic\", \"proto\", \"thaldur\", \"thaltime\", \"met\", \"thalach\", \"thalrest\", \"tpeakbps\", \"tpeakbpd\", \"dummy\", \"trestbpd\", \"exang\", \"xhypo\", \"oldpeak\", \"slope\", \"rldv5\", \"rldv5e\", \"ca\", \"restckm\", \"exerckm\", \"restef\", \"restwm\", \"exeref\", \"exerwm\", \"thal\", \"thalsev\", \"thalpul\", \"earlobe\", \"cmo\", \"cday\", \"cyr\", \"num\", \"lmt\", \"ladprox\", \"laddist\", \"diag\", \"cxmain\", \"ramus\", \"om1\", \"om2\", \"rcaprox\", \"rcadist\", \"lvx1\", \"lvx2\", \"lvx3\", \"lvx4\", \"lvf\", \"cathef\", \"junk\", \"name\", \"dataset\"]"
   ]
  },
  {
   "cell_type": "code",
   "execution_count": null,
   "metadata": {
    "collapsed": false
   },
   "outputs": [],
   "source": [
    "# the uci encodes missing values as -9 we use np.float('nan') for better profiling reports\n",
    "df = df.replace(-9, float('nan'))"
   ]
  },
  {
   "cell_type": "code",
   "execution_count": null,
   "metadata": {
    "collapsed": false
   },
   "outputs": [],
   "source": [
    "y_true = df['num']\n",
    "y_true[y_true > 1] = 1\n",
    "y_pred = [1] * len(y_true)\n",
    "roc_auc_score(y_true, y_pred)"
   ]
  },
  {
   "cell_type": "code",
   "execution_count": null,
   "metadata": {
    "collapsed": false
   },
   "outputs": [],
   "source": [
    "f1_score(y_true, y_pred)"
   ]
  },
  {
   "cell_type": "code",
   "execution_count": null,
   "id": "700e876f",
   "metadata": {},
   "outputs": [],
   "source": [
    "def calculate_metrics(filepath:str): \n",
    "    with open(filepath, 'r') as f:\n",
    "        data = json.load(f)\n",
    "    # extract data form json into usable df \n",
    "    df = pd.json_normalize(data, record_path =['measurements'])\n",
    "    # save minimum percentage to be dropped in extra variable\n",
    "    df[\"drop_columns\"] = df[\"best_params.drop_columns__minimum_percentage_to_be_dropped\"]\n",
    "    # calculate main values of interest\n",
    "    df[\"auc_std\"] = df.apply(lambda row: np.std(row[\"auc\"]), axis =1)\n",
    "    df[\"pre_std\"] = df.apply(lambda row: np.std(row[\"classification_report.1.precision\"]), axis =1)\n",
    "    df[\"pre_mean\"] = df.apply(lambda row: np.mean(row[\"classification_report.1.precision\"]), axis =1)\n",
    "    df[\"acc_mean\"] = df.apply(lambda row: np.mean(row[\"classification_report.accuracy\"]), axis =1)\n",
    "    df[\"rec_std\"] = df.apply(lambda row: np.std(row[\"classification_report.1.recall\"]), axis =1)\n",
    "    df[\"rec_mean\"] = df.apply(lambda row: np.mean(row[\"classification_report.1.recall\"]), axis =1)\n",
    "    df[\"f1_std\"] = df.apply(lambda row: np.std(row[\"classification_report.1.f1-score\"]), axis =1)\n",
    "    df[\"f1_mean\"] = df.apply(lambda row: np.mean(row[\"classification_report.1.f1-score\"]), axis =1)\n",
    "    df[\"type2\"] = df.apply(lambda row: np.sum(row[\"confusion_matrix.(1, 0)\"]), axis =1)\n",
    "    # Confidence Intervalls\n",
    "    df[\"auc_confl\"] = df[\"auc_mean\"]- 1.96 * (df[\"auc_std\"] / np.sqrt(10))\n",
    "    df[\"auc_confu\"] = df[\"auc_mean\"]+ 1.96 * (df[\"auc_std\"] / np.sqrt(10))\n",
    "    df[\"f1_confl\"] = df[\"f1_mean\"]- 1.96 * (df[\"f1_std\"] / np.sqrt(10))\n",
    "    df[\"f1_confu\"] = df[\"f1_mean\"]+ 1.96 * (df[\"f1_std\"] / np.sqrt(10))\n",
    "    return df"
   ]
  },
  {
   "cell_type": "code",
   "execution_count": null,
   "metadata": {
    "collapsed": false
   },
   "outputs": [],
   "source": [
    "df_XGBoost = calculate_metrics(\"outputs/output xgboost.json\")\n",
    "# only display variables important for the model evaluation\n",
    "df_XGBoost = df_XGBoost.sort_values(by = [\"rec_mean\", \"rec_std\", \"auc_mean\", \"drop_columns\", 'f1_mean'], ascending = False)\n",
    "df_XGBoost[[\"rec_mean\", \"rec_std\", \"auc_mean\", \"drop_columns\", 'f1_mean']].head(20)"
   ]
  },
  {
   "cell_type": "code",
   "execution_count": null,
   "id": "44ccfe22",
   "metadata": {},
   "outputs": [],
   "source": [
    "# best model in detail \n",
    "XGBoost = df_XGBoost.loc[8]\n",
    "XGBoost[[\"scaler\", \"estimator\", \"imputer\", \"sampler\", \"auc_mean\", \"auc_confl\", \"auc_confu\", \"type2\", \"f1_mean\", \"f1_confl\", \"f1_confu\", \"drop_columns\", \"pre_mean\", \"rec_mean\"]]"
   ]
  },
  {
   "cell_type": "code",
   "execution_count": null,
   "id": "85cc427c",
   "metadata": {},
   "outputs": [],
   "source": [
    "# loading KNeighbors \n",
    "df_KNeighbors = calculate_metrics(\"outputs/output KNN.json\")\n",
    "df_KNeighbors = df_KNeighbors.sort_values(by = [\"rec_mean\", \"rec_std\", \"auc_mean\", \"drop_columns\", 'f1_mean'], ascending = False)\n",
    "df_KNeighbors[[\"rec_mean\", \"rec_std\", \"auc_mean\", \"drop_columns\", 'f1_mean']].head(40)"
   ]
  },
  {
   "cell_type": "code",
   "execution_count": null,
   "id": "8b338096",
   "metadata": {},
   "outputs": [],
   "source": [
    "KNeighbors = df_KNeighbors.loc[18]\n",
    "KNeighbors[[\"scaler\", \"estimator\", \"imputer\", \"sampler\", \"auc_mean\", \"auc_confl\", \"auc_confu\", \"type2\", \"f1_mean\", \"f1_confl\", \"f1_confu\", \"drop_columns\", \"pre_mean\", \"rec_mean\"]]"
   ]
  },
  {
   "cell_type": "code",
   "execution_count": null,
   "id": "ab11529e",
   "metadata": {},
   "outputs": [],
   "source": [
    "# loading Random Forest Classifier\n",
    "df_Forest = calculate_metrics(\"outputs/output RandomForestClassifier.json\")\n",
    "df_Forest = df_Forest.sort_values(by = [\"rec_mean\", \"rec_std\", \"auc_mean\", \"drop_columns\", 'f1_mean'], ascending = False)\n",
    "df_Forest[[\"rec_mean\", \"rec_std\", \"auc_mean\", \"drop_columns\", 'f1_mean']].head(20)"
   ]
  },
  {
   "cell_type": "code",
   "execution_count": null,
   "id": "ca36a430",
   "metadata": {},
   "outputs": [],
   "source": [
    "Forest = df_Forest.loc[18]\n",
    "Forest[[\"scaler\", \"estimator\", \"imputer\", \"sampler\", \"auc_mean\", \"auc_confl\", \"auc_confu\", \"type2\", \"f1_mean\", \"f1_confl\", \"f1_confu\", \"drop_columns\", \"pre_mean\", \"rec_mean\"]]"
   ]
  },
  {
   "cell_type": "code",
   "execution_count": null,
   "id": "66a94412",
   "metadata": {},
   "outputs": [],
   "source": [
    "# loading Decision Tree Classifier\n",
    "df_Tree = calculate_metrics(\"outputs/output DecisionTrees.json\")\n",
    "df_Tree = df_Tree.sort_values(by = [\"rec_mean\", \"rec_std\", \"auc_mean\", \"drop_columns\", 'f1_mean', 'scaler'], ascending = False)\n",
    "df_Tree[[\"rec_mean\", \"rec_std\", \"auc_mean\", \"drop_columns\", 'f1_mean','scaler']].head(20)"
   ]
  },
  {
   "cell_type": "code",
   "execution_count": null,
   "id": "2bbae235",
   "metadata": {},
   "outputs": [],
   "source": [
    "Tree = df_Tree.loc[16]\n",
    "Tree[[\"scaler\", \"estimator\", \"imputer\", \"sampler\", \"auc_mean\", \"auc_confl\", \"auc_confu\", \"type2\", \"f1_mean\", \"f1_confl\", \"f1_confu\", \"drop_columns\", \"pre_mean\", \"rec_mean\"]]"
   ]
  },
  {
   "cell_type": "code",
   "execution_count": null,
   "id": "26ecfdd7",
   "metadata": {},
   "outputs": [],
   "source": [
    "# Tree.to_excel(r'DTree.xlsx', index=False)"
   ]
  },
  {
   "cell_type": "code",
   "execution_count": null,
   "id": "11bba66a",
   "metadata": {},
   "outputs": [],
   "source": [
    "# loading SVC\n",
    "df_SVC = calculate_metrics(\"outputs/output SVC.json\")\n",
    "df_SVC = df_SVC.sort_values(by = [\"rec_mean\", \"rec_std\", \"auc_mean\", \"drop_columns\", 'f1_mean'], ascending = False)\n",
    "df_SVC[[\"rec_mean\", \"rec_std\", \"auc_mean\", \"drop_columns\", 'f1_mean']].head(20)"
   ]
  },
  {
   "cell_type": "code",
   "execution_count": null,
   "id": "213a7155",
   "metadata": {},
   "outputs": [],
   "source": [
    "SVC = df_SVC.loc[9]\n",
    "SVC[[\"scaler\", \"estimator\", \"imputer\", \"sampler\", \"auc_mean\", \"auc_confl\", \"auc_confu\", \"type2\", \"f1_mean\", \"f1_confl\", \"f1_confu\", \"drop_columns\", \"pre_mean\", \"rec_mean\"]]"
   ]
  },
  {
   "cell_type": "code",
   "execution_count": null,
   "id": "2c2b2fc0",
   "metadata": {},
   "outputs": [],
   "source": [
    "# loading naïve bayes (bernoulli)\n",
    "df_bernoulli = calculate_metrics(\"outputs/output BernoulliNB.json\")\n",
    "df_bernoulli = df_bernoulli.sort_values(by = [\"rec_mean\", \"rec_std\", \"auc_mean\", \"drop_columns\", 'f1_mean'], ascending = False)\n",
    "df_bernoulli[[\"rec_mean\", \"rec_std\", \"auc_mean\", \"drop_columns\", 'f1_mean']].head(20)"
   ]
  },
  {
   "cell_type": "code",
   "execution_count": null,
   "id": "58b80725",
   "metadata": {},
   "outputs": [],
   "source": [
    "bernoulli = df_bernoulli.loc[3]\n",
    "bernoulli[[\"scaler\", \"estimator\", \"imputer\", \"sampler\", \"auc_mean\", \"auc_confl\", \"auc_confu\", \"type2\", \"f1_mean\", \"f1_confl\", \"f1_confu\", \"drop_columns\", \"pre_mean\", \"rec_mean\"]]"
   ]
  },
  {
   "cell_type": "code",
   "execution_count": null,
   "id": "58649a95",
   "metadata": {},
   "outputs": [],
   "source": [
    "# naïve bayes (categorical) is skipped because no model could be trained successfully "
   ]
  },
  {
   "cell_type": "code",
   "execution_count": null,
   "id": "80699449",
   "metadata": {},
   "outputs": [],
   "source": [
    "# loading naïve bayes (complement)\n",
    "df_complement = calculate_metrics(\"outputs/output CompleteNB.json\")\n",
    "df_complement = df_complement.sort_values(by = [\"rec_mean\", \"rec_std\", \"auc_mean\", \"drop_columns\", 'f1_mean'], ascending = False)\n",
    "df_complement[[\"rec_mean\", \"rec_std\", \"auc_mean\", \"drop_columns\", 'f1_mean']].head(7)"
   ]
  },
  {
   "cell_type": "code",
   "execution_count": null,
   "id": "9c242b21",
   "metadata": {},
   "outputs": [],
   "source": [
    "complement = df_complement.loc[3]\n",
    "complement[[\"scaler\", \"estimator\", \"imputer\", \"sampler\", \"auc_mean\", \"auc_confl\", \"auc_confu\", \"type2\", \"f1_mean\", \"f1_confl\", \"f1_confu\", \"drop_columns\", \"pre_mean\", \"rec_mean\"]]"
   ]
  },
  {
   "cell_type": "code",
   "execution_count": null,
   "id": "d6fb733c",
   "metadata": {},
   "outputs": [],
   "source": [
    "# loading naïve bayes (gaussian)\n",
    "df_gaussian= calculate_metrics(\"outputs/output GaussianNB.json\")\n",
    "df_gaussian = df_gaussian.sort_values(by = [\"rec_mean\", \"rec_std\", \"auc_mean\", \"drop_columns\", 'f1_mean'], ascending = False)\n",
    "df_gaussian[[\"rec_mean\", \"rec_std\", \"auc_mean\", \"drop_columns\", 'f1_mean']].head(20)"
   ]
  },
  {
   "cell_type": "code",
   "execution_count": null,
   "id": "046a6091",
   "metadata": {},
   "outputs": [],
   "source": [
    "gaussian = df_gaussian.loc[6]\n",
    "gaussian[[\"scaler\", \"estimator\", \"imputer\", \"sampler\", \"auc_mean\", \"auc_confl\", \"auc_confu\", \"type2\", \"f1_mean\", \"f1_confl\", \"f1_confu\", \"drop_columns\", \"pre_mean\", \"rec_mean\"]]"
   ]
  },
  {
   "cell_type": "code",
   "execution_count": null,
   "id": "06ff1c61",
   "metadata": {},
   "outputs": [],
   "source": [
    "# loading naïve bayes (multinomial)\n",
    "df_multinomial = calculate_metrics(\"outputs/output MultinomialNB.json\")\n",
    "df_multinomial = df_multinomial.sort_values(by = [\"rec_mean\", \"rec_std\", \"auc_mean\", \"drop_columns\", 'f1_mean'], ascending = False)\n",
    "df_multinomial[[\"rec_mean\", \"rec_std\", \"auc_mean\", \"drop_columns\", 'f1_mean']].head(5)"
   ]
  },
  {
   "cell_type": "code",
   "execution_count": null,
   "id": "b7976884",
   "metadata": {},
   "outputs": [],
   "source": [
    "multinomial = df_multinomial.loc[3]\n",
    "multinomial[[\"scaler\", \"estimator\", \"imputer\", \"sampler\", \"auc_mean\", \"auc_confl\", \"auc_confu\", \"type2\", \"f1_mean\", \"f1_confl\", \"f1_confu\", \"drop_columns\", \"pre_mean\", \"rec_mean\"]]"
   ]
  },
  {
   "cell_type": "code",
   "execution_count": null,
   "id": "1abf8371",
   "metadata": {},
   "outputs": [],
   "source": [
    "# loading logistic regression\n",
    "df_logistic = calculate_metrics(\"outputs/output LogisticRegression.json\")\n",
    "df_logistic = df_logistic.sort_values(by = [\"rec_mean\", \"rec_std\", \"auc_mean\", \"drop_columns\", 'f1_mean'], ascending = False)\n",
    "df_logistic[[\"rec_mean\", \"rec_std\", \"auc_mean\", \"drop_columns\", 'f1_mean']].head(20)"
   ]
  },
  {
   "cell_type": "code",
   "execution_count": null,
   "metadata": {
    "collapsed": false
   },
   "outputs": [],
   "source": [
    "logistic = df_logistic.loc[6]\n",
    "logistic[[\"scaler\", \"estimator\", \"imputer\", \"sampler\", \"auc_mean\", \"auc_confl\", \"auc_confu\", \"type2\", \"f1_mean\", \"f1_confl\", \"f1_confu\", \"drop_columns\", \"pre_mean\", \"rec_mean\"]]"
   ]
  },
  {
   "cell_type": "markdown",
   "id": "daac8263",
   "metadata": {},
   "source": [
    "# Combined review of all DFs"
   ]
  },
  {
   "cell_type": "code",
   "execution_count": null,
   "metadata": {
    "collapsed": false
   },
   "outputs": [],
   "source": [
    "df = pd.concat([df_Tree, df_XGBoost, df_SVC, df_logistic, df_Forest, df_bernoulli, df_KNeighbors])"
   ]
  },
  {
   "cell_type": "code",
   "execution_count": null,
   "metadata": {
    "collapsed": false
   },
   "outputs": [],
   "source": [
    "df[[\"acc_mean\", \"rec_mean\", \"rec_std\", \"auc_mean\", 'f1_mean', \"drop_columns\", \"estimator\"]].sort_values('acc_mean', ascending=False)"
   ]
  },
  {
   "cell_type": "code",
   "execution_count": null,
   "metadata": {
    "collapsed": false
   },
   "outputs": [],
   "source": [
    "df[[\"rec_mean\", \"rec_std\", \"auc_mean\", 'f1_mean', \"drop_columns\", \"estimator\"]].sort_values('f1_mean', ascending=False)"
   ]
  },
  {
   "cell_type": "code",
   "execution_count": null,
   "id": "7bfeb9aa",
   "metadata": {},
   "outputs": [],
   "source": [
    "Tree = df_Tree.loc[16]\n",
    "\n",
    "Tree[[\"scaler\", \"estimator\", \"imputer\", \"sampler\", \"auc_mean\", \"auc_confl\", \"auc_confu\", \"type2\", \"f1_mean\", \"f1_confl\", \"f1_confu\", \"drop_columns\", \"pre_mean\", \"rec_mean\"]]"
   ]
  }
 ],
 "metadata": {
  "kernelspec": {
   "display_name": "Python 3.10.8 64-bit",
   "language": "python",
   "name": "python3"
  },
  "language_info": {
   "codemirror_mode": {
    "name": "ipython",
    "version": 3
   },
   "file_extension": ".py",
   "mimetype": "text/x-python",
   "name": "python",
   "nbconvert_exporter": "python",
   "pygments_lexer": "ipython3",
   "version": "3.10.8"
  },
  "vscode": {
   "interpreter": {
    "hash": "e7370f93d1d0cde622a1f8e1c04877d8463912d04d973331ad4851f04de6915a"
   }
  }
 },
 "nbformat": 4,
 "nbformat_minor": 5
}
