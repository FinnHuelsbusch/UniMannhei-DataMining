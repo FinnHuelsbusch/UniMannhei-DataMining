{
 "cells": [
  {
   "cell_type": "code",
   "execution_count": 36,
   "outputs": [],
   "source": [
    "import pickle\n"
   ],
   "metadata": {
    "collapsed": false,
    "pycharm": {
     "name": "#%%\n"
    }
   }
  },
  {
   "cell_type": "code",
   "execution_count": 37,
   "metadata": {
    "collapsed": true,
    "pycharm": {
     "name": "#%%\n"
    }
   },
   "outputs": [],
   "source": [
    "with open(\"temp.pickle\", \"rb\") as tempFile:\n",
    "    report = pickle.load(tempFile)"
   ]
  },
  {
   "cell_type": "code",
   "execution_count": 41,
   "outputs": [
    {
     "data": {
      "text/plain": "3"
     },
     "execution_count": 41,
     "metadata": {},
     "output_type": "execute_result"
    }
   ],
   "source": [
    "len(report['auc'])"
   ],
   "metadata": {
    "collapsed": false,
    "pycharm": {
     "name": "#%%\n"
    }
   }
  },
  {
   "cell_type": "code",
   "execution_count": 39,
   "outputs": [
    {
     "data": {
      "text/plain": "{'classification_report': {'0': {'precision': [0.6721311475409836,\n    0.7592592592592593,\n    0.6612903225806451],\n   'recall': [1.0, 1.0, 1.0],\n   'f1-score': [0.8039215686274509, 0.8631578947368421, 0.7961165048543689],\n   'support': [41, 41, 41]},\n  '1': {'precision': [1.0, 1.0, 1.0],\n   'recall': [0.5918367346938775, 0.7346938775510204, 0.5714285714285714],\n   'f1-score': [0.7435897435897436, 0.8470588235294119, 0.7272727272727273],\n   'support': [49, 49, 49]},\n  'accuracy': [0.7777777777777778, 0.8555555555555555, 0.7666666666666667],\n  'macro avg': {'precision': [0.8360655737704918,\n    0.8796296296296297,\n    0.8306451612903225],\n   'recall': [0.7959183673469388, 0.8673469387755102, 0.7857142857142857],\n   'f1-score': [0.7737556561085972, 0.855108359133127, 0.761694616063548],\n   'support': [90, 90, 90]},\n  'weighted avg': {'precision': [0.8506375227686703,\n    0.890329218106996,\n    0.8456989247311828],\n   'recall': [0.7777777777777778, 0.8555555555555555, 0.7666666666666667],\n   'f1-score': [0.771074241662477, 0.8543928448572413, 0.7586348926154752],\n   'support': [90, 90, 90]}},\n 'auc': [0.7959183673469388, 0.8673469387755102, 0.7857142857142857],\n 'confusion_matrix': {'(0, 0)': [41, 41, 41],\n  '(0, 1)': [0, 0, 0],\n  '(1, 0)': [20, 13, 21],\n  '(1, 1)': [29, 36, 28]}}"
     },
     "execution_count": 39,
     "metadata": {},
     "output_type": "execute_result"
    }
   ],
   "source": [
    "report"
   ],
   "metadata": {
    "collapsed": false,
    "pycharm": {
     "name": "#%%\n"
    }
   }
  },
  {
   "cell_type": "code",
   "execution_count": null,
   "outputs": [],
   "source": [],
   "metadata": {
    "collapsed": false,
    "pycharm": {
     "name": "#%%\n"
    }
   }
  },
  {
   "cell_type": "code",
   "execution_count": null,
   "outputs": [],
   "source": [],
   "metadata": {
    "collapsed": false,
    "pycharm": {
     "name": "#%%\n"
    }
   }
  }
 ],
 "metadata": {
  "kernelspec": {
   "display_name": "Python 3",
   "language": "python",
   "name": "python3"
  },
  "language_info": {
   "codemirror_mode": {
    "name": "ipython",
    "version": 2
   },
   "file_extension": ".py",
   "mimetype": "text/x-python",
   "name": "python",
   "nbconvert_exporter": "python",
   "pygments_lexer": "ipython2",
   "version": "2.7.6"
  }
 },
 "nbformat": 4,
 "nbformat_minor": 0
}