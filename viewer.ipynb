{
 "cells": [
  {
   "cell_type": "code",
   "execution_count": 7,
   "outputs": [],
   "source": [
    "import pickle\n"
   ],
   "metadata": {
    "collapsed": false
   }
  },
  {
   "cell_type": "code",
   "execution_count": 8,
   "metadata": {
    "collapsed": true
   },
   "outputs": [],
   "source": [
    "with open(\"temp.pickle\", \"rb\") as tempFile:\n",
    "    report = pickle.load(tempFile)"
   ]
  },
  {
   "cell_type": "code",
   "execution_count": 9,
   "outputs": [
    {
     "data": {
      "text/plain": "{'classification_report': {'0': {'precision': 0.660377358490566,\n   'recall': 0.8536585365853658,\n   'f1-score': 0.7446808510638298,\n   'support': 41},\n  '1': {'precision': 0.8378378378378378,\n   'recall': 0.6326530612244898,\n   'f1-score': 0.7209302325581396,\n   'support': 49},\n  'accuracy': 0.7333333333333333,\n  'macro avg': {'precision': 0.7491075981642019,\n   'recall': 0.7431557989049278,\n   'f1-score': 0.7328055418109847,\n   'support': 90},\n  'weighted avg': {'precision': 0.7569947305796363,\n   'recall': 0.7333333333333333,\n   'f1-score': 0.7317499587662873,\n   'support': 90}},\n 'auc': [0.7431557989049279],\n 'confusion_matrix': {'(0, 0)': 35, '(0, 1)': 6, '(1, 0)': 18, '(1, 1)': 31}}"
     },
     "execution_count": 9,
     "metadata": {},
     "output_type": "execute_result"
    }
   ],
   "source": [
    "report"
   ],
   "metadata": {
    "collapsed": false
   }
  },
  {
   "cell_type": "code",
   "execution_count": 9,
   "outputs": [],
   "source": [],
   "metadata": {
    "collapsed": false
   }
  },
  {
   "cell_type": "code",
   "execution_count": 9,
   "outputs": [],
   "source": [],
   "metadata": {
    "collapsed": false
   }
  },
  {
   "cell_type": "code",
   "execution_count": 9,
   "outputs": [],
   "source": [],
   "metadata": {
    "collapsed": false
   }
  }
 ],
 "metadata": {
  "kernelspec": {
   "display_name": "Python 3",
   "language": "python",
   "name": "python3"
  },
  "language_info": {
   "codemirror_mode": {
    "name": "ipython",
    "version": 2
   },
   "file_extension": ".py",
   "mimetype": "text/x-python",
   "name": "python",
   "nbconvert_exporter": "python",
   "pygments_lexer": "ipython2",
   "version": "2.7.6"
  }
 },
 "nbformat": 4,
 "nbformat_minor": 0
}
