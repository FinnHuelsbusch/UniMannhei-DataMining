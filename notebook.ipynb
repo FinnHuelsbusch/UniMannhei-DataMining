{
 "cells": [
  {
   "cell_type": "code",
   "execution_count": 18,
   "metadata": {},
   "outputs": [],
   "source": [
    "import pandas as pd"
   ]
  },
  {
   "cell_type": "code",
   "execution_count": 19,
   "metadata": {},
   "outputs": [],
   "source": [
    "datasets = [\"hungarian\", \"cleveland\", \"switzerland\", \"long-beach-va\"]"
   ]
  },
  {
   "cell_type": "code",
   "execution_count": 20,
   "metadata": {},
   "outputs": [],
   "source": [
    "def readRawData(filePath:str):\n",
    "    with open(filePath) as file:\n",
    "        dataString = file.read()\n",
    "        dataString = dataString.replace(\"\\n\",\" \")\n",
    "        dataString = dataString.replace(\"name \",\"name\\n\")\n",
    "        dataString = dataString.replace(\" \",\",\")\n",
    "        return dataString"
   ]
  },
  {
   "cell_type": "code",
   "execution_count": 21,
   "metadata": {},
   "outputs": [],
   "source": [
    "from io import StringIO\n",
    "df = pd.DataFrame()\n",
    "for dataset in datasets:\n",
    "    dataset_df = pd.read_csv(StringIO(readRawData(\"./Data/\"+ dataset +\".data\")), header=None, sep=\",\")\n",
    "    dataset_df['dataset'] = dataset\n",
    "    df = pd.concat([df,dataset_df ], ignore_index=True)"
   ]
  },
  {
   "cell_type": "code",
   "execution_count": 22,
   "metadata": {},
   "outputs": [],
   "source": [
    "df.columns=[\"id\", \"ccf\", \"age\", \"sex\", \"painloc\", \"painexer\" , \"relrest\" , \"pncaden\" , \"cp\", \"trestbps\", \"htn\", \"chol\", \"smoke\", \"cigs\", \"years\", \"fbs\", \"dm\", \"famhist\", \"restecg\", \"ekgmo\", \"ekgday\", \"ekgyr\", \"dig\", \"prop\", \"nitr\", \"pro\", \"diuretic\", \"proto\", \"thaldur\", \"thaltime\", \"met\", \"thalach\", \"thalrest\", \"tpeakbps\", \"tpeakbpd\", \"dummy\", \"trestbpd\", \"exang\", \"xhypo\", \"oldpeak\", \"slope\", \"rldv5\", \"rldv5e\", \"ca\", \"restckm\", \"exerckm\", \"restef\", \"restwm\", \"exeref\", \"exerwm\", \"thal\", \"thalsev\", \"thalpul\", \"earlobe\", \"cmo\", \"cday\", \"cyr\", \"num\", \"lmt\", \"ladprox\", \"laddist\", \"diag\", \"cxmain\", \"ramus\", \"om1\", \"om2\", \"rcaprox\", \"rcadist\", \"lvx1\", \"lvx2\", \"lvx3\", \"lvx4\", \"lvf\", \"cathef\", \"junk\", \"name\", \"dataset\"]"
   ]
  },
  {
   "cell_type": "code",
   "execution_count": 23,
   "metadata": {},
   "outputs": [],
   "source": [
    "df = df.replace(-9, float('nan'))"
   ]
  },
  {
   "cell_type": "code",
   "execution_count": 24,
   "metadata": {},
   "outputs": [
    {
     "data": {
      "text/plain": "                id    ccf         age         sex     painloc    painexer  \\\ncount   899.000000  899.0  899.000000  899.000000  617.000000  617.000000   \nmean    957.235818    0.0   53.480534    0.790879    0.920583    0.593193   \nstd    1204.015482    0.0    9.435894    0.406908    0.270607    0.491637   \nmin       1.000000    0.0   28.000000    0.000000    0.000000    0.000000   \n25%     116.000000    0.0   47.000000    1.000000    1.000000    0.000000   \n50%     266.000000    0.0   54.000000    1.000000    1.000000    1.000000   \n75%    1207.500000    0.0   60.000000    1.000000    1.000000    1.000000   \nmax    5002.000000    0.0   77.000000    1.000000    1.000000    1.000000   \n\n          relrest  pncaden          cp    trestbps  ...         om2  \\\ncount  613.000000      0.0  899.000000  840.000000  ...  327.000000   \nmean     0.672104      NaN    3.253615  132.101190  ...    1.067278   \nstd      0.469830      NaN    0.928499   19.151127  ...    0.250887   \nmin      0.000000      NaN    1.000000    0.000000  ...    1.000000   \n25%      0.000000      NaN    3.000000  120.000000  ...    1.000000   \n50%      1.000000      NaN    4.000000  130.000000  ...    1.000000   \n75%      1.000000      NaN    4.000000  140.000000  ...    1.000000   \nmax      1.000000      NaN    4.000000  200.000000  ...    2.000000   \n\n          rcaprox     rcadist        lvx1        lvx2        lvx3        lvx4  \\\ncount  654.000000  629.000000  880.000000  880.000000  880.000000  880.000000   \nmean     1.342508    1.171701    1.020455    1.032955    1.132955    1.611364   \nstd      0.474912    0.377421    0.277384    0.415902    0.703837    1.722199   \nmin      1.000000    1.000000    1.000000    1.000000    1.000000    1.000000   \n25%      1.000000    1.000000    1.000000    1.000000    1.000000    1.000000   \n50%      1.000000    1.000000    1.000000    1.000000    1.000000    1.000000   \n75%      2.000000    1.000000    1.000000    1.000000    1.000000    1.000000   \nmax      2.000000    2.000000    7.000000   10.000000    8.000000    8.000000   \n\n              lvf      cathef        junk  \ncount  883.000000  311.000000  119.000000  \nmean     1.178935   27.623119    5.869748  \nstd      0.512572   31.675295    1.650914  \nmin      0.000000    0.220000    3.300000  \n25%      1.000000    0.685000    4.800000  \n50%      1.000000    0.820000    5.600000  \n75%      1.000000   63.000000    6.900000  \nmax      5.000000   86.000000   11.300000  \n\n[8 rows x 75 columns]",
      "text/html": "<div>\n<style scoped>\n    .dataframe tbody tr th:only-of-type {\n        vertical-align: middle;\n    }\n\n    .dataframe tbody tr th {\n        vertical-align: top;\n    }\n\n    .dataframe thead th {\n        text-align: right;\n    }\n</style>\n<table border=\"1\" class=\"dataframe\">\n  <thead>\n    <tr style=\"text-align: right;\">\n      <th></th>\n      <th>id</th>\n      <th>ccf</th>\n      <th>age</th>\n      <th>sex</th>\n      <th>painloc</th>\n      <th>painexer</th>\n      <th>relrest</th>\n      <th>pncaden</th>\n      <th>cp</th>\n      <th>trestbps</th>\n      <th>...</th>\n      <th>om2</th>\n      <th>rcaprox</th>\n      <th>rcadist</th>\n      <th>lvx1</th>\n      <th>lvx2</th>\n      <th>lvx3</th>\n      <th>lvx4</th>\n      <th>lvf</th>\n      <th>cathef</th>\n      <th>junk</th>\n    </tr>\n  </thead>\n  <tbody>\n    <tr>\n      <th>count</th>\n      <td>899.000000</td>\n      <td>899.0</td>\n      <td>899.000000</td>\n      <td>899.000000</td>\n      <td>617.000000</td>\n      <td>617.000000</td>\n      <td>613.000000</td>\n      <td>0.0</td>\n      <td>899.000000</td>\n      <td>840.000000</td>\n      <td>...</td>\n      <td>327.000000</td>\n      <td>654.000000</td>\n      <td>629.000000</td>\n      <td>880.000000</td>\n      <td>880.000000</td>\n      <td>880.000000</td>\n      <td>880.000000</td>\n      <td>883.000000</td>\n      <td>311.000000</td>\n      <td>119.000000</td>\n    </tr>\n    <tr>\n      <th>mean</th>\n      <td>957.235818</td>\n      <td>0.0</td>\n      <td>53.480534</td>\n      <td>0.790879</td>\n      <td>0.920583</td>\n      <td>0.593193</td>\n      <td>0.672104</td>\n      <td>NaN</td>\n      <td>3.253615</td>\n      <td>132.101190</td>\n      <td>...</td>\n      <td>1.067278</td>\n      <td>1.342508</td>\n      <td>1.171701</td>\n      <td>1.020455</td>\n      <td>1.032955</td>\n      <td>1.132955</td>\n      <td>1.611364</td>\n      <td>1.178935</td>\n      <td>27.623119</td>\n      <td>5.869748</td>\n    </tr>\n    <tr>\n      <th>std</th>\n      <td>1204.015482</td>\n      <td>0.0</td>\n      <td>9.435894</td>\n      <td>0.406908</td>\n      <td>0.270607</td>\n      <td>0.491637</td>\n      <td>0.469830</td>\n      <td>NaN</td>\n      <td>0.928499</td>\n      <td>19.151127</td>\n      <td>...</td>\n      <td>0.250887</td>\n      <td>0.474912</td>\n      <td>0.377421</td>\n      <td>0.277384</td>\n      <td>0.415902</td>\n      <td>0.703837</td>\n      <td>1.722199</td>\n      <td>0.512572</td>\n      <td>31.675295</td>\n      <td>1.650914</td>\n    </tr>\n    <tr>\n      <th>min</th>\n      <td>1.000000</td>\n      <td>0.0</td>\n      <td>28.000000</td>\n      <td>0.000000</td>\n      <td>0.000000</td>\n      <td>0.000000</td>\n      <td>0.000000</td>\n      <td>NaN</td>\n      <td>1.000000</td>\n      <td>0.000000</td>\n      <td>...</td>\n      <td>1.000000</td>\n      <td>1.000000</td>\n      <td>1.000000</td>\n      <td>1.000000</td>\n      <td>1.000000</td>\n      <td>1.000000</td>\n      <td>1.000000</td>\n      <td>0.000000</td>\n      <td>0.220000</td>\n      <td>3.300000</td>\n    </tr>\n    <tr>\n      <th>25%</th>\n      <td>116.000000</td>\n      <td>0.0</td>\n      <td>47.000000</td>\n      <td>1.000000</td>\n      <td>1.000000</td>\n      <td>0.000000</td>\n      <td>0.000000</td>\n      <td>NaN</td>\n      <td>3.000000</td>\n      <td>120.000000</td>\n      <td>...</td>\n      <td>1.000000</td>\n      <td>1.000000</td>\n      <td>1.000000</td>\n      <td>1.000000</td>\n      <td>1.000000</td>\n      <td>1.000000</td>\n      <td>1.000000</td>\n      <td>1.000000</td>\n      <td>0.685000</td>\n      <td>4.800000</td>\n    </tr>\n    <tr>\n      <th>50%</th>\n      <td>266.000000</td>\n      <td>0.0</td>\n      <td>54.000000</td>\n      <td>1.000000</td>\n      <td>1.000000</td>\n      <td>1.000000</td>\n      <td>1.000000</td>\n      <td>NaN</td>\n      <td>4.000000</td>\n      <td>130.000000</td>\n      <td>...</td>\n      <td>1.000000</td>\n      <td>1.000000</td>\n      <td>1.000000</td>\n      <td>1.000000</td>\n      <td>1.000000</td>\n      <td>1.000000</td>\n      <td>1.000000</td>\n      <td>1.000000</td>\n      <td>0.820000</td>\n      <td>5.600000</td>\n    </tr>\n    <tr>\n      <th>75%</th>\n      <td>1207.500000</td>\n      <td>0.0</td>\n      <td>60.000000</td>\n      <td>1.000000</td>\n      <td>1.000000</td>\n      <td>1.000000</td>\n      <td>1.000000</td>\n      <td>NaN</td>\n      <td>4.000000</td>\n      <td>140.000000</td>\n      <td>...</td>\n      <td>1.000000</td>\n      <td>2.000000</td>\n      <td>1.000000</td>\n      <td>1.000000</td>\n      <td>1.000000</td>\n      <td>1.000000</td>\n      <td>1.000000</td>\n      <td>1.000000</td>\n      <td>63.000000</td>\n      <td>6.900000</td>\n    </tr>\n    <tr>\n      <th>max</th>\n      <td>5002.000000</td>\n      <td>0.0</td>\n      <td>77.000000</td>\n      <td>1.000000</td>\n      <td>1.000000</td>\n      <td>1.000000</td>\n      <td>1.000000</td>\n      <td>NaN</td>\n      <td>4.000000</td>\n      <td>200.000000</td>\n      <td>...</td>\n      <td>2.000000</td>\n      <td>2.000000</td>\n      <td>2.000000</td>\n      <td>7.000000</td>\n      <td>10.000000</td>\n      <td>8.000000</td>\n      <td>8.000000</td>\n      <td>5.000000</td>\n      <td>86.000000</td>\n      <td>11.300000</td>\n    </tr>\n  </tbody>\n</table>\n<p>8 rows × 75 columns</p>\n</div>"
     },
     "execution_count": 24,
     "metadata": {},
     "output_type": "execute_result"
    }
   ],
   "source": [
    "df.describe()"
   ]
  },
  {
   "cell_type": "code",
   "execution_count": 25,
   "outputs": [
    {
     "data": {
      "text/plain": "       id  ccf   age  sex  painloc  painexer  relrest  pncaden   cp  trestbps  \\\n0  1254.0  0.0  40.0  1.0      1.0       0.0      0.0      NaN  2.0     140.0   \n1  1255.0  0.0  49.0  0.0      1.0       0.0      0.0      NaN  3.0     160.0   \n2  1256.0  0.0  37.0  1.0      1.0       0.0      0.0      NaN  2.0     130.0   \n3  1257.0  0.0  48.0  0.0      1.0       1.0      1.0      NaN  4.0     138.0   \n4  1258.0  0.0  54.0  1.0      1.0       0.0      1.0      NaN  3.0     150.0   \n\n   ...  rcadist  lvx1  lvx2  lvx3  lvx4  lvf  cathef  junk  name    dataset  \n0  ...      NaN   1.0   1.0   1.0   1.0  1.0     NaN   NaN  name  hungarian  \n1  ...      NaN   1.0   1.0   1.0   1.0  1.0     NaN   NaN  name  hungarian  \n2  ...      NaN   1.0   1.0   1.0   1.0  1.0     NaN   NaN  name  hungarian  \n3  ...      NaN   1.0   1.0   1.0   1.0  1.0     NaN   NaN  name  hungarian  \n4  ...      NaN   1.0   1.0   1.0   1.0  1.0     NaN   NaN  name  hungarian  \n\n[5 rows x 77 columns]",
      "text/html": "<div>\n<style scoped>\n    .dataframe tbody tr th:only-of-type {\n        vertical-align: middle;\n    }\n\n    .dataframe tbody tr th {\n        vertical-align: top;\n    }\n\n    .dataframe thead th {\n        text-align: right;\n    }\n</style>\n<table border=\"1\" class=\"dataframe\">\n  <thead>\n    <tr style=\"text-align: right;\">\n      <th></th>\n      <th>id</th>\n      <th>ccf</th>\n      <th>age</th>\n      <th>sex</th>\n      <th>painloc</th>\n      <th>painexer</th>\n      <th>relrest</th>\n      <th>pncaden</th>\n      <th>cp</th>\n      <th>trestbps</th>\n      <th>...</th>\n      <th>rcadist</th>\n      <th>lvx1</th>\n      <th>lvx2</th>\n      <th>lvx3</th>\n      <th>lvx4</th>\n      <th>lvf</th>\n      <th>cathef</th>\n      <th>junk</th>\n      <th>name</th>\n      <th>dataset</th>\n    </tr>\n  </thead>\n  <tbody>\n    <tr>\n      <th>0</th>\n      <td>1254.0</td>\n      <td>0.0</td>\n      <td>40.0</td>\n      <td>1.0</td>\n      <td>1.0</td>\n      <td>0.0</td>\n      <td>0.0</td>\n      <td>NaN</td>\n      <td>2.0</td>\n      <td>140.0</td>\n      <td>...</td>\n      <td>NaN</td>\n      <td>1.0</td>\n      <td>1.0</td>\n      <td>1.0</td>\n      <td>1.0</td>\n      <td>1.0</td>\n      <td>NaN</td>\n      <td>NaN</td>\n      <td>name</td>\n      <td>hungarian</td>\n    </tr>\n    <tr>\n      <th>1</th>\n      <td>1255.0</td>\n      <td>0.0</td>\n      <td>49.0</td>\n      <td>0.0</td>\n      <td>1.0</td>\n      <td>0.0</td>\n      <td>0.0</td>\n      <td>NaN</td>\n      <td>3.0</td>\n      <td>160.0</td>\n      <td>...</td>\n      <td>NaN</td>\n      <td>1.0</td>\n      <td>1.0</td>\n      <td>1.0</td>\n      <td>1.0</td>\n      <td>1.0</td>\n      <td>NaN</td>\n      <td>NaN</td>\n      <td>name</td>\n      <td>hungarian</td>\n    </tr>\n    <tr>\n      <th>2</th>\n      <td>1256.0</td>\n      <td>0.0</td>\n      <td>37.0</td>\n      <td>1.0</td>\n      <td>1.0</td>\n      <td>0.0</td>\n      <td>0.0</td>\n      <td>NaN</td>\n      <td>2.0</td>\n      <td>130.0</td>\n      <td>...</td>\n      <td>NaN</td>\n      <td>1.0</td>\n      <td>1.0</td>\n      <td>1.0</td>\n      <td>1.0</td>\n      <td>1.0</td>\n      <td>NaN</td>\n      <td>NaN</td>\n      <td>name</td>\n      <td>hungarian</td>\n    </tr>\n    <tr>\n      <th>3</th>\n      <td>1257.0</td>\n      <td>0.0</td>\n      <td>48.0</td>\n      <td>0.0</td>\n      <td>1.0</td>\n      <td>1.0</td>\n      <td>1.0</td>\n      <td>NaN</td>\n      <td>4.0</td>\n      <td>138.0</td>\n      <td>...</td>\n      <td>NaN</td>\n      <td>1.0</td>\n      <td>1.0</td>\n      <td>1.0</td>\n      <td>1.0</td>\n      <td>1.0</td>\n      <td>NaN</td>\n      <td>NaN</td>\n      <td>name</td>\n      <td>hungarian</td>\n    </tr>\n    <tr>\n      <th>4</th>\n      <td>1258.0</td>\n      <td>0.0</td>\n      <td>54.0</td>\n      <td>1.0</td>\n      <td>1.0</td>\n      <td>0.0</td>\n      <td>1.0</td>\n      <td>NaN</td>\n      <td>3.0</td>\n      <td>150.0</td>\n      <td>...</td>\n      <td>NaN</td>\n      <td>1.0</td>\n      <td>1.0</td>\n      <td>1.0</td>\n      <td>1.0</td>\n      <td>1.0</td>\n      <td>NaN</td>\n      <td>NaN</td>\n      <td>name</td>\n      <td>hungarian</td>\n    </tr>\n  </tbody>\n</table>\n<p>5 rows × 77 columns</p>\n</div>"
     },
     "execution_count": 25,
     "metadata": {},
     "output_type": "execute_result"
    }
   ],
   "source": [
    "df.head()"
   ],
   "metadata": {
    "collapsed": false
   }
  },
  {
   "cell_type": "code",
   "execution_count": 25,
   "outputs": [],
   "source": [],
   "metadata": {
    "collapsed": false
   }
  },
  {
   "cell_type": "markdown",
   "source": [
    "# Explore how many NaNs are within one coloumn for each attribute."
   ],
   "metadata": {
    "collapsed": false
   }
  },
  {
   "cell_type": "code",
   "execution_count": 26,
   "metadata": {},
   "outputs": [
    {
     "data": {
      "text/plain": "               id  ccf  age  sex  painloc  painexer  relrest  pncaden  cp  \\\ndataset                                                                     \ncleveland       0    0    0    0      282       282      282      282   0   \nhungarian       1    1    1    1        1         1        1      295   1   \nlong-beach-va   1    1    1    1        1         1        5      201   1   \nswitzerland     0    0    0    0        0         0        0      123   0   \n\n               trestbps  ...  rcaprox  rcadist  lvx1  lvx2  lvx3  lvx4  lvf  \\\ndataset                  ...                                                  \ncleveland             0  ...        0        0     0     0     0     0    0   \nhungarian             2  ...      245      270     1     1     1     1    1   \nlong-beach-va        57  ...        2        2     3     3     3     3    4   \nswitzerland           2  ...        0        0    17    17    17    17   13   \n\n               cathef  junk  name  \ndataset                            \ncleveland         282   282     0  \nhungarian         267   295     1  \nlong-beach-va      24    82     1  \nswitzerland        17   123     0  \n\n[4 rows x 76 columns]",
      "text/html": "<div>\n<style scoped>\n    .dataframe tbody tr th:only-of-type {\n        vertical-align: middle;\n    }\n\n    .dataframe tbody tr th {\n        vertical-align: top;\n    }\n\n    .dataframe thead th {\n        text-align: right;\n    }\n</style>\n<table border=\"1\" class=\"dataframe\">\n  <thead>\n    <tr style=\"text-align: right;\">\n      <th></th>\n      <th>id</th>\n      <th>ccf</th>\n      <th>age</th>\n      <th>sex</th>\n      <th>painloc</th>\n      <th>painexer</th>\n      <th>relrest</th>\n      <th>pncaden</th>\n      <th>cp</th>\n      <th>trestbps</th>\n      <th>...</th>\n      <th>rcaprox</th>\n      <th>rcadist</th>\n      <th>lvx1</th>\n      <th>lvx2</th>\n      <th>lvx3</th>\n      <th>lvx4</th>\n      <th>lvf</th>\n      <th>cathef</th>\n      <th>junk</th>\n      <th>name</th>\n    </tr>\n    <tr>\n      <th>dataset</th>\n      <th></th>\n      <th></th>\n      <th></th>\n      <th></th>\n      <th></th>\n      <th></th>\n      <th></th>\n      <th></th>\n      <th></th>\n      <th></th>\n      <th></th>\n      <th></th>\n      <th></th>\n      <th></th>\n      <th></th>\n      <th></th>\n      <th></th>\n      <th></th>\n      <th></th>\n      <th></th>\n      <th></th>\n    </tr>\n  </thead>\n  <tbody>\n    <tr>\n      <th>cleveland</th>\n      <td>0</td>\n      <td>0</td>\n      <td>0</td>\n      <td>0</td>\n      <td>282</td>\n      <td>282</td>\n      <td>282</td>\n      <td>282</td>\n      <td>0</td>\n      <td>0</td>\n      <td>...</td>\n      <td>0</td>\n      <td>0</td>\n      <td>0</td>\n      <td>0</td>\n      <td>0</td>\n      <td>0</td>\n      <td>0</td>\n      <td>282</td>\n      <td>282</td>\n      <td>0</td>\n    </tr>\n    <tr>\n      <th>hungarian</th>\n      <td>1</td>\n      <td>1</td>\n      <td>1</td>\n      <td>1</td>\n      <td>1</td>\n      <td>1</td>\n      <td>1</td>\n      <td>295</td>\n      <td>1</td>\n      <td>2</td>\n      <td>...</td>\n      <td>245</td>\n      <td>270</td>\n      <td>1</td>\n      <td>1</td>\n      <td>1</td>\n      <td>1</td>\n      <td>1</td>\n      <td>267</td>\n      <td>295</td>\n      <td>1</td>\n    </tr>\n    <tr>\n      <th>long-beach-va</th>\n      <td>1</td>\n      <td>1</td>\n      <td>1</td>\n      <td>1</td>\n      <td>1</td>\n      <td>1</td>\n      <td>5</td>\n      <td>201</td>\n      <td>1</td>\n      <td>57</td>\n      <td>...</td>\n      <td>2</td>\n      <td>2</td>\n      <td>3</td>\n      <td>3</td>\n      <td>3</td>\n      <td>3</td>\n      <td>4</td>\n      <td>24</td>\n      <td>82</td>\n      <td>1</td>\n    </tr>\n    <tr>\n      <th>switzerland</th>\n      <td>0</td>\n      <td>0</td>\n      <td>0</td>\n      <td>0</td>\n      <td>0</td>\n      <td>0</td>\n      <td>0</td>\n      <td>123</td>\n      <td>0</td>\n      <td>2</td>\n      <td>...</td>\n      <td>0</td>\n      <td>0</td>\n      <td>17</td>\n      <td>17</td>\n      <td>17</td>\n      <td>17</td>\n      <td>13</td>\n      <td>17</td>\n      <td>123</td>\n      <td>0</td>\n    </tr>\n  </tbody>\n</table>\n<p>4 rows × 76 columns</p>\n</div>"
     },
     "execution_count": 26,
     "metadata": {},
     "output_type": "execute_result"
    }
   ],
   "source": [
    "(df.loc[ : , df.columns != 'dataset'].isna()).join(df['dataset']).groupby(\"dataset\").sum()"
   ]
  },
  {
   "cell_type": "markdown",
   "source": [
    "\n"
   ],
   "metadata": {
    "collapsed": false
   }
  },
  {
   "cell_type": "code",
   "execution_count": 27,
   "outputs": [],
   "source": [
    "df.drop([\"painloc\", \"painexer\", \"relrest\", \"pncaden\", \"trestbps\", \"htn\", \"chol\", \"smoke\", \"cigs\", \"years\", \"fbs\",  \"dm\", \"famhist\", \"ekgmo\", \"ekgday\", \"ekgyr\", \"dig\", \"prop\", \"nitr\", \"pro\", \"diuretic\", \"proto\", \"thaldur\", \"thaltime\", \"met\", \"slope\", \"rldv5\", \"rldv5e\", \"ca\", \"restckm\", \"exerckm\", \"restef\", \"restwm\", \"exeref\", \"exerwm\", \"thal\", \"thalsev\", \"thalpul\", \"earlobe\", \"lmt\", \"ladprox\", \"laddist\", \"diag\", \"cxmain\", \"ramus\", \"om1\", \"om2\", \"rcaprox\", \"rcadist\", \"lvx1\", \"lvx2\", \"lvx3\", \"lvx4\", \"lvf\", \"cathef\", \"junk\",\"thal\" ], inplace=True, axis=1)"
   ],
   "metadata": {
    "collapsed": false
   }
  },
  {
   "cell_type": "code",
   "execution_count": 28,
   "outputs": [
    {
     "data": {
      "text/plain": "id           2\nccf          2\nage          2\nsex          2\ncp           2\nrestecg      4\nthalach     57\nthalrest    58\ntpeakbps    65\ntpeakbpd    65\ndummy       61\ntrestbpd    61\nexang       57\nxhypo       60\noldpeak     64\ncmo         13\ncday        11\ncyr         11\nnum          2\nname         2\ndataset      0\ndtype: int64"
     },
     "execution_count": 28,
     "metadata": {},
     "output_type": "execute_result"
    }
   ],
   "source": [
    "df.isna().sum()"
   ],
   "metadata": {
    "collapsed": false
   }
  },
  {
   "cell_type": "code",
   "execution_count": 29,
   "outputs": [],
   "source": [
    "df.dropna(inplace=True, axis=0, how='any')"
   ],
   "metadata": {
    "collapsed": false
   }
  },
  {
   "cell_type": "code",
   "execution_count": 30,
   "outputs": [
    {
     "data": {
      "text/plain": "               id  ccf  age  sex  cp  restecg  thalach  thalrest  tpeakbps  \\\ndataset                                                                      \ncleveland       0    0    0    0   0        0        0         0         0   \nhungarian       0    0    0    0   0        0        0         0         0   \nlong-beach-va   0    0    0    0   0        0        0         0         0   \nswitzerland     0    0    0    0   0        0        0         0         0   \n\n               tpeakbpd  dummy  trestbpd  exang  xhypo  oldpeak  cmo  cday  \\\ndataset                                                                      \ncleveland             0      0         0      0      0        0    0     0   \nhungarian             0      0         0      0      0        0    0     0   \nlong-beach-va         0      0         0      0      0        0    0     0   \nswitzerland           0      0         0      0      0        0    0     0   \n\n               cyr  num  name  \ndataset                        \ncleveland        0    0     0  \nhungarian        0    0     0  \nlong-beach-va    0    0     0  \nswitzerland      0    0     0  ",
      "text/html": "<div>\n<style scoped>\n    .dataframe tbody tr th:only-of-type {\n        vertical-align: middle;\n    }\n\n    .dataframe tbody tr th {\n        vertical-align: top;\n    }\n\n    .dataframe thead th {\n        text-align: right;\n    }\n</style>\n<table border=\"1\" class=\"dataframe\">\n  <thead>\n    <tr style=\"text-align: right;\">\n      <th></th>\n      <th>id</th>\n      <th>ccf</th>\n      <th>age</th>\n      <th>sex</th>\n      <th>cp</th>\n      <th>restecg</th>\n      <th>thalach</th>\n      <th>thalrest</th>\n      <th>tpeakbps</th>\n      <th>tpeakbpd</th>\n      <th>dummy</th>\n      <th>trestbpd</th>\n      <th>exang</th>\n      <th>xhypo</th>\n      <th>oldpeak</th>\n      <th>cmo</th>\n      <th>cday</th>\n      <th>cyr</th>\n      <th>num</th>\n      <th>name</th>\n    </tr>\n    <tr>\n      <th>dataset</th>\n      <th></th>\n      <th></th>\n      <th></th>\n      <th></th>\n      <th></th>\n      <th></th>\n      <th></th>\n      <th></th>\n      <th></th>\n      <th></th>\n      <th></th>\n      <th></th>\n      <th></th>\n      <th></th>\n      <th></th>\n      <th></th>\n      <th></th>\n      <th></th>\n      <th></th>\n      <th></th>\n    </tr>\n  </thead>\n  <tbody>\n    <tr>\n      <th>cleveland</th>\n      <td>0</td>\n      <td>0</td>\n      <td>0</td>\n      <td>0</td>\n      <td>0</td>\n      <td>0</td>\n      <td>0</td>\n      <td>0</td>\n      <td>0</td>\n      <td>0</td>\n      <td>0</td>\n      <td>0</td>\n      <td>0</td>\n      <td>0</td>\n      <td>0</td>\n      <td>0</td>\n      <td>0</td>\n      <td>0</td>\n      <td>0</td>\n      <td>0</td>\n    </tr>\n    <tr>\n      <th>hungarian</th>\n      <td>0</td>\n      <td>0</td>\n      <td>0</td>\n      <td>0</td>\n      <td>0</td>\n      <td>0</td>\n      <td>0</td>\n      <td>0</td>\n      <td>0</td>\n      <td>0</td>\n      <td>0</td>\n      <td>0</td>\n      <td>0</td>\n      <td>0</td>\n      <td>0</td>\n      <td>0</td>\n      <td>0</td>\n      <td>0</td>\n      <td>0</td>\n      <td>0</td>\n    </tr>\n    <tr>\n      <th>long-beach-va</th>\n      <td>0</td>\n      <td>0</td>\n      <td>0</td>\n      <td>0</td>\n      <td>0</td>\n      <td>0</td>\n      <td>0</td>\n      <td>0</td>\n      <td>0</td>\n      <td>0</td>\n      <td>0</td>\n      <td>0</td>\n      <td>0</td>\n      <td>0</td>\n      <td>0</td>\n      <td>0</td>\n      <td>0</td>\n      <td>0</td>\n      <td>0</td>\n      <td>0</td>\n    </tr>\n    <tr>\n      <th>switzerland</th>\n      <td>0</td>\n      <td>0</td>\n      <td>0</td>\n      <td>0</td>\n      <td>0</td>\n      <td>0</td>\n      <td>0</td>\n      <td>0</td>\n      <td>0</td>\n      <td>0</td>\n      <td>0</td>\n      <td>0</td>\n      <td>0</td>\n      <td>0</td>\n      <td>0</td>\n      <td>0</td>\n      <td>0</td>\n      <td>0</td>\n      <td>0</td>\n      <td>0</td>\n    </tr>\n  </tbody>\n</table>\n</div>"
     },
     "execution_count": 30,
     "metadata": {},
     "output_type": "execute_result"
    }
   ],
   "source": [
    "(df.loc[ : , df.columns != 'dataset'].isna()).join(df['dataset']).groupby(\"dataset\").sum()"
   ],
   "metadata": {
    "collapsed": false
   }
  },
  {
   "cell_type": "code",
   "execution_count": 31,
   "outputs": [
    {
     "data": {
      "text/plain": "(815, 21)"
     },
     "execution_count": 31,
     "metadata": {},
     "output_type": "execute_result"
    }
   ],
   "source": [
    "df.shape"
   ],
   "metadata": {
    "collapsed": false
   }
  },
  {
   "cell_type": "code",
   "execution_count": 31,
   "metadata": {},
   "outputs": [],
   "source": []
  },
  {
   "cell_type": "code",
   "execution_count": 32,
   "metadata": {},
   "outputs": [],
   "source": [
    "df.drop(['id', 'name'], inplace=True, axis=1)"
   ]
  },
  {
   "cell_type": "code",
   "execution_count": 33,
   "outputs": [
    {
     "data": {
      "text/plain": "     ccf   age  sex   cp  restecg  thalach  thalrest  tpeakbps  tpeakbpd  \\\n0    0.0  40.0  1.0  2.0      0.0    172.0      86.0     200.0     110.0   \n1    0.0  49.0  0.0  3.0      0.0    156.0     100.0     220.0     106.0   \n2    0.0  37.0  1.0  2.0      1.0     98.0      58.0     180.0     100.0   \n3    0.0  48.0  0.0  4.0      0.0    108.0      54.0     210.0     106.0   \n4    0.0  54.0  1.0  3.0      0.0    122.0      74.0     130.0     100.0   \n..   ...   ...  ...  ...      ...      ...       ...       ...       ...   \n893  0.0  62.0  1.0  4.0      1.0    138.0      86.0     202.0      98.0   \n894  0.0  46.0  1.0  4.0      0.0    126.0      88.0     174.0     114.0   \n895  0.0  54.0  0.0  4.0      1.0    154.0      83.0     158.0      84.0   \n897  0.0  55.0  1.0  4.0      1.0    100.0      74.0     210.0     100.0   \n899  0.0  62.0  1.0  2.0      2.0     93.0      67.0     164.0     110.0   \n\n     dummy  trestbpd  exang  xhypo  oldpeak   cmo  cday   cyr  num  \\\n0    140.0      86.0    0.0    0.0      0.0  12.0  20.0  84.0  0.0   \n1    160.0      90.0    0.0    0.0      1.0  11.0  20.0  84.0  1.0   \n2    130.0      80.0    0.0    0.0      0.0  11.0  26.0  84.0  0.0   \n3    138.0      86.0    1.0    0.0      1.5   9.0  30.0  84.0  3.0   \n4    150.0      90.0    0.0    1.0      0.0   7.0  30.0  84.0  0.0   \n..     ...       ...    ...    ...      ...   ...   ...   ...  ...   \n893  158.0      90.0    1.0    0.0      0.0   1.0  26.0  87.0  1.0   \n894  134.0      90.0    0.0    0.0      0.0   7.0  28.0  83.0  2.0   \n895  127.0      78.0    0.0    0.0      0.0   6.0  29.0  83.0  1.0   \n897  122.0      70.0    0.0    0.0      0.0   4.0  17.0  86.0  2.0   \n899  120.0      80.0    1.0    0.0      0.0   6.0  20.0  83.0  1.0   \n\n           dataset  \n0        hungarian  \n1        hungarian  \n2        hungarian  \n3        hungarian  \n4        hungarian  \n..             ...  \n893  long-beach-va  \n894  long-beach-va  \n895  long-beach-va  \n897  long-beach-va  \n899  long-beach-va  \n\n[815 rows x 19 columns]",
      "text/html": "<div>\n<style scoped>\n    .dataframe tbody tr th:only-of-type {\n        vertical-align: middle;\n    }\n\n    .dataframe tbody tr th {\n        vertical-align: top;\n    }\n\n    .dataframe thead th {\n        text-align: right;\n    }\n</style>\n<table border=\"1\" class=\"dataframe\">\n  <thead>\n    <tr style=\"text-align: right;\">\n      <th></th>\n      <th>ccf</th>\n      <th>age</th>\n      <th>sex</th>\n      <th>cp</th>\n      <th>restecg</th>\n      <th>thalach</th>\n      <th>thalrest</th>\n      <th>tpeakbps</th>\n      <th>tpeakbpd</th>\n      <th>dummy</th>\n      <th>trestbpd</th>\n      <th>exang</th>\n      <th>xhypo</th>\n      <th>oldpeak</th>\n      <th>cmo</th>\n      <th>cday</th>\n      <th>cyr</th>\n      <th>num</th>\n      <th>dataset</th>\n    </tr>\n  </thead>\n  <tbody>\n    <tr>\n      <th>0</th>\n      <td>0.0</td>\n      <td>40.0</td>\n      <td>1.0</td>\n      <td>2.0</td>\n      <td>0.0</td>\n      <td>172.0</td>\n      <td>86.0</td>\n      <td>200.0</td>\n      <td>110.0</td>\n      <td>140.0</td>\n      <td>86.0</td>\n      <td>0.0</td>\n      <td>0.0</td>\n      <td>0.0</td>\n      <td>12.0</td>\n      <td>20.0</td>\n      <td>84.0</td>\n      <td>0.0</td>\n      <td>hungarian</td>\n    </tr>\n    <tr>\n      <th>1</th>\n      <td>0.0</td>\n      <td>49.0</td>\n      <td>0.0</td>\n      <td>3.0</td>\n      <td>0.0</td>\n      <td>156.0</td>\n      <td>100.0</td>\n      <td>220.0</td>\n      <td>106.0</td>\n      <td>160.0</td>\n      <td>90.0</td>\n      <td>0.0</td>\n      <td>0.0</td>\n      <td>1.0</td>\n      <td>11.0</td>\n      <td>20.0</td>\n      <td>84.0</td>\n      <td>1.0</td>\n      <td>hungarian</td>\n    </tr>\n    <tr>\n      <th>2</th>\n      <td>0.0</td>\n      <td>37.0</td>\n      <td>1.0</td>\n      <td>2.0</td>\n      <td>1.0</td>\n      <td>98.0</td>\n      <td>58.0</td>\n      <td>180.0</td>\n      <td>100.0</td>\n      <td>130.0</td>\n      <td>80.0</td>\n      <td>0.0</td>\n      <td>0.0</td>\n      <td>0.0</td>\n      <td>11.0</td>\n      <td>26.0</td>\n      <td>84.0</td>\n      <td>0.0</td>\n      <td>hungarian</td>\n    </tr>\n    <tr>\n      <th>3</th>\n      <td>0.0</td>\n      <td>48.0</td>\n      <td>0.0</td>\n      <td>4.0</td>\n      <td>0.0</td>\n      <td>108.0</td>\n      <td>54.0</td>\n      <td>210.0</td>\n      <td>106.0</td>\n      <td>138.0</td>\n      <td>86.0</td>\n      <td>1.0</td>\n      <td>0.0</td>\n      <td>1.5</td>\n      <td>9.0</td>\n      <td>30.0</td>\n      <td>84.0</td>\n      <td>3.0</td>\n      <td>hungarian</td>\n    </tr>\n    <tr>\n      <th>4</th>\n      <td>0.0</td>\n      <td>54.0</td>\n      <td>1.0</td>\n      <td>3.0</td>\n      <td>0.0</td>\n      <td>122.0</td>\n      <td>74.0</td>\n      <td>130.0</td>\n      <td>100.0</td>\n      <td>150.0</td>\n      <td>90.0</td>\n      <td>0.0</td>\n      <td>1.0</td>\n      <td>0.0</td>\n      <td>7.0</td>\n      <td>30.0</td>\n      <td>84.0</td>\n      <td>0.0</td>\n      <td>hungarian</td>\n    </tr>\n    <tr>\n      <th>...</th>\n      <td>...</td>\n      <td>...</td>\n      <td>...</td>\n      <td>...</td>\n      <td>...</td>\n      <td>...</td>\n      <td>...</td>\n      <td>...</td>\n      <td>...</td>\n      <td>...</td>\n      <td>...</td>\n      <td>...</td>\n      <td>...</td>\n      <td>...</td>\n      <td>...</td>\n      <td>...</td>\n      <td>...</td>\n      <td>...</td>\n      <td>...</td>\n    </tr>\n    <tr>\n      <th>893</th>\n      <td>0.0</td>\n      <td>62.0</td>\n      <td>1.0</td>\n      <td>4.0</td>\n      <td>1.0</td>\n      <td>138.0</td>\n      <td>86.0</td>\n      <td>202.0</td>\n      <td>98.0</td>\n      <td>158.0</td>\n      <td>90.0</td>\n      <td>1.0</td>\n      <td>0.0</td>\n      <td>0.0</td>\n      <td>1.0</td>\n      <td>26.0</td>\n      <td>87.0</td>\n      <td>1.0</td>\n      <td>long-beach-va</td>\n    </tr>\n    <tr>\n      <th>894</th>\n      <td>0.0</td>\n      <td>46.0</td>\n      <td>1.0</td>\n      <td>4.0</td>\n      <td>0.0</td>\n      <td>126.0</td>\n      <td>88.0</td>\n      <td>174.0</td>\n      <td>114.0</td>\n      <td>134.0</td>\n      <td>90.0</td>\n      <td>0.0</td>\n      <td>0.0</td>\n      <td>0.0</td>\n      <td>7.0</td>\n      <td>28.0</td>\n      <td>83.0</td>\n      <td>2.0</td>\n      <td>long-beach-va</td>\n    </tr>\n    <tr>\n      <th>895</th>\n      <td>0.0</td>\n      <td>54.0</td>\n      <td>0.0</td>\n      <td>4.0</td>\n      <td>1.0</td>\n      <td>154.0</td>\n      <td>83.0</td>\n      <td>158.0</td>\n      <td>84.0</td>\n      <td>127.0</td>\n      <td>78.0</td>\n      <td>0.0</td>\n      <td>0.0</td>\n      <td>0.0</td>\n      <td>6.0</td>\n      <td>29.0</td>\n      <td>83.0</td>\n      <td>1.0</td>\n      <td>long-beach-va</td>\n    </tr>\n    <tr>\n      <th>897</th>\n      <td>0.0</td>\n      <td>55.0</td>\n      <td>1.0</td>\n      <td>4.0</td>\n      <td>1.0</td>\n      <td>100.0</td>\n      <td>74.0</td>\n      <td>210.0</td>\n      <td>100.0</td>\n      <td>122.0</td>\n      <td>70.0</td>\n      <td>0.0</td>\n      <td>0.0</td>\n      <td>0.0</td>\n      <td>4.0</td>\n      <td>17.0</td>\n      <td>86.0</td>\n      <td>2.0</td>\n      <td>long-beach-va</td>\n    </tr>\n    <tr>\n      <th>899</th>\n      <td>0.0</td>\n      <td>62.0</td>\n      <td>1.0</td>\n      <td>2.0</td>\n      <td>2.0</td>\n      <td>93.0</td>\n      <td>67.0</td>\n      <td>164.0</td>\n      <td>110.0</td>\n      <td>120.0</td>\n      <td>80.0</td>\n      <td>1.0</td>\n      <td>0.0</td>\n      <td>0.0</td>\n      <td>6.0</td>\n      <td>20.0</td>\n      <td>83.0</td>\n      <td>1.0</td>\n      <td>long-beach-va</td>\n    </tr>\n  </tbody>\n</table>\n<p>815 rows × 19 columns</p>\n</div>"
     },
     "execution_count": 33,
     "metadata": {},
     "output_type": "execute_result"
    }
   ],
   "source": [
    "df"
   ],
   "metadata": {
    "collapsed": false
   }
  },
  {
   "cell_type": "code",
   "execution_count": 34,
   "outputs": [
    {
     "ename": "ModuleNotFoundError",
     "evalue": "No module named 'pandas_profiling'",
     "output_type": "error",
     "traceback": [
      "\u001B[0;31m---------------------------------------------------------------------------\u001B[0m",
      "\u001B[0;31mModuleNotFoundError\u001B[0m                       Traceback (most recent call last)",
      "Input \u001B[0;32mIn [34]\u001B[0m, in \u001B[0;36m<cell line: 1>\u001B[0;34m()\u001B[0m\n\u001B[0;32m----> 1\u001B[0m \u001B[38;5;28;01mfrom\u001B[39;00m \u001B[38;5;21;01mpandas_profiling\u001B[39;00m \u001B[38;5;28;01mimport\u001B[39;00m ProfileReport\n\u001B[1;32m      2\u001B[0m ProfileReport(df, title\u001B[38;5;241m=\u001B[39m\u001B[38;5;124m'\u001B[39m\u001B[38;5;124mPandas Profiling Report\u001B[39m\u001B[38;5;124m'\u001B[39m)\n",
      "\u001B[0;31mModuleNotFoundError\u001B[0m: No module named 'pandas_profiling'"
     ]
    }
   ],
   "source": [
    "# from pandas_profiling import ProfileReport\n",
    "# ProfileReport(df, title='Pandas Profiling Report')"
   ],
   "metadata": {
    "collapsed": false
   }
  },
  {
   "cell_type": "code",
   "execution_count": null,
   "outputs": [],
   "source": [
    "from sklearn.preprocessing import LabelEncoder\n",
    "\n",
    "labelEncoder = LabelEncoder()\n",
    "df['num'] = labelEncoder.fit_transform(df['num'])"
   ],
   "metadata": {
    "collapsed": false
   }
  },
  {
   "cell_type": "code",
   "execution_count": null,
   "outputs": [],
   "source": [
    "X = df.loc[:,(df.columns!= 'num') & (df.columns != 'dataset')]\n",
    "y = df['num']"
   ],
   "metadata": {
    "collapsed": false
   }
  },
  {
   "cell_type": "code",
   "execution_count": null,
   "outputs": [],
   "source": [
    "from sklearn.preprocessing import MinMaxScaler\n",
    "from statistics import mean, stdev\n",
    "from sklearn.model_selection import StratifiedKFold\n",
    "from catboost import CatBoostClassifier\n",
    "\n",
    "stratifiedKFold = StratifiedKFold(n_splits=10, shuffle=True, random_state=1)\n",
    "lst_accu_stratified = []\n",
    "\n",
    "catboost = CatBoostClassifier()\n",
    "minMaxScaler = MinMaxScaler()\n",
    "X = minMaxScaler.fit_transform(X)\n",
    "\n",
    "for train_index, test_index in stratifiedKFold.split(X, y):\n",
    "    x_train_fold, x_test_fold = X[train_index], X[test_index]\n",
    "    y_train_fold, y_test_fold = y.iloc[train_index], y.iloc[test_index]\n",
    "    catboost.fit(x_train_fold, y_train_fold)\n",
    "    lst_accu_stratified.append(catboost.score(x_test_fold, y_test_fold))\n",
    "\n",
    "# Print the output.\n",
    "print('List of possible accuracy:', lst_accu_stratified)\n",
    "print('\\nMaximum Accuracy That can be obtained from this model is:',\n",
    "      max(lst_accu_stratified)*100, '%')\n",
    "print('\\nMinimum Accuracy:',\n",
    "      min(lst_accu_stratified)*100, '%')\n",
    "print('\\nOverall Accuracy:',\n",
    "      mean(lst_accu_stratified)*100, '%')\n",
    "print('\\nStandard Deviation is:', stdev(lst_accu_stratified))"
   ],
   "metadata": {
    "collapsed": false
   }
  },
  {
   "cell_type": "code",
   "execution_count": null,
   "outputs": [],
   "source": [],
   "metadata": {
    "collapsed": false
   }
  }
 ],
 "metadata": {
  "kernelspec": {
   "display_name": "Python 3.9.13 ('DataMiningProject2')",
   "language": "python",
   "name": "python3"
  },
  "language_info": {
   "codemirror_mode": {
    "name": "ipython",
    "version": 3
   },
   "file_extension": ".py",
   "mimetype": "text/x-python",
   "name": "python",
   "nbconvert_exporter": "python",
   "pygments_lexer": "ipython3",
   "version": "3.9.13"
  },
  "vscode": {
   "interpreter": {
    "hash": "4aaa70b3f83a08434846db2de7f2ce4d35a0c36d9acb60f21f9dc99989da51c4"
   }
  }
 },
 "nbformat": 4,
 "nbformat_minor": 2
}
