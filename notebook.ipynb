{
 "cells": [
  {
   "cell_type": "code",
   "execution_count": 590,
   "metadata": {},
   "outputs": [],
   "source": [
    "# Variables for configuration\n",
    "generate_pandas_profiling_reports = False \n",
    "process_preprocessed_data_of_uci = False\n",
    "print_pair_plots = False"
   ]
  },
  {
   "cell_type": "code",
   "execution_count": 591,
   "metadata": {},
   "outputs": [],
   "source": [
    "import pandas as pd\n",
    "from pandas_profiling import ProfileReport\n",
    "import seaborn as sns\n",
    "import matplotlib.pyplot as plt\n",
    "import numpy as np\n",
    "\n",
    "import matplotlib as mpl\n",
    "mpl.rc('image', cmap='coolwarm')\n",
    "\n",
    "# set pandas to show all columns of the df when using the display function\n",
    "pd.set_option('display.max_columns', None)"
   ]
  },
  {
   "cell_type": "code",
   "execution_count": 592,
   "metadata": {},
   "outputs": [],
   "source": [
    "# list the datasets that should be used in the current run\n",
    "datasets = [\"hungarian\", \"cleveland\", \"switzerland\", \"long-beach-va\"]"
   ]
  },
  {
   "cell_type": "code",
   "execution_count": 593,
   "metadata": {},
   "outputs": [],
   "source": [
    "# custom function to read the dataset into a csv formated string\n",
    "# the name is used as a delimiter here because it is the last feature and common among all entrys \n",
    "def readRawData(filePath:str):\n",
    "    with open(filePath) as file:\n",
    "        dataString = file.read()\n",
    "        dataString = dataString.replace(\"\\n\",\" \")\n",
    "        dataString = dataString.replace(\"name \",\"name\\n\")\n",
    "        dataString = dataString.replace(\" \",\",\")\n",
    "        return dataString"
   ]
  },
  {
   "cell_type": "code",
   "execution_count": 594,
   "metadata": {},
   "outputs": [],
   "source": [
    "# read the data from the specified datasets into the df \n",
    "from io import StringIO\n",
    "df = pd.DataFrame()\n",
    "for dataset in datasets:\n",
    "    dataset_df = pd.read_csv(StringIO(readRawData(\"./Data/\"+ dataset +\".data\")), header=None, sep=\",\")\n",
    "    dataset_df['dataset'] = dataset\n",
    "    df = pd.concat([df,dataset_df ], ignore_index=True)"
   ]
  },
  {
   "cell_type": "code",
   "execution_count": 595,
   "metadata": {},
   "outputs": [],
   "source": [
    "df.columns=[\"id\", \"ccf\", \"age\", \"sex\", \"painloc\", \"painexer\" , \"relrest\" , \"pncaden\" , \"cp\", \"trestbps\", \"htn\", \"chol\", \"smoke\", \"cigs\", \"years\", \"fbs\", \"dm\", \"famhist\", \"restecg\", \"ekgmo\", \"ekgday\", \"ekgyr\", \"dig\", \"prop\", \"nitr\", \"pro\", \"diuretic\", \"proto\", \"thaldur\", \"thaltime\", \"met\", \"thalach\", \"thalrest\", \"tpeakbps\", \"tpeakbpd\", \"dummy\", \"trestbpd\", \"exang\", \"xhypo\", \"oldpeak\", \"slope\", \"rldv5\", \"rldv5e\", \"ca\", \"restckm\", \"exerckm\", \"restef\", \"restwm\", \"exeref\", \"exerwm\", \"thal\", \"thalsev\", \"thalpul\", \"earlobe\", \"cmo\", \"cday\", \"cyr\", \"num\", \"lmt\", \"ladprox\", \"laddist\", \"diag\", \"cxmain\", \"ramus\", \"om1\", \"om2\", \"rcaprox\", \"rcadist\", \"lvx1\", \"lvx2\", \"lvx3\", \"lvx4\", \"lvf\", \"cathef\", \"junk\", \"name\", \"dataset\"]"
   ]
  },
  {
   "cell_type": "markdown",
   "source": [
    "# Data cleanup"
   ],
   "metadata": {
    "collapsed": false
   }
  },
  {
   "cell_type": "code",
   "execution_count": 596,
   "outputs": [],
   "source": [
    "# the dataset encodes unfilled cells with -9 they are replaced with NaN for better compatibility with pd\n",
    "df = df.replace(-9, float('nan'))"
   ],
   "metadata": {
    "collapsed": false
   }
  },
  {
   "cell_type": "code",
   "execution_count": 597,
   "outputs": [],
   "source": [
    "if generate_pandas_profiling_reports:\n",
    "    profile = ProfileReport(df, title='Pandas Profiling Report for all features')\n",
    "    profile.to_file(\"Pandas Profiling Report for all features.html\")"
   ],
   "metadata": {
    "collapsed": false
   }
  },
  {
   "cell_type": "markdown",
   "metadata": {},
   "source": [
    "The columns smoke and years both describe whether a respondent smokes or not. Smoke does this by being binary coded, while years describes the number of years a person has smoked. Due to the high number of missing values, the columns are useless on their own. However, it is possible to enrich the smoke column with the years column. "
   ]
  },
  {
   "cell_type": "code",
   "execution_count": 598,
   "metadata": {},
   "outputs": [
    {
     "name": "stdout",
     "output_type": "stream",
     "text": [
      "Number of NaNs in smoke: 671\n",
      "Number of NaNs in smoke after combination with years: 391\n",
      "Number of NaNs in smoke after combination with years and cigs: 389\n"
     ]
    }
   ],
   "source": [
    "print(f\"Number of NaNs in smoke: {df['smoke'].isna().sum()}\")\n",
    "df.loc[(df['smoke'].isna()) & (df['years'] == 0),'smoke'] = 0\n",
    "df.loc[(df['smoke'].isna()) & (df['years'] > 0),'smoke'] = 1\n",
    "df.drop(columns=['smoke'])\n",
    "print(f\"Number of NaNs in smoke after combination with years: {df['smoke'].isna().sum()}\")\n",
    "df.loc[(df['smoke'].isna()) & (df['cigs'] == 0),'smoke'] = 0\n",
    "df.loc[(df['smoke'].isna()) & (df['cigs'] > 0),'smoke'] = 1\n",
    "print(f\"Number of NaNs in smoke after combination with years and cigs: {df['smoke'].isna().sum()}\")"
   ]
  },
  {
   "cell_type": "markdown",
   "metadata": {},
   "source": [
    "Finding: reduces the number of missing values in smoke by 280 entries. "
   ]
  },
  {
   "cell_type": "markdown",
   "metadata": {
    "collapsed": false
   },
   "source": [
    "## Explore how many NaNs and zeros are within one column for each attribute."
   ]
  },
  {
   "cell_type": "code",
   "execution_count": 599,
   "metadata": {},
   "outputs": [
    {
     "data": {
      "text/plain": "               id  ccf  age  sex  painloc  painexer  relrest  pncaden  cp  \\\ndataset                                                                     \ncleveland       0    0    0    0      282       282      282      282   0   \nhungarian       1    1    1    1        1         1        1      295   1   \nlong-beach-va   1    1    1    1        1         1        5      201   1   \nswitzerland     0    0    0    0        0         0        0      123   0   \n\n               trestbps  htn  chol  smoke  cigs  years  fbs   dm  famhist  \\\ndataset                                                                     \ncleveland             0    0     0      4     5      5    0  259        0   \nhungarian             2    2    24    283   294    295    9  274      294   \nlong-beach-va        57    4     8      2    11     13    8  158        9   \nswitzerland           2   30     0    100   112    121   75  115      121   \n\n               restecg  ekgmo  ekgday  ekgyr  dig  prop  nitr  pro  diuretic  \\\ndataset                                                                        \ncleveland            0      0       0      0    2     2     2    2         2   \nhungarian            2      1       1      1    2     3     2    2         2   \nlong-beach-va        1     53      54     53   61    61    60   60        74   \nswitzerland          1      1       1      1    5     2     3    1         6   \n\n               proto  thaldur  thaltime  met  thalach  thalrest  tpeakbps  \\\ndataset                                                                     \ncleveland          0        0        69    0        0         0         0   \nhungarian         10        3       191    3        2         2         2   \nlong-beach-va     54       54       161   54       54        55        60   \nswitzerland       50        1        34   50        1         1         3   \n\n               tpeakbpd  dummy  trestbpd  exang  xhypo  oldpeak  slope  rldv5  \\\ndataset                                                                         \ncleveland             0      0         0      0      0        0      0    282   \nhungarian             2      2         2      2      3        1    191      2   \nlong-beach-va        60     57        57     54     54       57    102     66   \nswitzerland           3      2         2      1      3        6     17     77   \n\n               rldv5e   ca  restckm  exerckm  restef  restwm  exeref  exerwm  \\\ndataset                                                                        \ncleveland           0    2      282      282     282     282     282     282   \nhungarian           1  291      295      295     295     292     295     293   \nlong-beach-va      66  199      201      200     173     174     199     198   \nswitzerland        77  118      123      123     123     123     123     123   \n\n               thal  thalsev  thalpul  earlobe  cmo  cday  cyr  num  lmt  \\\ndataset                                                                    \ncleveland         2      282      282      282    0     0    0    0    0   \nhungarian       267      268      278      295    1     1    1    1  276   \nlong-beach-va   160      170      200      200    3     1    1    1    1   \nswitzerland      50       51       97      123    9     9    9    0    0   \n\n               ladprox  laddist  diag  cxmain  ramus  om1  om2  rcaprox  \\\ndataset                                                                   \ncleveland            0        0   282       0    282    0  282        0   \nhungarian          237      247   277     236    286  272  290      245   \nlong-beach-va        1        1     1       1      1    1    2        2   \nswitzerland          0        0     0       0      0    0    0        0   \n\n               rcadist  lvx1  lvx2  lvx3  lvx4  lvf  cathef  junk  name  \ndataset                                                                  \ncleveland            0     0     0     0     0    0     282   282     0  \nhungarian          270     1     1     1     1    1     267   295     1  \nlong-beach-va        2     3     3     3     3    4      24    82     1  \nswitzerland          0    17    17    17    17   13      17   123     0  ",
      "text/html": "<div>\n<style scoped>\n    .dataframe tbody tr th:only-of-type {\n        vertical-align: middle;\n    }\n\n    .dataframe tbody tr th {\n        vertical-align: top;\n    }\n\n    .dataframe thead th {\n        text-align: right;\n    }\n</style>\n<table border=\"1\" class=\"dataframe\">\n  <thead>\n    <tr style=\"text-align: right;\">\n      <th></th>\n      <th>id</th>\n      <th>ccf</th>\n      <th>age</th>\n      <th>sex</th>\n      <th>painloc</th>\n      <th>painexer</th>\n      <th>relrest</th>\n      <th>pncaden</th>\n      <th>cp</th>\n      <th>trestbps</th>\n      <th>htn</th>\n      <th>chol</th>\n      <th>smoke</th>\n      <th>cigs</th>\n      <th>years</th>\n      <th>fbs</th>\n      <th>dm</th>\n      <th>famhist</th>\n      <th>restecg</th>\n      <th>ekgmo</th>\n      <th>ekgday</th>\n      <th>ekgyr</th>\n      <th>dig</th>\n      <th>prop</th>\n      <th>nitr</th>\n      <th>pro</th>\n      <th>diuretic</th>\n      <th>proto</th>\n      <th>thaldur</th>\n      <th>thaltime</th>\n      <th>met</th>\n      <th>thalach</th>\n      <th>thalrest</th>\n      <th>tpeakbps</th>\n      <th>tpeakbpd</th>\n      <th>dummy</th>\n      <th>trestbpd</th>\n      <th>exang</th>\n      <th>xhypo</th>\n      <th>oldpeak</th>\n      <th>slope</th>\n      <th>rldv5</th>\n      <th>rldv5e</th>\n      <th>ca</th>\n      <th>restckm</th>\n      <th>exerckm</th>\n      <th>restef</th>\n      <th>restwm</th>\n      <th>exeref</th>\n      <th>exerwm</th>\n      <th>thal</th>\n      <th>thalsev</th>\n      <th>thalpul</th>\n      <th>earlobe</th>\n      <th>cmo</th>\n      <th>cday</th>\n      <th>cyr</th>\n      <th>num</th>\n      <th>lmt</th>\n      <th>ladprox</th>\n      <th>laddist</th>\n      <th>diag</th>\n      <th>cxmain</th>\n      <th>ramus</th>\n      <th>om1</th>\n      <th>om2</th>\n      <th>rcaprox</th>\n      <th>rcadist</th>\n      <th>lvx1</th>\n      <th>lvx2</th>\n      <th>lvx3</th>\n      <th>lvx4</th>\n      <th>lvf</th>\n      <th>cathef</th>\n      <th>junk</th>\n      <th>name</th>\n    </tr>\n    <tr>\n      <th>dataset</th>\n      <th></th>\n      <th></th>\n      <th></th>\n      <th></th>\n      <th></th>\n      <th></th>\n      <th></th>\n      <th></th>\n      <th></th>\n      <th></th>\n      <th></th>\n      <th></th>\n      <th></th>\n      <th></th>\n      <th></th>\n      <th></th>\n      <th></th>\n      <th></th>\n      <th></th>\n      <th></th>\n      <th></th>\n      <th></th>\n      <th></th>\n      <th></th>\n      <th></th>\n      <th></th>\n      <th></th>\n      <th></th>\n      <th></th>\n      <th></th>\n      <th></th>\n      <th></th>\n      <th></th>\n      <th></th>\n      <th></th>\n      <th></th>\n      <th></th>\n      <th></th>\n      <th></th>\n      <th></th>\n      <th></th>\n      <th></th>\n      <th></th>\n      <th></th>\n      <th></th>\n      <th></th>\n      <th></th>\n      <th></th>\n      <th></th>\n      <th></th>\n      <th></th>\n      <th></th>\n      <th></th>\n      <th></th>\n      <th></th>\n      <th></th>\n      <th></th>\n      <th></th>\n      <th></th>\n      <th></th>\n      <th></th>\n      <th></th>\n      <th></th>\n      <th></th>\n      <th></th>\n      <th></th>\n      <th></th>\n      <th></th>\n      <th></th>\n      <th></th>\n      <th></th>\n      <th></th>\n      <th></th>\n      <th></th>\n      <th></th>\n      <th></th>\n    </tr>\n  </thead>\n  <tbody>\n    <tr>\n      <th>cleveland</th>\n      <td>0</td>\n      <td>0</td>\n      <td>0</td>\n      <td>0</td>\n      <td>282</td>\n      <td>282</td>\n      <td>282</td>\n      <td>282</td>\n      <td>0</td>\n      <td>0</td>\n      <td>0</td>\n      <td>0</td>\n      <td>4</td>\n      <td>5</td>\n      <td>5</td>\n      <td>0</td>\n      <td>259</td>\n      <td>0</td>\n      <td>0</td>\n      <td>0</td>\n      <td>0</td>\n      <td>0</td>\n      <td>2</td>\n      <td>2</td>\n      <td>2</td>\n      <td>2</td>\n      <td>2</td>\n      <td>0</td>\n      <td>0</td>\n      <td>69</td>\n      <td>0</td>\n      <td>0</td>\n      <td>0</td>\n      <td>0</td>\n      <td>0</td>\n      <td>0</td>\n      <td>0</td>\n      <td>0</td>\n      <td>0</td>\n      <td>0</td>\n      <td>0</td>\n      <td>282</td>\n      <td>0</td>\n      <td>2</td>\n      <td>282</td>\n      <td>282</td>\n      <td>282</td>\n      <td>282</td>\n      <td>282</td>\n      <td>282</td>\n      <td>2</td>\n      <td>282</td>\n      <td>282</td>\n      <td>282</td>\n      <td>0</td>\n      <td>0</td>\n      <td>0</td>\n      <td>0</td>\n      <td>0</td>\n      <td>0</td>\n      <td>0</td>\n      <td>282</td>\n      <td>0</td>\n      <td>282</td>\n      <td>0</td>\n      <td>282</td>\n      <td>0</td>\n      <td>0</td>\n      <td>0</td>\n      <td>0</td>\n      <td>0</td>\n      <td>0</td>\n      <td>0</td>\n      <td>282</td>\n      <td>282</td>\n      <td>0</td>\n    </tr>\n    <tr>\n      <th>hungarian</th>\n      <td>1</td>\n      <td>1</td>\n      <td>1</td>\n      <td>1</td>\n      <td>1</td>\n      <td>1</td>\n      <td>1</td>\n      <td>295</td>\n      <td>1</td>\n      <td>2</td>\n      <td>2</td>\n      <td>24</td>\n      <td>283</td>\n      <td>294</td>\n      <td>295</td>\n      <td>9</td>\n      <td>274</td>\n      <td>294</td>\n      <td>2</td>\n      <td>1</td>\n      <td>1</td>\n      <td>1</td>\n      <td>2</td>\n      <td>3</td>\n      <td>2</td>\n      <td>2</td>\n      <td>2</td>\n      <td>10</td>\n      <td>3</td>\n      <td>191</td>\n      <td>3</td>\n      <td>2</td>\n      <td>2</td>\n      <td>2</td>\n      <td>2</td>\n      <td>2</td>\n      <td>2</td>\n      <td>2</td>\n      <td>3</td>\n      <td>1</td>\n      <td>191</td>\n      <td>2</td>\n      <td>1</td>\n      <td>291</td>\n      <td>295</td>\n      <td>295</td>\n      <td>295</td>\n      <td>292</td>\n      <td>295</td>\n      <td>293</td>\n      <td>267</td>\n      <td>268</td>\n      <td>278</td>\n      <td>295</td>\n      <td>1</td>\n      <td>1</td>\n      <td>1</td>\n      <td>1</td>\n      <td>276</td>\n      <td>237</td>\n      <td>247</td>\n      <td>277</td>\n      <td>236</td>\n      <td>286</td>\n      <td>272</td>\n      <td>290</td>\n      <td>245</td>\n      <td>270</td>\n      <td>1</td>\n      <td>1</td>\n      <td>1</td>\n      <td>1</td>\n      <td>1</td>\n      <td>267</td>\n      <td>295</td>\n      <td>1</td>\n    </tr>\n    <tr>\n      <th>long-beach-va</th>\n      <td>1</td>\n      <td>1</td>\n      <td>1</td>\n      <td>1</td>\n      <td>1</td>\n      <td>1</td>\n      <td>5</td>\n      <td>201</td>\n      <td>1</td>\n      <td>57</td>\n      <td>4</td>\n      <td>8</td>\n      <td>2</td>\n      <td>11</td>\n      <td>13</td>\n      <td>8</td>\n      <td>158</td>\n      <td>9</td>\n      <td>1</td>\n      <td>53</td>\n      <td>54</td>\n      <td>53</td>\n      <td>61</td>\n      <td>61</td>\n      <td>60</td>\n      <td>60</td>\n      <td>74</td>\n      <td>54</td>\n      <td>54</td>\n      <td>161</td>\n      <td>54</td>\n      <td>54</td>\n      <td>55</td>\n      <td>60</td>\n      <td>60</td>\n      <td>57</td>\n      <td>57</td>\n      <td>54</td>\n      <td>54</td>\n      <td>57</td>\n      <td>102</td>\n      <td>66</td>\n      <td>66</td>\n      <td>199</td>\n      <td>201</td>\n      <td>200</td>\n      <td>173</td>\n      <td>174</td>\n      <td>199</td>\n      <td>198</td>\n      <td>160</td>\n      <td>170</td>\n      <td>200</td>\n      <td>200</td>\n      <td>3</td>\n      <td>1</td>\n      <td>1</td>\n      <td>1</td>\n      <td>1</td>\n      <td>1</td>\n      <td>1</td>\n      <td>1</td>\n      <td>1</td>\n      <td>1</td>\n      <td>1</td>\n      <td>2</td>\n      <td>2</td>\n      <td>2</td>\n      <td>3</td>\n      <td>3</td>\n      <td>3</td>\n      <td>3</td>\n      <td>4</td>\n      <td>24</td>\n      <td>82</td>\n      <td>1</td>\n    </tr>\n    <tr>\n      <th>switzerland</th>\n      <td>0</td>\n      <td>0</td>\n      <td>0</td>\n      <td>0</td>\n      <td>0</td>\n      <td>0</td>\n      <td>0</td>\n      <td>123</td>\n      <td>0</td>\n      <td>2</td>\n      <td>30</td>\n      <td>0</td>\n      <td>100</td>\n      <td>112</td>\n      <td>121</td>\n      <td>75</td>\n      <td>115</td>\n      <td>121</td>\n      <td>1</td>\n      <td>1</td>\n      <td>1</td>\n      <td>1</td>\n      <td>5</td>\n      <td>2</td>\n      <td>3</td>\n      <td>1</td>\n      <td>6</td>\n      <td>50</td>\n      <td>1</td>\n      <td>34</td>\n      <td>50</td>\n      <td>1</td>\n      <td>1</td>\n      <td>3</td>\n      <td>3</td>\n      <td>2</td>\n      <td>2</td>\n      <td>1</td>\n      <td>3</td>\n      <td>6</td>\n      <td>17</td>\n      <td>77</td>\n      <td>77</td>\n      <td>118</td>\n      <td>123</td>\n      <td>123</td>\n      <td>123</td>\n      <td>123</td>\n      <td>123</td>\n      <td>123</td>\n      <td>50</td>\n      <td>51</td>\n      <td>97</td>\n      <td>123</td>\n      <td>9</td>\n      <td>9</td>\n      <td>9</td>\n      <td>0</td>\n      <td>0</td>\n      <td>0</td>\n      <td>0</td>\n      <td>0</td>\n      <td>0</td>\n      <td>0</td>\n      <td>0</td>\n      <td>0</td>\n      <td>0</td>\n      <td>0</td>\n      <td>17</td>\n      <td>17</td>\n      <td>17</td>\n      <td>17</td>\n      <td>13</td>\n      <td>17</td>\n      <td>123</td>\n      <td>0</td>\n    </tr>\n  </tbody>\n</table>\n</div>"
     },
     "execution_count": 599,
     "metadata": {},
     "output_type": "execute_result"
    }
   ],
   "source": [
    "(df.loc[ : , df.columns != 'dataset'].isna()).join(df['dataset']).groupby(\"dataset\").sum()"
   ]
  },
  {
   "cell_type": "code",
   "execution_count": 600,
   "metadata": {
    "collapsed": false
   },
   "outputs": [
    {
     "data": {
      "text/plain": "               id  ccf  age  sex  painloc  painexer  relrest  pncaden  cp  \\\ndataset                                                                     \ncleveland       0  282    0   91        0         0        0        0   0   \nhungarian       0  294    0   81       23       164      141        0   0   \nlong-beach-va   0  200    0    6       15        65       33        0   0   \nswitzerland     0  123    0   10       11        22       27        0   0   \n\n               trestbps  htn  chol  smoke  cigs  years  fbs  dm  famhist  \\\ndataset                                                                    \ncleveland             0  108     0    115   115    115  240   0      107   \nhungarian             0  195     0     10     0      0  266   0        1   \nlong-beach-va         1   90    49     96    38     38  125   4      100   \nswitzerland           0   60   123      5     0      0   43   0        0   \n\n               restecg  ekgmo  ekgday  ekgyr  dig  prop  nitr  pro  diuretic  \\\ndataset                                                                        \ncleveland          138      0       0      0  271   186   211  252       248   \nhungarian          235      0       0      0  293   274   265  269       290   \nlong-beach-va       80      0       0      0  122    88    61  105        94   \nswitzerland         85      0       0      0  116    70    75   66        93   \n\n               proto  thaldur  thaltime  met  thalach  thalrest  tpeakbps  \\\ndataset                                                                     \ncleveland          0        0        43    0        0         0         0   \nhungarian          0        0         0    0        0         0         0   \nlong-beach-va      0        0         2    0        0         0         0   \nswitzerland        0        0        25    0        0         0         0   \n\n               tpeakbpd  dummy  trestbpd  exang  xhypo  oldpeak  slope  rldv5  \\\ndataset                                                                         \ncleveland             0      0         0    190    276       91      0      0   \nhungarian             0      0         0    204    291      189      0      0   \nlong-beach-va         0      1         1     52    139       40      1      0   \nswitzerland           0      0         0     68    113       42      0      0   \n\n               rldv5e   ca  restckm  exerckm  restef  restwm  exeref  exerwm  \\\ndataset                                                                        \ncleveland           0  166        0        0       0       0       0       0   \nhungarian           0    3        0        0       0       3       0       2   \nlong-beach-va       0    2        0        1       0      10       0       2   \nswitzerland         0    0        0        0       0       0       0       0   \n\n               thal  thalsev  thalpul  earlobe  cmo  cday  cyr  num  lmt  \\\ndataset                                                                    \ncleveland         0        0        0        0    0     0    0  157    0   \nhungarian         0        6        7        0    0     0    0  188    0   \nlong-beach-va     0        9        1        1    0     0    0   51    1   \nswitzerland       0       21       23        0    0     0    0    8    0   \n\n               ladprox  laddist  diag  cxmain  ramus  om1  om2  rcaprox  \\\ndataset                                                                   \ncleveland            0        0     0       0      0    0    0        0   \nhungarian            0        0     0       0      0    0    0        0   \nlong-beach-va        0        0     0       0      0    0    0        0   \nswitzerland          0        0     0       0      0    0    0        0   \n\n               rcadist  lvx1  lvx2  lvx3  lvx4  lvf  cathef  junk  name  \ndataset                                                                  \ncleveland            0     0     0     0     0    0       0     0     0  \nhungarian            0     0     0     0     0    0       0     0     0  \nlong-beach-va        0     0     0     0     0    1       0     0     0  \nswitzerland          0     0     0     0     0    1       0     0     0  ",
      "text/html": "<div>\n<style scoped>\n    .dataframe tbody tr th:only-of-type {\n        vertical-align: middle;\n    }\n\n    .dataframe tbody tr th {\n        vertical-align: top;\n    }\n\n    .dataframe thead th {\n        text-align: right;\n    }\n</style>\n<table border=\"1\" class=\"dataframe\">\n  <thead>\n    <tr style=\"text-align: right;\">\n      <th></th>\n      <th>id</th>\n      <th>ccf</th>\n      <th>age</th>\n      <th>sex</th>\n      <th>painloc</th>\n      <th>painexer</th>\n      <th>relrest</th>\n      <th>pncaden</th>\n      <th>cp</th>\n      <th>trestbps</th>\n      <th>htn</th>\n      <th>chol</th>\n      <th>smoke</th>\n      <th>cigs</th>\n      <th>years</th>\n      <th>fbs</th>\n      <th>dm</th>\n      <th>famhist</th>\n      <th>restecg</th>\n      <th>ekgmo</th>\n      <th>ekgday</th>\n      <th>ekgyr</th>\n      <th>dig</th>\n      <th>prop</th>\n      <th>nitr</th>\n      <th>pro</th>\n      <th>diuretic</th>\n      <th>proto</th>\n      <th>thaldur</th>\n      <th>thaltime</th>\n      <th>met</th>\n      <th>thalach</th>\n      <th>thalrest</th>\n      <th>tpeakbps</th>\n      <th>tpeakbpd</th>\n      <th>dummy</th>\n      <th>trestbpd</th>\n      <th>exang</th>\n      <th>xhypo</th>\n      <th>oldpeak</th>\n      <th>slope</th>\n      <th>rldv5</th>\n      <th>rldv5e</th>\n      <th>ca</th>\n      <th>restckm</th>\n      <th>exerckm</th>\n      <th>restef</th>\n      <th>restwm</th>\n      <th>exeref</th>\n      <th>exerwm</th>\n      <th>thal</th>\n      <th>thalsev</th>\n      <th>thalpul</th>\n      <th>earlobe</th>\n      <th>cmo</th>\n      <th>cday</th>\n      <th>cyr</th>\n      <th>num</th>\n      <th>lmt</th>\n      <th>ladprox</th>\n      <th>laddist</th>\n      <th>diag</th>\n      <th>cxmain</th>\n      <th>ramus</th>\n      <th>om1</th>\n      <th>om2</th>\n      <th>rcaprox</th>\n      <th>rcadist</th>\n      <th>lvx1</th>\n      <th>lvx2</th>\n      <th>lvx3</th>\n      <th>lvx4</th>\n      <th>lvf</th>\n      <th>cathef</th>\n      <th>junk</th>\n      <th>name</th>\n    </tr>\n    <tr>\n      <th>dataset</th>\n      <th></th>\n      <th></th>\n      <th></th>\n      <th></th>\n      <th></th>\n      <th></th>\n      <th></th>\n      <th></th>\n      <th></th>\n      <th></th>\n      <th></th>\n      <th></th>\n      <th></th>\n      <th></th>\n      <th></th>\n      <th></th>\n      <th></th>\n      <th></th>\n      <th></th>\n      <th></th>\n      <th></th>\n      <th></th>\n      <th></th>\n      <th></th>\n      <th></th>\n      <th></th>\n      <th></th>\n      <th></th>\n      <th></th>\n      <th></th>\n      <th></th>\n      <th></th>\n      <th></th>\n      <th></th>\n      <th></th>\n      <th></th>\n      <th></th>\n      <th></th>\n      <th></th>\n      <th></th>\n      <th></th>\n      <th></th>\n      <th></th>\n      <th></th>\n      <th></th>\n      <th></th>\n      <th></th>\n      <th></th>\n      <th></th>\n      <th></th>\n      <th></th>\n      <th></th>\n      <th></th>\n      <th></th>\n      <th></th>\n      <th></th>\n      <th></th>\n      <th></th>\n      <th></th>\n      <th></th>\n      <th></th>\n      <th></th>\n      <th></th>\n      <th></th>\n      <th></th>\n      <th></th>\n      <th></th>\n      <th></th>\n      <th></th>\n      <th></th>\n      <th></th>\n      <th></th>\n      <th></th>\n      <th></th>\n      <th></th>\n      <th></th>\n    </tr>\n  </thead>\n  <tbody>\n    <tr>\n      <th>cleveland</th>\n      <td>0</td>\n      <td>282</td>\n      <td>0</td>\n      <td>91</td>\n      <td>0</td>\n      <td>0</td>\n      <td>0</td>\n      <td>0</td>\n      <td>0</td>\n      <td>0</td>\n      <td>108</td>\n      <td>0</td>\n      <td>115</td>\n      <td>115</td>\n      <td>115</td>\n      <td>240</td>\n      <td>0</td>\n      <td>107</td>\n      <td>138</td>\n      <td>0</td>\n      <td>0</td>\n      <td>0</td>\n      <td>271</td>\n      <td>186</td>\n      <td>211</td>\n      <td>252</td>\n      <td>248</td>\n      <td>0</td>\n      <td>0</td>\n      <td>43</td>\n      <td>0</td>\n      <td>0</td>\n      <td>0</td>\n      <td>0</td>\n      <td>0</td>\n      <td>0</td>\n      <td>0</td>\n      <td>190</td>\n      <td>276</td>\n      <td>91</td>\n      <td>0</td>\n      <td>0</td>\n      <td>0</td>\n      <td>166</td>\n      <td>0</td>\n      <td>0</td>\n      <td>0</td>\n      <td>0</td>\n      <td>0</td>\n      <td>0</td>\n      <td>0</td>\n      <td>0</td>\n      <td>0</td>\n      <td>0</td>\n      <td>0</td>\n      <td>0</td>\n      <td>0</td>\n      <td>157</td>\n      <td>0</td>\n      <td>0</td>\n      <td>0</td>\n      <td>0</td>\n      <td>0</td>\n      <td>0</td>\n      <td>0</td>\n      <td>0</td>\n      <td>0</td>\n      <td>0</td>\n      <td>0</td>\n      <td>0</td>\n      <td>0</td>\n      <td>0</td>\n      <td>0</td>\n      <td>0</td>\n      <td>0</td>\n      <td>0</td>\n    </tr>\n    <tr>\n      <th>hungarian</th>\n      <td>0</td>\n      <td>294</td>\n      <td>0</td>\n      <td>81</td>\n      <td>23</td>\n      <td>164</td>\n      <td>141</td>\n      <td>0</td>\n      <td>0</td>\n      <td>0</td>\n      <td>195</td>\n      <td>0</td>\n      <td>10</td>\n      <td>0</td>\n      <td>0</td>\n      <td>266</td>\n      <td>0</td>\n      <td>1</td>\n      <td>235</td>\n      <td>0</td>\n      <td>0</td>\n      <td>0</td>\n      <td>293</td>\n      <td>274</td>\n      <td>265</td>\n      <td>269</td>\n      <td>290</td>\n      <td>0</td>\n      <td>0</td>\n      <td>0</td>\n      <td>0</td>\n      <td>0</td>\n      <td>0</td>\n      <td>0</td>\n      <td>0</td>\n      <td>0</td>\n      <td>0</td>\n      <td>204</td>\n      <td>291</td>\n      <td>189</td>\n      <td>0</td>\n      <td>0</td>\n      <td>0</td>\n      <td>3</td>\n      <td>0</td>\n      <td>0</td>\n      <td>0</td>\n      <td>3</td>\n      <td>0</td>\n      <td>2</td>\n      <td>0</td>\n      <td>6</td>\n      <td>7</td>\n      <td>0</td>\n      <td>0</td>\n      <td>0</td>\n      <td>0</td>\n      <td>188</td>\n      <td>0</td>\n      <td>0</td>\n      <td>0</td>\n      <td>0</td>\n      <td>0</td>\n      <td>0</td>\n      <td>0</td>\n      <td>0</td>\n      <td>0</td>\n      <td>0</td>\n      <td>0</td>\n      <td>0</td>\n      <td>0</td>\n      <td>0</td>\n      <td>0</td>\n      <td>0</td>\n      <td>0</td>\n      <td>0</td>\n    </tr>\n    <tr>\n      <th>long-beach-va</th>\n      <td>0</td>\n      <td>200</td>\n      <td>0</td>\n      <td>6</td>\n      <td>15</td>\n      <td>65</td>\n      <td>33</td>\n      <td>0</td>\n      <td>0</td>\n      <td>1</td>\n      <td>90</td>\n      <td>49</td>\n      <td>96</td>\n      <td>38</td>\n      <td>38</td>\n      <td>125</td>\n      <td>4</td>\n      <td>100</td>\n      <td>80</td>\n      <td>0</td>\n      <td>0</td>\n      <td>0</td>\n      <td>122</td>\n      <td>88</td>\n      <td>61</td>\n      <td>105</td>\n      <td>94</td>\n      <td>0</td>\n      <td>0</td>\n      <td>2</td>\n      <td>0</td>\n      <td>0</td>\n      <td>0</td>\n      <td>0</td>\n      <td>0</td>\n      <td>1</td>\n      <td>1</td>\n      <td>52</td>\n      <td>139</td>\n      <td>40</td>\n      <td>1</td>\n      <td>0</td>\n      <td>0</td>\n      <td>2</td>\n      <td>0</td>\n      <td>1</td>\n      <td>0</td>\n      <td>10</td>\n      <td>0</td>\n      <td>2</td>\n      <td>0</td>\n      <td>9</td>\n      <td>1</td>\n      <td>1</td>\n      <td>0</td>\n      <td>0</td>\n      <td>0</td>\n      <td>51</td>\n      <td>1</td>\n      <td>0</td>\n      <td>0</td>\n      <td>0</td>\n      <td>0</td>\n      <td>0</td>\n      <td>0</td>\n      <td>0</td>\n      <td>0</td>\n      <td>0</td>\n      <td>0</td>\n      <td>0</td>\n      <td>0</td>\n      <td>0</td>\n      <td>1</td>\n      <td>0</td>\n      <td>0</td>\n      <td>0</td>\n    </tr>\n    <tr>\n      <th>switzerland</th>\n      <td>0</td>\n      <td>123</td>\n      <td>0</td>\n      <td>10</td>\n      <td>11</td>\n      <td>22</td>\n      <td>27</td>\n      <td>0</td>\n      <td>0</td>\n      <td>0</td>\n      <td>60</td>\n      <td>123</td>\n      <td>5</td>\n      <td>0</td>\n      <td>0</td>\n      <td>43</td>\n      <td>0</td>\n      <td>0</td>\n      <td>85</td>\n      <td>0</td>\n      <td>0</td>\n      <td>0</td>\n      <td>116</td>\n      <td>70</td>\n      <td>75</td>\n      <td>66</td>\n      <td>93</td>\n      <td>0</td>\n      <td>0</td>\n      <td>25</td>\n      <td>0</td>\n      <td>0</td>\n      <td>0</td>\n      <td>0</td>\n      <td>0</td>\n      <td>0</td>\n      <td>0</td>\n      <td>68</td>\n      <td>113</td>\n      <td>42</td>\n      <td>0</td>\n      <td>0</td>\n      <td>0</td>\n      <td>0</td>\n      <td>0</td>\n      <td>0</td>\n      <td>0</td>\n      <td>0</td>\n      <td>0</td>\n      <td>0</td>\n      <td>0</td>\n      <td>21</td>\n      <td>23</td>\n      <td>0</td>\n      <td>0</td>\n      <td>0</td>\n      <td>0</td>\n      <td>8</td>\n      <td>0</td>\n      <td>0</td>\n      <td>0</td>\n      <td>0</td>\n      <td>0</td>\n      <td>0</td>\n      <td>0</td>\n      <td>0</td>\n      <td>0</td>\n      <td>0</td>\n      <td>0</td>\n      <td>0</td>\n      <td>0</td>\n      <td>0</td>\n      <td>1</td>\n      <td>0</td>\n      <td>0</td>\n      <td>0</td>\n    </tr>\n  </tbody>\n</table>\n</div>"
     },
     "execution_count": 600,
     "metadata": {},
     "output_type": "execute_result"
    }
   ],
   "source": [
    "(df.loc[ : , df.columns != 'dataset'].eq(0)).join(df['dataset']).groupby(\"dataset\").sum()"
   ]
  },
  {
   "cell_type": "markdown",
   "source": [
    "## Treatment of different scales in the datasets\n",
    "### met"
   ],
   "metadata": {
    "collapsed": false
   }
  },
  {
   "cell_type": "code",
   "execution_count": 601,
   "outputs": [
    {
     "data": {
      "text/plain": "<Figure size 640x480 with 1 Axes>",
      "image/png": "[encoded data removed]"
     },
     "metadata": {},
     "output_type": "display_data"
    }
   ],
   "source": [
    "# plot to show the reason why we need to process this data:\n",
    "sns.boxplot(x=\"met\",y=\"dataset\",data= df)\n",
    "plt.show()"
   ],
   "metadata": {
    "collapsed": false
   }
  },
  {
   "cell_type": "code",
   "execution_count": 602,
   "outputs": [],
   "source": [
    "df.loc[df[\"dataset\"] == \"switzerland\", \"met\"] = df.loc[df[\"dataset\"] == \"switzerland\", \"met\"]/10"
   ],
   "metadata": {
    "collapsed": false
   }
  },
  {
   "cell_type": "code",
   "execution_count": 603,
   "outputs": [
    {
     "data": {
      "text/plain": "<Figure size 640x480 with 1 Axes>",
      "image/png": "[encoded data removed]"
     },
     "metadata": {},
     "output_type": "display_data"
    }
   ],
   "source": [
    "# plot to show the reason why we need to process this data:\n",
    "sns.boxplot(x=\"met\",y=\"dataset\",data= df)\n",
    "plt.show()"
   ],
   "metadata": {
    "collapsed": false
   }
  },
  {
   "cell_type": "markdown",
   "source": [
    "### rldv5e"
   ],
   "metadata": {
    "collapsed": false
   }
  },
  {
   "cell_type": "code",
   "execution_count": 604,
   "metadata": {},
   "outputs": [
    {
     "data": {
      "text/plain": "<Figure size 640x480 with 1 Axes>",
      "image/png": "[encoded data removed]"
     },
     "metadata": {},
     "output_type": "display_data"
    }
   ],
   "source": [
    "# plot to show the reason why we need to process this data: \n",
    "sns.boxplot(x=\"rldv5e\",y=\"dataset\",data= df)\n",
    "plt.show()"
   ]
  },
  {
   "cell_type": "code",
   "execution_count": 605,
   "metadata": {},
   "outputs": [],
   "source": [
    "df.loc[df[\"dataset\"] == \"cleveland\", \"rldv5e\"] = df.loc[df[\"dataset\"] == \"cleveland\", \"rldv5e\"]/10"
   ]
  },
  {
   "cell_type": "code",
   "execution_count": 606,
   "metadata": {},
   "outputs": [
    {
     "data": {
      "text/plain": "<Figure size 640x480 with 1 Axes>",
      "image/png": "[encoded data removed]"
     },
     "metadata": {},
     "output_type": "display_data"
    }
   ],
   "source": [
    "# plot to show the reason why we drop:\n",
    "sns.boxplot(x=\"rldv5e\",y=\"dataset\",data= df)\n",
    "plt.show()"
   ]
  },
  {
   "cell_type": "markdown",
   "source": [
    "### drop columns that are not used for prediction"
   ],
   "metadata": {
    "collapsed": false
   }
  },
  {
   "cell_type": "code",
   "execution_count": 607,
   "metadata": {
    "collapsed": false
   },
   "outputs": [],
   "source": [
    "columns_to_drop = [\n",
    "    \"id\",\n",
    "    \"painloc\",\n",
    "    \"painexer\",\n",
    "    \"relrest\",\n",
    "    \"ccf\",\n",
    "    \"pncaden\",\n",
    "    \"chol\",\n",
    "    \"smoke\",\n",
    "    \"years\",\n",
    "    \"cigs\",\n",
    "    \"dm\",\n",
    "    \"famhist\",\n",
    "    \"ekgmo\",\n",
    "    \"ekgday\",\n",
    "    \"ekgyr\",\n",
    "    \"dig\",\n",
    "    \"prop\",\n",
    "    \"nitr\",\n",
    "    \"diuretic\",\n",
    "    \"proto\",\n",
    "    \"thaldur\",\n",
    "    \"thaltime\",\n",
    "    \"dummy\",\n",
    "    \"xhypo\",\n",
    "    \"slope\",\n",
    "    \"rldv5\",\n",
    "    \"ca\",\n",
    "    \"restckm\",\n",
    "    \"exerckm\",\n",
    "    \"restef\",\n",
    "    \"restwm\",\n",
    "    \"exeref\",\n",
    "    \"exerwm\",\n",
    "    \"thal\",\n",
    "    \"thalsev\",\n",
    "    \"thalpul\",\n",
    "    \"earlobe\",\n",
    "    \"cmo\",\n",
    "    \"cday\",\n",
    "    \"cyr\",\n",
    "    \"lmt\",\n",
    "    \"ladprox\",\n",
    "    \"laddist\",\n",
    "    \"diag\",\n",
    "    \"cxmain\",\n",
    "    \"ramus\",\n",
    "    \"om1\",\n",
    "    \"om2\",\n",
    "    \"rcaprox\",\n",
    "    \"rcadist\",\n",
    "    \"lvx1\",\n",
    "    \"lvx2\",\n",
    "    \"lvx3\",\n",
    "    \"lvx4\",\n",
    "    \"lvf\",\n",
    "    \"cathef\",\n",
    "    \"junk\",\n",
    "    \"name\"\n",
    "]\n",
    "df.drop(columns_to_drop, inplace=True, axis=1)"
   ]
  },
  {
   "cell_type": "code",
   "execution_count": 608,
   "metadata": {},
   "outputs": [
    {
     "name": "stdout",
     "output_type": "stream",
     "text": [
      "Shape before drop of met vlaues that are unrealistic: (901, 19)\n",
      "Shape after drop of met vlaues that are unrealistic: (900, 19)\n"
     ]
    }
   ],
   "source": [
    "# All values beyond 18 are not realistic -> also 18 is a value that is only archived by very sporty people\n",
    "# https://blog.nasm.org/metabolic-equivalents-for-weight-loss\n",
    "print(f\"Shape before drop of met vlaues that are unrealistic: {df.shape}\")\n",
    "df.drop(df[df['met']> 18].index, inplace=True, axis=0)\n",
    "print(f\"Shape after drop of met vlaues that are unrealistic: {df.shape}\")"
   ]
  },
  {
   "cell_type": "code",
   "execution_count": 609,
   "metadata": {},
   "outputs": [
    {
     "name": "stdout",
     "output_type": "stream",
     "text": [
      "Shape before drop of entrys with a blood preasure of 0: (900, 19)\n",
      "Shape after drop of entrys with a blood preasure of 0: (899, 19)\n"
     ]
    }
   ],
   "source": [
    "# leave the dead ones behind\n",
    "# drop entries with a blood pressure of 0\n",
    "print(f\"Shape before drop of entrys with a blood preasure of 0: {df.shape}\")\n",
    "df.drop(df[df['trestbps'] == 0].index, inplace=True, axis=0)\n",
    "print(f\"Shape after drop of entrys with a blood preasure of 0: {df.shape}\")"
   ]
  },
  {
   "cell_type": "code",
   "execution_count": 610,
   "metadata": {},
   "outputs": [],
   "source": [
    "if generate_pandas_profiling_reports:\n",
    "    profile = ProfileReport(df, title='Pandas Profiling Report for selected features')\n",
    "    profile.to_file(\"Pandas Profiling Report for selected features.html\")"
   ]
  },
  {
   "cell_type": "code",
   "execution_count": 611,
   "metadata": {},
   "outputs": [
    {
     "name": "stdout",
     "output_type": "stream",
     "text": [
      "Shape before drop of NaN containing rows: (899, 19)\n",
      "Shape after drop of NaN containing rows: (679, 19)\n"
     ]
    }
   ],
   "source": [
    "# drop all entries which contain one or more NanN vlaues\n",
    "print(f\"Shape before drop of NaN containing rows: {df.shape}\")\n",
    "df.dropna(inplace=True, axis=0, how='any')\n",
    "print(f\"Shape after drop of NaN containing rows: {df.shape}\")"
   ]
  },
  {
   "cell_type": "markdown",
   "source": [
    "# Visualize Data"
   ],
   "metadata": {
    "collapsed": false
   }
  },
  {
   "cell_type": "code",
   "execution_count": 612,
   "outputs": [],
   "source": [
    "if print_pair_plots:\n",
    "    sns.pairplot(df, hue=\"num\", palette=\"tab10\")"
   ],
   "metadata": {
    "collapsed": false
   }
  },
  {
   "cell_type": "code",
   "execution_count": 613,
   "outputs": [],
   "source": [
    "if print_pair_plots:\n",
    "    sns.pairplot(df, hue=\"dataset\", palette=\"tab10\")"
   ],
   "metadata": {
    "collapsed": false
   }
  },
  {
   "cell_type": "code",
   "execution_count": 614,
   "metadata": {
    "collapsed": false
   },
   "outputs": [],
   "source": [
    "from sklearn.preprocessing import LabelEncoder\n",
    "\n",
    "labelEncoder = LabelEncoder()\n",
    "df.loc[df['num'] >= 1,\"num\"] = 1\n",
    "df['num'] = labelEncoder.fit_transform(df['num'])"
   ]
  },
  {
   "cell_type": "code",
   "execution_count": 615,
   "outputs": [],
   "source": [
    "if print_pair_plots:\n",
    "    sns.pairplot(df, hue=\"num\", palette=\"tab10\")"
   ],
   "metadata": {
    "collapsed": false
   }
  },
  {
   "cell_type": "code",
   "execution_count": 616,
   "metadata": {},
   "outputs": [
    {
     "data": {
      "text/plain": "<AxesSubplot:>"
     },
     "execution_count": 616,
     "metadata": {},
     "output_type": "execute_result"
    },
    {
     "data": {
      "text/plain": "<Figure size 640x480 with 2 Axes>",
      "image/png": "[encoded data removed]"
     },
     "metadata": {},
     "output_type": "display_data"
    }
   ],
   "source": [
    "# Compute the correlation matrix\n",
    "corr = df.corr()\n",
    "# Draw the heatmap with the mask and correct aspect ratio\n",
    "sns.heatmap(corr, cmap=\"coolwarm\", center=0, square=True, linewidths=.5, vmin=-1, vmax=1)"
   ]
  },
  {
   "cell_type": "markdown",
   "source": [
    "# Train the different models"
   ],
   "metadata": {
    "collapsed": false
   }
  },
  {
   "cell_type": "code",
   "execution_count": 617,
   "metadata": {
    "collapsed": false
   },
   "outputs": [],
   "source": [
    "X = df.loc[:,(df.columns!= 'num') & (df.columns != 'dataset')]\n",
    "y = df['num']"
   ]
  },
  {
   "cell_type": "code",
   "execution_count": 618,
   "metadata": {},
   "outputs": [],
   "source": [
    "from sklearn.exceptions import FitFailedWarning\n",
    "from sklearn.neighbors import KNeighborsClassifier\n",
    "from sklearn.linear_model import SGDClassifier\n",
    "from xgboost import XGBClassifier\n",
    "from sklearn.ensemble import RandomForestClassifier\n",
    "from sklearn.tree import DecisionTreeClassifier\n",
    "from sklearn.svm import SVC\n",
    "from catboost import CatBoostClassifier\n",
    "from  sklearn.naive_bayes import *\n",
    "\n",
    "estimators_and_hyperparameters=[\n",
    "    {\"estimator\": CatBoostClassifier(random_state=42, thread_count=-1, silent= True), \"parameters\": {}},\n",
    "    {\"estimator\": XGBClassifier(random_state=42, n_jobs=-1), \"parameters\": {'classification__n_estimators': [100,125,150,175,200,225,250],\n",
    "                                                                            'classification__max_depth': [2,4,6,8,10]}},\n",
    "    {\"estimator\": SVC(kernel='linear',random_state=42), \"parameters\": {}},\n",
    "    {\"estimator\": SVC(kernel='poly',random_state=42), \"parameters\": {}},\n",
    "    {\"estimator\": SVC(kernel='rbf',random_state=42), \"parameters\": {}},\n",
    "    {\"estimator\": SVC(kernel='sigmoid',random_state=42), \"parameters\": {}},\n",
    "    # only for square matrix -> not used {\"estimator\": SVC(kernel='precomputed',random_state=42), \"parameters\": {}},\n",
    "    {\"estimator\": BernoulliNB(), \"parameters\": {}},\n",
    "    {\"estimator\": CategoricalNB(), \"parameters\": {}},\n",
    "    {\"estimator\": ComplementNB(), \"parameters\": {}},\n",
    "    {\"estimator\": GaussianNB(), \"parameters\": {}},\n",
    "    {\"estimator\": MultinomialNB(), \"parameters\": {}},\n",
    "    {\"estimator\": DecisionTreeClassifier(random_state=42), \"parameters\": {}},\n",
    "    {\"estimator\": KNeighborsClassifier(n_jobs=-1), \"parameters\": {'classification__n_neighbors': range(2, 9)}},\n",
    "    {\"estimator\": RandomForestClassifier(random_state=42, n_jobs=-1), \"parameters\": {}},\n",
    "    {\"estimator\": SGDClassifier(), \"parameters\": {}}\n",
    "]"
   ]
  },
  {
   "cell_type": "code",
   "execution_count": 619,
   "metadata": {},
   "outputs": [],
   "source": [
    "from sklearn.preprocessing import *\n",
    "scalers = [\n",
    "    {\"scaler\": MaxAbsScaler(), \"parameters\": {}},\n",
    "    {\"scaler\": MinMaxScaler(), \"parameters\": {}},\n",
    "    {\"scaler\": Normalizer(), \"parameters\": {}},\n",
    "    {\"scaler\": PowerTransformer(), \"parameters\": {}},\n",
    "    {\"scaler\": RobustScaler(), \"parameters\": {}},\n",
    "    {\"scaler\": StandardScaler(), \"parameters\": {'normalisation__with_mean': [ True, False],'normalisation__with_std': [ True, False]}}\n",
    "]"
   ]
  },
  {
   "cell_type": "code",
   "execution_count": 620,
   "outputs": [
    {
     "name": "stdout",
     "output_type": "stream",
     "text": [
      "Scaler: MaxAbsScaler\n",
      "Accuracy for CatBoostClassifier = 78.32748024582968\n"
     ]
    },
    {
     "data": {
      "text/plain": "{}"
     },
     "metadata": {},
     "output_type": "display_data"
    },
    {
     "name": "stdout",
     "output_type": "stream",
     "text": [
      "Accuracy for XGBClassifier = 77.30026338893767\n"
     ]
    },
    {
     "data": {
      "text/plain": "{'classification__max_depth': 2, 'classification__n_estimators': 150}"
     },
     "metadata": {},
     "output_type": "display_data"
    },
    {
     "name": "stdout",
     "output_type": "stream",
     "text": [
      "Accuracy for SVC = 78.92010535557506\n"
     ]
    },
    {
     "data": {
      "text/plain": "{}"
     },
     "metadata": {},
     "output_type": "display_data"
    },
    {
     "name": "stdout",
     "output_type": "stream",
     "text": [
      "Accuracy for SVC = 76.56935908691835\n"
     ]
    },
    {
     "data": {
      "text/plain": "{}"
     },
     "metadata": {},
     "output_type": "display_data"
    },
    {
     "name": "stdout",
     "output_type": "stream",
     "text": [
      "Accuracy for SVC = 77.89508340649692\n"
     ]
    },
    {
     "data": {
      "text/plain": "{}"
     },
     "metadata": {},
     "output_type": "display_data"
    },
    {
     "name": "stdout",
     "output_type": "stream",
     "text": [
      "Accuracy for SVC = 51.97980684811239\n"
     ]
    },
    {
     "data": {
      "text/plain": "{}"
     },
     "metadata": {},
     "output_type": "display_data"
    },
    {
     "name": "stdout",
     "output_type": "stream",
     "text": [
      "Accuracy for BernoulliNB = 75.68261633011414\n"
     ]
    },
    {
     "data": {
      "text/plain": "{}"
     },
     "metadata": {},
     "output_type": "display_data"
    },
    {
     "name": "stdout",
     "output_type": "stream",
     "text": [
      "Accuracy for CategoricalNB = 77.60096575943811\n"
     ]
    },
    {
     "data": {
      "text/plain": "{}"
     },
     "metadata": {},
     "output_type": "display_data"
    },
    {
     "name": "stdout",
     "output_type": "stream",
     "text": [
      "Skipping the combination of MaxAbsScaler and ComplementNB because:\n",
      "Negative values in data passed to ComplementNB (input X)\n",
      "\n",
      "Accuracy for GaussianNB = 78.76646180860403\n"
     ]
    },
    {
     "data": {
      "text/plain": "{}"
     },
     "metadata": {},
     "output_type": "display_data"
    },
    {
     "name": "stdout",
     "output_type": "stream",
     "text": [
      "Skipping the combination of MaxAbsScaler and MultinomialNB because:\n",
      "Negative values in data passed to MultinomialNB (input X)\n",
      "\n",
      "Accuracy for DecisionTreeClassifier = 72.14881474978051\n"
     ]
    },
    {
     "data": {
      "text/plain": "{}"
     },
     "metadata": {},
     "output_type": "display_data"
    },
    {
     "name": "stdout",
     "output_type": "stream",
     "text": [
      "Accuracy for KNeighborsClassifier = 75.69798068481124\n"
     ]
    },
    {
     "data": {
      "text/plain": "{'classification__n_neighbors': 7}"
     },
     "metadata": {},
     "output_type": "display_data"
    },
    {
     "name": "stdout",
     "output_type": "stream",
     "text": [
      "Accuracy for RandomForestClassifier = 78.47234416154521\n"
     ]
    },
    {
     "data": {
      "text/plain": "{}"
     },
     "metadata": {},
     "output_type": "display_data"
    },
    {
     "name": "stdout",
     "output_type": "stream",
     "text": [
      "Accuracy for SGDClassifier = 74.95390693590869\n"
     ]
    },
    {
     "data": {
      "text/plain": "{}"
     },
     "metadata": {},
     "output_type": "display_data"
    },
    {
     "name": "stdout",
     "output_type": "stream",
     "text": [
      "-----------------------------------------------------------------\n",
      "Scaler: MinMaxScaler\n",
      "Accuracy for CatBoostClassifier = 78.4745390693591\n"
     ]
    },
    {
     "data": {
      "text/plain": "{}"
     },
     "metadata": {},
     "output_type": "display_data"
    },
    {
     "name": "stdout",
     "output_type": "stream",
     "text": [
      "Accuracy for XGBClassifier = 77.30026338893767\n"
     ]
    },
    {
     "data": {
      "text/plain": "{'classification__max_depth': 2, 'classification__n_estimators': 150}"
     },
     "metadata": {},
     "output_type": "display_data"
    },
    {
     "name": "stdout",
     "output_type": "stream",
     "text": [
      "Accuracy for SVC = 78.03555750658472\n"
     ]
    },
    {
     "data": {
      "text/plain": "{}"
     },
     "metadata": {},
     "output_type": "display_data"
    },
    {
     "name": "stdout",
     "output_type": "stream",
     "text": [
      "Accuracy for SVC = 75.09657594381036\n"
     ]
    },
    {
     "data": {
      "text/plain": "{}"
     },
     "metadata": {},
     "output_type": "display_data"
    },
    {
     "name": "stdout",
     "output_type": "stream",
     "text": [
      "Accuracy for SVC = 77.00834064969271\n"
     ]
    },
    {
     "data": {
      "text/plain": "{}"
     },
     "metadata": {},
     "output_type": "display_data"
    },
    {
     "name": "stdout",
     "output_type": "stream",
     "text": [
      "Accuracy for SVC = 44.920983318700614\n"
     ]
    },
    {
     "data": {
      "text/plain": "{}"
     },
     "metadata": {},
     "output_type": "display_data"
    },
    {
     "name": "stdout",
     "output_type": "stream",
     "text": [
      "Accuracy for BernoulliNB = 74.06716417910448\n"
     ]
    },
    {
     "data": {
      "text/plain": "{}"
     },
     "metadata": {},
     "output_type": "display_data"
    },
    {
     "name": "stdout",
     "output_type": "stream",
     "text": [
      "Skipping the combination of MinMaxScaler and CategoricalNB because:\n",
      "index 1 is out of bounds for axis 1 with size 1\n",
      "\n",
      "Accuracy for ComplementNB = 76.7208077260755\n"
     ]
    },
    {
     "data": {
      "text/plain": "{}"
     },
     "metadata": {},
     "output_type": "display_data"
    },
    {
     "name": "stdout",
     "output_type": "stream",
     "text": [
      "Accuracy for GaussianNB = 78.76646180860403\n"
     ]
    },
    {
     "data": {
      "text/plain": "{}"
     },
     "metadata": {},
     "output_type": "display_data"
    },
    {
     "name": "stdout",
     "output_type": "stream",
     "text": [
      "Accuracy for MultinomialNB = 76.27743634767339\n"
     ]
    },
    {
     "data": {
      "text/plain": "{}"
     },
     "metadata": {},
     "output_type": "display_data"
    },
    {
     "name": "stdout",
     "output_type": "stream",
     "text": [
      "Accuracy for DecisionTreeClassifier = 71.85469710272169\n"
     ]
    },
    {
     "data": {
      "text/plain": "{}"
     },
     "metadata": {},
     "output_type": "display_data"
    },
    {
     "name": "stdout",
     "output_type": "stream",
     "text": [
      "Accuracy for KNeighborsClassifier = 75.98770851624232\n"
     ]
    },
    {
     "data": {
      "text/plain": "{'classification__n_neighbors': 7}"
     },
     "metadata": {},
     "output_type": "display_data"
    },
    {
     "name": "stdout",
     "output_type": "stream",
     "text": [
      "Accuracy for RandomForestClassifier = 78.4745390693591\n"
     ]
    },
    {
     "data": {
      "text/plain": "{}"
     },
     "metadata": {},
     "output_type": "display_data"
    },
    {
     "name": "stdout",
     "output_type": "stream",
     "text": [
      "Accuracy for SGDClassifier = 76.12379280070236\n"
     ]
    },
    {
     "data": {
      "text/plain": "{}"
     },
     "metadata": {},
     "output_type": "display_data"
    },
    {
     "name": "stdout",
     "output_type": "stream",
     "text": [
      "-----------------------------------------------------------------\n",
      "Scaler: Normalizer\n",
      "Accuracy for CatBoostClassifier = 78.4811237928007\n"
     ]
    },
    {
     "data": {
      "text/plain": "{}"
     },
     "metadata": {},
     "output_type": "display_data"
    },
    {
     "name": "stdout",
     "output_type": "stream",
     "text": [
      "Accuracy for XGBClassifier = 79.51492537313433\n"
     ]
    },
    {
     "data": {
      "text/plain": "{'classification__max_depth': 6, 'classification__n_estimators': 125}"
     },
     "metadata": {},
     "output_type": "display_data"
    },
    {
     "name": "stdout",
     "output_type": "stream",
     "text": [
      "Accuracy for SVC = 65.53116769095698\n"
     ]
    },
    {
     "data": {
      "text/plain": "{}"
     },
     "metadata": {},
     "output_type": "display_data"
    },
    {
     "name": "stdout",
     "output_type": "stream",
     "text": [
      "Accuracy for SVC = 66.55179982440738\n"
     ]
    },
    {
     "data": {
      "text/plain": "{}"
     },
     "metadata": {},
     "output_type": "display_data"
    },
    {
     "name": "stdout",
     "output_type": "stream",
     "text": [
      "Accuracy for SVC = 65.81650570676032\n"
     ]
    },
    {
     "data": {
      "text/plain": "{}"
     },
     "metadata": {},
     "output_type": "display_data"
    },
    {
     "name": "stdout",
     "output_type": "stream",
     "text": [
      "Accuracy for SVC = 54.047410008779615\n"
     ]
    },
    {
     "data": {
      "text/plain": "{}"
     },
     "metadata": {},
     "output_type": "display_data"
    },
    {
     "name": "stdout",
     "output_type": "stream",
     "text": [
      "Accuracy for BernoulliNB = 75.68261633011414\n"
     ]
    },
    {
     "data": {
      "text/plain": "{}"
     },
     "metadata": {},
     "output_type": "display_data"
    },
    {
     "name": "stdout",
     "output_type": "stream",
     "text": [
      "Accuracy for CategoricalNB = 52.870939420544325\n"
     ]
    },
    {
     "data": {
      "text/plain": "{}"
     },
     "metadata": {},
     "output_type": "display_data"
    },
    {
     "name": "stdout",
     "output_type": "stream",
     "text": [
      "Skipping the combination of Normalizer and ComplementNB because:\n",
      "Negative values in data passed to ComplementNB (input X)\n",
      "\n",
      "Accuracy for GaussianNB = 77.58999122036873\n"
     ]
    },
    {
     "data": {
      "text/plain": "{}"
     },
     "metadata": {},
     "output_type": "display_data"
    },
    {
     "name": "stdout",
     "output_type": "stream",
     "text": [
      "Skipping the combination of Normalizer and MultinomialNB because:\n",
      "Negative values in data passed to MultinomialNB (input X)\n",
      "\n",
      "Accuracy for DecisionTreeClassifier = 71.56716417910448\n"
     ]
    },
    {
     "data": {
      "text/plain": "{}"
     },
     "metadata": {},
     "output_type": "display_data"
    },
    {
     "name": "stdout",
     "output_type": "stream",
     "text": [
      "Accuracy for KNeighborsClassifier = 58.76646180860404\n"
     ]
    },
    {
     "data": {
      "text/plain": "{'classification__n_neighbors': 7}"
     },
     "metadata": {},
     "output_type": "display_data"
    },
    {
     "name": "stdout",
     "output_type": "stream",
     "text": [
      "Accuracy for RandomForestClassifier = 79.51273046532046\n"
     ]
    },
    {
     "data": {
      "text/plain": "{}"
     },
     "metadata": {},
     "output_type": "display_data"
    },
    {
     "name": "stdout",
     "output_type": "stream",
     "text": [
      "Accuracy for SGDClassifier = 62.13784021071114\n"
     ]
    },
    {
     "data": {
      "text/plain": "{}"
     },
     "metadata": {},
     "output_type": "display_data"
    },
    {
     "name": "stdout",
     "output_type": "stream",
     "text": [
      "-----------------------------------------------------------------\n",
      "Scaler: PowerTransformer\n",
      "Accuracy for CatBoostClassifier = 78.4745390693591\n"
     ]
    },
    {
     "data": {
      "text/plain": "{}"
     },
     "metadata": {},
     "output_type": "display_data"
    },
    {
     "name": "stdout",
     "output_type": "stream",
     "text": [
      "Accuracy for XGBClassifier = 77.30026338893767\n"
     ]
    },
    {
     "data": {
      "text/plain": "{'classification__max_depth': 2, 'classification__n_estimators': 150}"
     },
     "metadata": {},
     "output_type": "display_data"
    },
    {
     "name": "stdout",
     "output_type": "stream",
     "text": [
      "Accuracy for SVC = 77.59657594381035\n"
     ]
    },
    {
     "data": {
      "text/plain": "{}"
     },
     "metadata": {},
     "output_type": "display_data"
    },
    {
     "name": "stdout",
     "output_type": "stream",
     "text": [
      "Accuracy for SVC = 75.67383669885864\n"
     ]
    },
    {
     "data": {
      "text/plain": "{}"
     },
     "metadata": {},
     "output_type": "display_data"
    },
    {
     "name": "stdout",
     "output_type": "stream",
     "text": [
      "Accuracy for SVC = 77.00395083406497\n"
     ]
    },
    {
     "data": {
      "text/plain": "{}"
     },
     "metadata": {},
     "output_type": "display_data"
    },
    {
     "name": "stdout",
     "output_type": "stream",
     "text": [
      "Accuracy for SVC = 76.71422300263389\n"
     ]
    },
    {
     "data": {
      "text/plain": "{}"
     },
     "metadata": {},
     "output_type": "display_data"
    },
    {
     "name": "stdout",
     "output_type": "stream",
     "text": [
      "Accuracy for BernoulliNB = 78.18261633011413\n"
     ]
    },
    {
     "data": {
      "text/plain": "{}"
     },
     "metadata": {},
     "output_type": "display_data"
    },
    {
     "name": "stdout",
     "output_type": "stream",
     "text": [
      "Skipping the combination of PowerTransformer and CategoricalNB because:\n",
      "Negative values in data passed to CategoricalNB (input X)\n",
      "\n",
      "Skipping the combination of PowerTransformer and ComplementNB because:\n",
      "Negative values in data passed to ComplementNB (input X)\n",
      "\n",
      "Accuracy for GaussianNB = 78.18042142230027\n"
     ]
    },
    {
     "data": {
      "text/plain": "{}"
     },
     "metadata": {},
     "output_type": "display_data"
    },
    {
     "name": "stdout",
     "output_type": "stream",
     "text": [
      "Skipping the combination of PowerTransformer and MultinomialNB because:\n",
      "Negative values in data passed to MultinomialNB (input X)\n",
      "\n",
      "Accuracy for DecisionTreeClassifier = 72.00175592625109\n"
     ]
    },
    {
     "data": {
      "text/plain": "{}"
     },
     "metadata": {},
     "output_type": "display_data"
    },
    {
     "name": "stdout",
     "output_type": "stream",
     "text": [
      "Accuracy for KNeighborsClassifier = 78.03775241439858\n"
     ]
    },
    {
     "data": {
      "text/plain": "{'classification__n_neighbors': 8}"
     },
     "metadata": {},
     "output_type": "display_data"
    },
    {
     "name": "stdout",
     "output_type": "stream",
     "text": [
      "Accuracy for RandomForestClassifier = 78.91571553994731\n"
     ]
    },
    {
     "data": {
      "text/plain": "{}"
     },
     "metadata": {},
     "output_type": "display_data"
    },
    {
     "name": "stdout",
     "output_type": "stream",
     "text": [
      "Accuracy for SGDClassifier = 73.32089552238806\n"
     ]
    },
    {
     "data": {
      "text/plain": "{}"
     },
     "metadata": {},
     "output_type": "display_data"
    },
    {
     "name": "stdout",
     "output_type": "stream",
     "text": [
      "-----------------------------------------------------------------\n",
      "Scaler: RobustScaler\n",
      "Accuracy for CatBoostClassifier = 78.32748024582968\n"
     ]
    },
    {
     "data": {
      "text/plain": "{}"
     },
     "metadata": {},
     "output_type": "display_data"
    },
    {
     "name": "stdout",
     "output_type": "stream",
     "text": [
      "Accuracy for XGBClassifier = 77.30026338893767\n"
     ]
    },
    {
     "data": {
      "text/plain": "{'classification__max_depth': 2, 'classification__n_estimators': 150}"
     },
     "metadata": {},
     "output_type": "display_data"
    },
    {
     "name": "stdout",
     "output_type": "stream",
     "text": [
      "Accuracy for SVC = 78.62598770851623\n"
     ]
    },
    {
     "data": {
      "text/plain": "{}"
     },
     "metadata": {},
     "output_type": "display_data"
    },
    {
     "name": "stdout",
     "output_type": "stream",
     "text": [
      "Accuracy for SVC = 75.684811237928\n"
     ]
    },
    {
     "data": {
      "text/plain": "{}"
     },
     "metadata": {},
     "output_type": "display_data"
    },
    {
     "name": "stdout",
     "output_type": "stream",
     "text": [
      "Accuracy for SVC = 78.03116769095698\n"
     ]
    },
    {
     "data": {
      "text/plain": "{}"
     },
     "metadata": {},
     "output_type": "display_data"
    },
    {
     "name": "stdout",
     "output_type": "stream",
     "text": [
      "Accuracy for SVC = 73.77524143985953\n"
     ]
    },
    {
     "data": {
      "text/plain": "{}"
     },
     "metadata": {},
     "output_type": "display_data"
    },
    {
     "name": "stdout",
     "output_type": "stream",
     "text": [
      "Accuracy for BernoulliNB = 75.38630377524144\n"
     ]
    },
    {
     "data": {
      "text/plain": "{}"
     },
     "metadata": {},
     "output_type": "display_data"
    },
    {
     "name": "stdout",
     "output_type": "stream",
     "text": [
      "Skipping the combination of RobustScaler and CategoricalNB because:\n",
      "Negative values in data passed to CategoricalNB (input X)\n",
      "\n",
      "Skipping the combination of RobustScaler and ComplementNB because:\n",
      "Negative values in data passed to ComplementNB (input X)\n",
      "\n",
      "Accuracy for GaussianNB = 78.76646180860403\n"
     ]
    },
    {
     "data": {
      "text/plain": "{}"
     },
     "metadata": {},
     "output_type": "display_data"
    },
    {
     "name": "stdout",
     "output_type": "stream",
     "text": [
      "Skipping the combination of RobustScaler and MultinomialNB because:\n",
      "Negative values in data passed to MultinomialNB (input X)\n",
      "\n",
      "Accuracy for DecisionTreeClassifier = 72.00175592625109\n"
     ]
    },
    {
     "data": {
      "text/plain": "{}"
     },
     "metadata": {},
     "output_type": "display_data"
    },
    {
     "name": "stdout",
     "output_type": "stream",
     "text": [
      "Accuracy for KNeighborsClassifier = 76.41352063213344\n"
     ]
    },
    {
     "data": {
      "text/plain": "{'classification__n_neighbors': 7}"
     },
     "metadata": {},
     "output_type": "display_data"
    },
    {
     "name": "stdout",
     "output_type": "stream",
     "text": [
      "Accuracy for RandomForestClassifier = 78.47234416154521\n"
     ]
    },
    {
     "data": {
      "text/plain": "{}"
     },
     "metadata": {},
     "output_type": "display_data"
    },
    {
     "name": "stdout",
     "output_type": "stream",
     "text": [
      "Accuracy for SGDClassifier = 70.39288849868306\n"
     ]
    },
    {
     "data": {
      "text/plain": "{}"
     },
     "metadata": {},
     "output_type": "display_data"
    },
    {
     "name": "stdout",
     "output_type": "stream",
     "text": [
      "-----------------------------------------------------------------\n",
      "Scaler: StandardScaler\n",
      "Accuracy for CatBoostClassifier = 78.32748024582968\n"
     ]
    },
    {
     "data": {
      "text/plain": "{'normalisation__with_mean': True, 'normalisation__with_std': False}"
     },
     "metadata": {},
     "output_type": "display_data"
    },
    {
     "name": "stdout",
     "output_type": "stream",
     "text": [
      "Accuracy for XGBClassifier = 77.15100965759439\n"
     ]
    },
    {
     "data": {
      "text/plain": "{'classification__max_depth': 2,\n 'classification__n_estimators': 150,\n 'normalisation__with_mean': True,\n 'normalisation__with_std': False}"
     },
     "metadata": {},
     "output_type": "display_data"
    },
    {
     "name": "stdout",
     "output_type": "stream",
     "text": [
      "Accuracy for SVC = 78.47892888498681\n"
     ]
    },
    {
     "data": {
      "text/plain": "{'normalisation__with_mean': True, 'normalisation__with_std': True}"
     },
     "metadata": {},
     "output_type": "display_data"
    },
    {
     "name": "stdout",
     "output_type": "stream",
     "text": [
      "Accuracy for SVC = 77.89288849868305\n"
     ]
    },
    {
     "data": {
      "text/plain": "{'normalisation__with_mean': False, 'normalisation__with_std': True}"
     },
     "metadata": {},
     "output_type": "display_data"
    },
    {
     "name": "stdout",
     "output_type": "stream",
     "text": [
      "Accuracy for SVC = 77.8884986830553\n"
     ]
    },
    {
     "data": {
      "text/plain": "{'normalisation__with_mean': False, 'normalisation__with_std': True}"
     },
     "metadata": {},
     "output_type": "display_data"
    },
    {
     "name": "stdout",
     "output_type": "stream",
     "text": [
      "Accuracy for SVC = 77.15539947322212\n"
     ]
    },
    {
     "data": {
      "text/plain": "{'normalisation__with_mean': True, 'normalisation__with_std': True}"
     },
     "metadata": {},
     "output_type": "display_data"
    },
    {
     "name": "stdout",
     "output_type": "stream",
     "text": [
      "Accuracy for BernoulliNB = 78.32967515364355\n"
     ]
    },
    {
     "data": {
      "text/plain": "{'normalisation__with_mean': True, 'normalisation__with_std': True}"
     },
     "metadata": {},
     "output_type": "display_data"
    },
    {
     "name": "stdout",
     "output_type": "stream",
     "text": [
      "Skipping the combination of StandardScaler and CategoricalNB because:\n",
      "Negative values in data passed to CategoricalNB (input X)\n",
      "\n",
      "Skipping the combination of StandardScaler and ComplementNB because:\n",
      "Negative values in data passed to ComplementNB (input X)\n",
      "\n",
      "Accuracy for GaussianNB = 78.76646180860403\n"
     ]
    },
    {
     "data": {
      "text/plain": "{'normalisation__with_mean': True, 'normalisation__with_std': True}"
     },
     "metadata": {},
     "output_type": "display_data"
    },
    {
     "name": "stdout",
     "output_type": "stream",
     "text": [
      "Skipping the combination of StandardScaler and MultinomialNB because:\n",
      "Negative values in data passed to MultinomialNB (input X)\n",
      "\n",
      "Accuracy for DecisionTreeClassifier = 71.85469710272169\n"
     ]
    },
    {
     "data": {
      "text/plain": "{'normalisation__with_mean': True, 'normalisation__with_std': False}"
     },
     "metadata": {},
     "output_type": "display_data"
    },
    {
     "name": "stdout",
     "output_type": "stream",
     "text": [
      "Accuracy for KNeighborsClassifier = 79.36567164179104\n"
     ]
    },
    {
     "data": {
      "text/plain": "{'classification__n_neighbors': 8,\n 'normalisation__with_mean': True,\n 'normalisation__with_std': True}"
     },
     "metadata": {},
     "output_type": "display_data"
    },
    {
     "name": "stdout",
     "output_type": "stream",
     "text": [
      "Accuracy for RandomForestClassifier = 78.47234416154521\n"
     ]
    },
    {
     "data": {
      "text/plain": "{'normalisation__with_mean': False, 'normalisation__with_std': True}"
     },
     "metadata": {},
     "output_type": "display_data"
    },
    {
     "name": "stdout",
     "output_type": "stream",
     "text": [
      "Accuracy for SGDClassifier = 73.76646180860403\n"
     ]
    },
    {
     "data": {
      "text/plain": "{'normalisation__with_mean': False, 'normalisation__with_std': True}"
     },
     "metadata": {},
     "output_type": "display_data"
    },
    {
     "name": "stdout",
     "output_type": "stream",
     "text": [
      "-----------------------------------------------------------------\n"
     ]
    }
   ],
   "source": [
    "from sklearn.model_selection import GridSearchCV\n",
    "from sklearn.pipeline import Pipeline\n",
    "from sklearn.preprocessing import StandardScaler\n",
    "from sklearn.model_selection import cross_val_score\n",
    "\n",
    "# build pipelines\n",
    "# create the pipeline\n",
    "pipelines = []\n",
    "for scaler in scalers:\n",
    "    print(f\"Scaler: {scaler.get('scaler').__class__.__name__}\")\n",
    "    for estimator in estimators_and_hyperparameters:\n",
    "        parameters = scaler.get(\"parameters\") | estimator.get(\"parameters\")\n",
    "        pipeline = Pipeline(steps=[ ('normalisation', scaler.get(\"scaler\")), ('classification', estimator.get(\"estimator\")) ])\n",
    "        # create the grid search instance\n",
    "        grid_search_estimator = GridSearchCV(pipeline, parameters, scoring='accuracy', cv=10, error_score='raise')\n",
    "        try:\n",
    "            accuracy_best = cross_val_score(grid_search_estimator, X, y, cv=10, scoring='accuracy', n_jobs=-1, error_score='raise')\n",
    "            grid_search_estimator.fit(X, y)\n",
    "            print(f\"Accuracy for {estimator.get('estimator').__class__.__name__} = {accuracy_best.mean() * 100.0}\")\n",
    "            display(grid_search_estimator.best_params_)\n",
    "        except Exception as e:\n",
    "            print(f'Skipping the combination of {scaler.get(\"scaler\").__class__.__name__} and {estimator.get(\"estimator\").__class__.__name__} because:')\n",
    "            print(str(e))\n",
    "            print()\n",
    "\n",
    "\n",
    "\n",
    "    print(\"-----------------------------------------------------------------\")\n"
   ],
   "metadata": {
    "collapsed": false
   }
  },
  {
   "cell_type": "code",
   "execution_count": null,
   "metadata": {
    "pycharm": {
     "is_executing": true
    }
   },
   "outputs": [],
   "source": [
    "if not process_preprocessed_data_of_uci:\n",
    "    raise SystemExit(\"So Feierabend Emma\")"
   ]
  },
  {
   "cell_type": "markdown",
   "metadata": {},
   "source": [
    "# Tests with the preprocessed data by the UCI"
   ]
  },
  {
   "cell_type": "code",
   "execution_count": null,
   "metadata": {
    "pycharm": {
     "is_executing": true
    }
   },
   "outputs": [],
   "source": [
    "import pandas as pd \n",
    "datasets = [\"hungarian\", \"cleveland\", \"switzerland\", \"va\"]\n",
    "df_processed = pd.DataFrame()\n",
    "for dataset in datasets:\n",
    "    dataset_df = pd.read_csv(\"./Data/processed.\"+ dataset +\".data\", header=None, sep=\",\")\n",
    "    dataset_df['dataset'] = dataset\n",
    "    df_processed = pd.concat([df_processed,dataset_df ], ignore_index=True)\n",
    "df_processed.columns = ['age','sex','cp','trestbps','chol','fbs','restecg','thalach','exang','oldpeak','slope','ca','thal','num', 'dataset']\n",
    "df_processed = df_processed.replace('?', float('nan'))\n"
   ]
  },
  {
   "cell_type": "code",
   "execution_count": null,
   "metadata": {
    "pycharm": {
     "is_executing": true
    }
   },
   "outputs": [],
   "source": [
    "df_processed[['trestbps','chol','fbs','restecg','thalach','exang','oldpeak','slope','ca','thal']] = df_processed[['trestbps','chol','fbs','restecg','thalach','exang','oldpeak','slope','ca','thal']].apply(pd.to_numeric)"
   ]
  },
  {
   "cell_type": "code",
   "execution_count": null,
   "metadata": {
    "pycharm": {
     "is_executing": true
    }
   },
   "outputs": [],
   "source": [
    "(df_processed.loc[ : , df_processed.columns != 'dataset'].isna()).join(df_processed['dataset']).groupby(\"dataset\").sum()"
   ]
  },
  {
   "cell_type": "code",
   "execution_count": null,
   "metadata": {
    "pycharm": {
     "is_executing": true
    }
   },
   "outputs": [],
   "source": [
    "df_processed.drop([\"slope\", \"ca\",\"thal\"], inplace=True, axis=1)"
   ]
  },
  {
   "cell_type": "code",
   "execution_count": null,
   "metadata": {
    "pycharm": {
     "is_executing": true
    }
   },
   "outputs": [],
   "source": [
    "print(f\"Shape before drop of NaN containing rows: {df_processed.shape}\")\n",
    "df_processed.dropna(inplace=True, axis=0, how='any')\n",
    "print(f\"Shape after drop of NaN containing rows: {df_processed.shape}\")"
   ]
  },
  {
   "cell_type": "code",
   "execution_count": null,
   "metadata": {
    "pycharm": {
     "is_executing": true
    }
   },
   "outputs": [],
   "source": [
    "df_processed.shape"
   ]
  },
  {
   "cell_type": "code",
   "execution_count": null,
   "metadata": {
    "pycharm": {
     "is_executing": true
    }
   },
   "outputs": [],
   "source": [
    "df_processed.head()"
   ]
  },
  {
   "cell_type": "code",
   "execution_count": null,
   "metadata": {
    "pycharm": {
     "is_executing": true
    }
   },
   "outputs": [],
   "source": [
    "df_processed.describe()"
   ]
  },
  {
   "cell_type": "code",
   "execution_count": null,
   "metadata": {
    "pycharm": {
     "is_executing": true
    }
   },
   "outputs": [],
   "source": [
    "if generate_pandas_profiling_reports:\n",
    "    profile = ProfileReport(df_processed, title='Pandas Profiling Report for the features processed by the UCI')\n",
    "    profile.to_file(\"Pandas Profiling Report for the features processed by the UCI.html\")"
   ]
  },
  {
   "cell_type": "code",
   "execution_count": null,
   "outputs": [],
   "source": [
    "from sklearn.preprocessing import LabelEncoder\n",
    "\n",
    "labelEncoder = LabelEncoder()\n",
    "df_processed.loc[df_processed['num'] >= 1,\"num\"] = 1\n",
    "df_processed['num'] = labelEncoder.fit_transform(df_processed['num'])"
   ],
   "metadata": {
    "collapsed": false,
    "pycharm": {
     "is_executing": true
    }
   }
  },
  {
   "cell_type": "code",
   "execution_count": null,
   "outputs": [],
   "source": [
    "X = df_processed.loc[:,(df_processed.columns!= 'num') & (df_processed.columns != 'dataset')]\n",
    "y = df_processed['num']"
   ],
   "metadata": {
    "collapsed": false,
    "pycharm": {
     "is_executing": true
    }
   }
  },
  {
   "cell_type": "code",
   "execution_count": null,
   "outputs": [],
   "source": [
    "from sklearn.model_selection import StratifiedKFold\n",
    "from sklearn.model_selection import cross_val_score\n",
    "from statistics import mean\n",
    "for scaler in scalers:\n",
    "    print(f'Current Sclaer: {scaler.__class__.__name__}')\n",
    "    for estimator in estimators_and_hyperparameters:\n",
    "        skf = StratifiedKFold(n_splits=10, shuffle=True, random_state=42)\n",
    "        try:\n",
    "            X_trans = scaler.fit_transform(X)\n",
    "            scores = cross_val_score(estimator[0], X_trans, y, scoring='f1',cv=skf, n_jobs=-1)\n",
    "            print(f'F1 score for {estimator[0].__class__.__name__}: {mean(scores)}')\n",
    "        except Exception as e:\n",
    "            print(e)\n",
    "            print(f'Skipping the combination of {scaler.__class__.__name__} and {estimator[0].__class__.__name__}')\n",
    "    print('-----------------------------------------------------------------')\n",
    "print(f'Current Sclaer: NoScaler')\n",
    "for estimator in estimators_and_hyperparameters:\n",
    "    skf = StratifiedKFold(n_splits=10, shuffle=True, random_state=42)\n",
    "    try:\n",
    "        X_trans = X\n",
    "        scores = cross_val_score(estimator[0], X_trans, y, scoring='f1',cv=skf, n_jobs=-1)\n",
    "        print(f'F1 score for {estimator[0].__class__.__name__}: {mean(scores)}')\n",
    "    except Exception as e:\n",
    "        print(e)\n",
    "        print(f'Skipping the combination of NoScaler and {estimator[0].__class__.__name__}')\n",
    "print('-----------------------------------------------------------------')"
   ],
   "metadata": {
    "collapsed": false,
    "pycharm": {
     "is_executing": true
    }
   }
  },
  {
   "cell_type": "code",
   "execution_count": null,
   "metadata": {
    "pycharm": {
     "is_executing": true
    }
   },
   "outputs": [],
   "source": [
    "# Tests with the preprocessed data by the UCI includeing the reprocessed data"
   ]
  },
  {
   "cell_type": "code",
   "execution_count": null,
   "metadata": {
    "pycharm": {
     "is_executing": true
    }
   },
   "outputs": [],
   "source": [
    "import pandas as pd \n",
    "datasets = [\"hungarian\", \"cleveland\", \"switzerland\", \"va\"]\n",
    "df_processed = pd.DataFrame()\n",
    "for dataset in datasets:\n",
    "    if dataset != \"hungarian\":\n",
    "        dataset_df = pd.read_csv(\"./Data/processed.\"+ dataset +\".data\", header=None, sep=\",\")\n",
    "        dataset_df['dataset'] = dataset\n",
    "        df_processed = pd.concat([df_processed,dataset_df ], ignore_index=True)\n",
    "with open(\"Data/reprocessed.hungarian.data\") as file:\n",
    "    dataString = file.read()\n",
    "    dataString = dataString.replace(\" \",\",\")\n",
    "    dataset_df = pd.read_csv(StringIO(dataString), header=None, sep=\",\")\n",
    "    dataset_df['dataset'] = dataset\n",
    "df_processed = pd.concat([df_processed,dataset_df ], ignore_index=True)\n",
    "df_processed.columns = ['age','sex','cp','trestbps','chol','fbs','restecg','thalach','exang','oldpeak','slope','ca','thal','num', 'dataset']\n",
    "df_processed = df_processed.replace('?', float('nan'))"
   ]
  },
  {
   "cell_type": "code",
   "execution_count": null,
   "metadata": {
    "pycharm": {
     "is_executing": true
    }
   },
   "outputs": [],
   "source": [
    "df_processed[['trestbps','chol','fbs','restecg','thalach','exang','oldpeak','slope','ca','thal']] = df_processed[['trestbps','chol','fbs','restecg','thalach','exang','oldpeak','slope','ca','thal']].apply(pd.to_numeric)"
   ]
  },
  {
   "cell_type": "code",
   "execution_count": null,
   "metadata": {
    "pycharm": {
     "is_executing": true
    }
   },
   "outputs": [],
   "source": [
    "df_processed"
   ]
  },
  {
   "cell_type": "code",
   "execution_count": null,
   "metadata": {
    "pycharm": {
     "is_executing": true
    }
   },
   "outputs": [],
   "source": [
    "if generate_pandas_profiling_reports:\n",
    "    profile = ProfileReport(df_processed, title='Pandas Profiling Report for the features processed by the UCI + reprocessed hungarian')\n",
    "    profile.to_file(\"Pandas Profiling Report for the features processed by the UCI + reprocessed hungarian.html\")"
   ]
  }
 ],
 "metadata": {
  "kernelspec": {
   "display_name": "Python ('dataMiningProject')",
   "language": "python",
   "name": "python3"
  },
  "language_info": {
   "codemirror_mode": {
    "name": "ipython",
    "version": 3
   },
   "file_extension": ".py",
   "mimetype": "text/x-python",
   "name": "python",
   "nbconvert_exporter": "python",
   "pygments_lexer": "ipython3",
   "version": ""
  },
  "vscode": {
   "interpreter": {
    "hash": "25a19fbe0a9132dfb9279d48d161753c6352f8f9478c2e74383d340069b907c3"
   }
  }
 },
 "nbformat": 4,
 "nbformat_minor": 2
}
